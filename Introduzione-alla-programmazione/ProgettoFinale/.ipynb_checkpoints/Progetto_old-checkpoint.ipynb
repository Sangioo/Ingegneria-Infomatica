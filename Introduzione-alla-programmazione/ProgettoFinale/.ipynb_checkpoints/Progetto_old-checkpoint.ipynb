{
 "cells": [
  {
   "cell_type": "markdown",
   "metadata": {
    "slideshow": {
     "slide_type": "slide"
    }
   },
   "source": [
    "#### Autori: Domenico Lembo, Giuseppe Santucci and Marco Schaerf\n",
    "\n",
    "[Dipartimento di Ingegneria informatica, automatica e gestionale](https://www.diag.uniroma1.it)\n",
    "\n",
    "<img src=\"https://mirrors.creativecommons.org/presskit/buttons/88x31/png/by-nc-sa.eu.png\"\n",
    "     alt=\"License\"\n",
    "     style=\"float: left;\"\n",
    "     height=\"40\" width=\"100\" />\n",
    "This notebook is distributed with license Creative Commons *CC BY-NC-SA*"
   ]
  },
  {
   "cell_type": "markdown",
   "metadata": {
    "tags": []
   },
   "source": [
    "# Trivia: indovina città e attrazione da immagini\n",
    "1. Obiettivo del gioco\n",
    "2. Preparazione del gioco\n",
    "3. Creazione delle strutture dati\n",
    "4. Esecuzione del gioco\n",
    "5. Analisi dei dati"
   ]
  },
  {
   "cell_type": "markdown",
   "metadata": {},
   "source": [
    "### Obiettivo del gioco\n",
    "Dobbiamo implementare un semplice gioco a quiz su città e attrazioni. Il gioco consiste nel proporre all'utente una sequenza di immagini e chiedergli di riconoscere la città e l'attrazione a cui si riferiscono."
   ]
  },
  {
   "cell_type": "markdown",
   "metadata": {},
   "source": [
    "### Preparazione del gioco\n",
    "Selezioniamo (almeno) 3 città ed (almeno) 3 attrazioni per ogni città. Assegnamo a ogni città e ad ogni attrazione un nome univoco per evitare ambiguità. Creiamo la directory del progetto e salviamo lì questo notebook. Troviamo sul web (almeno) 2 immagini per ogni attrazione. Per ogni immagine copiamo l'indirizzo dell'immagine. Ad esempio, in questa pagina Wikipedia sul [Colosseo](https://it.wikipedia.org/wiki/Colosseo) selezioniamo l'immagine in alto a destra e copiamo il suo indirizzo immagine, che dovrebbe essere https://upload.wikimedia.org/wikipedia/commons/thumb/d/d8/Colosseum_in_Rome-April_2007-1-_copie_2B.jpg/390px-Colosseum_in_Rome-April_2007-1-_copie_2B.jpg. \n",
    "\n",
    "In Windows (Chrome o Firefox), premi il pulsante destro sull'immagine e quindi seleziona copia indirizzo immagine, in iOS (Safari) fai clic / tocca e tieni premuto sull'immagine e quindi selezionare copia. Creiamo un file CSV con una linea per ogni immagine (vedi formato sotto) e salviamo questo file come \"images.csv\" nella directory del progetto.\n",
    "\n",
    "Il file CSV deve avere il seguente formato:\n",
    "\n",
    "```\n",
    "Città,attrazione,image_address\n",
    "```\n",
    "\n",
    "Dove image_address è l'indirizzo web del file dell'immagine. Non inserire spazi vuoti prima e dopo le virgole. **Non inserire** una riga di intestazione nel file."
   ]
  },
  {
   "cell_type": "markdown",
   "metadata": {},
   "source": [
    "### Creazione delle strutture dati\n",
    "Leggiamo il file CSV e creiamo quattro strutture dati:\n",
    "1. Una lista **lcitta** (ordinata alfabeticamente) delle città\n",
    "2. Una lista **tutteImmagini** (ordinata alfabeticamente) degli indirizzi delle immagini.\n",
    "3. Un dizionario **attrazioni** con chiave la città e valore la lista (ordinata alfabeticamente) delle attrazioni (senza ripetizioni).\n",
    "4. Un dizionario **origini** con chiave l'indirizzo dell'immagine e valore la tupla (città,attrazione) corrispondente.\n",
    "\n",
    "Per maggiore pulizia e riusabilità del codice scriviamo una funzione che prende in input il nome del file e restituisce le strutture dati discusse sopra nell'ordine in cui sono elencate."
   ]
  },
  {
   "cell_type": "code",
   "execution_count": null,
   "metadata": {},
   "outputs": [],
   "source": [
    "from tester import tester_fun\n",
    "\n",
    "def creaStruttureDati(file):\n",
    "    \"\"\"Inserite qui di seguito il vostro codice. Dovete restituire\n",
    "    4 risultati, che sono in ordine:\n",
    "    1) lista delle città (lcitta)\n",
    "    2) lista delle Immagini (tutteImmagini)\n",
    "    3) dizionario delle attrazioni (attrazioni)\n",
    "    4) dizionario delle immagini (origini)\n",
    "    \"\"\"\n",
    "\n",
    "tester_fun(creaStruttureDati,['images1.csv'],(['Roma'], ['https://upload.wikimedia.org/wikipedia/commons/thumb/7/79/Colosseum-exterior-2007.JPG/390px-Colosseum-exterior-2007.JPG', 'https://upload.wikimedia.org/wikipedia/commons/thumb/d/d8/Colosseum_in_Rome-April_2007-1-_copie_2B.jpg/390px-Colosseum_in_Rome-April_2007-1-_copie_2B.jpg'], {'Roma': ['Colosseo']}, {'https://upload.wikimedia.org/wikipedia/commons/thumb/d/d8/Colosseum_in_Rome-April_2007-1-_copie_2B.jpg/390px-Colosseum_in_Rome-April_2007-1-_copie_2B.jpg': ('Roma', 'Colosseo'), 'https://upload.wikimedia.org/wikipedia/commons/thumb/7/79/Colosseum-exterior-2007.JPG/390px-Colosseum-exterior-2007.JPG': ('Roma', 'Colosseo')}) )\n",
    "tester_fun(creaStruttureDati,['images2.csv'],(['Roma'], ['http://www.giovannirinaldi.it/page/rome/piazzadispagna/piazzadispagna0014.jpg', 'https://images.musement.com/cover/0002/23/thumb_122306_cover_header.jpeg', 'https://images.musement.com/default/0002/23/thumb_122314_default_header.jpeg', 'https://upload.wikimedia.org/wikipedia/commons/thumb/4/48/Piazza_di_Spagna.jpg/450px-Piazza_di_Spagna.jpg', 'https://upload.wikimedia.org/wikipedia/commons/thumb/7/79/Colosseum-exterior-2007.JPG/390px-Colosseum-exterior-2007.JPG', 'https://upload.wikimedia.org/wikipedia/commons/thumb/d/d8/Colosseum_in_Rome-April_2007-1-_copie_2B.jpg/390px-Colosseum_in_Rome-April_2007-1-_copie_2B.jpg'], {'Roma': ['Colosseo', 'Piazza Navona', 'Piazza di Spagna']}, {'https://upload.wikimedia.org/wikipedia/commons/thumb/d/d8/Colosseum_in_Rome-April_2007-1-_copie_2B.jpg/390px-Colosseum_in_Rome-April_2007-1-_copie_2B.jpg': ('Roma', 'Colosseo'), 'https://upload.wikimedia.org/wikipedia/commons/thumb/7/79/Colosseum-exterior-2007.JPG/390px-Colosseum-exterior-2007.JPG': ('Roma', 'Colosseo'), 'https://images.musement.com/cover/0002/23/thumb_122306_cover_header.jpeg': ('Roma', 'Piazza Navona'), 'https://images.musement.com/default/0002/23/thumb_122314_default_header.jpeg': ('Roma', 'Piazza Navona'), 'https://upload.wikimedia.org/wikipedia/commons/thumb/4/48/Piazza_di_Spagna.jpg/450px-Piazza_di_Spagna.jpg': ('Roma', 'Piazza di Spagna'), 'http://www.giovannirinaldi.it/page/rome/piazzadispagna/piazzadispagna0014.jpg': ('Roma', 'Piazza di Spagna')}) )\n",
    "tester_fun(creaStruttureDati,['images3.csv'],(['Parigi'], ['https://upload.wikimedia.org/wikipedia/commons/thumb/0/00/Louvre_2007_02_24_c.jpg/330px-Louvre_2007_02_24_c.jpg', 'https://upload.wikimedia.org/wikipedia/commons/thumb/8/85/Tour_Eiffel_Wikimedia_Commons_%28cropped%29.jpg/360px-Tour_Eiffel_Wikimedia_Commons_%28cropped%29.jpg', 'https://upload.wikimedia.org/wikipedia/commons/thumb/b/bd/Sous_la_Tour_Eiffel_1.jpg/330px-Sous_la_Tour_Eiffel_1.jpg', 'https://upload.wikimedia.org/wikipedia/commons/thumb/e/e4/Paris_July_2011-27a.jpg/1218px-Paris_July_2011-27a.jpg'], {'Parigi': ['Louvre', 'Torre Eiffel']}, {'https://upload.wikimedia.org/wikipedia/commons/thumb/0/00/Louvre_2007_02_24_c.jpg/330px-Louvre_2007_02_24_c.jpg': ('Parigi', 'Louvre'), 'https://upload.wikimedia.org/wikipedia/commons/thumb/e/e4/Paris_July_2011-27a.jpg/1218px-Paris_July_2011-27a.jpg': ('Parigi', 'Louvre'), 'https://upload.wikimedia.org/wikipedia/commons/thumb/8/85/Tour_Eiffel_Wikimedia_Commons_%28cropped%29.jpg/360px-Tour_Eiffel_Wikimedia_Commons_%28cropped%29.jpg': ('Parigi', 'Torre Eiffel'), 'https://upload.wikimedia.org/wikipedia/commons/thumb/b/bd/Sous_la_Tour_Eiffel_1.jpg/330px-Sous_la_Tour_Eiffel_1.jpg': ('Parigi', 'Torre Eiffel')}) )"
   ]
  },
  {
   "cell_type": "markdown",
   "metadata": {},
   "source": [
    "Eseguiamo la funzione sul file che avete creato e generiamo tutte le strutture dati"
   ]
  },
  {
   "cell_type": "code",
   "execution_count": null,
   "metadata": {},
   "outputs": [],
   "source": [
    "lcitta, tutteImmagini, attrazioni, origini = creaStruttureDati('images.csv')"
   ]
  },
  {
   "cell_type": "markdown",
   "metadata": {},
   "source": [
    "### Esecuzione del gioco\n",
    "Implementiamo il gioco nel seguente modo: chiediamo all'utente di inserire il suo nome (idealmente ogni esecuzione del gioco dovrebbe avere un utente diverso), quindi scegliamo in modo casuale 10 immagini dalla lista **tutteImmagini**. Mostriamo le immagini una alla volta all'utente e gli chiediamo di che città si tratti (l'utente può scegliere dall'elenco delle città possibili, cioè dalla lista **lcitta**).\n",
    "Quindi gli chiediamo di indovinare l'attrazione (l'utente può scegliere dall'elenco delle possibili attrazioni per la città che ha selezionato). In entrambi i casi l'utente può anche selezionare la risposta \"Non so\". Se risponde \"Non so\" alla domanda sulla città assegniamo \"Non so\" anche all'attrazione e passiamo alla prossima immagine. \n",
    "\n",
    "Per non obbligare l'utente ad inserire il nome per esteso della città o dell'attrazione conviene numerare le varie opzioni e poi chiedere di inserire il numero corrispondente.\n",
    "\n",
    "Salviamo tutti i risultati in un file CSV 'risposte.csv' con il seguente formato:\n",
    "\n",
    "```\n",
    "utente,cittàCorretta,attrazioneCorretta,indirizzoImmagine,cittàScelta,attrazioneScelta\n",
    "```\n",
    "\n",
    "Ogni esecuzione deve sempre aggiungere le nuove informazioni senza eliminare le risposte fornite dai giocatori precedenti.\n",
    "\n",
    "Per selezionare 10 immagini a caso, possiamo usare la funzione di NumPy **np.random.choice(dati,num,replace=False)**, dove dati è l'array dei dati tra cui scegliere, num è il numero di elementi da selezionare e replace=False specifica che NON bisogna mai selezionare 2 volte lo stesso elemento. Questa funzione restituisce l'array dei num elementi scelti casualmente.\n",
    "\n",
    "Per questa parte non è possibile definire dei tests, vi forniamo però uno scheletro della soluzione per aiutare nello sviluppo. "
   ]
  },
  {
   "cell_type": "code",
   "execution_count": null,
   "metadata": {},
   "outputs": [],
   "source": [
    "#importiamo le librerie necessarie per il gioco\n",
    "import numpy as np\n",
    "from IPython.display import display, Image, clear_output\n",
    "\n",
    "nonSo = \"Non so\" # Per poter poi cambiare questa frase, la salviamo in una variabile\n",
    "\n",
    "utente = input('Inserisci il tuo nome per iniziare: ') #salva il nome dell'utente che sta effettuando il gioco\n",
    "\n",
    "# Sceglie le 10 foto a caso\n",
    "scelta = np.random.choice(tutteImmagini,10,replace=False)\n",
    "\n",
    "# Apre il file per le risposte in modalità append\n",
    "f = open('risposte.csv','a',encoding = 'UTF-8')\n",
    "\n",
    "for foto in scelta:\n",
    "    \"\"\" Cose da fare: \n",
    "    1) Caricare e mostrare l'immagine.\n",
    "    2) Chiedere all'utente di indovinare la città e poi l'attrazione.\n",
    "    3) Costruire la riga e poi scriverla nel file\n",
    "    4) Cancellare l'output prima di mostrare l'immagine successiva\n",
    "    \"\"\"\n",
    "f.close()"
   ]
  },
  {
   "cell_type": "markdown",
   "metadata": {},
   "source": [
    "### Analisi dei dati\n",
    "Leggiamo il file 'risposte.csv' prodotto nel passaggio precedente e visualizziamo le seguenti informazioni:\n",
    "1. Creiamo la [matrice di confusione](https://it.wikipedia.org/wiki/Matrice_di_confusione) delle città\n",
    "2. Tracciamo con un istogramma il numero di risposte di città corrette per ogni esecuzione del gioco\n",
    "3. Tracciamo con un istogramma il numero di risposte di città/attrazione corrette per ogni esecuzione del gioco\n",
    "4. Tracciamo per ogni immagine la percentuale di risposte corrette di città e di città/attrazione\n",
    "\n",
    "Vediamo queste operazioni una per una. Ogni operazione aprirà il file delle risposte e calcolerà i dati che gli servono, questa soluzione non è ovviamente molto efficiente, ma permette di separare meglio il codice ed i grafici."
   ]
  },
  {
   "cell_type": "markdown",
   "metadata": {},
   "source": [
    "#### Punto 1:\n",
    "Creiamo la [matrice di confusione](https://it.wikipedia.org/wiki/Matrice_di_confusione) delle città. Questo vuol dire creare un array numpy **matConf** nx(n+1), dove n è il numero delle città, ed in ogni posizione (i,j) c'è il numero di volte in cui la risposta giusta era la città con indice i nella lista **lcitta** e l'utente ha risposto la città con indice j. Se l'utente ha risposto \"Non so\" inseriamo la risposta nella cella (i,n), cioè la colonna in più (quella di indice n, serve per contare le risposte \"Non so\" date ad immagini delle varie città). Definiamo una funzione che prende in ingresso il file delle risposte **file** e la lista delle città **lcitta** e restituisce la matrice di confusione."
   ]
  },
  {
   "cell_type": "code",
   "execution_count": null,
   "metadata": {},
   "outputs": [],
   "source": [
    "from tester_new import tester_fun_comp\n",
    "\n",
    "import numpy as np\n",
    "\n",
    "def confusione(file,lcitta):\n",
    "    \"\"\" Costruite e restituite la matrice di confusione\n",
    "    \"\"\"\n",
    "\n",
    "tester_fun_comp(confusione,['risposte1.csv',lcitta],np.array([[2, 0, 1, 0],[2, 0, 0, 0],[0, 0, 3, 0]]),np.array_equal)\n",
    "tester_fun_comp(confusione,['risposte2.csv',lcitta],np.array([[1, 0, 0, 2],[0, 0, 0, 2],[3, 0, 0, 2]]),np.array_equal)\n",
    "tester_fun_comp(confusione,['risposte3.csv',lcitta],np.array([[2, 0, 0, 2],[7, 0, 0, 1],[5, 0, 2, 1]]),np.array_equal)"
   ]
  },
  {
   "cell_type": "markdown",
   "metadata": {},
   "source": [
    "Possiamo ora creare e stampare la matrice di confusione sui vostri dati"
   ]
  },
  {
   "cell_type": "code",
   "execution_count": null,
   "metadata": {},
   "outputs": [],
   "source": [
    "matConf = confusione('risposte.csv',lcitta)\n",
    "print('la matrice di confusione per le città:',lcitta,'è:')\n",
    "print(matConf)"
   ]
  },
  {
   "cell_type": "markdown",
   "metadata": {},
   "source": [
    "#### Punto 2:\n",
    "Tracciamo con un istogramma il numero di risposte di città corrette per ogni esecuzione del gioco (in altri termini, per ogni valore *n* l'istogramma mostra in quante esecuzioni ci sono state *n* risposte corrette). Assumendo che **ad ogni esecuzione del gioco venga usato un nome diverso**, dobbiamo contare per ogni utente quante risposte esatte sulla città ha fornito e metterle in un array. Per fare questo calcolo definiamo una funzione *cittaCorrette* che prende in ingresso il file delle risposte e restituisce la lista (ordinata in ordine crescente) del numero delle risposte corrette relative alle città date da ciascun utente."
   ]
  },
  {
   "cell_type": "code",
   "execution_count": null,
   "metadata": {},
   "outputs": [],
   "source": [
    "from tester import tester_fun\n",
    "\n",
    "def cittaCorrette(file):\n",
    "    \"\"\"Costruite e restituite la lista del numero di risposte\n",
    "    corrette (sulla città) per ogni utente. La lista deve essere\n",
    "    ordinata in ordine crescente\n",
    "    \"\"\"\n",
    "\n",
    "tester_fun(cittaCorrette,['risposte1.csv'],[2,3])\n",
    "tester_fun(cittaCorrette,['risposte2.csv'],[0,1])\n",
    "tester_fun(cittaCorrette,['risposte3.csv'],[1,3])"
   ]
  },
  {
   "cell_type": "markdown",
   "metadata": {},
   "source": [
    "Usando la funzione sopra definita possiamo ora disegnare l'istogramma"
   ]
  },
  {
   "cell_type": "code",
   "execution_count": null,
   "metadata": {},
   "outputs": [],
   "source": [
    "%matplotlib inline\n",
    "import matplotlib.pyplot as plt\n",
    "\n",
    "dati = cittaCorrette('risposte.csv')\n",
    "# Disegna l'istogramma come specificato"
   ]
  },
  {
   "cell_type": "markdown",
   "metadata": {},
   "source": [
    "#### Punto 3:\n",
    "Tracciamo con un istogramma il numero di risposte di città e attrazione corrette per ogni esecuzione del gioco. Assumendo che **ad ogni esecuzione del gioco venga usato un nome diverso**, dobbiamo contare per ogni utente quante risposte esatte su città e attrazione ha fornito e metterle in un array, poi disegnare l'istogramma corrispondente. Come prima, definiamo una funzione *rispCorrette* che prende in ingresso il file delle risposte e restituisce la lista (ordinata in ordine crescente) del numero delle risposte corrette (città e attrazione) per ogni utente."
   ]
  },
  {
   "cell_type": "code",
   "execution_count": null,
   "metadata": {},
   "outputs": [],
   "source": [
    "from tester import tester_fun\n",
    "\n",
    "def rispCorrette(file):\n",
    "    \"\"\"Costruite e restituite la lista del numero di risposte\n",
    "    corrette (sulla città e sull'attrazione) per ogni utente.\n",
    "    La lista deve essere ordinata in ordine crescente\n",
    "    \"\"\"\n",
    "\n",
    "tester_fun(rispCorrette,['risposte1.csv'],[1,2])\n",
    "tester_fun(rispCorrette,['risposte2.csv'],[0,0])\n",
    "tester_fun(rispCorrette,['risposte3.csv'],[0,2])"
   ]
  },
  {
   "cell_type": "markdown",
   "metadata": {},
   "source": [
    "Usando la funzione sopra definita possiamo ora disegnare l'istogramma"
   ]
  },
  {
   "cell_type": "code",
   "execution_count": null,
   "metadata": {},
   "outputs": [],
   "source": [
    "dati = rispCorrette('risposte.csv')\n",
    "# Disegna l'istogramma come specificato"
   ]
  },
  {
   "cell_type": "markdown",
   "metadata": {},
   "source": [
    "#### Punto 4:\n",
    "Tracciamo per ogni immagine la percentuale di risposte corrette di città e di città/attrazione. Quindi dobbiamo fare un grafico con 2 plot, uno che mostra le risposte esatte sulla città dell'attrazione ed uno sul riconoscimento di città ed attrazione. L'asse x è quindi semplicemente l'indice delle immagini nella lista **tutteImmagini** e le 2 funzioni sono 2 array, della stessa dimensione della x, con il numero di risposte esatte nei 2 casi. Per prima cosa definiamo quindi una funzione che prende in ingresso il nome del file **file** con le risposte e la lista **lista** delle immagini e restituisce gli arrays x, y1 e y2."
   ]
  },
  {
   "cell_type": "code",
   "execution_count": null,
   "metadata": {},
   "outputs": [],
   "source": [
    "from tester_new import tester_fun_comp\n",
    "\n",
    "def corretteImmagine(file,lista):\n",
    "    \"\"\" Costruisci e restituisci i 3 arrays\n",
    "    \"\"\"\n",
    "\n",
    "tester_fun_comp(corretteImmagine,['risposte1.csv',tutteImmagini],(np.array([ 0,  1,  2,  3,  4,  5,  6,  7,  8,  9, 10, 11, 12, 13, 14, 15, 16, 17]), np.array([0., 2., 1., 0., 0., 2., 0., 0., 0., 0., 0., 0., 0., 0., 0., 0., 0., 0.]), np.array([0., 2., 1., 0., 0., 0., 0., 0., 0., 0., 0., 0., 0., 0., 0., 0., 0., 0.])),np.array_equal)\n",
    "tester_fun_comp(corretteImmagine,['risposte2.csv',tutteImmagini],(np.array([ 0,  1,  2,  3,  4,  5,  6,  7,  8,  9, 10, 11, 12, 13, 14, 15, 16, 17]), np.array([1., 0., 0., 0., 0., 0., 0., 0., 0., 0., 0., 0., 0., 0., 0., 0., 0., 0.]), np.array([0., 0., 0., 0., 0., 0., 0., 0., 0., 0., 0., 0., 0., 0., 0., 0., 0., 0.])),np.array_equal)\n",
    "tester_fun_comp(corretteImmagine,['risposte3.csv',tutteImmagini],(np.array([ 0,  1,  2,  3,  4,  5,  6,  7,  8,  9, 10, 11, 12, 13, 14, 15, 16, 17]), np.array([0., 1., 1., 0., 0., 1., 0., 0., 0., 0., 0., 0., 0., 0., 1., 0., 0., 0.]), np.array([0., 1., 1., 0., 0., 0., 0., 0., 0., 0., 0., 0., 0., 0., 0., 0., 0., 0.])),np.array_equal)"
   ]
  },
  {
   "cell_type": "markdown",
   "metadata": {},
   "source": [
    "Usando la funzione appena definita possiamo ora disegnare le 2 funzioni"
   ]
  },
  {
   "cell_type": "code",
   "execution_count": null,
   "metadata": {},
   "outputs": [],
   "source": [
    "#Calcoliamo le due funzioni sui vostri dati\n",
    "x,y1,y2 = corretteImmagine('risposte.csv',tutteImmagini)\n",
    "# Eseguite il plot delle 2 funzioni.\n",
    "# Disegnate la y1 in blue tratteggiato (b--) e\n",
    "# la y2 in rosso trattegggiato (r--)"
   ]
  }
 ],
 "metadata": {
  "kernelspec": {
   "display_name": "Python 3 (ipykernel)",
   "language": "python",
   "name": "python3"
  },
  "language_info": {
   "codemirror_mode": {
    "name": "ipython",
    "version": 3
   },
   "file_extension": ".py",
   "mimetype": "text/x-python",
   "name": "python",
   "nbconvert_exporter": "python",
   "pygments_lexer": "ipython3",
   "version": "3.9.7"
  }
 },
 "nbformat": 4,
 "nbformat_minor": 4
}
