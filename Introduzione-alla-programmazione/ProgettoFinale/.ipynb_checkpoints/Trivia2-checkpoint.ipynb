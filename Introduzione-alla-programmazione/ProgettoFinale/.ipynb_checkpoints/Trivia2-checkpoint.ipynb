{
 "cells": [
  {
   "cell_type": "markdown",
   "metadata": {
    "slideshow": {
     "slide_type": "slide"
    }
   },
   "source": [
    "#### Autori: Domenico Lembo, Giuseppe Santucci and Marco Schaerf\n",
    "\n",
    "[Dipartimento di Ingegneria informatica, automatica e gestionale](https://www.diag.uniroma1.it)\n",
    "\n",
    "<img src=\"https://mirrors.creativecommons.org/presskit/buttons/88x31/png/by-nc-sa.eu.png\"\n",
    "     alt=\"License\"\n",
    "     style=\"float: left;\"\n",
    "     height=\"40\" width=\"100\" />\n",
    "This notebook is distributed with license Creative Commons *CC BY-NC-SA*"
   ]
  },
  {
   "cell_type": "markdown",
   "metadata": {},
   "source": [
    "# Trivia: indovina città e attrazione da immagini\n",
    "1. Obiettivo del gioco\n",
    "2. Preparazione del gioco\n",
    "3. Creazione delle strutture dati\n",
    "4. Esecuzione del gioco\n",
    "5. Analisi dei dati"
   ]
  },
  {
   "cell_type": "markdown",
   "metadata": {},
   "source": [
    "### Obiettivo del gioco\n",
    "Dobbiamo implementare un semplice gioco a quiz su città e attrazioni. Il gioco consiste nel proporre all'utente una sequenza di immagini e chiedergli di riconoscere la città e l'attrazione a cui si riferiscono."
   ]
  },
  {
   "cell_type": "markdown",
   "metadata": {},
   "source": [
    "### Preparazione del gioco\n",
    "Selezioniamo (almeno) 3 città ed (almeno) 3 attrazioni per ogni città. Assegnamo a ogni città e ad ogni attrazione un nome univoco. Creiamo la directory del progetto e salviamo lì questo notebook.\n",
    "Troviamo sul web (almeno) 2 immagini per ogni attrazione. Per ogni immagine copiamo l'indirizzo dell'immagine. Ad esempio, in questa pagina Wikipedia sul [Colosseo](https://it.wikipedia.org/wiki/Colosseo) selezioniamo l'immagine in alto a destra e copiamo il suo indirizzo immagine, che dovrebbe essere https://upload.wikimedia.org/wikipedia/commons/thumb/d/d8/Colosseum_in_Rome-April_2007-1-_copie_2B.jpg/390px-Colosseum_in_Rome-April_2007-1-_copie_2B.jpg. \n",
    "\n",
    "In Windows (Chrome o Firefox), premi il pulsante destro sull'immagine e quindi seleziona copia indirizzo immagine, in iOS (Safari) fai clic / tocca e tieni premuto sull'immagine e quindi selezionare copia. Creiamo un file CSV con una linea per ogni immagine (vedi formato sotto) e salviamo questo file come \"images.csv\" nella directory del progetto.\n",
    "Il file CSV ha il seguente formato:\n",
    "\n",
    "```\n",
    "Città,attrazione,image_address\n",
    "```\n",
    "\n",
    "Dove image_address è l'indirizzo web del file dell'immagine. Non inserire spazi vuoti prima e dopo le virgole. **Non inseriamo** una riga di intestazione nel file."
   ]
  },
  {
   "cell_type": "markdown",
   "metadata": {},
   "source": [
    "### Creazione delle strutture dati\n",
    "Leggiamo il file CSV e creiamo quattro strutture dati:\n",
    "1. Una lista **lcitta** (ordinata alfabeticamente) delle città\n",
    "2. Una lista **tutteImmagini** (ordinata alfabeticamente) degli indirizzi delle immagini.\n",
    "3. Un dizionario **attrazioni** con chiave la città e valore la lista (ordinata alfabeticamente) delle attrazioni (senza ripetizioni).\n",
    "4. Un dizionario **origini** con chiave l'indirizzo dell'immagine e valore la tupla (città,attrazione) corrispondente\n",
    "Per maggiore pulizia e riusabilità del codice scriviamo una funzione che prende in input il nome del file e restituisce le strutture dati costruite."
   ]
  },
  {
   "cell_type": "code",
   "execution_count": 2,
   "metadata": {},
   "outputs": [],
   "source": [
    "def creaStruttureDati(file):\n",
    "    #Inizializziamo le variabili\n",
    "    lcitta = []\n",
    "    tutteImmagini = []\n",
    "    origini = {}\n",
    "    attrazioni = {}\n",
    "    f = open(file,'r',encoding='UTF-8') # apro il file\n",
    "    for riga in f:\n",
    "        riga = riga.strip().split(',') # separo la riga nelle sue parti\n",
    "        citta = riga[0]\n",
    "        attrazione = riga[1]\n",
    "        url = riga[2]\n",
    "        tupla = (citta,attrazione)\n",
    "        if citta not in attrazioni:\n",
    "            attrazioni[citta] = []\n",
    "        if attrazione not in attrazioni[citta]:\n",
    "            # inserisco nella lista delle attrazioni della città (se non presente)\n",
    "            attrazioni[citta].append(attrazione)\n",
    "        if citta not in lcitta: # inserisco nella lista delle città (se non presente)\n",
    "            lcitta.append(citta)\n",
    "        if url not in tutteImmagini: # inserisco nella lista delle immagini (se non presente)\n",
    "            tutteImmagini.append(url)\n",
    "        origini[url] = tupla\n",
    "    f.close()\n",
    "    lcitta.sort()\n",
    "    tutteImmagini.sort()\n",
    "    return lcitta, tutteImmagini, attrazioni, origini\n",
    "\n",
    "lcitta, tutteImmagini, attrazioni, origini = creaStruttureDati('images.csv')"
   ]
  },
  {
   "cell_type": "markdown",
   "metadata": {},
   "source": [
    "### Esecuzione del gioco\n",
    "Implementiamo il seguente gioco: chiediamo all'utente di inserire il suo nome (idealmente ogni esecuzione del gioco dovrebbe avere un utente diverso), quindi scegliamo in modo casuale 10 immagini dalla lista **tutteImmagini**. Mostriamo le immagini una alla volta all'utente e gli chiediamo di che città si tratti (l'utente può scegliere dall'elenco delle città possibili, cioè dalla lista **lcitta**).\n",
    "Quindi gli chiediamo di indovinare l'attrazione (l'utente può scegliere dall'elenco delle possibili attrazioni per la città che ha selezionato). In entrambi i casi l'utente può anche selezionare la risposta \"Non so\". Salviamo tutti i risultati in un file CSV 'risposte.csv' con il seguente formato:\n",
    "\n",
    "```\n",
    "utente,cittàCorretta,attrazioneCorretta,indirizzoImmagine,cittàScelta,attrazioneScelta\n",
    "```\n",
    "\n",
    "Ogni esecuzione deve sempre aggiungere le nuove informazioni senza eliminare le risposte fornite dai giocatori precedenti.\n",
    "\n",
    "Per selezionare 10 immagini a caso, possiamo usare la funzione di NumPy np.random.choice(dati,num,replace=False), dove dati è l'array dei dati tra cui scegliere, num è il numero di elementi da selezionare e replace=False specifica che NON bisogna mai selezionare 2 volte lo stesso elemento. Questa funzione restituisce un array di num elementi."
   ]
  },
  {
   "cell_type": "code",
   "execution_count": 3,
   "metadata": {},
   "outputs": [],
   "source": [
    "import numpy as np\n",
    "from IPython.display import display, Image, clear_output\n",
    "\n",
    "nonSo = \"Non so\" # Per poter poi cambiare questa frase, la salviamo in una variabile\n",
    "\n",
    "utente = input('Inserisci il tuo nome per iniziare: ')\n",
    "\n",
    "# Sceglie le 10 foto a caso\n",
    "scelta = np.random.choice(tutteImmagini,10,replace=False)\n",
    "\n",
    "# Apre il file per le risposte in modalità append\n",
    "f = open('risposte.csv','a',encoding = 'UTF-8')\n",
    "\n",
    "for foto in scelta:\n",
    "    immagine = Image(foto,width=512)\n",
    "    display(immagine)\n",
    "    cittaCorretta = origini[foto][0]\n",
    "    attrazioneCorretta = origini[foto][1]\n",
    "    print('Di quale città si tratta ?')\n",
    "    for i in range(len(lcitta)):\n",
    "        print(i+1,lcitta[i])\n",
    "    print(i+2,nonSo)\n",
    "    indiceRisposta1 = int(input('Inserisci il numero corrispondente alla risposta scelta')) - 1\n",
    "    if indiceRisposta1 == len(lcitta):\n",
    "        risposta1 = nonSo\n",
    "        # Ha risposto \"Non so\", assumo che non conosca neanche l'attrazione e smetto\n",
    "        risposta2 = nonSo\n",
    "    else:\n",
    "        risposta1 = lcitta[indiceRisposta1]\n",
    "        lattrazioni = attrazioni[risposta1]\n",
    "        print('Di quale attrazione si tratta ?')\n",
    "        for i in range(len(lattrazioni)):\n",
    "            print(i+1,lattrazioni[i])\n",
    "        print(i+2,nonSo)\n",
    "        indiceRisposta2 = int(input('Inserisci il numero corrispondente alla risposta scelta')) - 1\n",
    "    if indiceRisposta2 == len(lattrazioni):\n",
    "        risposta2 = nonSo\n",
    "    else:\n",
    "        risposta2 = lattrazioni[indiceRisposta2]\n",
    "    riga = utente+','+cittaCorretta+','+attrazioneCorretta+','+foto+','+risposta1+','+risposta2+'\\n'\n",
    "    f.write(riga)\n",
    "    clear_output()\n",
    "f.close()"
   ]
  },
  {
   "cell_type": "markdown",
   "metadata": {},
   "source": [
    "### Analisi dei dati\n",
    "Leggiamo il file 'risposte.csv' prodotto nel passaggio precedente e visualizziamo le seguenti informazioni:\n",
    "1. Creiamo la [matrice di confusione](https://it.wikipedia.org/wiki/Matrice_di_confusione) delle città\n",
    "2. Tracciamo con un istogramma il numero di risposte di città corrette per ogni esecuzione del gioco\n",
    "3. Tracciamo con un istogramma il numero di risposte di città/attrazione corrette per ogni esecuzione del gioco\n",
    "4. Tracciamo per ogni immagine la percentuale di risposte corrette di città e di città/attrazione\n",
    "\n",
    "Vediamo queste operazioni una per una. Ogni operazione aprirà il file delle risposte e calcolerà i dati che gli servono, questa soluzione non è ovviamente molto efficiente, ma permette di separare meglio il codice ed i grafici."
   ]
  },
  {
   "cell_type": "markdown",
   "metadata": {},
   "source": [
    "#### Punto 1:\n",
    "Creiamo la [matrice di confusione](https://it.wikipedia.org/wiki/Matrice_di_confusione) delle città. Questo vuol dire creare una matrice **matConf** nx(n+1), dove n è il numero delle città, ed in ogni posizione (i,j) c'è il numero di volte in cui la risposta giusta era la città con indice i nella lista **lcitta** e l'utente ha risposto la città con indice j. Se l'utente ha risposto \"Non so\" inseriamo la risposta nella cella (i,n), cioè la colonna in più (quella di indice n, serve per contare le risposte \"Non so\" date ad immagini delle varie città."
   ]
  },
  {
   "cell_type": "code",
   "execution_count": 7,
   "metadata": {},
   "outputs": [
    {
     "name": "stdout",
     "output_type": "stream",
     "text": [
      "la matrice di confusione per le città: ['New York', 'Parigi', 'Roma'] è:\n",
      "[[2. 0. 0. 2.]\n",
      " [7. 0. 0. 1.]\n",
      " [5. 0. 2. 1.]]\n"
     ]
    }
   ],
   "source": [
    "n = len(lcitta) # numero delle città\n",
    "matConf = np.zeros((n,n+1)) # inizializzazione della matrice di confusione\n",
    "\n",
    "f = open('risposte.csv','r',encoding='UTF-8')\n",
    "for riga in f:\n",
    "    dati = riga.strip().split(',')\n",
    "    cittaCorretta = dati[1]\n",
    "    indice1 = lcitta.index(cittaCorretta)\n",
    "    risposta = dati[4]\n",
    "    if risposta == nonSo:\n",
    "        indice2 = n\n",
    "    else:\n",
    "        indice2 = lcitta.index(risposta)\n",
    "    matConf[indice1,indice2] += 1\n",
    "\n",
    "f.close()\n",
    "print('la matrice di confusione per le città:',lcitta,'è:')\n",
    "print(matConf)"
   ]
  },
  {
   "cell_type": "markdown",
   "metadata": {},
   "source": [
    "#### Punto 2:\n",
    "Tracciamo con un istogramma il numero di risposte di città corrette per ogni esecuzione del gioco. Assumendo che ad ogni esecuzione del gioco venga usato un nome diverso, dobbiamo contare per ogni utente quante risposte esatte sulla città ha fornito e metterle in un array, poi disegnare l'istogramma corrispondente. Per fare questo calcolo creiamo un dizionario con chiave il nome dell'utente e valore il numero di risposte corrette."
   ]
  },
  {
   "cell_type": "code",
   "execution_count": 8,
   "metadata": {},
   "outputs": [
    {
     "data": {
      "image/png": "[encoded data removed]",
      "text/plain": [
       "<Figure size 432x288 with 1 Axes>"
      ]
     },
     "metadata": {
      "needs_background": "light"
     },
     "output_type": "display_data"
    }
   ],
   "source": [
    "%matplotlib inline\n",
    "import matplotlib.pyplot as plt\n",
    "\n",
    "corrette = {}\n",
    "f = open('risposte.csv','r',encoding='UTF-8')\n",
    "for riga in f:\n",
    "    dati = riga.strip().split(',')\n",
    "    utente = dati[0]\n",
    "    cittaCorretta = dati[1]\n",
    "    risposta = dati[4]\n",
    "    if utente not in corrette:\n",
    "        corrette[utente] = 0\n",
    "    if risposta == cittaCorretta:\n",
    "        corrette[utente] += 1\n",
    "\n",
    "f.close()\n",
    "dati = np.array(list(corrette.values()))\n",
    "\n",
    "plt.hist(dati)\n",
    "plt.xlabel('Numero risposte corrette')\n",
    "plt.ylabel('Numero di utenti')\n",
    "plt.title('Istogramma risposte Città')\n",
    "plt.grid(True) # disegna la griglia per render più leggibile l'istogramma\n",
    "plt.show()"
   ]
  },
  {
   "cell_type": "markdown",
   "metadata": {},
   "source": [
    "#### Punto 3:\n",
    "Tracciamo con un istogramma il numero di risposte di città e attrazione corrette per ogni esecuzione del gioco. Assumendo che ad ogni esecuzione del gioco venga usato un nome diverso, dobbiamo contare per ogni utente quante risposte esatte su città e attrazione ha fornito e metterle in un array, poi disegnare l'istogramma corrispondente. Come prima, definiamo un dizionario con chiave il nome dell'utente e valore il numero di risposte corrette."
   ]
  },
  {
   "cell_type": "code",
   "execution_count": 9,
   "metadata": {},
   "outputs": [
    {
     "data": {
      "image/png": "[encoded data removed]",
      "text/plain": [
       "<Figure size 432x288 with 1 Axes>"
      ]
     },
     "metadata": {
      "needs_background": "light"
     },
     "output_type": "display_data"
    }
   ],
   "source": [
    "corrette = {}\n",
    "f = open('risposte.csv','r',encoding='UTF-8')\n",
    "for riga in f:\n",
    "    dati = riga.strip().split(',')\n",
    "    utente = dati[0]\n",
    "    cittaCorretta = dati[1]\n",
    "    attrazioneCorretta = dati[2]\n",
    "    risposta1 = dati[4]\n",
    "    risposta2 = dati[4]\n",
    "    if utente not in corrette:\n",
    "        corrette[utente] = 0\n",
    "    if risposta1 == cittaCorretta and risposta2 == attrazioneCorretta:\n",
    "        corrette[utente] += 1\n",
    "\n",
    "f.close()\n",
    "dati = np.array(list(corrette.values()))\n",
    "\n",
    "plt.hist(dati)\n",
    "plt.xlabel('Numero risposte corrette')\n",
    "plt.ylabel('Numero di utenti')\n",
    "plt.title('Istogramma risposte Città')\n",
    "plt.grid(True) # disegna la griglia per render più leggibile l'istogramma\n",
    "plt.show()"
   ]
  },
  {
   "cell_type": "markdown",
   "metadata": {},
   "source": [
    "#### Punto 4:\n",
    "Tracciamo per ogni immagine la percentuale di risposte corrette di città e di città/attrazione. Quindi dobbiamo fare un grafico con 2 plot, uno che mostra le risposte esatte sulla città dell'attrazione ed uno sul riconoscimento di città ed attrazione. L'asse x è quindi semplicemente l'indice delle immagini nella lista **tutteImmagini** e le 2 funzioni sono 2 array,della stessa dimensione della x, con il numero di risposte esatte nei 2 casi."
   ]
  },
  {
   "cell_type": "code",
   "execution_count": 13,
   "metadata": {},
   "outputs": [
    {
     "data": {
      "image/png": "[encoded data removed]",
      "text/plain": [
       "<Figure size 432x288 with 1 Axes>"
      ]
     },
     "metadata": {
      "needs_background": "light"
     },
     "output_type": "display_data"
    }
   ],
   "source": [
    "# calcolo size = il numero di punti (numero elementi di tutteImmagini), quindi\n",
    "# creo l'array delle x come i valori da 0 a size-1 ed inizializzo gli\n",
    "# arrays y1 ed y2 (sempre della stessa size) a 0\n",
    "size = len(tutteImmagini)\n",
    "x = np.arange(size)\n",
    "y1 = np.zeros(size)\n",
    "y2 = np.zeros(size)\n",
    "\n",
    "f = open('risposte.csv','r',encoding='UTF-8')\n",
    "for riga in f:\n",
    "    dati = riga.strip().split(',')\n",
    "    foto = dati[3]\n",
    "    indiceFoto = tutteImmagini.index(foto)\n",
    "    cittaCorretta = dati[1]\n",
    "    attrazioneCorretta = dati[2]\n",
    "    risposta1 = dati[3]\n",
    "    risposta2 = dati[4]\n",
    "    if risposta1 == cittaCorretta:\n",
    "        y1[indiceFoto] += 1\n",
    "        if risposta2 == attrazioneCorretta:\n",
    "            y2[indiceFoto] += 1\n",
    "f.close()\n",
    "\n",
    "plt.plot(x, y1, 'r-', x, y2, 'b-')\n",
    "plt.xlabel('indice della foto') # scritta per l'asse x\n",
    "plt.ylabel('risposte corrette (parzialmente o completamente)') # scritta per l'asse y\n",
    "plt.show()"
   ]
  },
  {
   "cell_type": "code",
   "execution_count": null,
   "metadata": {},
   "outputs": [],
   "source": []
  }
 ],
 "metadata": {
  "kernelspec": {
   "display_name": "Python 3",
   "language": "python",
   "name": "python3"
  },
  "language_info": {
   "codemirror_mode": {
    "name": "ipython",
    "version": 3
   },
   "file_extension": ".py",
   "mimetype": "text/x-python",
   "name": "python",
   "nbconvert_exporter": "python",
   "pygments_lexer": "ipython3",
   "version": "3.7.4"
  }
 },
 "nbformat": 4,
 "nbformat_minor": 4
}
