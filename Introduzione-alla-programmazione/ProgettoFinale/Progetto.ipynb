{
 "cells": [
  {
   "cell_type": "markdown",
   "metadata": {
    "slideshow": {
     "slide_type": "slide"
    }
   },
   "source": [
    "#### Autori: Domenico Lembo, Giuseppe Santucci and Marco Schaerf\n",
    "\n",
    "[Dipartimento di Ingegneria informatica, automatica e gestionale](https://www.diag.uniroma1.it)\n",
    "\n",
    "<img src=\"https://mirrors.creativecommons.org/presskit/buttons/88x31/png/by-nc-sa.eu.png\"\n",
    "     alt=\"License\"\n",
    "     style=\"float: left;\"\n",
    "     height=\"40\" width=\"100\" />\n",
    "This notebook is distributed with license Creative Commons *CC BY-NC-SA*"
   ]
  },
  {
   "cell_type": "markdown",
   "metadata": {
    "tags": []
   },
   "source": [
    "# Trivia: indovina città e attrazione da immagini\n",
    "1. Obiettivo del gioco\n",
    "2. Preparazione del gioco\n",
    "3. Creazione delle strutture dati\n",
    "4. Esecuzione del gioco\n",
    "5. Analisi dei dati"
   ]
  },
  {
   "cell_type": "markdown",
   "metadata": {},
   "source": [
    "### Obiettivo del gioco\n",
    "Dobbiamo implementare un semplice gioco a quiz su città e attrazioni. Il gioco consiste nel proporre all'utente una sequenza di immagini e chiedergli di riconoscere la città e l'attrazione a cui si riferiscono."
   ]
  },
  {
   "cell_type": "markdown",
   "metadata": {
    "jp-MarkdownHeadingCollapsed": true,
    "tags": []
   },
   "source": [
    "### Preparazione del gioco\n",
    "Selezioniamo (almeno) 3 città ed (almeno) 3 attrazioni per ogni città. Assegnamo a ogni città e ad ogni attrazione un nome univoco per evitare ambiguità. Creiamo la directory del progetto e salviamo lì questo notebook. Troviamo sul web (almeno) 2 immagini per ogni attrazione. Per ogni immagine copiamo l'indirizzo dell'immagine. Ad esempio, in questa pagina Wikipedia sul [Colosseo](https://it.wikipedia.org/wiki/Colosseo) selezioniamo l'immagine in alto a destra e copiamo il suo indirizzo immagine, che dovrebbe essere https://upload.wikimedia.org/wikipedia/commons/thumb/d/d8/Colosseum_in_Rome-April_2007-1-_copie_2B.jpg/390px-Colosseum_in_Rome-April_2007-1-_copie_2B.jpg. \n",
    "\n",
    "In Windows (Chrome o Firefox), premi il pulsante destro sull'immagine e quindi seleziona copia indirizzo immagine, in iOS (Safari) fai clic / tocca e tieni premuto sull'immagine e quindi selezionare copia. Creiamo un file CSV (o Excel xlsx se preferite) con una linea per ogni immagine (vedi formato sotto) e salviamo questo file come \"images.csv\" nella directory del progetto.\n",
    "\n",
    "Il file CSV (xlsx) deve avere il seguente formato (prima riga è intestazione):\n",
    "\n",
    "```\n",
    "Luogo,Attrazione,Url\n",
    "luogo1,attrazione1,indirizzo1\n",
    "```\n",
    "\n",
    "Dove Url è l'indirizzo web del file dell'immagine. Non inserire spazi vuoti prima e dopo le virgole. **Inserite** una riga di intestazione nel file nel formato descritto."
   ]
  },
  {
   "cell_type": "markdown",
   "metadata": {
    "tags": []
   },
   "source": [
    "### Creazione delle strutture dati\n",
    "Leggiamo il file CSV (o xlsx) e creiamo il corrispondente DataFrame in memoria. Poi creiamo un file CSV (o xlsx), chiamato 'risposte.csv', contenente la sola riga di intestazione, che possa contenere le risposte con il seguente formato:\n",
    "\n",
    "```\n",
    "Utente,luogoCorretto,AttrazioneCorretta,IndirizzoImmagine,LuogoSelezionato,AttrazioneSelezionata\n",
    "```"
   ]
  },
  {
   "cell_type": "code",
   "execution_count": 1,
   "metadata": {
    "tags": []
   },
   "outputs": [
    {
     "name": "stdout",
     "output_type": "stream",
     "text": [
      "       Luogo             Attrazione  \\\n",
      "0       Roma               Colosseo   \n",
      "1       Roma               Colosseo   \n",
      "2       Roma          Piazza Navona   \n",
      "3       Roma          Piazza Navona   \n",
      "4       Roma       Piazza di Spagna   \n",
      "5       Roma       Piazza di Spagna   \n",
      "6   New York           Times Square   \n",
      "7   New York           Times Square   \n",
      "8   New York  Empire State Building   \n",
      "9   New York  Empire State Building   \n",
      "10  New York           Central Park   \n",
      "11  New York           Central Park   \n",
      "12    Parigi                 Louvre   \n",
      "13    Parigi                 Louvre   \n",
      "14    Parigi           Torre Eiffel   \n",
      "15    Parigi           Torre Eiffel   \n",
      "16    Parigi          Champs Elysee   \n",
      "17    Parigi          Champs Elysee   \n",
      "\n",
      "                                                  Url  \n",
      "0   https://upload.wikimedia.org/wikipedia/commons...  \n",
      "1   https://upload.wikimedia.org/wikipedia/commons...  \n",
      "2   https://images.musement.com/cover/0002/23/thum...  \n",
      "3   https://images.musement.com/default/0002/23/th...  \n",
      "4   https://upload.wikimedia.org/wikipedia/commons...  \n",
      "5   http://www.giovannirinaldi.it/page/rome/piazza...  \n",
      "6   https://upload.wikimedia.org/wikipedia/commons...  \n",
      "7   https://upload.wikimedia.org/wikipedia/commons...  \n",
      "8   https://upload.wikimedia.org/wikipedia/commons...  \n",
      "9   https://upload.wikimedia.org/wikipedia/commons...  \n",
      "10  https://upload.wikimedia.org/wikipedia/commons...  \n",
      "11  https://upload.wikimedia.org/wikipedia/commons...  \n",
      "12  https://upload.wikimedia.org/wikipedia/commons...  \n",
      "13  https://upload.wikimedia.org/wikipedia/commons...  \n",
      "14  https://upload.wikimedia.org/wikipedia/commons...  \n",
      "15  https://upload.wikimedia.org/wikipedia/commons...  \n",
      "16  https://upload.wikimedia.org/wikipedia/commons...  \n",
      "17  https://upload.wikimedia.org/wikipedia/commons...  \n"
     ]
    }
   ],
   "source": [
    "import pandas as pd\n",
    "\n",
    "gioco = pd.read_csv(\"images.csv\")\n",
    "print(gioco)\n",
    "\n",
    "# definiamo i nomi delle colonne in una lista\n",
    "nomiColonne = ['Utente','luogoCorretto','AttrazioneCorretta','IndirizzoImmagine','LuogoSelezionato','AttrazioneSelezionata']\n",
    "# Creiamo un DataFrame 'risposte'\n",
    "risposte = pd.DataFrame(columns = nomiColonne)\n",
    "# creiamo il file con la sola intestazione\n",
    "risposte.to_csv('risposte.csv')"
   ]
  },
  {
   "cell_type": "markdown",
   "metadata": {
    "tags": []
   },
   "source": [
    "### Esecuzione del gioco\n",
    "Implementiamo il gioco nel seguente modo: chiediamo all'utente di inserire il suo nome (idealmente ogni esecuzione del gioco dovrebbe avere un utente diverso), quindi scegliamo in modo casuale 10 immagini presenti nel file. Mostriamo le immagini una alla volta all'utente e gli chiediamo di che città si tratti (l'utente può scegliere dall'elenco delle città possibili, presa dalla colonna 'Luogo' del DataFrame).\n",
    "Quindi gli chiediamo di indovinare l'attrazione (l'utente può scegliere dall'elenco delle possibili attrazioni per la città che ha selezionato). In entrambi i casi l'utente può anche selezionare la risposta \"Non so\". Se risponde \"Non so\" alla domanda sulla città assegniamo \"Non so\" anche all'attrazione e passiamo alla prossima immagine. \n",
    "\n",
    "Per non obbligare l'utente ad inserire il nome per esteso della città o dell'attrazione conviene numerare le varie opzioni e poi chiedere di inserire il numero corrispondente.\n",
    "\n",
    "Ogni esecuzione deve sempre aggiungere le nuove informazioni senza eliminare le risposte fornite dai giocatori precedenti.\n",
    "\n",
    "Per selezionare 10 immagini a caso, possiamo usare il metodo dei DataFrame di Pandas **DataFrame.sample(num,replace=False)** (https://pandas.pydata.org/docs/reference/api/pandas.DataFrame.sample.html), applicata ad un DataFrame che contenga solo la colonna 'Url', dove num è il numero di elementi da selezionare e replace=False specifica che NON bisogna mai selezionare 2 volte lo stesso elemento. Questa funzione restituisce num elementi scelti casualmente."
   ]
  },
  {
   "cell_type": "code",
   "execution_count": null,
   "metadata": {},
   "outputs": [],
   "source": [
    "#importiamo le librerie necessarie per il gioco\n",
    "import numpy as np\n",
    "from IPython.display import display, Image, clear_output\n",
    "\n",
    "nonSo = \"Non so\" # Per poter poi cambiare questa frase, la salviamo in una variabile\n",
    "\n",
    "utente = input('Inserisci il tuo nome per iniziare: ') #salva il nome dell'utente che sta effettuando il gioco\n",
    "\n",
    "# Sceglie le 10 foto a casox\n",
    "scelta = gioco['Url'].sample(10,replace=False)\n",
    "\n",
    "# Creiamo un DataFrame vuoto\n",
    "risposte = pd.DataFrame()\n",
    "\n",
    "for foto in scelta:\n",
    "    \"\"\" Cose da fare: \n",
    "    1) Caricare e mostrare l'immagine. Usate la funzione display(image)\n",
    "    2) Chiedere all'utente di indovinare la città e poi l'attrazione.\n",
    "    3) Costruire la riga e poi inserirla nel DataFrame\n",
    "    4) Cancellare l'output prima di mostrare l'immagine successiva\n",
    "    \"\"\"\n",
    "\n",
    "# scriviamo il dataframe risposte nel file CSV, in modalità 'append'\n",
    "risposte.to_csv('risposte.csv',mode = 'a')"
   ]
  },
  {
   "cell_type": "markdown",
   "metadata": {
    "tags": []
   },
   "source": [
    "### Analisi dei dati\n",
    "Leggiamo il file 'risposte.csv', prodotto nel passaggio precedente, in un DataFrame 'risposteSalvate' e visualizziamo le seguenti informazioni:\n",
    "1. Creiamo la [matrice di confusione](https://it.wikipedia.org/wiki/Matrice_di_confusione) delle città\n",
    "2. Tracciamo con un istogramma il numero di risposte di città corrette per ogni esecuzione del gioco\n",
    "3. Tracciamo con un istogramma il numero di risposte di città/attrazione corrette per ogni esecuzione del gioco\n",
    "4. Tracciamo per ogni immagine la percentuale di risposte corrette di città e di città/attrazione\n",
    "\n",
    "Vediamo queste operazioni una per una. Ogni operazione aprirà il file delle risposte e calcolerà i dati che gli servono, questa soluzione non è ovviamente molto efficiente, ma permette di separare meglio il codice ed i grafici."
   ]
  },
  {
   "cell_type": "code",
   "execution_count": null,
   "metadata": {},
   "outputs": [],
   "source": [
    "risposteSalvate = pd.read_csv('risposte.csv')"
   ]
  },
  {
   "cell_type": "markdown",
   "metadata": {},
   "source": [
    "#### Punto 1:\n",
    "Creiamo la [matrice di confusione](https://it.wikipedia.org/wiki/Matrice_di_confusione) delle città. Questo vuol dire innanzitutto creare la lista **lcitta** ordinata delle città estraendole dall collonna 'Luogo' del DataFrame gioco e poi un array numpy **matConf** nx(n+1), dove n è il numero delle città, ed in ogni posizione (i,j) c'è il numero di volte in cui la risposta giusta era la città con indice i nella lista **lcitta** e l'utente ha risposto la città con indice j. Se l'utente ha risposto \"Non so\" inseriamo la risposta nella cella (i,n), cioè la colonna in più (quella di indice n, serve per contare le risposte \"Non so\" date ad immagini delle varie città). Definiamo una funzione che prende in ingresso il DataFrame delle risposte **risposteSalvate** e la lista delle città **lcitta** e restituisce la matrice di confusione."
   ]
  },
  {
   "cell_type": "code",
   "execution_count": null,
   "metadata": {},
   "outputs": [],
   "source": [
    "import numpy as np\n",
    "\n",
    "def confusione(risposteSalvate,lcitta):\n",
    "    \"\"\" Costruite e restituite la matrice di confusione\n",
    "    \"\"\""
   ]
  },
  {
   "cell_type": "markdown",
   "metadata": {},
   "source": [
    "Possiamo ora creare e stampare la matrice di confusione sui vostri dati"
   ]
  },
  {
   "cell_type": "code",
   "execution_count": null,
   "metadata": {},
   "outputs": [],
   "source": [
    "# da completare estraendo i dati dal DataFrame gioco\n",
    "lcitta = []\n",
    "\n",
    "matConf = confusione(risposteSalvate,lcitta)\n",
    "print('la matrice di confusione per le città:',lcitta,'è:')\n",
    "print(matConf)"
   ]
  },
  {
   "cell_type": "markdown",
   "metadata": {},
   "source": [
    "#### Punto 2:\n",
    "Tracciamo con un istogramma il numero di risposte di città corrette per ogni esecuzione del gioco (in altri termini, per ogni valore *n* l'istogramma mostra in quante esecuzioni ci sono state *n* risposte corrette). Assumendo che **ad ogni esecuzione del gioco venga usato un nome diverso**, dobbiamo contare per ogni utente quante risposte esatte sulla città ha fornito e metterle in un array. Per fare questo calcolo definiamo una funzione *cittaCorrette* che prende in ingresso il dataframe delle risposte e restituisce la lista (ordinata in ordine crescente) del numero delle risposte corrette relative alle città date da ciascun utente."
   ]
  },
  {
   "cell_type": "code",
   "execution_count": null,
   "metadata": {},
   "outputs": [],
   "source": [
    "def cittaCorrette(df):\n",
    "    \"\"\"Costruite e restituite la lista del numero di risposte\n",
    "    corrette (sulla città) per ogni utente. La lista deve essere\n",
    "    ordinata in ordine crescente\n",
    "    \"\"\""
   ]
  },
  {
   "cell_type": "markdown",
   "metadata": {},
   "source": [
    "Usando la funzione sopra definita possiamo ora disegnare l'istogramma"
   ]
  },
  {
   "cell_type": "code",
   "execution_count": 2,
   "metadata": {},
   "outputs": [
    {
     "ename": "NameError",
     "evalue": "name 'cittaCorrette' is not defined",
     "output_type": "error",
     "traceback": [
      "\u001b[0;31m---------------------------------------------------------------------------\u001b[0m",
      "\u001b[0;31mNameError\u001b[0m                                 Traceback (most recent call last)",
      "Input \u001b[0;32mIn [2]\u001b[0m, in \u001b[0;36m<cell line: 4>\u001b[0;34m()\u001b[0m\n\u001b[1;32m      1\u001b[0m get_ipython()\u001b[38;5;241m.\u001b[39mrun_line_magic(\u001b[38;5;124m'\u001b[39m\u001b[38;5;124mmatplotlib\u001b[39m\u001b[38;5;124m'\u001b[39m, \u001b[38;5;124m'\u001b[39m\u001b[38;5;124minline\u001b[39m\u001b[38;5;124m'\u001b[39m)\n\u001b[1;32m      2\u001b[0m \u001b[38;5;28;01mimport\u001b[39;00m \u001b[38;5;21;01mmatplotlib\u001b[39;00m\u001b[38;5;21;01m.\u001b[39;00m\u001b[38;5;21;01mpyplot\u001b[39;00m \u001b[38;5;28;01mas\u001b[39;00m \u001b[38;5;21;01mplt\u001b[39;00m\n\u001b[0;32m----> 4\u001b[0m dati \u001b[38;5;241m=\u001b[39m \u001b[43mcittaCorrette\u001b[49m(risposte)\n",
      "\u001b[0;31mNameError\u001b[0m: name 'cittaCorrette' is not defined"
     ]
    }
   ],
   "source": [
    "%matplotlib inline\n",
    "import matplotlib.pyplot as plt\n",
    "\n",
    "dati = cittaCorrette(risposte)\n",
    "# Disegna l'istogramma come specificato"
   ]
  },
  {
   "cell_type": "markdown",
   "metadata": {},
   "source": [
    "#### Punto 3:\n",
    "Tracciamo con un istogramma il numero di risposte di città e attrazione corrette per ogni esecuzione del gioco. Assumendo che **ad ogni esecuzione del gioco venga usato un nome diverso**, dobbiamo contare per ogni utente quante risposte esatte su città e attrazione ha fornito e metterle in un array, poi disegnare l'istogramma corrispondente. Come prima, definiamo una funzione *rispCorrette* che prende in ingresso il DataFrame delle risposte e restituisce la lista (ordinata in ordine crescente) del numero delle risposte corrette (città e attrazione) per ogni utente."
   ]
  },
  {
   "cell_type": "code",
   "execution_count": null,
   "metadata": {},
   "outputs": [],
   "source": [
    "def rispCorrette(df):\n",
    "    \"\"\"Costruite e restituite la lista del numero di risposte\n",
    "    corrette (sulla città e sull'attrazione) per ogni utente.\n",
    "    La lista deve essere ordinata in ordine crescente\n",
    "    \"\"\""
   ]
  },
  {
   "cell_type": "markdown",
   "metadata": {},
   "source": [
    "Usando la funzione sopra definita possiamo ora disegnare l'istogramma"
   ]
  },
  {
   "cell_type": "code",
   "execution_count": null,
   "metadata": {},
   "outputs": [],
   "source": [
    "dati = rispCorrette(risposte)\n",
    "# Disegna l'istogramma come specificato"
   ]
  },
  {
   "cell_type": "markdown",
   "metadata": {},
   "source": [
    "#### Punto 4:\n",
    "Tracciamo per ogni immagine la percentuale di risposte corrette di città e di città/attrazione. Quindi dobbiamo fare un grafico con 2 plot, uno che mostra le risposte esatte sulla città dell'attrazione ed uno sul riconoscimento di città ed attrazione. L'asse x è quindi semplicemente l'indice delle righe nel DataFrame **gioco** e le 2 funzioni sono 2 array, della stessa dimensione della x, con il numero di risposte esatte nei 2 casi. Per prima cosa definiamo quindi una funzione che prende in ingresso il nome del DataFrame **risposte** con le risposte e quello complessivo **gioco** e restituisce gli arrays x, y1 e y2."
   ]
  },
  {
   "cell_type": "code",
   "execution_count": null,
   "metadata": {},
   "outputs": [],
   "source": [
    "def corretteImmagine(risposte,gioco):\n",
    "    \"\"\" Costruisci e restituisci i 3 arrays\n",
    "    \"\"\""
   ]
  },
  {
   "cell_type": "markdown",
   "metadata": {},
   "source": [
    "Usando la funzione appena definita possiamo ora disegnare le 2 funzioni"
   ]
  },
  {
   "cell_type": "code",
   "execution_count": null,
   "metadata": {},
   "outputs": [],
   "source": [
    "\n",
    "#Calcoliamo le due funzioni sui vostri dati\n",
    "x,y1,y2 = corretteImmagine(risposte,gioco)\n",
    "# Eseguite il plot delle 2 funzioni.\n",
    "# Disegnate la y1 in blue tratteggiato (b--) e\n",
    "# la y2 in rosso trattegggiato (r--)"
   ]
  }
 ],
 "metadata": {
  "kernelspec": {
   "display_name": "Python 3 (ipykernel)",
   "language": "python",
   "name": "python3"
  },
  "language_info": {
   "codemirror_mode": {
    "name": "ipython",
    "version": 3
   },
   "file_extension": ".py",
   "mimetype": "text/x-python",
   "name": "python",
   "nbconvert_exporter": "python",
   "pygments_lexer": "ipython3",
   "version": "3.8.13"
  }
 },
 "nbformat": 4,
 "nbformat_minor": 4
}
