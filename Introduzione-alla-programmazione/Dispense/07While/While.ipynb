{
 "cells": [
  {
   "cell_type": "markdown",
   "metadata": {
    "slideshow": {
     "slide_type": "slide"
    }
   },
   "source": [
    "#### Autori: Domenico Lembo, Antonella Poggi, Giuseppe Santucci and Marco Schaerf\n",
    "\n",
    "[Dipartimento di Ingegneria informatica, automatica e gestionale](https://www.diag.uniroma1.it)\n",
    "\n",
    "<img src=\"https://mirrors.creativecommons.org/presskit/buttons/88x31/png/by-nc-sa.eu.png\"\n",
    "     alt=\"License\"\n",
    "     style=\"float: left;\"\n",
    "     height=\"40\" width=\"100\" />\n",
    "This notebook is distributed with license Creative Commons *CC BY-NC-SA*"
   ]
  },
  {
   "cell_type": "markdown",
   "metadata": {},
   "source": [
    "# Ciclo While\n",
    "\n",
    "1. Iterazioni (numero di ripetizioni noto:`for`  o ignoto:`while`)\n",
    "  + 1.1 Istruzione while\n",
    "  + 1.2 Esempio: stringa casuale che termina per \"o\"\n",
    "  + 1.3 Esempio: ciclo di controllo su interi negativi e positivi\n",
    "2. Ciclo while controllato da \"sentinella\"\n",
    "3. Cicli definiti ed indefiniti \n",
    "6. Esempio uso del While per ripetere programma\n",
    "8. Esercizi"
   ]
  },
  {
   "cell_type": "markdown",
   "metadata": {},
   "source": [
    "### Iterazioni\n",
    "In molte situazioni alcune istruzioni devono essere ripetute più volte ma senza sapere fin dall'inizio quante volte. Ad esempio, se dovessimo sommare dei numeri letti da tastiera fino a chè non venga inserita il numero 0, questa operazione sarebbe difficilmente realizzabile con un ciclo `for`\n",
    "\n",
    "Per risolvere questa tipologia di problemi useremo l'istruzione di ciclo `while`"
   ]
  },
  {
   "cell_type": "markdown",
   "metadata": {},
   "source": [
    "#### Istruzione while\n",
    "L'istruzione `while` in Python ha il seguente formato:\n",
    "\n",
    "```python\n",
    "while condizione:\n",
    "    istruzione/i\n",
    "```\n",
    "\n",
    "L'istruzione `while` dell'esempio sopra va letta nel seguente modo:\n",
    "*Finché la condizione è vera, esegui l' istruzione/i.\n",
    "La condizione è un'espressione booleana il cui valore può essere `True` o `False`.\n",
    "L'esecuzione dell'istruzione `while` avviene nel seguente modo:\n",
    "1. Si verifica se la condizione è `True`\n",
    "  * In caso positivo, vengono eseguite le istruzione/i e si torna al punto 1\n",
    "  * In caso negativo, il ciclo termina e si esegue la prima istruzione FUORI dal ciclo While\n",
    "  \n",
    "\n",
    "Di seguito un semplice diagramma di flusso che rappresenta graficamente una generica istruzione `while`.\n",
    "\n",
    "<img src=\"./immagini/FlussoWhileS.png\" alt=\"drawing\" style=\"width:300px;\" align=\"middle\"/>"
   ]
  },
  {
   "cell_type": "code",
   "execution_count": null,
   "metadata": {},
   "outputs": [],
   "source": [
    "#Esempio leggi e somma dei numeri interi da tastiera fino a quando non viene inserito il valore 0\n",
    "somma = 0\n",
    "n = int(input('Inserisci un numero intero (0 per terminare): '))\n",
    "\n",
    "while n != 0:\n",
    "    somma = somma + n\n",
    "    n = int(input('Inserisci un numero intero (0 per terminare): '))\n",
    "print(somma)"
   ]
  },
  {
   "cell_type": "markdown",
   "metadata": {},
   "source": [
    "Già da questo semplice esempio si vedono alcuni degli elementi principali associati a un ciclo `while`: \n",
    "\n",
    "(a) inizializzazione delle variabili fuori dal ciclo (`somma = 0` e `n = int(input('Inserisci un numero intero (0 per terminare): '))`); \n",
    "\n",
    "(b) specifica della condizione, che deve essere vera perchè si esegua il ciclo (`n != 0`). La variabile `n` viene anche chiamata variabile di controllo del ciclo (non sempre presente); \n",
    "\n",
    "(c) definizione delle operazioni da eseguire per ogni esecuzione del ciclo (`somma = somma + n`, `n = int(input('Inserisci un numero intero (0 per terminare): '))`); \n",
    "\n",
    "Quanto appena detto costituisce uno schema di base che, come vedremo, può avere diverse varianti. "
   ]
  },
  {
   "cell_type": "markdown",
   "metadata": {},
   "source": [
    "#### Esempio: stringa casuale che termina per \"o\"\n",
    "scrivere un programma che stampa una stringa casuale di sole lettere alfabetiche minuscole che termina con il carattere 'o' e non contiene altre 'o' al suo interno."
   ]
  },
  {
   "cell_type": "code",
   "execution_count": null,
   "metadata": {},
   "outputs": [],
   "source": [
    "# Soluzione\n",
    "import random\n",
    "c=333  #qualunque intero diverso da ord('o')\n",
    "\n",
    "while chr(c)!=\"o\":\n",
    "    c=random.randint(ord(\"a\"),ord(\"z\"))\n",
    "    print(chr(c),end='') # se usiamo print(chr(c),end='') la stringa è stampata in una sola riga.\n",
    "    \n",
    "# in questo caso la variabile di controllo è la variabile c"
   ]
  },
  {
   "cell_type": "markdown",
   "metadata": {},
   "source": [
    "#### Esempio: ciclo di controllo su valore in un intervallo\n",
    "\n",
    "In questo esempio vogliamo che l'utente inserisca un valore tra 1 e 10; per impedire che venga inserito un valore scorretto, il programma chiede ripetutamente all'utente di inserire un numero stampando l'intero inserito solo quando viene inserito un valore corretto. Si noti comunque che il programma assume che venga sempre inserito un intero."
   ]
  },
  {
   "cell_type": "code",
   "execution_count": null,
   "metadata": {},
   "outputs": [],
   "source": [
    "corretto=False\n",
    "while not corretto:\n",
    "    s=input(\"Inserisci un intero tra 1 e 10: \")\n",
    "    n=int(s)\n",
    "    if n >=1 and n <= 10:\n",
    "        print(\"Il valore inserito è corretto:\")\n",
    "        corretto = True\n",
    "    else:\n",
    "        print(\"Il valore inserito NON è corretto:\")\n",
    "        \n",
    "print(n)"
   ]
  },
  {
   "cell_type": "markdown",
   "metadata": {},
   "source": [
    "### Ciclo while controllato da \"sentinella\"\n",
    "\n",
    "La condizione del `while` è in questo caso dipendente dai valori inseriti iterativamente in input dall'utente, e il ciclo termina quando l'utente inserisce un valore speciale, detto *valore sentinella*. Questo valore in genere non è significativo per la computazione che il ciclo deve effettuare e ha come unico scopo quello di comunicare al programma che il ciclo deve interrompersi. \n",
    "\n",
    "Se vogliamo leggere una sequenza di n elementi terminata da un valore *sentinella*, abbiamo\n",
    "tre operazioni da svolgere (non necessariamente nell'ordine): \n",
    "- leggere un elemento\n",
    "- valutare la condizione\n",
    "- elaborare l'elemento letto\n",
    "\n",
    "In particolare possiamo usare uno schema che prevede la *lettura solo nel ciclo*, oppure *lettura prima e dentro il ciclo* (interessanti vantaggi)"
   ]
  },
  {
   "cell_type": "code",
   "execution_count": null,
   "metadata": {},
   "outputs": [],
   "source": [
    "# gestione sequenza di n>=0 interi con LETTURA SOLO DENTRO IL CICLO\n",
    "# inizializzazione variabile di controllo del ciclo prima del ciclo stesso.\n",
    "# Nel while: prima leggo ed assegno alla variabile i quelloc ho letto e poi, \n",
    "# if i!=sentinella, elaboro\n",
    "\n",
    "i=\"0\" # la variabile di controllo è inizializzata ad un valore che forza l'esecuzione del ciclo (prima iterazione) \n",
    "while i!=\"*\":  # * è il valore \"sentinella\"\n",
    "    i=input(\"inserici un intero  (* per terminare): \")\n",
    "    if i!='*':\n",
    "        print(\"Hai inserito:\",int(i))\n",
    "    \n",
    "    \n",
    "# il ciclo while viene eseguito n+1 volte \n",
    "# (per chiarezza: n+1 è il numero di volte che viene \n",
    "# eseguito il blocco di istruzioni contenuto nel ciclo;\n",
    "# l'ultima volta è per l'inserimento della sentinella).\n",
    "# La condizione del while (i!=\"*\") viene verificata \n",
    "# una volta in più, quella in cui fallisce e si esce \n",
    "# dal ciclo. Questo è sempre vero quando si usa il while"
   ]
  },
  {
   "cell_type": "markdown",
   "metadata": {},
   "source": [
    "Quando si decide di avere letture solo nel ciclo è importante ricordarsi di: \n",
    "- (a) inizializzare la variabile di controllo ad un valore che forzi l'esecuzione del ciclo almeno una volta \n",
    "- (b) evitare di processare il dato quando viene inserita la \"sentinella\" (input speciale che indica la terminazione della sequenza)."
   ]
  },
  {
   "cell_type": "code",
   "execution_count": null,
   "metadata": {},
   "outputs": [],
   "source": [
    "# gestione sequenza di n>=0 interi con LETTURA FUORI DAL CICLO\n",
    "# leggo una sola volta fuori ciclo\n",
    "# nel while: prima elaboro e poi leggo (senza if)\n",
    "\n",
    "i=input(\"inserici un intero  (* per terminare): \")\n",
    "while i!=\"*\":\n",
    "    print(\"Hai inserito:\",int(i))\n",
    "    i=input(\"inserici un intero  (* per terminare): \")\n",
    "    \n",
    "# il ciclo while viene eseguito n volte\n",
    "# (ma le letture sono sempre n+1)"
   ]
  },
  {
   "cell_type": "markdown",
   "metadata": {},
   "source": [
    "Di seguito proponiamo una variante dello schema con lettura solo dentro il ciclo, in cui si utilizza una variabile di controllo Booleana."
   ]
  },
  {
   "cell_type": "code",
   "execution_count": null,
   "metadata": {},
   "outputs": [],
   "source": [
    "# gestione sequenza di n>=0 interi con LETTURA SOLO DENTRO IL CICLO\n",
    "# e variabile di controllo del ciclo booleana.\n",
    "# Occorre eseguire la prima parte del ciclo per vedere se il ciclo è terminato\n",
    "\n",
    "finito=False\n",
    "\n",
    "while not finito:\n",
    "    i=input(\"inserici un intero  (* per terminare): \")\n",
    "    if i==\"*\":\n",
    "        finito=True\n",
    "    else:\n",
    "        print(\"Hai inserito:\",int(i))\n",
    "\n",
    "# il ciclo while viene eseguito n+1 volte"
   ]
  },
  {
   "cell_type": "markdown",
   "metadata": {
    "tags": []
   },
   "source": [
    "### Cicli definiti e indefiniti e confronto con il `for`\n",
    "\n",
    "Il programma che conta gli elementi di una sequenza fino all'inserimento di una sentinella contiene un ciclo *indefinito* perchè il numero delle iterazioni che verranno eseguite *non* è prevedibile analizzando il contenuto delle variabili all'inizio del ciclo. \n",
    "\n",
    "Nei casi in cui questo numero di iterazioni è invece prevedibile sulla base del valore delle variabili all'inizio del ciclo, si parla di cicli *definiti*. I cicli *definiti* sono spesso più facilmente risolvibili usando il ciclo `for`, che ha invece difficoltà a risolvere i cicli *indefiniti*.\n",
    "\n",
    "Notate però che il ciclo `while` è più versatile del ciclo `for`, in quanto si adatta naturalmente sia a cicli *definiti* che a quelli *indefiniti*.\n",
    "\n",
    "Di seguito riportiamo tre esempi di cicli definiti (anche il primo esempio di ciclo `while` contenuto in questa sezione è in effetti un esempio di ciclo definito. Infatti, all'inizio del ciclo sappiamo già di quanti elementi è composta la stringa s (basta calcolare len(s)). Tutti gli altri esempi fin qui visti si refiriscono a cicli indefiniti). "
   ]
  },
  {
   "cell_type": "code",
   "execution_count": null,
   "metadata": {
    "tags": []
   },
   "outputs": [],
   "source": [
    "## programma che stampa per n volte la parola CIAO, con n acquisito da tastiera\n",
    "\n",
    "n = int(input(\"inserisci il numero di volte che vuoi stampare la parola 'CIAO'\"))\n",
    "i=1\n",
    "while i <=n:\n",
    "    print('CIAO')\n",
    "    i+=1"
   ]
  },
  {
   "cell_type": "code",
   "execution_count": null,
   "metadata": {},
   "outputs": [],
   "source": [
    "## programma che stampa per n volte la parola CIAO, con n acquisito da tastiera\n",
    "## Risolto con il ciclo for\n",
    "\n",
    "n = int(input(\"inserisci il numero di volte che vuoi stampare la parola 'CIAO'\"))\n",
    "for i in range(n):\n",
    "    print('CIAO')"
   ]
  },
  {
   "cell_type": "code",
   "execution_count": null,
   "metadata": {
    "tags": []
   },
   "outputs": [],
   "source": [
    "## programma che stampa i 127 caratteri ascii \n",
    "\n",
    "i=1\n",
    "while i <=127:\n",
    "    print(i, chr(i))\n",
    "    i+=1"
   ]
  },
  {
   "cell_type": "code",
   "execution_count": null,
   "metadata": {},
   "outputs": [],
   "source": [
    "## programma che stampa i 127 caratteri ascii\n",
    "## Risolto con il ciclo for\n",
    "\n",
    "for i in range(128):\n",
    "    print(i, chr(i))"
   ]
  },
  {
   "cell_type": "code",
   "execution_count": null,
   "metadata": {},
   "outputs": [],
   "source": [
    "## programma che stampa i quadrati dei primi n numeri interi, con n acquisito da tastiera\n",
    "\n",
    "n = int(input(\"inserisci il numero di interi di cui vuoi i quadrati\"))\n",
    "i=1\n",
    "while i <=n:\n",
    "    print(i,i**2)\n",
    "    i+=1"
   ]
  },
  {
   "cell_type": "code",
   "execution_count": null,
   "metadata": {},
   "outputs": [],
   "source": [
    "## programma che stampa i quadrati dei primi n numeri interi, con n acquisito da tastiera\n",
    "## Risolto con il ciclo for\n",
    "\n",
    "n = int(input(\"inserisci il numero di interi di cui vuoi i quadrati\"))\n",
    "for i in range(n+1):\n",
    "    print(i,i**2)"
   ]
  },
  {
   "cell_type": "code",
   "execution_count": null,
   "metadata": {
    "tags": []
   },
   "outputs": [],
   "source": [
    "## Programma che acquisisce un numero intero e stampa \n",
    "## in ordine decrescente, a partire da questo, i numeri \n",
    "## interi fino allo zero incluso\n",
    " \n",
    "n = int(input(\"Inserire un numero intero non negativo: \"))\n",
    "\n",
    "while n >= 0: \n",
    "    print(n)  \n",
    "    n = n-1"
   ]
  },
  {
   "cell_type": "code",
   "execution_count": null,
   "metadata": {},
   "outputs": [],
   "source": [
    "## Programma che acquisisce un numero intero e stampa \n",
    "## in ordine decrescente, a partire da questo, i numeri \n",
    "## interi fino allo zero incluso\n",
    "## Risolto con il ciclo for\n",
    " \n",
    "n = int(input(\"Inserire un numero intero non negativo: \"))\n",
    "\n",
    "for i in range(n,-1,-1):\n",
    "    print(i)"
   ]
  },
  {
   "cell_type": "markdown",
   "metadata": {
    "tags": []
   },
   "source": [
    "### Come trasformare il for in un while\n",
    "Come detto, il ciclo `for` si può (quasi) sempre trasformare in un ciclo `while`. Vediamo l'idea generale:\n",
    "\n",
    "`for i in range(n)`  \n",
    "`    istruzioni`  \n",
    "    \n",
    "può essere riscritto come:  \n",
    "  \n",
    " \n",
    "`i = 0`  \n",
    "`while i < n:`  \n",
    "`    istruzioni`  \n",
    "`    i = i + 1`  "
   ]
  },
  {
   "cell_type": "markdown",
   "metadata": {},
   "source": [
    "### Esempio uso del while per chiamare più volte una funzione\n",
    "\n",
    "Un uso comodo del `while` è per chiamare più volte di seguito una funzione senza bisogno di ri-avviare il programma. Vedimao un esempio con una funzione che calcola il fattoriale di un numero che viene invocata più volte."
   ]
  },
  {
   "cell_type": "code",
   "execution_count": null,
   "metadata": {},
   "outputs": [],
   "source": [
    "#ripetizione di una funzione con un ciclo while\n",
    "\n",
    "#funzione che calcola il fattoriale di un numero n > 0\n",
    "def fattoriale(n):\n",
    "    ris = 1\n",
    "    for i in range(2,n+1):\n",
    "        ris = ris * i\n",
    "    return ris\n",
    "\n",
    "finito=False\n",
    "while not finito:\n",
    "    \n",
    "    #--leggo il numero ed invoco la funzione\n",
    "    n=int(input(\"inserisci un intero positivo: \"))\n",
    "    print(\"il fattoriale di\", n, \"è\", fattoriale(n))\n",
    "    #--Fine programma\n",
    "    \n",
    "    s1=input(\"----Finisco (si/no)? \")\n",
    "    if s1.lower()==\"si\":\n",
    "        finito=True"
   ]
  },
  {
   "cell_type": "markdown",
   "metadata": {},
   "source": [
    "### Esempio con while che contiene for (ciclo annidato)\n",
    "\n",
    "Leggere sequenza di stringhe (finita da stringa vuota) e calcola il numero massimo di vocali presenti in una stringa. Fare una soluzione senza funzioni ed una con una funzione che calcola il numero di vocali di una stringa"
   ]
  },
  {
   "cell_type": "code",
   "execution_count": null,
   "metadata": {},
   "outputs": [],
   "source": [
    "#prima soluzione senza funzioni\n",
    "\n",
    "max_vocali = 0 #inizializzo la variabile a 0 non avendo ancora letto alcuna stringa\n",
    "s = input('Inserisci la prima stringa (stringa vuota per terminare): ')\n",
    "\n",
    "while s != '':\n",
    "    conta = 0\n",
    "    for c in s:\n",
    "        if c in 'aeiou':\n",
    "            conta = conta + 1\n",
    "    if conta > max_vocali:\n",
    "        max_vocali = conta\n",
    "    s = input('Inserisci un\"altra stringa (stringa vuota per terminare): ')\n",
    "\n",
    "print(max_vocali)"
   ]
  },
  {
   "cell_type": "code",
   "execution_count": null,
   "metadata": {},
   "outputs": [],
   "source": [
    "#seconda soluzione con funzione che calcola il numero di vocali in una stringa\n",
    "\n",
    "def conta_vocali(s):\n",
    "    conta = 0\n",
    "    for c in s:\n",
    "        if c in 'aeiou':\n",
    "            conta = conta + 1\n",
    "    return conta\n",
    "\n",
    "max_vocali = 0 #inizializzo la variabile a 0 non avendo ancora letto alcuna stringa\n",
    "s = input('Inserisci la prima stringa (stringa vuota per terminare): ')\n",
    "\n",
    "while s != '':\n",
    "    conta = conta_vocali(s)\n",
    "    if conta > max_vocali:\n",
    "        max_vocali = conta\n",
    "    s = input('Inserisci un\"altra stringa (stringa vuota per terminare): ')\n",
    "\n",
    "print(max_vocali)"
   ]
  },
  {
   "cell_type": "markdown",
   "metadata": {},
   "source": [
    "### Esercizi\n",
    "Completate questi esercizi prima di cominciare il prossimo argomento"
   ]
  },
  {
   "cell_type": "markdown",
   "metadata": {},
   "source": [
    "### Esercizio 1: \n",
    "Scrivere un programma che legge una sequenza di stringhe inserite da input (una alla volta), ne stampa la lunghezza e termina all'inserimento di una stringa vuota (solo invio).\n",
    "\n",
    "*Fornite due soluzioni, una con prima lettura fuori dal ciclo e una soluzione con lettura solo nel ciclo*"
   ]
  },
  {
   "cell_type": "code",
   "execution_count": null,
   "metadata": {},
   "outputs": [],
   "source": [
    "#Esercizio: legge stringhe e ne stampa la lunghezza (con prima lettura fuori dal ciclo)\n",
    "s = input('insrire una stringa: ')\n",
    "print(len(s))\n",
    "\n",
    "while s != '':\n",
    "    s = input('inserire una stringa: ')\n",
    "    print(len(s))"
   ]
  },
  {
   "cell_type": "code",
   "execution_count": null,
   "metadata": {
    "scrolled": true
   },
   "outputs": [],
   "source": [
    "#Esercizio: legge stringhe e ne stampa la lunghezza (con lettura solo nel ciclo)\n",
    "s = '0'\n",
    "\n",
    "while s != '':\n",
    "    s = input('inserire una stringa: ')\n",
    "    print(len(s))"
   ]
  },
  {
   "cell_type": "markdown",
   "metadata": {},
   "source": [
    "### Esercizio 2:\n",
    "Scrivere un programma che legge da input una sequenza di interi positivi terminata da '*' e per ognuno stampa a schermo se è pari o dispari."
   ]
  },
  {
   "cell_type": "code",
   "execution_count": null,
   "metadata": {},
   "outputs": [],
   "source": [
    "# lettura di una sequenza di interi positivi terminata da '*' e per ognuno stampa \n",
    "# a schermo se è pari o dispari.\n",
    "s = input('inserire numero: ')\n",
    "\n",
    "while s!= '*':\n",
    "    if int(s)%2 == 0:\n",
    "        print('pari')\n",
    "    else:\n",
    "        print('dispari')\n",
    "    s = input('inserire numero: ')\n",
    "    "
   ]
  },
  {
   "cell_type": "markdown",
   "metadata": {
    "tags": []
   },
   "source": [
    "### Esercizio 3:\n",
    "Scrivere un programma che legge da tastiera una stringa `s` ed un carattere `c` e stampa a schermo una nuova stringa uguale ad `s` ma senza la prima occorrenza del carattere `c`: 'casa','a'->> 'csa'.<br>Se il carattere `c` non compare in `s` il programma stampa la stringa `s`. Fornite 2 soluzioni, una che usa il ciclo while e una che non usa né il while né il metodo `replace()`"
   ]
  },
  {
   "cell_type": "code",
   "execution_count": null,
   "metadata": {},
   "outputs": [],
   "source": [
    "s = input('inserire stringa: ')\n",
    "c = input('inserire carattere: ')\n",
    "\n",
    "s = s.replace(c, '', 1)\n",
    "print(s)"
   ]
  },
  {
   "cell_type": "markdown",
   "metadata": {},
   "source": [
    "## Esercizio 4:\n",
    "Scrivere un programma che legge da tastiera una sequenza di stringhe (terminata quando si inserisce la stringa vuota) e per ogni stringa `s` stampa la stringa composta dai soli caratteri di `s` il cui codice UNICODE è un numero primo. Si consiglia di scrivere 2 funzioni, una funzione `is_primo(n)` che restituisce `True` se `n` è un numero primo, `False` altrimenti, e una funzione che prende in input una stringa `s` e restituisce la stringa composta dai caratteri di `s` il cui codice UNICODE è un numero primo."
   ]
  },
  {
   "cell_type": "code",
   "execution_count": 1,
   "metadata": {},
   "outputs": [
    {
     "name": "stdin",
     "output_type": "stream",
     "text": [
      "inserire stringa:  stringa\n"
     ]
    },
    {
     "name": "stdout",
     "output_type": "stream",
     "text": [
      "siga\n"
     ]
    },
    {
     "name": "stdin",
     "output_type": "stream",
     "text": [
      "inserire stringa:  \n"
     ]
    }
   ],
   "source": [
    "def is_primo(n):\n",
    "    i = 2\n",
    "    while i != n//2:\n",
    "        if n%2 == 0:\n",
    "            return False\n",
    "        i += 1\n",
    "    return True\n",
    "\n",
    "\n",
    "s = input('inserire stringa: ')\n",
    "while s != '':\n",
    "    for c in s:\n",
    "        if is_primo(ord(c)):\n",
    "            print(c, end='')\n",
    "    print()\n",
    "    s = input('inserire stringa: ')"
   ]
  },
  {
   "cell_type": "markdown",
   "metadata": {},
   "source": [
    "##### Esercizio 5:\n",
    "Scrivere e testare una funzione `int2bin` che riceve in ingresso un numero intero `n` e restituisce una stringa con la sua codifica in binario puro (usare il metodo delle divisioni per 2)."
   ]
  },
  {
   "cell_type": "markdown",
   "metadata": {},
   "source": [
    "##### Esercizio 6:\n",
    "Scrivere e testare una funzione `bin2int` che riceve in ingresso una stringa `s`  contenente una sequenza di 0 e 1 e restituisce un intero calcolato interpretando la stringa in binario puro."
   ]
  },
  {
   "cell_type": "markdown",
   "metadata": {},
   "source": [
    "##### Esercizio 7:\n",
    "Testare la coerenza di `int2bin` e `bin2int` con 10.000 interi casuali."
   ]
  }
 ],
 "metadata": {
  "kernelspec": {
   "display_name": "Python 3 (ipykernel)",
   "language": "python",
   "name": "python3"
  },
  "language_info": {
   "codemirror_mode": {
    "name": "ipython",
    "version": 3
   },
   "file_extension": ".py",
   "mimetype": "text/x-python",
   "name": "python",
   "nbconvert_exporter": "python",
   "pygments_lexer": "ipython3",
   "version": "3.8.17"
  }
 },
 "nbformat": 4,
 "nbformat_minor": 4
}
