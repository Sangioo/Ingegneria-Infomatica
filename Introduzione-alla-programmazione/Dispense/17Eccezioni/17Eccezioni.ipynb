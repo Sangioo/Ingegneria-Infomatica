{
 "cells": [
  {
   "cell_type": "markdown",
   "metadata": {
    "slideshow": {
     "slide_type": "slide"
    }
   },
   "source": [
    "#### Autori: Antonella Poggi, Giuseppe Santucci and Marco Schaerf\n",
    "\n",
    "[Dipartimento di Ingegneria informatica, automatica e gestionale](https://www.diag.uniroma1.it)\n",
    "\n",
    "<img src=\"https://mirrors.creativecommons.org/presskit/buttons/88x31/png/by-nc-sa.eu.png\"\n",
    "     alt=\"License\"\n",
    "     style=\"float: left;\"\n",
    "     height=\"40\" width=\"100\" />\n",
    "This notebook is distributed with license Creative Commons *CC BY-NC-SA*"
   ]
  },
  {
   "cell_type": "markdown",
   "metadata": {},
   "source": [
    "## Gestione delle eccezioni\n",
    "1. Cos'è un'eccezione?\n",
    "2. Gestire un'eccezione: istruzione `try-except`\n",
    "3. Gestire più eccezioni\n",
    "4. Sollevare un'eccezione: istruzione `raise`\n",
    "5. Esercizi"
   ]
  },
  {
   "cell_type": "markdown",
   "metadata": {},
   "source": [
    "## Cos'è un'eccezione?\n",
    "Chiamasi *eccezione* un evento che interrompe il *normale* flusso di esecuzione di un programma. Abbiamo già sperimentato il verificarsi di eccezioni: ogni volta che a tempo di esecuzione (a *runtime*) si verifica un errore, Python genera  un'eccezione (si dice che Python *solleva* un'eccezione), ovvero interrompe l'esecuzione del programma, stampando sul canale di uscita standard un messaggio che indica il tipo di errore e la linea di codice eseguendo la quale ha generato l'eccezione. \n",
    "\n",
    "Ci sono molti tipi diversi di errorii per cui l'interprete Python può generare un'eccezionee a runtime che interrompe l'esecuzione del programma. Per esempio\n",
    "- perché si tenta di aprire un file che non esiste\n",
    "- perché si tenta di eseguire un'operazione su un valore di tipo non compatibile\n",
    "- perché si tenta di accedere ad un indice inesistente\n",
    "- perché si tenta di accedere al valore di un dizionario tramite una chiave che non appartiene al dizionario\n",
    "- ...lo ha generato\n",
    "\n"
   ]
  },
  {
   "cell_type": "code",
   "execution_count": 1,
   "metadata": {},
   "outputs": [
    {
     "ename": "FileNotFoundError",
     "evalue": "[Errno 2] No such file or directory: 'prova.txt'",
     "output_type": "error",
     "traceback": [
      "\u001b[0;31m---------------------------------------------------------------------------\u001b[0m",
      "\u001b[0;31mFileNotFoundError\u001b[0m                         Traceback (most recent call last)",
      "Input \u001b[0;32mIn [1]\u001b[0m, in \u001b[0;36m<cell line: 3>\u001b[0;34m()\u001b[0m\n\u001b[1;32m      1\u001b[0m \u001b[38;5;66;03m# apertura di un file che non esiste\u001b[39;00m\n\u001b[1;32m      2\u001b[0m file\u001b[38;5;241m=\u001b[39m\u001b[38;5;124m'\u001b[39m\u001b[38;5;124mprova.txt\u001b[39m\u001b[38;5;124m'\u001b[39m\n\u001b[0;32m----> 3\u001b[0m f\u001b[38;5;241m=\u001b[39m\u001b[38;5;28;43mopen\u001b[39;49m\u001b[43m(\u001b[49m\u001b[43mfile\u001b[49m\u001b[43m)\u001b[49m\n",
      "\u001b[0;31mFileNotFoundError\u001b[0m: [Errno 2] No such file or directory: 'prova.txt'"
     ]
    }
   ],
   "source": [
    "# apertura di un file che non esiste\n",
    "file='prova.txt'\n",
    "f=open(file)"
   ]
  },
  {
   "cell_type": "code",
   "execution_count": 2,
   "metadata": {},
   "outputs": [
    {
     "ename": "TypeError",
     "evalue": "unsupported operand type(s) for //: 'str' and 'int'",
     "output_type": "error",
     "traceback": [
      "\u001b[0;31m---------------------------------------------------------------------------\u001b[0m",
      "\u001b[0;31mTypeError\u001b[0m                                 Traceback (most recent call last)",
      "Input \u001b[0;32mIn [2]\u001b[0m, in \u001b[0;36m<cell line: 3>\u001b[0;34m()\u001b[0m\n\u001b[1;32m      1\u001b[0m \u001b[38;5;66;03m# esecuzione di un'operazione su un valore non compatibile\u001b[39;00m\n\u001b[1;32m      2\u001b[0m s\u001b[38;5;241m=\u001b[39m\u001b[38;5;124m'\u001b[39m\u001b[38;5;124mstringa\u001b[39m\u001b[38;5;124m'\u001b[39m\n\u001b[0;32m----> 3\u001b[0m \u001b[43ms\u001b[49m\u001b[38;5;241;43m/\u001b[39;49m\u001b[38;5;241;43m/\u001b[39;49m\u001b[38;5;241;43m2\u001b[39;49m\n",
      "\u001b[0;31mTypeError\u001b[0m: unsupported operand type(s) for //: 'str' and 'int'"
     ]
    }
   ],
   "source": [
    "# esecuzione di un'operazione su un valore non compatibile\n",
    "s='stringa'\n",
    "s//2"
   ]
  },
  {
   "cell_type": "code",
   "execution_count": 3,
   "metadata": {},
   "outputs": [
    {
     "name": "stdin",
     "output_type": "stream",
     "text": [
      "Inserisci una parola: casa\n"
     ]
    },
    {
     "ename": "IndexError",
     "evalue": "string index out of range",
     "output_type": "error",
     "traceback": [
      "\u001b[0;31m---------------------------------------------------------------------------\u001b[0m",
      "\u001b[0;31mIndexError\u001b[0m                                Traceback (most recent call last)",
      "Input \u001b[0;32mIn [3]\u001b[0m, in \u001b[0;36m<cell line: 3>\u001b[0;34m()\u001b[0m\n\u001b[1;32m      1\u001b[0m \u001b[38;5;66;03m# accesso ad un indice inesistente\u001b[39;00m\n\u001b[1;32m      2\u001b[0m s\u001b[38;5;241m=\u001b[39m\u001b[38;5;28minput\u001b[39m(\u001b[38;5;124m'\u001b[39m\u001b[38;5;124mInserisci una parola:\u001b[39m\u001b[38;5;124m'\u001b[39m)\n\u001b[0;32m----> 3\u001b[0m \u001b[38;5;28mprint\u001b[39m(\u001b[38;5;124m'\u001b[39m\u001b[38;5;124mLa parola inserita termina con\u001b[39m\u001b[38;5;124m'\u001b[39m,\u001b[43ms\u001b[49m\u001b[43m[\u001b[49m\u001b[38;5;28;43mlen\u001b[39;49m\u001b[43m(\u001b[49m\u001b[43ms\u001b[49m\u001b[43m)\u001b[49m\u001b[43m]\u001b[49m)\n",
      "\u001b[0;31mIndexError\u001b[0m: string index out of range"
     ]
    }
   ],
   "source": [
    "# accesso ad un indice inesistente\n",
    "s=input('Inserisci una parola:')\n",
    "print('La parola inserita termina con',s[len(s)])"
   ]
  },
  {
   "cell_type": "code",
   "execution_count": 4,
   "metadata": {},
   "outputs": [
    {
     "ename": "KeyError",
     "evalue": "'giallo'",
     "output_type": "error",
     "traceback": [
      "\u001b[0;31m---------------------------------------------------------------------------\u001b[0m",
      "\u001b[0;31mKeyError\u001b[0m                                  Traceback (most recent call last)",
      "Input \u001b[0;32mIn [4]\u001b[0m, in \u001b[0;36m<cell line: 2>\u001b[0;34m()\u001b[0m\n\u001b[1;32m      1\u001b[0m d\u001b[38;5;241m=\u001b[39m{\u001b[38;5;124m'\u001b[39m\u001b[38;5;124mblu\u001b[39m\u001b[38;5;124m'\u001b[39m:\u001b[38;5;241m2\u001b[39m,\u001b[38;5;124m'\u001b[39m\u001b[38;5;124mbianco\u001b[39m\u001b[38;5;124m'\u001b[39m:\u001b[38;5;241m4\u001b[39m,\u001b[38;5;124m'\u001b[39m\u001b[38;5;124mrosso\u001b[39m\u001b[38;5;124m'\u001b[39m:\u001b[38;5;241m0\u001b[39m}\n\u001b[0;32m----> 2\u001b[0m \u001b[38;5;28mprint\u001b[39m(\u001b[43md\u001b[49m\u001b[43m[\u001b[49m\u001b[38;5;124;43m'\u001b[39;49m\u001b[38;5;124;43mgiallo\u001b[39;49m\u001b[38;5;124;43m'\u001b[39;49m\u001b[43m]\u001b[49m)\n",
      "\u001b[0;31mKeyError\u001b[0m: 'giallo'"
     ]
    }
   ],
   "source": [
    "d={'blu':2,'bianco':4,'rosso':0}\n",
    "print(d['giallo'])"
   ]
  },
  {
   "cell_type": "markdown",
   "metadata": {},
   "source": [
    "## Gestire un'eccezione: istruzione `try - except`\n",
    "**Gestire** un'eccezione significa prevedere una *reazione* nel caso in cui un'istruzione sollevasse, a runtime, un'eccezione, evitando che l'interprete interrompa l'esecuzione del programma. Tipicamente, la reazione deve essere tale da consentire di correggere l'errore che ha sollevato l'eccezione.\n",
    "\n",
    "Per gestire un'eccezione, è necessario **catturarla** prima, ovvero intercettare l'eccezione che l'interprete solleva affinché non porti ad interrompere l'esecuzione ma all'esecuzione di un blocco di istruzioni *alternativo*. In Python, questo si può fare usando l'istruzione `try-except`, che ha la seguente sintassi:\n",
    "\n",
    "```python\n",
    "try: \n",
    "    istruzione1\n",
    "    istruzione2\n",
    "    ..\n",
    "    istruzionen\n",
    "except:\n",
    "    istruzione1\n",
    "    istruzione2\n",
    "    ..\n",
    "    istruzionem\n",
    "```\n",
    "L'esecuzione avviene nel seguente modo: vengono eseguite le istruzioni nel blocco della `try` e:\n",
    "\n",
    "- se l'interprete non solleva nessuna eccezione, la clausola `except` viene ignorata e l'esecuzione del programma procede con le istruzioni che seguono\n",
    " \n",
    "- se l'interprete solleva un’eccezione, invece di interrompere l'esecuzione del programma passa ad eseguire le istruzioni nel blocco `except`."
   ]
  },
  {
   "cell_type": "code",
   "execution_count": 5,
   "metadata": {},
   "outputs": [
    {
     "name": "stdout",
     "output_type": "stream",
     "text": [
      "Non ho trovato il file prova.txt.\n"
     ]
    }
   ],
   "source": [
    "# apertura di un file che non esiste\n",
    "try:\n",
    "    file='prova.txt'\n",
    "    f=open(file)\n",
    "except:\n",
    "    print('Non ho trovato il file',file+'.')\n"
   ]
  },
  {
   "cell_type": "markdown",
   "metadata": {},
   "source": [
    "Notate che nell'esempio che precede, l'interprete non interrompe l'esecuzione stampando il messaggio di errore `FileNotFoundError`, ma interrompe comunque l'esecuzione, senza consentire l'esecuzione del resto del programma. Per consentire, invece di procedere con l'esecuzione del programma, si potrebbe per esempio chiedere all'utente di inserire l'indirizzo di un nuovo file fino a quando ne inserisce uno che trova."
   ]
  },
  {
   "cell_type": "code",
   "execution_count": null,
   "metadata": {},
   "outputs": [
    {
     "name": "stdin",
     "output_type": "stream",
     "text": [
      "Inserisci l'indirizzo del file da aprire: prova.txt\n"
     ]
    },
    {
     "name": "stdout",
     "output_type": "stream",
     "text": [
      "Non ho trovato il file prova.txt.\n"
     ]
    }
   ],
   "source": [
    "s=input('Inserisci l\\'indirizzo del file da aprire:')\n",
    "aperto=False\n",
    "while not aperto:\n",
    "    try:\n",
    "       f=open(s)\n",
    "       aperto=True \n",
    "    except:\n",
    "        print('Non ho trovato il file',s+'.') \n",
    "        s=input('Inserisci nuovamente l\\'indirizzo del file da aprire:')\n",
    "print('Aperto il file',s+'.') \n",
    "f.close()"
   ]
  },
  {
   "cell_type": "code",
   "execution_count": null,
   "metadata": {},
   "outputs": [
    {
     "name": "stdin",
     "output_type": "stream",
     "text": [
      "Inserisci un intero: 4a\n"
     ]
    },
    {
     "name": "stdout",
     "output_type": "stream",
     "text": [
      "4a non è convertibile\n"
     ]
    },
    {
     "name": "stdin",
     "output_type": "stream",
     "text": [
      "Inserisci un intero: 3\n"
     ]
    }
   ],
   "source": [
    "s=input('Inserisci un intero:')\n",
    "convertito=False\n",
    "while not convertito:\n",
    "    try:\n",
    "       n=int(s)\n",
    "    except:\n",
    "        print(s,'non è convertibile') \n",
    "        s=input('Inserisci un intero:')\n",
    "print('S è stato convertito',n) "
   ]
  },
  {
   "cell_type": "markdown",
   "metadata": {},
   "source": [
    "## Gestire più eccezioni\n",
    "Come abbiamo visto, a seconda del tipo di errore, l'interprete solleva eccezioni di tipo diverso. Poiché uno stesso blocco di istruzioni può generare, in generale, più tipi di errori, nella versione completa dell'istruzione `try-except` possiamo definire una gestione diversa dell'eccezione, a seconda del tipo di eccezione sollevata.\n",
    "\n",
    "A tal fine, si usa sfrutta la sintassi completa dell'istruzione `try-except`, ovvero:\n",
    "```python\n",
    "try: \n",
    "    istruzione/i\n",
    "except [TipoEccezione1]:\n",
    "    istruzione/i\n",
    "except [TipoEccezione2]: \n",
    "    istruzione/i\n",
    "...    \n",
    "```\n"
   ]
  },
  {
   "cell_type": "code",
   "execution_count": null,
   "metadata": {},
   "outputs": [
    {
     "name": "stdin",
     "output_type": "stream",
     "text": [
      "Inserisci un valore numerico:  0\n"
     ]
    },
    {
     "name": "stdout",
     "output_type": "stream",
     "text": [
      "Attenzione: 5 non può essere diviso per per zero.\n"
     ]
    }
   ],
   "source": [
    "a = 5 \n",
    "b = input(\"Inserisci un valore numerico: \")\n",
    "fatto=False\n",
    "while not fatto:\n",
    "    try: \n",
    "        b = int(float(b)) \n",
    "        res = a/b \n",
    "        print(\"5 / \",b,\" = \", res) \n",
    "        fatto=True\n",
    "    except ZeroDivisionError: \n",
    "        print(\"Attenzione: 5 non può essere diviso per per zero.\")\n",
    "        b = input(\"Inserisci un nuovo valore numerico: \") \n",
    "    except ValueError: \n",
    "        print(\"Attenzione: il valore inserito deve poter essere convertito in un numero intero.\") \n",
    "        b = input(\"Inserisci un nuovo valore numerico: \") "
   ]
  },
  {
   "cell_type": "markdown",
   "metadata": {},
   "source": [
    "## Sollevare un'eccezione: istruzione `raise`\n",
    "Abbiamo visto esempi di eccezioni che sono sollevate a runtime da funzioni predefinite in Python. \n",
    "Allo stesso modo, quando si definisce una funzione, si può usare l'istruzione raise in modo tale che, a tempo di esecuzione, la funzione sollevi una o più eccezioni all'occorrere di certe condizioni.\n",
    "Così facendo, così come per le funzioni predefinite, si potrà usare l'istruzione `try-except` per catturare le eccezioni eventualmente sollevate dall'invocazione della funzione.\n",
    "\n",
    "`raise` è l'istruzione che interrompe il normale flusso del programma generando un'eccezione. La sua sintassi è la seguente:\n",
    "```python\n",
    "\n",
    "raise Eccezione [(messaggio)\n",
    "```\n",
    "\n",
    "dove:\n",
    "- *Eccezione* è un tipo più o meno specifico di Eccezione, ovvero potrebbe essere: `o: Except`io`n, ValueEr`ro`r, ArithmeticEr`ro`r, LookupEr`ro`r, IndexEr`ro`r, MemoryEr`ro`r, ZeroDivisionEr`ror, ..- . \n",
    "il messaggio (opzionale) viene usato per specificare meglio il tipo di eccezione generato"
   ]
  },
  {
   "cell_type": "code",
   "execution_count": 4,
   "metadata": {},
   "outputs": [
    {
     "name": "stdin",
     "output_type": "stream",
     "text": [
      "Inserisci un valore numerico:  0\n"
     ]
    },
    {
     "name": "stdout",
     "output_type": "stream",
     "text": [
      "Attenzione: 5 non può essere diviso per zero.\n"
     ]
    },
    {
     "name": "stdin",
     "output_type": "stream",
     "text": [
      "Inserisci un nuovo valore numerico:  5\n"
     ]
    },
    {
     "name": "stdout",
     "output_type": "stream",
     "text": [
      "5 /  5  =  1.0\n"
     ]
    }
   ],
   "source": [
    "def converti_in_intero(s):\n",
    "    f=float(s)\n",
    "    i=int(f)\n",
    "    if i!=f:\n",
    "        raise ArithmeticError\n",
    "    return i\n",
    "# l'invocazione della funzione può sollevare anche un'eccezione di tipo ValueError\n",
    "\n",
    "a = 5 \n",
    "b = input(\"Inserisci un valore numerico: \")\n",
    "fatto=False\n",
    "while not fatto:\n",
    "    try: \n",
    "        b = converti_in_intero(b) \n",
    "        res = a/b \n",
    "        print(\"5 / \",b,\" = \", res) \n",
    "        fatto=True\n",
    "    except ZeroDivisionError: \n",
    "        print(\"Attenzione: 5 non può essere diviso per zero.\")\n",
    "        b = input(\"Inserisci un nuovo valore numerico: \") \n",
    "    except ValueError: \n",
    "        print(\"Attenzione: il valore inserito non può essere convertito in un numero intero.\") \n",
    "        b = input(\"Inserisci un nuovo valore numerico: \") \n",
    "    except ArithmeticError:\n",
    "        print(\"Attenzione: il valore inserito non può essere convertito in un numero intero senza approssimarlo.\") \n",
    "        b = input(\"Inserisci un nuovo valore numerico: \") \n",
    "    "
   ]
  },
  {
   "cell_type": "markdown",
   "metadata": {},
   "source": [
    "## Esercizio \n",
    "Con il termine di *Lookup* solitamente si intende l'operazione di accesso al valore corrispondente ad una chiave in un dizionario `d['c']` (o ad un indice in una sequenza `s[i]`). Ll'operazionesolleva un'eccezionee seil dizionario non compre de la chiave (o la sequenza non comrpende l'indice). \n",
    "Scriverere una funzion`e lookup_inverso` che fa l'operazione inversa, ovvero che deve restituire la chiave di un dizionario a cui è associato un certo valore . Analogamente a quanto avviene per il lookup, vogliamo che la funzione sollevi un'eccezione nel caso in cui venga specificato un valore che non compare nel dizionario per consentire una gestione opportuna del caso in cui a nessuna chiave è associato il valore in questione.\n",
    "\n"
   ]
  },
  {
   "cell_type": "code",
   "execution_count": 6,
   "metadata": {},
   "outputs": [
    {
     "name": "stdout",
     "output_type": "stream",
     "text": [
      "rosso\n"
     ]
    }
   ],
   "source": [
    "def lookup_inverso(diz, val): \n",
    "   for chiave in diz: \n",
    "      if diz[chiave] == val: \n",
    "         return chiave \n",
    "   raise LookupError('Il valore '+str(val)+' non compare nel dizionario.')\n",
    "\n",
    "d={'blu':2,'bianco':4,'rosso':0}\n",
    "print(lookup_inverso(d, 0))"
   ]
  },
  {
   "cell_type": "markdown",
   "metadata": {},
   "source": [
    "## Esercizi"
   ]
  },
  {
   "cell_type": "code",
   "execution_count": null,
   "metadata": {},
   "outputs": [],
   "source": []
  }
 ],
 "metadata": {
  "kernelspec": {
   "display_name": "Python 3 (ipykernel)",
   "language": "python",
   "name": "python3"
  },
  "language_info": {
   "codemirror_mode": {
    "name": "ipython",
    "version": 3
   },
   "file_extension": ".py",
   "mimetype": "text/x-python",
   "name": "python",
   "nbconvert_exporter": "python",
   "pygments_lexer": "ipython3",
   "version": "3.8.13"
  }
 },
 "nbformat": 4,
 "nbformat_minor": 4
}
