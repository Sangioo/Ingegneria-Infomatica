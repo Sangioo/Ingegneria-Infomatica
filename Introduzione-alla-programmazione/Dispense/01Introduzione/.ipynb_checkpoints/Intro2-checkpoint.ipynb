{
 "cells": [
  {
   "cell_type": "markdown",
   "metadata": {
    "slideshow": {
     "slide_type": "slide"
    }
   },
   "source": [
    "#### Autori: Domenico Lembo, Giuseppe Santucci and Marco Schaerf\n",
    "\n",
    "[Dipartimento di Ingegneria informatica, automatica e gestionale](https://www.diag.uniroma1.it)\n",
    "\n",
    "<img src=\"https://mirrors.creativecommons.org/presskit/buttons/88x31/png/by-nc-sa.eu.png\"\n",
    "     alt=\"License\"\n",
    "     style=\"float: left;\"\n",
    "     height=\"40\" width=\"100\" />\n",
    "This notebook is distributed with license Creative Commons *CC BY-NC-SA*"
   ]
  },
  {
   "cell_type": "markdown",
   "metadata": {
    "slideshow": {
     "slide_type": "-"
    }
   },
   "source": [
    "# Introduzione a Python\n",
    "1. Usare la Shell dei comandi\n",
    "3. Primi esempi di operazioni su numeri\n",
    "4. Importazione di funzioni (o moduli) esterne: `math` e `random`\n",
    "2. Primi esempi di operazioni su stringhe"
   ]
  },
  {
   "cell_type": "markdown",
   "metadata": {
    "slideshow": {
     "slide_type": "slide"
    }
   },
   "source": [
    "### Avviare Python\n",
    "Cominciamo a vedere Python usando la shell dei comandi. Avviate Python eseguendo l'applicazione IDLE inclusa nella versione base di Python. Verrà aperta la seguente finestra (ambiente windows 32bit)\n",
    "\n",
    "<img src=\"Immagini/idle.png\" width=\"700\" />\n",
    "\n",
    "Questa è la Shell di Python, dove è possibile digitare ed eseguire singole istruzioni Python. \n",
    "\n",
    "<img src=\"Immagini/idle1.png\" width=\"700\" />\n",
    "\n",
    "Questa è l'editor standard di script Python, dove è possibile digitare, salvare, ed eseguire insiemi di istruzioni Python. \n",
    "\n",
    "In questo corso useremo 2 ambienti di programmazione Python:\n",
    "- **IDLE**: In laboratorio e all'esame programmeremo usando IDLE (vedi immagini sopra), un semplice ambiente visuale (In inglese viene detto \"integrated development environment\" o abbreviato IDE) adatto a scrivere programmi Python sia lunghi che corti. Notate che ci sono moltissimi altri IDE disponibili per Python come, ad esempio, *Spyder*, *PyCharm*, *Visual Studio Code*. *IDLE* è molto semplice da usare, ma manca di funzionalità più avanzate presenti in altri IDE.\n",
    "- **Jupyter Notebook (o JupyterLab)**: Ambiente interattivo (quello che stiamo usando ora) che permette di integrare parti descrittive con celle di codice eseguibili e modificabili. Useremo questo ambiente a lezione per la sua facilità di integrare spiegazioni e codice\n",
    "\n",
    "Un'importante differenza tra i due ambienti è che in IDLE si tende a scrivere il codice in un unico blocco nell'editor e a eseguirlo tutto contemporaneamente, mentre nei file Jupyter notebook si tende a spezzare il codice su più blocchi e a eseguirne una parte alla volta (oltre che a inframezzare il codice con parti esplicative).\n",
    "\n",
    "Questa differenza, come vedremo più avanti, ha importanti ripercussioni.\n",
    "\n",
    "Proviamo ad inserire il comando `7*(5+2)`"
   ]
  },
  {
   "cell_type": "code",
   "execution_count": 1,
   "metadata": {
    "slideshow": {
     "slide_type": "slide"
    },
    "tags": []
   },
   "outputs": [
    {
     "data": {
      "text/plain": [
       "49"
      ]
     },
     "execution_count": 1,
     "metadata": {},
     "output_type": "execute_result"
    }
   ],
   "source": [
    "7*(5+2)"
   ]
  },
  {
   "cell_type": "markdown",
   "metadata": {
    "slideshow": {
     "slide_type": "-"
    }
   },
   "source": [
    "Ora proviamo ad inserire il comando `(21*5)**(31*4)`. Notate che il simbolo `**` denota l'elevazione a potenza"
   ]
  },
  {
   "cell_type": "code",
   "execution_count": 2,
   "metadata": {
    "slideshow": {
     "slide_type": "-"
    }
   },
   "outputs": [
    {
     "data": {
      "text/plain": [
       "19246038748774103889764203309045318062300126671290552677234180771561029457886424743370688094603429533839454481987448765014522387102258255406984463545980929345841615978023534471622440242469697357610092275604580637912304924754917687575797139683791866681969529000523019230208844609908425127287046052515506744384765625"
      ]
     },
     "execution_count": 2,
     "metadata": {},
     "output_type": "execute_result"
    }
   ],
   "source": [
    "(21*5)**(31*5)"
   ]
  },
  {
   "cell_type": "markdown",
   "metadata": {
    "slideshow": {
     "slide_type": "slide"
    },
    "tags": []
   },
   "source": [
    "### Espressioni e operazioni su numeri\n",
    "Una espressione è composta da operandi e operatori e, una volta valutata, restituisce un valore.\n",
    "\n",
    "La più semplice espressione aritmetica è un singolo numero, e.g, 7 (valore restituito 7).\n",
    "\n",
    "Python distingue tra due tipi di dati numerici:\n",
    "* numeri interi (int); esempi: 12, -9, 1\n",
    "* numeri frazionari (float); esempi: 3.14, -45.2, 1.0, -42.3e-4 (notazione esponenziale che rappresenta il numero $−42,3×10^{-4}$)\n",
    "\n",
    "Nota bene: Python, come tutti i linguaggi di programmazione, usa lo standard americano, ovvero il punto, per separare la parte intera di un reale da quella frazionaria: 3.14 e non 3,14.\n",
    "\n",
    "Espressione aritmetiche più complesse si ottengono combinando numeri attraverso operatori (addizione, divisione, ecc.), e usando le parentesi tonde per definire la precedenza tra gli operatori. E.g., 3*(5+2) (valore restituito 21).\n",
    "\n",
    "Gli operatori disponibili nel linguaggio Python sono i seguenti:\n",
    "\n",
    "Simbolo | Descrizione Operatore \n",
    ":---: |:-------: \n",
    "\\+ \t|  somma\n",
    "\\- \t|  sottrazione\n",
    "\\* \t|  moltiplicazione\n",
    "/  \t|  divisione\n",
    "// \t|  divisione intera\n",
    "%  \t|  modulo (resto di una divisione)\n",
    "\\**\t|  elevamento a potenza\n",
    "\n",
    "\n",
    "Se entrambi gli operandi di \\+, \\- e \\* sono interi, il risultato è rappresentato come intero, altrimenti è rappresentato come numero frazionario.   "
   ]
  },
  {
   "cell_type": "code",
   "execution_count": 3,
   "metadata": {
    "slideshow": {
     "slide_type": "slide"
    }
   },
   "outputs": [
    {
     "data": {
      "text/plain": [
       "6"
      ]
     },
     "execution_count": 3,
     "metadata": {},
     "output_type": "execute_result"
    }
   ],
   "source": [
    "1 + 5"
   ]
  },
  {
   "cell_type": "code",
   "execution_count": 4,
   "metadata": {
    "slideshow": {
     "slide_type": "-"
    }
   },
   "outputs": [
    {
     "data": {
      "text/plain": [
       "6.0"
      ]
     },
     "execution_count": 4,
     "metadata": {},
     "output_type": "execute_result"
    }
   ],
   "source": [
    "1.0 + 5"
   ]
  },
  {
   "cell_type": "markdown",
   "metadata": {
    "slideshow": {
     "slide_type": "-"
    }
   },
   "source": [
    "Indipendentemente dal fatto che gli operandi di / siano interi o frazionari, il quoziente restituito è sempre frazionario"
   ]
  },
  {
   "cell_type": "code",
   "execution_count": 5,
   "metadata": {
    "slideshow": {
     "slide_type": "-"
    }
   },
   "outputs": [
    {
     "data": {
      "text/plain": [
       "0.4"
      ]
     },
     "execution_count": 5,
     "metadata": {},
     "output_type": "execute_result"
    }
   ],
   "source": [
    "2/5"
   ]
  },
  {
   "cell_type": "code",
   "execution_count": 6,
   "metadata": {
    "slideshow": {
     "slide_type": "-"
    }
   },
   "outputs": [
    {
     "data": {
      "text/plain": [
       "3.0"
      ]
     },
     "execution_count": 6,
     "metadata": {},
     "output_type": "execute_result"
    }
   ],
   "source": [
    "6/2"
   ]
  },
  {
   "cell_type": "markdown",
   "metadata": {
    "slideshow": {
     "slide_type": "-"
    }
   },
   "source": [
    "L’operatore // produce sempre *il più grande intero non maggiore del quoziente restituito dalla divisione /*, rappresentato come intero se entrambi gli operandi sono interi, altrimenti come numero frazionario. "
   ]
  },
  {
   "cell_type": "code",
   "execution_count": 7,
   "metadata": {
    "slideshow": {
     "slide_type": "-"
    }
   },
   "outputs": [
    {
     "data": {
      "text/plain": [
       "2"
      ]
     },
     "execution_count": 7,
     "metadata": {},
     "output_type": "execute_result"
    }
   ],
   "source": [
    "6//3"
   ]
  },
  {
   "cell_type": "code",
   "execution_count": 8,
   "metadata": {
    "slideshow": {
     "slide_type": "-"
    }
   },
   "outputs": [
    {
     "data": {
      "text/plain": [
       "1"
      ]
     },
     "execution_count": 8,
     "metadata": {},
     "output_type": "execute_result"
    }
   ],
   "source": [
    "6//4"
   ]
  },
  {
   "cell_type": "code",
   "execution_count": 9,
   "metadata": {
    "slideshow": {
     "slide_type": "-"
    }
   },
   "outputs": [
    {
     "data": {
      "text/plain": [
       "-1"
      ]
     },
     "execution_count": 9,
     "metadata": {},
     "output_type": "execute_result"
    }
   ],
   "source": [
    "-2//3"
   ]
  },
  {
   "cell_type": "markdown",
   "metadata": {
    "slideshow": {
     "slide_type": "-"
    }
   },
   "source": [
    "L’operatore modulo % restituisce il resto della divisione intera. Utile, ad esempio, per vedere se un intero è pari o dispari: n%2 vale 0 se n è pari, 1 se n è dispari."
   ]
  },
  {
   "cell_type": "code",
   "execution_count": 10,
   "metadata": {},
   "outputs": [
    {
     "data": {
      "text/plain": [
       "3"
      ]
     },
     "execution_count": 10,
     "metadata": {},
     "output_type": "execute_result"
    }
   ],
   "source": [
    "15%12"
   ]
  },
  {
   "cell_type": "markdown",
   "metadata": {},
   "source": [
    "Ma anche per contare in modo circolare. Ad esempio se vogliamo contare da 0 a 9 in modo circolare, questo è esattamente il calcolo del resto delle divisione per 10"
   ]
  },
  {
   "cell_type": "code",
   "execution_count": 11,
   "metadata": {},
   "outputs": [
    {
     "data": {
      "text/plain": [
       "2"
      ]
     },
     "execution_count": 11,
     "metadata": {},
     "output_type": "execute_result"
    }
   ],
   "source": [
    "(5+7) % 10"
   ]
  },
  {
   "cell_type": "markdown",
   "metadata": {
    "slideshow": {
     "slide_type": "slide"
    }
   },
   "source": [
    "#### Funzioni matematiche predefinite\n",
    "\n",
    "Una funzione è una sequenza di istruzioni a cui è associato un nome e degli argomenti di input e che restituisce un valore (o più valori).\n",
    "\n",
    "E’ possibile invocare l’esecuzione della sequenza di comandi definiti dalla funzione usando il suo nome e definendo i valori in input. L’invocazione di una funzione può comparire ovunque è ammissibile un valore del tipo restituito dalla funzione.\n",
    "\n",
    "Python ha molte funzioni predefinite e (come vedremo più avanti) permette la definizione di nuove funzioni in un qualsiasi programma.\n",
    "\n",
    "Alcune funzioni matematiche predefinite sono:\n",
    " \n",
    "Funzione | Restituisce\n",
    ":------: | :-----:\n",
    "abs(x)\t|      valore assoluto di x\n",
    "round(x)\t|      valore di x arrotondato all’intero più vicino ad x \n",
    "round(x,n) |\t      valore di x arrotondato ad n cifre decimali\n",
    "min(x1,..,xn) | valore minore fra quelli presenti come argomenti\n",
    "max(x1,..,xn)  | valore maggiore fra quelli presenti come argomenti\n",
    "\n",
    "Molte più funzioni matematiche sono definite in alcuni moduli, come il modulo *math*. Vedremo nel seguito come si possano utilizzare anche queste altre funzioni."
   ]
  },
  {
   "cell_type": "markdown",
   "metadata": {},
   "source": [
    "### Importazione di funzioni (o moduli) esterne\n",
    "Python dispone di una grandissima libreria di funzioni (o metodi) predefiniti. Molti sono immediatamente utilizzabili, per molti altri invece bisogna prima renderli esplicitamente disponibili al programma. La maggior parte delle funzioni sono definite all'interno di *moduli*, per poterle utilizzare bisogna sapere a quale modulo appartengono. Vediamo oggi per esempio 2 moduli:\n",
    "1. math: che contiene le funzioni matematiche più importanti\n",
    "2. random: che contiene funzioni utili per generare e gestire numeri casuali (random)\n",
    "\n",
    "Ci sono vari modi per rendere disponibile una funzione appartenente ad un modulo, almeno 3 diversi. Vediamo un esempio con il modulo `math` e la funzione seno (`sin()`), che in Python prende in input un angolo espresso in *radianti*):\n",
    "\n",
    "1. `import math`: *Tutte le funzioni* del modulo math sono ora disponibili. Per utilizzarle bisogna che usiate la notazione `math.sin(3.14152)` che in questo caso restituisce il valore `7.265358972945281e-05`.\n",
    "2. `from math import *`: *Tutte le funzioni* del modulo math sono ora disponibili. Per utilizzarle non serve più specificare il modulo a cui appartengono, ad esempio basta scrivere `sin(3.14152/2)` che in questo caso restituisce il valore `0.999999999340182`.\n",
    "3. `from math import sin`: *Solo la funzione `sin()`* del modulo `math` è ora disponibile. Può essere usata come nel caso precedente senza bisogno di specificare il modulo."
   ]
  },
  {
   "cell_type": "code",
   "execution_count": 12,
   "metadata": {},
   "outputs": [
    {
     "data": {
      "text/plain": [
       "0.999999999340182"
      ]
     },
     "execution_count": 12,
     "metadata": {},
     "output_type": "execute_result"
    }
   ],
   "source": [
    "# importo solo la funzione sin()\n",
    "from math import sin\n",
    "sin(3.14152/2)"
   ]
  },
  {
   "cell_type": "code",
   "execution_count": 13,
   "metadata": {
    "scrolled": true
   },
   "outputs": [
    {
     "ename": "NameError",
     "evalue": "name 'cos' is not defined",
     "output_type": "error",
     "traceback": [
      "\u001b[1;31m---------------------------------------------------------------------------\u001b[0m",
      "\u001b[1;31mNameError\u001b[0m                                 Traceback (most recent call last)",
      "\u001b[1;32m~\\AppData\\Local\\Temp/ipykernel_17172/2094599626.py\u001b[0m in \u001b[0;36m<module>\u001b[1;34m\u001b[0m\n\u001b[1;32m----> 1\u001b[1;33m \u001b[0mcos\u001b[0m\u001b[1;33m(\u001b[0m\u001b[1;36m30\u001b[0m\u001b[1;33m)\u001b[0m \u001b[1;31m# invoco la funzione coseno, che però non è stata importata\u001b[0m\u001b[1;33m\u001b[0m\u001b[1;33m\u001b[0m\u001b[0m\n\u001b[0m",
      "\u001b[1;31mNameError\u001b[0m: name 'cos' is not defined"
     ]
    }
   ],
   "source": [
    "cos(30) # invoco la funzione coseno, che però non è stata importata"
   ]
  },
  {
   "cell_type": "code",
   "execution_count": null,
   "metadata": {
    "tags": []
   },
   "outputs": [],
   "source": [
    "# importo tutto il modulo, ma le funzioni devono essere \n",
    "# invocate anteponendo il nome del modulo\n",
    "import math\n",
    "math.cos(3.14152)"
   ]
  },
  {
   "cell_type": "code",
   "execution_count": null,
   "metadata": {},
   "outputs": [],
   "source": [
    "cos(3.14152) # invoco coseno senza anteporre il nome del modulo (errore)"
   ]
  },
  {
   "cell_type": "code",
   "execution_count": null,
   "metadata": {
    "scrolled": true
   },
   "outputs": [],
   "source": [
    "# importo tutte le funzioni del modulo\n",
    "# in modo da poterle usare senza anteporre il nome del modulo\n",
    "from math import *  \n",
    "cos(3.14152)"
   ]
  },
  {
   "cell_type": "code",
   "execution_count": null,
   "metadata": {},
   "outputs": [],
   "source": [
    "#Esempi importazione funzione randint() dal modulo random\n",
    "#esempio di uso di randint\n",
    "\n",
    "# si importa solo la funzione randint che può essere chiamata direttamente\n",
    "from random import randint \n",
    "randint(0,100) # restituisce un intero a caso compreso fra 0 e 100 (inclusi)"
   ]
  },
  {
   "cell_type": "code",
   "execution_count": null,
   "metadata": {},
   "outputs": [],
   "source": [
    "randint(0,100) # restituisce un intero a caso compreso fra 0 e 100 (inclusi)"
   ]
  },
  {
   "cell_type": "code",
   "execution_count": null,
   "metadata": {},
   "outputs": [],
   "source": [
    "# si importa tutto il modulo ma occorre anteporne il nome\n",
    "import random                   \n",
    "\n",
    "random.randint(0,100)"
   ]
  },
  {
   "cell_type": "code",
   "execution_count": null,
   "metadata": {},
   "outputs": [],
   "source": [
    "#si importano TUTTE le funzioni del modulo random che possono essere chiamate direttamente\n",
    "from random import *       \n",
    "randint(0,100)"
   ]
  },
  {
   "cell_type": "markdown",
   "metadata": {},
   "source": [
    "#### Principali funzioni della libreria math\n",
    "\n",
    " funzione | descrizione\n",
    ":---: | :---:\n",
    "cos(x)  |  coseno (x deve essere espresso in radianti)  \n",
    "sin(x)  | seno (come sopra)\n",
    "tan(x)  |  tangente (come sopra)\n",
    "acos(x) |  arco-coseno (x deve essere nell’intervallo [−1, 1])   \n",
    "asin(x) |  arco-seno (come sopra) \n",
    "atan(x) |  arco-tangente\n",
    "radians(x)  |  converte in radianti un angolo espresso in gradi\n",
    "degrees(x)  |  converte in gradi un angolo espresso in  radianti\n",
    "exp(x)  | e$^x$\n",
    "log(x)  | ln(x)\n",
    "log(x ,b) |  log$_b$(x)\n",
    "log10(x)   | log$_{10}$(x)\n",
    "pow(x,y)  | $x^y$\n",
    "sqrt(x)    | radice quadrata di x\n",
    "\n",
    "Tutte le funzioni di questa libreria restituiscono un numero frazionario."
   ]
  },
  {
   "cell_type": "markdown",
   "metadata": {
    "slideshow": {
     "slide_type": "slide"
    }
   },
   "source": [
    "### Stringhe\n",
    "Un altro tipo di dato fondamentale in Python sono le stringhe. Le stringhe sono sequenze ordinate di caratteri. Esempi di stringhe Python corrette:\n",
    "* 'Ciao'\n",
    "* \"Ciao a tutti\"\n",
    "* \"Sono andato all'interno del negozio\"\n",
    "* 'Il mio amico ha detto \"Salve a tutti!\" con voce sicura'"
   ]
  },
  {
   "cell_type": "code",
   "execution_count": null,
   "metadata": {
    "slideshow": {
     "slide_type": "-"
    }
   },
   "outputs": [],
   "source": [
    "'Il mio amico ha detto \"Salve a tutti!\" con voce sicura'"
   ]
  },
  {
   "cell_type": "markdown",
   "metadata": {
    "slideshow": {
     "slide_type": "slide"
    }
   },
   "source": [
    "### Stringhe non corrette\n",
    "Esempi di stringhe non corrette sono:\n",
    "1. 'Ciao\n",
    "2. Ciao a tutti\"\n",
    "3. \"Sono andato all'interno del negozio'\n",
    "4. 'Il mio amico ha detto \"Salve a tutti!' con voce sicura\"\n",
    "5. 'Ho aperto l'acqua'\n",
    "\n",
    "La 1 è sbagliata perché manca l'apice alla fine. Nella 2 manca all'inizio. Nella 3 abbiamo usato apici diversi all'inizio ed alla fine. Nella 4 abbiamo invertito gli apici a destra in modo che Python pensa che la stringa finisca dopo il '!' e non capisce cosa siano i caratteri successivi. Nella 5 abbiamo usato ' all'interno di una stringa delimitata da apici e così, come nel caso 4, Python pensa che la stringa sia terminata dopo la 'l' e non capisce cosa siano i caratteri successivi."
   ]
  },
  {
   "cell_type": "code",
   "execution_count": null,
   "metadata": {
    "slideshow": {
     "slide_type": "-"
    }
   },
   "outputs": [],
   "source": [
    "'Il mio amico ha detto \"Salve a tutti!' con voce sicura\""
   ]
  },
  {
   "cell_type": "markdown",
   "metadata": {
    "slideshow": {
     "slide_type": "slide"
    }
   },
   "source": [
    "### Operazioni su stringhe\n",
    "In Python è possibile comporre facilmente le stringhe per ottenere stringhe più complesse. Tra le operazioni ammesse tra stringhe abbiamo il `+` ed il `*`. Vediamo come si comportano"
   ]
  },
  {
   "cell_type": "code",
   "execution_count": null,
   "metadata": {
    "slideshow": {
     "slide_type": "-"
    }
   },
   "outputs": [],
   "source": [
    "'prova'+' '+'del nove'"
   ]
  },
  {
   "cell_type": "code",
   "execution_count": null,
   "metadata": {
    "slideshow": {
     "slide_type": "-"
    }
   },
   "outputs": [],
   "source": [
    "'ciao '*5"
   ]
  },
  {
   "cell_type": "markdown",
   "metadata": {
    "slideshow": {
     "slide_type": "slide"
    }
   },
   "source": [
    "### Esercizi\n",
    "Completate questi esercizi a casa prima di cominciare il prossimo argomento"
   ]
  },
  {
   "cell_type": "markdown",
   "metadata": {
    "slideshow": {
     "slide_type": "-"
    }
   },
   "source": [
    "#### Esercizio 1:\n",
    "Scrivete l'istruzione Python che calcola l'espressione $(2^{10})^5$."
   ]
  },
  {
   "cell_type": "code",
   "execution_count": null,
   "metadata": {
    "slideshow": {
     "slide_type": "-"
    }
   },
   "outputs": [],
   "source": []
  },
  {
   "cell_type": "markdown",
   "metadata": {
    "slideshow": {
     "slide_type": "-"
    }
   },
   "source": [
    "#### Esercizio 2: \n",
    "Scrivete l'istruzione Python che calcola il resto della divisione di $5^5$ per $2^3$."
   ]
  },
  {
   "cell_type": "code",
   "execution_count": null,
   "metadata": {
    "scrolled": true,
    "slideshow": {
     "slide_type": "-"
    }
   },
   "outputs": [],
   "source": []
  },
  {
   "cell_type": "markdown",
   "metadata": {},
   "source": [
    "#### Esercizio 3: \n",
    "Scrivete l'istruzione Python che calcola il $\\sqrt{3^2-4\\mathsf{x}2}$"
   ]
  },
  {
   "cell_type": "code",
   "execution_count": null,
   "metadata": {},
   "outputs": [],
   "source": []
  },
  {
   "cell_type": "markdown",
   "metadata": {
    "slideshow": {
     "slide_type": "-"
    }
   },
   "source": [
    "#### Esercizio 4: \n",
    "Scrivete l'istruzione Python che genera la stringa 'ciao!ciaociao!!' a partire dalle stringhe 'ciao' e '!' ed usando gli operatori `+` e `*`."
   ]
  },
  {
   "cell_type": "code",
   "execution_count": null,
   "metadata": {
    "slideshow": {
     "slide_type": "-"
    }
   },
   "outputs": [],
   "source": []
  },
  {
   "cell_type": "markdown",
   "metadata": {
    "slideshow": {
     "slide_type": "-"
    }
   },
   "source": [
    "#### Esercizio 5: \n",
    "Scrivete l'istruzione Python che genera la stringa 'ciao!!!ciaociao!!!ciaociaociao!!!' a partire dalle stringhe 'ciao' e '!' ed usando gli operatori `+` e `*`."
   ]
  },
  {
   "cell_type": "code",
   "execution_count": null,
   "metadata": {
    "slideshow": {
     "slide_type": "-"
    }
   },
   "outputs": [],
   "source": []
  },
  {
   "cell_type": "markdown",
   "metadata": {
    "slideshow": {
     "slide_type": "-"
    }
   },
   "source": [
    "#### Esercizio 6: \n",
    "Scrivete l'istruzione Python che genera la stringa 'ciao! ciao ciao!!ciao ciao ciao!!!' a partire dalle stringhe 'ciao', '!' e ' ' (spazio) ed usando gli operatori `+` e `*`."
   ]
  },
  {
   "cell_type": "code",
   "execution_count": null,
   "metadata": {
    "slideshow": {
     "slide_type": "-"
    }
   },
   "outputs": [],
   "source": []
  }
 ],
 "metadata": {
  "kernelspec": {
   "display_name": "Python 3 (ipykernel)",
   "language": "python",
   "name": "python3"
  },
  "language_info": {
   "codemirror_mode": {
    "name": "ipython",
    "version": 3
   },
   "file_extension": ".py",
   "mimetype": "text/x-python",
   "name": "python",
   "nbconvert_exporter": "python",
   "pygments_lexer": "ipython3",
   "version": "3.11.3"
  },
  "nbTranslate": {
   "displayLangs": [
    "*"
   ],
   "hotkey": "alt-t",
   "langInMainMenu": true,
   "sourceLang": "en",
   "targetLang": "fr",
   "useGoogleTranslate": true
  }
 },
 "nbformat": 4,
 "nbformat_minor": 4
}
