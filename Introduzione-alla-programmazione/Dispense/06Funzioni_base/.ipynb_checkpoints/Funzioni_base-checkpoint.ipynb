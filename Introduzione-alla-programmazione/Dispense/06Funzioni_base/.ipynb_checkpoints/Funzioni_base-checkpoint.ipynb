{
 "cells": [
  {
   "cell_type": "markdown",
   "metadata": {
    "slideshow": {
     "slide_type": "slide"
    }
   },
   "source": [
    "#### Autori: Domenico Lembo, Antonella Poggi, Giuseppe Santucci e Marco Schaerf\n",
    "\n",
    "[Dipartimento di Ingegneria informatica, automatica e gestionale](https://www.diag.uniroma1.it)\n",
    "\n",
    "<img src=\"https://mirrors.creativecommons.org/presskit/buttons/88x31/png/by-nc-sa.eu.png\"\n",
    "     alt=\"License\"\n",
    "     style=\"float: left;\"\n",
    "     height=\"40\" width=\"100\" />\n",
    "This notebook is distributed with license Creative Commons *CC BY-NC-SA*"
   ]
  },
  {
   "cell_type": "markdown",
   "metadata": {},
   "source": [
    "# Definizione di Funzioni\n",
    "1. Introduzione alle funzioni: Input, Output e Effetti Collaterali. Esempi: funzioni raddoppia(n) e isPari(n)\n",
    "3. Visibilità delle variabili\n",
    "2. Modifica variabili globali\n",
    "3. Funzioni senza return\n",
    "4. Funzioni senza output\n",
    "5. Effetti collaterali\n",
    "5. Buone regole nella definizione di una funzione\n",
    "6. Salvare una funzione in un file e poi richiamarla\n",
    "3. Costruzione incrementale risultato (e.g., due stringhe)\n",
    "6. Il test delle funzioni\n",
    "5. Parametri opzionali\n",
    "5. Regole parametri opzionali\n",
    "6. Esercizio: implementazione di count\n",
    "7. Esercizi da svolgere a casa\n",
    "\n"
   ]
  },
  {
   "cell_type": "markdown",
   "metadata": {},
   "source": [
    "### Introduzione alle funzioni: Input e Output\n",
    "Quando pensiamo che un insieme di istruzioni debba essere eseguito più volte nel nostro programma oppure pensiamo che possa essere utile anche in un altro programma, allora la cosa da fare è racchiudere queste istruzioni in una funzione definita da noi. Abbiamo già visto molte funzioni predefinite di Python come `len()`, `print()`, `input()` ed altre, ma ora vediamo come possiamo *definire* noi delle funzioni tramite il costrutto `def`:\n",
    "\n",
    "```python\n",
    "def nomefunzione(parametri):\n",
    "    istruzione/i\n",
    "    return risultato\n",
    "```\n",
    "\n",
    "Questa è la *definizione* della funzione, da non confondere con la sua *esecuzione*. Definire una funzione vuole solo dire che la funzione è ora disponibile e può essere usata, *NON* comporta direttamente la sua esecuzione.\n",
    "\n",
    "Possiamo pensare a una funzione Python come ad una funzione matematica, e.g., *sin(x)*, che riceve in ingresso dei dati (tramite i parametri) e restituisce un risultato (tramite la return):\n",
    "\n",
    "<img src=\"Funzione1.png\" alt=\"drawing\" width=\"400\"/>\n",
    "\n",
    "Vediamo dei primi semplici esempi."
   ]
  },
  {
   "cell_type": "code",
   "execution_count": null,
   "metadata": {},
   "outputs": [],
   "source": [
    "def raddoppia(n):  # in questo modo definiamo la funzione\n",
    "    k = 2*n\n",
    "    return k\n",
    "    \n",
    "print(raddoppia(7))  # esempio di invocazione della funzione: al parametro n \n",
    "                      # sostituiamo una espressione (in questo caso un numero)"
   ]
  },
  {
   "cell_type": "markdown",
   "metadata": {},
   "source": [
    "Oppure in modo equivalente si poteva definire così:"
   ]
  },
  {
   "cell_type": "code",
   "execution_count": null,
   "metadata": {},
   "outputs": [],
   "source": [
    "def raddoppia(n):\n",
    "    return 2*n\n",
    "ris = raddoppia(7)\n",
    "print(ris)"
   ]
  },
  {
   "cell_type": "markdown",
   "metadata": {},
   "source": [
    "### Esempio: funzione isPari(n)\n",
    "Scriviamo il nostro programma che controlla, in forma di funzione, se un numero è pari."
   ]
  },
  {
   "cell_type": "code",
   "execution_count": null,
   "metadata": {},
   "outputs": [],
   "source": [
    "def isPari(n):\n",
    "    if n % 2 == 0:\n",
    "        return True\n",
    "    else:\n",
    "        return False\n",
    "    \n",
    "def isPari1(n):\n",
    "    return n % 2 == 0\n",
    "    \n",
    "n = int(input('Inserisci numero : '))\n",
    "print('il numero n è pari?',isPari(n))\n"
   ]
  },
  {
   "cell_type": "markdown",
   "metadata": {},
   "source": [
    "### Invocazione di una funzione\n",
    "\n",
    "All'invocazione di una funzione (sia essa definita da utente, importata da una libreria, o built-in), l'interprete esegue la funzione nel modo seguente:\n",
    "* valuta l'espressione corrispondente a ciascun argomento nell'invocazione e **copia** il risultato nel **parametro** corrispondente (quindi i parametri sono di fatto variabili che possiedono già un valore nel momento in cui inizia l’esecuzione della funzione)\n",
    "* esegue le istruzioni del corpo della funzione, fino a incontrare l’istruzione return oppure l’ultima istruzione del corpo\n",
    "* se l’eventuale istruzione return è seguita da un’espressione, restituisce il valore di tale espressione come risultato della chiamata"
   ]
  },
  {
   "cell_type": "markdown",
   "metadata": {},
   "source": [
    "### Visibilità delle variabili\n",
    "Per comprendere bene il comportamento delle funzioni è importante capire la differenza tra variabili globali (del programma) e locali (della funzione). Schematicamente, possiamo vedere la situazione così:\n",
    "\n",
    "<img src=\"Variabili.png\" alt=\"drawing\" width=\"400\"/>\n",
    "\n",
    "All'interno della funzione è sempre possibile *leggere* le variabili globali (e con alcune accortezze anche modificarle); al contrario, il programma principale non vede (non ha accesso) alle variabili (locali) delle funzioni.\n",
    "\n",
    "*Nota Bene*: I parametri usati nella definizione (detti parametri formali) sono variabili locali della funzione. Vediamo alcuni esempi:"
   ]
  },
  {
   "cell_type": "code",
   "execution_count": null,
   "metadata": {},
   "outputs": [],
   "source": [
    "def aggiunginum(n):\n",
    "    print('Il valore di n è:', n)\n",
    "    print('Il valore di num è:', num) #variabile globale letta\n",
    "    n=n+num #variabile globale letta\n",
    "    return n\n",
    "\n",
    "num = 55 #variabile globale\n",
    "ris = aggiunginum(5)\n",
    "print('ris vale:',ris)\n",
    "print(n) # n è una variabile locale (parametro) delle funzioni\n",
    "# NON è definita nel programma principale e non "
   ]
  },
  {
   "cell_type": "markdown",
   "metadata": {},
   "source": [
    "### Modifica variabili globali\n",
    "Se il nome di una variabile globale viene usato come valore sinistro di una assegnazione Python assume che sia una *nuova* variabile locale con lo stesso nome di quella globale. Se invece vogliamo modificare dentro la funzione la variabile globale la dobbiamo dichiarare all'interno come `global`. Vediamo un esempio:"
   ]
  },
  {
   "cell_type": "code",
   "execution_count": null,
   "metadata": {},
   "outputs": [],
   "source": [
    "#visibilità variabili seconda versione\n",
    "\n",
    "def prova():\n",
    "    global k\n",
    "    # k è visibile in lettura scrittura\n",
    "    print('dentro la funzione k vale',k)\n",
    "    k=9\n",
    "    print('dopo la modifica, dentro la funzione k vale',k)\n",
    "\n",
    "#main\n",
    "k=5     \n",
    "prova()\n",
    "print('dopo la funzione k vale',k)"
   ]
  },
  {
   "cell_type": "markdown",
   "metadata": {},
   "source": [
    "### Funzioni senza return\n",
    "Si possono definire funzioni senza output, che non restituiscono un risultato ma, ad esempio, eseguono solo una stampa. La stessa funzione `print()` NON restituisce un valore in output. Le funzioni che *non hanno l'istruzione* `return` o non hanno una espressione dopo il return non restituiscono alcun valore, ovvero restituiscono il valore speciale `None`. Vediamo un esempio:"
   ]
  },
  {
   "cell_type": "code",
   "execution_count": null,
   "metadata": {},
   "outputs": [],
   "source": [
    "def stampaIlDoppio(n):\n",
    "    print(2*n)\n",
    "\n",
    "n = 5\n",
    "stampaIlDoppio(n)\n",
    "ris = stampaIlDoppio(n)\n",
    "print(ris)\n"
   ]
  },
  {
   "cell_type": "markdown",
   "metadata": {},
   "source": [
    "Notate che, come già detto, anche la funzione `print()` NON restituisce alcun risultato. Vediamo un esempio:"
   ]
  },
  {
   "cell_type": "code",
   "execution_count": null,
   "metadata": {},
   "outputs": [],
   "source": [
    "x = print('prova')\n",
    "print(x)"
   ]
  },
  {
   "cell_type": "markdown",
   "metadata": {},
   "source": [
    "### Effetti collaterali\n",
    "Quando una funzione modifica lo stato del sistema, e.g., crea un file, effettua una stampa, modifica le variabili globali o i parametri, si dice che la sua esecuzione ha avuto un *effetto collaterale*. Lo schema completo di una funzione può essere rappresentato così:\n",
    "<img src=\"Funzione2.png\" alt=\"drawing\" width=\"400\"/>\n",
    "\n",
    "Anche se in alcuni casi gli effetti collaterali sono utili, hanno però lo svantaggio di rendere le funzioni meno facilmente riutilizzabili. Si pensi, per esempio, a una funzione *sin(x)* che oltre a calcolare il seno di x effettua una stampa o addirittura modifica il valore della x...\n",
    "\n",
    "Vedremo altri esempi di effetti collaterali quando parleremo di  *liste*.\n"
   ]
  },
  {
   "cell_type": "markdown",
   "metadata": {},
   "source": [
    "### Buone regole nella definizione di una funzione\n",
    "Ci sono alcune regole da seguire quando si definisce una funzione:\n",
    "1. I dati di input della funzione devono *preferibilmente* essere tutti compresi nei parametri della funzione. **Evitate quindi (tranne casi eccezionali) di accedere direttamente alle variabili globali**\n",
    "2. Il risultato deve essere restituito con l'istruzione `return`. **Non usate il `print()`** per restituire il risultato\n",
    "3. Ridurre al minimo l'uso degli *effetti collaterali*\n",
    "\n",
    "Tutte queste regole servono a ridurre la possibilità di errori, ma anche ad aumentare la riutilizzabilità della funzione all'interno dello stesso programma od anche di programmi diversi. Vediamo come esempio la funzione `modifica_g(n)`, questa funzione è *difficilmente riutilizzabile* perché ha bisogno che esista una variabile globale che si chiama `g` e che contiene il valore da raddoppiare. Se nel programma avete usato un altro nome, questa funzione non verrà eseguita correttamente:"
   ]
  },
  {
   "cell_type": "code",
   "execution_count": null,
   "metadata": {},
   "outputs": [],
   "source": [
    "#visibilità variabili\n",
    "def modifica_g(n):  #il parametro n è una variabile locale della funzione\n",
    "    global g           #la variabile globale gg è ora modificabile\n",
    "    print('Il valore di g è:', g) #variabile globale gg letta\n",
    "    g=n #variabile globale scritta\n",
    "    return g+n\n",
    "\n",
    "g = 45 #variabile globale\n",
    "print('prima della chiamata g vale:',g)\n",
    "ris = modifica_g(500)\n",
    "print('ris vale:',ris)\n",
    "print('dopo la chiamata g vale:',g)"
   ]
  },
  {
   "cell_type": "markdown",
   "metadata": {
    "tags": []
   },
   "source": [
    "### Salvare una funzione in un file python e poi richiamarla\n",
    "Le funzioni definite, fino ad ora, le abbiamo inserite all'inizio dello stesso file del programma. In Python, le funzioni devono essere definite *prima* di essere utilizzate e quindi devono essere *prima* anche nel file. C'è però un'alternativa molto più comoda: le funzioni possono essere salvate all'interno di un file e poi essere soltanto *importate* all'interno del programma che le usa, come abbiamo già fatto per le funzioni predefinite di Python tipo quelle del modulo `math`. Il nome del modulo è quello del file in cui avete salvato le funzioni. Vediamo un esempio con la funzione `isPari(n)` (definita sopra) che inseriremo nel file mieFunzioni. *Attenzione che il file deve essere nella stessa directory del file del programma* "
   ]
  },
  {
   "cell_type": "code",
   "execution_count": null,
   "metadata": {},
   "outputs": [],
   "source": [
    "from mieFunzioni import isPari\n",
    "\n",
    "print(isPari(4))"
   ]
  },
  {
   "cell_type": "markdown",
   "metadata": {},
   "source": [
    "### Costruzione incrementale risultato\n",
    "In alcuni casi, non possiamo restituire direttamente il risultato (come negli esempi visti), ma la soluzione va costruita *incrementalmente* (usando, ad esempio, cicli con accumulatori). Vediamo come definire una funzione che riceve in ingresso una stringa *s* e restituisce come risultato una nuova stringa otteneta da *s* eliminando tutti i caratteri *non alfabetici*."
   ]
  },
  {
   "cell_type": "code",
   "execution_count": null,
   "metadata": {},
   "outputs": [],
   "source": [
    "def rimuovoNonAlpha(s):\n",
    "    ris = ''\n",
    "    for c in s:\n",
    "        if c.isalpha():\n",
    "            ris += c\n",
    "    return ris\n",
    "\n",
    "stringa = 'casa1interno5'\n",
    "pulita = rimuovoNonAlpha(stringa)\n",
    "print(stringa,pulita)"
   ]
  },
  {
   "cell_type": "markdown",
   "metadata": {},
   "source": [
    "### Il test delle funzioni\n",
    "Per verificare il corretto funzionamento delle funzioni che definiamo è importante testarne il funzionamento su più dati di ingresso e verificare la correttezza dell'output che producono. Per semplificare questo controllo vi mettiamo a disposizione la funzione ** tester_fun(function, input_data, output_data)** sviluppata per questo corso che prende in input:\n",
    "1. Il nome della funzione\n",
    "2. Una lista dei valori con cui la funszione viene chiamata (gli input vanno quindi scritti in ordine all'interno delle parentesi quadre '[' e ']')\n",
    "3. L'output **corretto** corripondente allo specifico input\n",
    "\n",
    "Come buona regola, raccomandiamo di scrivere alcuni test **prima** di scrivere il codice della funzione, in modo che i test non dipendano dalla vostra soluzione, ma verifichino il comportamento della funzione in presenza di un certo dato di input (in altri termini, verifichiamo che la soluzione scritta sia rispondente alle specifiche almeno per i dati di input forniti). Vediamo alcuni esempi:"
   ]
  },
  {
   "cell_type": "code",
   "execution_count": null,
   "metadata": {
    "scrolled": true
   },
   "outputs": [],
   "source": [
    "from tester import tester_fun\n",
    "\n",
    "def raddoppia(n):\n",
    "    return 2*n\n",
    "\n",
    "tester_fun(raddoppia, [2], 4)\n",
    "tester_fun(raddoppia, [4], 8)"
   ]
  },
  {
   "cell_type": "markdown",
   "metadata": {},
   "source": [
    "### Esempio: \n",
    "Scrivi una funzione che prende in input una stringa e un carattere e restituisce il numero di occorrenze del carattere nella stringa (implementazione semplificata di count)"
   ]
  },
  {
   "cell_type": "code",
   "execution_count": null,
   "metadata": {},
   "outputs": [],
   "source": [
    "from tester import tester_fun\n",
    "\n",
    "def contaCarattere(s,c):\n",
    "        \"\"\"MODIFICARE IL CONTENUTO DI QUESTA FUNZIONE PER SVOLGERE L'ESERCIZIO\"\"\"\n",
    "\n",
    "tester_fun(contaCarattere, ['ciao mamma','a'], 3)\n",
    "tester_fun(contaCarattere, ['ciao mamma','x'], 0)\n",
    "tester_fun(contaCarattere, ['ciao mamma','i'], 1)\n",
    "tester_fun(contaCarattere, ['','i'], 0)"
   ]
  },
  {
   "cell_type": "code",
   "execution_count": null,
   "metadata": {},
   "outputs": [],
   "source": [
    "from tester import tester_fun\n",
    "\n",
    "def contaCarattere(s,c):\n",
    "    somma = 0\n",
    "    for car in s:\n",
    "        if car==c:\n",
    "            somma+=1\n",
    "    return somma\n",
    "\n",
    "tester_fun(contaCarattere, ['ciao mamma','a'], 3)\n",
    "tester_fun(contaCarattere, ['ciao mamma','x'], 0)\n",
    "tester_fun(contaCarattere, ['ciao mamma','i'], 1)\n",
    "tester_fun(contaCarattere, ['','i'], 0)"
   ]
  },
  {
   "cell_type": "markdown",
   "metadata": {},
   "source": [
    "### Parametri opzionali\n",
    "Le funzioni possono avere dei parametri *opzionali*, cioè che possono essere presenti o meno quando la funzione viene chiamata. Abbiamo già visto molti esempi, come la funzione `range()` che può avere 1, 2 o 3 parametri, o il metodo `count()`, in cui al primo parametro può seguire un secondo parametro che indica l'indice da cui iniziare a contare, ed un terzo, che indica l'indice (escluso) fino al quale contare). Vediamo come possiamo specificare che un parametro è opzionale:\n",
    "\n",
    "```python\n",
    "def incrementa(n, incremento=1):\n",
    "    return n+incremento\n",
    "```\n",
    "\n",
    "In questo caso, il parametro opzionale è `incremento` e si differenzia perché gli viene asssegnato un *valore di default*. In pratica, questo vuol dire che la funzione ha in realtà 2 parametri, ma se il secondo non viene specificato allora gli viene assegnato il valore di default. Vediamo un altro esempio con 2 parametri opzionali:"
   ]
  },
  {
   "cell_type": "code",
   "execution_count": null,
   "metadata": {},
   "outputs": [],
   "source": [
    "def incrementa2(n,passo=1, lunghezza=1):\n",
    "    return n+passo*lunghezza\n",
    "\n",
    "print(incrementa2(x))\n",
    "print(incrementa2(x,3)) # il secondo parametro si riferisce al passo, non alla lunghezza\n",
    "print(incrementa2(x,3,2))"
   ]
  },
  {
   "cell_type": "markdown",
   "metadata": {},
   "source": [
    "### Regole parametri opzionali\n",
    "Le regole da rispettare nella definzione di funzioni con parametri opzionali sono:\n",
    "1. I parametri opzionali devono essere gli *ultimi* nella lista dei parametri. Cioè non ci possono essere parametri *non opzionali* dopo un parametro opzionale.\n",
    "2. Se ci sono più parametri opzionali, nella chiamata questi vanno specificati in ordine; qualora si voglia indicare un parametro opzionale non in ordine si deve usare esplicitamente il suo nome (vedi la funzione print con i parametri aggiuntivi `sep` ed `end`)"
   ]
  },
  {
   "cell_type": "code",
   "execution_count": null,
   "metadata": {},
   "outputs": [],
   "source": [
    "def incrementa2(n,passo=1, lunghezza=1):\n",
    "    return n+passo*lunghezza\n",
    "\n",
    "print(incrementa2(x, lunghezza=5))"
   ]
  },
  {
   "cell_type": "markdown",
   "metadata": {},
   "source": [
    "### Esercizio: implementazione di count\n",
    "Come esempio proviamo a scrivere una funzione che si comporti esattamente come il metodo `count()` delle stringhe."
   ]
  },
  {
   "cell_type": "code",
   "execution_count": null,
   "metadata": {},
   "outputs": [],
   "source": [
    "from tester import tester_fun\n",
    "\n",
    "def conta(s,c,start=0,end=None):\n",
    "    \"\"\"MODIFICARE IL CONTENUTO DI QUESTA FUNZIONE PER SVOLGERE L'ESERCIZIO\"\"\"\n",
    "\n",
    "tester_fun(conta,['palla','a'],2)\n",
    "tester_fun(conta,['pallina','a',2],1)\n",
    "tester_fun(conta,['pallina','a',2,4],0)\n",
    "tester_fun(conta,['pallina','ll'],1)\n",
    "tester_fun(conta,['pallina',''],8)\n",
    "tester_fun(conta,['pallina','x'],0)"
   ]
  },
  {
   "cell_type": "code",
   "execution_count": null,
   "metadata": {},
   "outputs": [],
   "source": [
    "from tester import tester_fun\n",
    "\n",
    "#implementa il count\n",
    "def conta(s,c,start=0,end=None):\n",
    "    s1 = s[start:end]\n",
    "    num = 0\n",
    "    if c=='':\n",
    "        return len(s1)+1 #comportamento analogo a s1.count('')\n",
    "    for i in range(len(s1) + 1 - len(c)):\n",
    "        #print(s1[i:i+len(c)],i+start)\n",
    "        if s1[i:i+len(c)] == c:\n",
    "            num = num + 1\n",
    "    return num\n",
    "\n",
    "tester_fun(conta,['palla','a'],2)\n",
    "tester_fun(conta,['pallina','a',2],1)\n",
    "tester_fun(conta,['pallina','a',2,4],0)\n",
    "tester_fun(conta,['pallina','ll'],1)\n",
    "tester_fun(conta,['pallina',''],8)\n",
    "tester_fun(conta,['pallina','x'],0)"
   ]
  },
  {
   "cell_type": "markdown",
   "metadata": {},
   "source": [
    "### Esercizi\n",
    "Completate questi esercizi prima di cominciare il prossimo argomento"
   ]
  },
  {
   "cell_type": "markdown",
   "metadata": {},
   "source": [
    "### Esercizio 1:\n",
    "Scrivere una funzione che prende in input un numero n e restituisce il suo fattoriale. Il fattoriale di 0 deve restituire 1."
   ]
  },
  {
   "cell_type": "code",
   "execution_count": 1,
   "metadata": {},
   "outputs": [
    {
     "name": "stdout",
     "output_type": "stream",
     "text": [
      "Test funzione: fattoriale \n",
      "\n",
      "Input funzione: 4 \n",
      "\n",
      "Output atteso:\n",
      "24\n",
      "\n",
      "----- print interne funzione -----\n",
      "\n",
      "----------------------------------\n",
      "\n",
      "Output ottenuto:\n",
      "24\n",
      "\n",
      "Risultato Test: POSITIVO\n",
      "\n",
      "******************************\n",
      "\n",
      "Test funzione: fattoriale \n",
      "\n",
      "Input funzione: 5 \n",
      "\n",
      "Output atteso:\n",
      "120\n",
      "\n",
      "----- print interne funzione -----\n",
      "\n",
      "----------------------------------\n",
      "\n",
      "Output ottenuto:\n",
      "120\n",
      "\n",
      "Risultato Test: POSITIVO\n",
      "\n",
      "******************************\n",
      "\n",
      "Test funzione: fattoriale \n",
      "\n",
      "Input funzione: 10 \n",
      "\n",
      "Output atteso:\n",
      "3628800\n",
      "\n",
      "----- print interne funzione -----\n",
      "\n",
      "----------------------------------\n",
      "\n",
      "Output ottenuto:\n",
      "3628800\n",
      "\n",
      "Risultato Test: POSITIVO\n",
      "\n",
      "******************************\n",
      "\n",
      "Test funzione: fattoriale \n",
      "\n",
      "Input funzione: 21 \n",
      "\n",
      "Output atteso:\n",
      "51090942171709440000\n",
      "\n",
      "----- print interne funzione -----\n",
      "\n",
      "----------------------------------\n",
      "\n",
      "Output ottenuto:\n",
      "51090942171709440000\n",
      "\n",
      "Risultato Test: POSITIVO\n",
      "\n",
      "******************************\n",
      "\n",
      "Test funzione: fattoriale \n",
      "\n",
      "Input funzione: 0 \n",
      "\n",
      "Output atteso:\n",
      "1\n",
      "\n",
      "----- print interne funzione -----\n",
      "\n",
      "----------------------------------\n",
      "\n",
      "Output ottenuto:\n",
      "1\n",
      "\n",
      "Risultato Test: POSITIVO\n",
      "\n",
      "******************************\n",
      "\n"
     ]
    },
    {
     "data": {
      "text/plain": [
       "1"
      ]
     },
     "execution_count": 1,
     "metadata": {},
     "output_type": "execute_result"
    }
   ],
   "source": [
    "from tester import tester_fun\n",
    "\n",
    "def fattoriale(n):\n",
    "    if n == 0:\n",
    "        return 1\n",
    "    prod = 1\n",
    "    for i in range(1,n+1):\n",
    "        prod *= i\n",
    "    return prod\n",
    "\n",
    "tester_fun(fattoriale,[4],24)\n",
    "tester_fun(fattoriale,[5],120)\n",
    "tester_fun(fattoriale,[10],3628800)\n",
    "tester_fun(fattoriale,[21],51090942171709440000)\n",
    "tester_fun(fattoriale,[0],1)"
   ]
  },
  {
   "cell_type": "markdown",
   "metadata": {},
   "source": [
    "### Esercizio 2:\n",
    "Scrivere una funzione che prende in input un numero intero positivo n e restituisce il suo massimo divisore diverso da n. Se il numero è primo deve restituire 1."
   ]
  },
  {
   "cell_type": "code",
   "execution_count": 2,
   "metadata": {
    "scrolled": true
   },
   "outputs": [
    {
     "name": "stdout",
     "output_type": "stream",
     "text": [
      "Test funzione: maxdivisore \n",
      "\n",
      "Input funzione: 24 \n",
      "\n",
      "Output atteso:\n",
      "12\n",
      "\n",
      "----- print interne funzione -----\n",
      "\n",
      "----------------------------------\n",
      "\n",
      "Output ottenuto:\n",
      "12\n",
      "\n",
      "Risultato Test: POSITIVO\n",
      "\n",
      "******************************\n",
      "\n",
      "Test funzione: maxdivisore \n",
      "\n",
      "Input funzione: 9 \n",
      "\n",
      "Output atteso:\n",
      "3\n",
      "\n",
      "----- print interne funzione -----\n",
      "\n",
      "----------------------------------\n",
      "\n",
      "Output ottenuto:\n",
      "3\n",
      "\n",
      "Risultato Test: POSITIVO\n",
      "\n",
      "******************************\n",
      "\n",
      "Test funzione: maxdivisore \n",
      "\n",
      "Input funzione: 175 \n",
      "\n",
      "Output atteso:\n",
      "35\n",
      "\n",
      "----- print interne funzione -----\n",
      "\n",
      "----------------------------------\n",
      "\n",
      "Output ottenuto:\n",
      "35\n",
      "\n",
      "Risultato Test: POSITIVO\n",
      "\n",
      "******************************\n",
      "\n",
      "Test funzione: maxdivisore \n",
      "\n",
      "Input funzione: 231 \n",
      "\n",
      "Output atteso:\n",
      "77\n",
      "\n",
      "----- print interne funzione -----\n",
      "\n",
      "----------------------------------\n",
      "\n",
      "Output ottenuto:\n",
      "77\n",
      "\n",
      "Risultato Test: POSITIVO\n",
      "\n",
      "******************************\n",
      "\n",
      "Test funzione: maxdivisore \n",
      "\n",
      "Input funzione: 131 \n",
      "\n",
      "Output atteso:\n",
      "1\n",
      "\n",
      "----- print interne funzione -----\n",
      "\n",
      "----------------------------------\n",
      "\n",
      "Output ottenuto:\n",
      "1\n",
      "\n",
      "Risultato Test: POSITIVO\n",
      "\n",
      "******************************\n",
      "\n"
     ]
    },
    {
     "data": {
      "text/plain": [
       "1"
      ]
     },
     "execution_count": 2,
     "metadata": {},
     "output_type": "execute_result"
    }
   ],
   "source": [
    "from tester import tester_fun\n",
    "\n",
    "def maxdivisore(n):\n",
    "    for i in range(n//2, 0, -1):\n",
    "        if n%i==0:\n",
    "            return i\n",
    "\n",
    "tester_fun(maxdivisore,[24],12)\n",
    "tester_fun(maxdivisore,[9],3)\n",
    "tester_fun(maxdivisore,[175],35)\n",
    "tester_fun(maxdivisore,[231],77)\n",
    "tester_fun(maxdivisore,[131],1)"
   ]
  },
  {
   "cell_type": "markdown",
   "metadata": {},
   "source": [
    "### Esercizio 3: \n",
    "Scrivere una funzione che prende in input una stringa e restuituisce il carattere più frequente. Se ci sono più caratteri con la stessa frequenza, restituisce il primo incontrato, se la stringa in input è vuota restituisce una stringa vuota."
   ]
  },
  {
   "cell_type": "code",
   "execution_count": 1,
   "metadata": {
    "scrolled": true
   },
   "outputs": [
    {
     "name": "stdout",
     "output_type": "stream",
     "text": [
      "Test funzione: maxfreq \n",
      "\n",
      "Input funzione: 'palla' \n",
      "\n",
      "Output atteso:\n",
      "'a'\n",
      "\n",
      "----- print interne funzione -----\n",
      "\n",
      "----------------------------------\n",
      "\n",
      "Output ottenuto:\n",
      "'a'\n",
      "\n",
      "Risultato Test: POSITIVO\n",
      "\n",
      "******************************\n",
      "\n",
      "Test funzione: maxfreq \n",
      "\n",
      "Input funzione: 'pallone' \n",
      "\n",
      "Output atteso:\n",
      "'l'\n",
      "\n",
      "----- print interne funzione -----\n",
      "\n",
      "----------------------------------\n",
      "\n",
      "Output ottenuto:\n",
      "'l'\n",
      "\n",
      "Risultato Test: POSITIVO\n",
      "\n",
      "******************************\n",
      "\n",
      "Test funzione: maxfreq \n",
      "\n",
      "Input funzione: 'casa bianca di piero e sergio' \n",
      "\n",
      "Output atteso:\n",
      "' '\n",
      "\n",
      "----- print interne funzione -----\n",
      "\n",
      "----------------------------------\n",
      "\n",
      "Output ottenuto:\n",
      "' '\n",
      "\n",
      "Risultato Test: POSITIVO\n",
      "\n",
      "******************************\n",
      "\n",
      "Test funzione: maxfreq \n",
      "\n",
      "Input funzione: 'palla casa pallone' \n",
      "\n",
      "Output atteso:\n",
      "'a'\n",
      "\n",
      "----- print interne funzione -----\n",
      "\n",
      "----------------------------------\n",
      "\n",
      "Output ottenuto:\n",
      "'a'\n",
      "\n",
      "Risultato Test: POSITIVO\n",
      "\n",
      "******************************\n",
      "\n",
      "Test funzione: maxfreq \n",
      "\n",
      "Input funzione: '' \n",
      "\n",
      "Output atteso:\n",
      "''\n",
      "\n",
      "----- print interne funzione -----\n",
      "\n",
      "----------------------------------\n",
      "\n",
      "Output ottenuto:\n",
      "''\n",
      "\n",
      "Risultato Test: POSITIVO\n",
      "\n",
      "******************************\n",
      "\n"
     ]
    },
    {
     "data": {
      "text/plain": [
       "1"
      ]
     },
     "execution_count": 1,
     "metadata": {},
     "output_type": "execute_result"
    }
   ],
   "source": [
    "from tester import tester_fun\n",
    "\n",
    "def maxfreq(s):\n",
    "    letter = ''\n",
    "    count = 0\n",
    "    for c in s:\n",
    "        if s.count(c) > count:\n",
    "            letter = c\n",
    "            count = s.count(c)\n",
    "    return letter\n",
    "\n",
    "tester_fun(maxfreq,['palla'],'a')\n",
    "tester_fun(maxfreq,['pallone'],'l')\n",
    "tester_fun(maxfreq,['casa bianca di piero e sergio'],' ')\n",
    "tester_fun(maxfreq,['palla casa pallone'],'a')\n",
    "tester_fun(maxfreq,[''],'')"
   ]
  },
  {
   "cell_type": "markdown",
   "metadata": {},
   "source": [
    "### Esercizio 4:\n",
    "Scrivete una funzione che prende in input due stringhe s1 ed s2 e restituisce una nuova stringa composta dai caratteri di s1 seguiti dai caratteri di s2, **MA SENZA RIPETIZIONI**."
   ]
  },
  {
   "cell_type": "code",
   "execution_count": 2,
   "metadata": {},
   "outputs": [
    {
     "name": "stdout",
     "output_type": "stream",
     "text": [
      "Test funzione: collegaNoRipetizioni \n",
      "\n",
      "Input funzione: 'casa', 'dolce casa' \n",
      "\n",
      "Output atteso:\n",
      "'casdole '\n",
      "\n",
      "----- print interne funzione -----\n",
      "\n",
      "----------------------------------\n",
      "\n",
      "Output ottenuto:\n",
      "'casdole '\n",
      "\n",
      "Risultato Test: POSITIVO\n",
      "\n",
      "******************************\n",
      "\n",
      "Test funzione: collegaNoRipetizioni \n",
      "\n",
      "Input funzione: 'pallina dentro', 'un cassetto bianco' \n",
      "\n",
      "Output atteso:\n",
      "'palin detroucsb'\n",
      "\n",
      "----- print interne funzione -----\n",
      "\n",
      "----------------------------------\n",
      "\n",
      "Output ottenuto:\n",
      "'palin detroucsb'\n",
      "\n",
      "Risultato Test: POSITIVO\n",
      "\n",
      "******************************\n",
      "\n",
      "Test funzione: collegaNoRipetizioni \n",
      "\n",
      "Input funzione: 'pallina dentro un cassetto bianco estremamente pieno', '' \n",
      "\n",
      "Output atteso:\n",
      "'palin detroucsbm'\n",
      "\n",
      "----- print interne funzione -----\n",
      "\n",
      "----------------------------------\n",
      "\n",
      "Output ottenuto:\n",
      "'palin detroucsbm'\n",
      "\n",
      "Risultato Test: POSITIVO\n",
      "\n",
      "******************************\n",
      "\n",
      "Test funzione: collegaNoRipetizioni \n",
      "\n",
      "Input funzione: 'aaaaaaaaaaaaaaaaaaaaaaaaaaaaaab', 'bbbbbbbbbbbbbbbbbbbbbbbba' \n",
      "\n",
      "Output atteso:\n",
      "'ab'\n",
      "\n",
      "----- print interne funzione -----\n",
      "\n",
      "----------------------------------\n",
      "\n",
      "Output ottenuto:\n",
      "'ab'\n",
      "\n",
      "Risultato Test: POSITIVO\n",
      "\n",
      "******************************\n",
      "\n",
      "Test funzione: collegaNoRipetizioni \n",
      "\n",
      "Input funzione: '', '' \n",
      "\n",
      "Output atteso:\n",
      "''\n",
      "\n",
      "----- print interne funzione -----\n",
      "\n",
      "----------------------------------\n",
      "\n",
      "Output ottenuto:\n",
      "''\n",
      "\n",
      "Risultato Test: POSITIVO\n",
      "\n",
      "******************************\n",
      "\n"
     ]
    },
    {
     "data": {
      "text/plain": [
       "1"
      ]
     },
     "execution_count": 2,
     "metadata": {},
     "output_type": "execute_result"
    }
   ],
   "source": [
    "from tester import tester_fun\n",
    "\n",
    "def collegaNoRipetizioni(s1,s2):\n",
    "    ris = ''\n",
    "    for c in s1+s2:\n",
    "        if c not in ris:\n",
    "            ris += c\n",
    "    return ris\n",
    "    \n",
    "\n",
    "tester_fun(collegaNoRipetizioni,['casa', 'dolce casa'],'casdole ')\n",
    "tester_fun(collegaNoRipetizioni,['pallina dentro','un cassetto bianco'],'palin detroucsb')\n",
    "tester_fun(collegaNoRipetizioni,['pallina dentro un cassetto bianco estremamente pieno',''],'palin detroucsbm')\n",
    "tester_fun(collegaNoRipetizioni,['aaaaaaaaaaaaaaaaaaaaaaaaaaaaaab','bbbbbbbbbbbbbbbbbbbbbbbba'],'ab')\n",
    "tester_fun(collegaNoRipetizioni,['',''],'')"
   ]
  },
  {
   "cell_type": "markdown",
   "metadata": {},
   "source": [
    "### Esercizio 5:\n",
    "Scrivete una funzione che prende in input una stringa s, composta solo da caratteri alfabetici e spazi bianchi (' '), e restituisce la lunghezza della parola più lunga. Si assuma che le parole siano sempre separate da spazi. *Suggerimento* usate il metodo *find()* per trovare la posizione degli spazi bianchi nella stringa."
   ]
  },
  {
   "cell_type": "code",
   "execution_count": 6,
   "metadata": {},
   "outputs": [
    {
     "name": "stdout",
     "output_type": "stream",
     "text": [
      "Test funzione: maxlung \n",
      "\n",
      "Input funzione: 'casa dolce casa' \n",
      "\n",
      "Output atteso:\n",
      "5\n",
      "\n",
      "----- print interne funzione -----\n",
      "\n",
      "----------------------------------\n",
      "\n",
      "Output ottenuto:\n",
      "5\n",
      "\n",
      "Risultato Test: POSITIVO\n",
      "\n",
      "******************************\n",
      "\n",
      "Test funzione: maxlung \n",
      "\n",
      "Input funzione: 'pallina dentro un cassetto bianco' \n",
      "\n",
      "Output atteso:\n",
      "8\n",
      "\n",
      "----- print interne funzione -----\n",
      "\n",
      "----------------------------------\n",
      "\n",
      "Output ottenuto:\n",
      "8\n",
      "\n",
      "Risultato Test: POSITIVO\n",
      "\n",
      "******************************\n",
      "\n",
      "Test funzione: maxlung \n",
      "\n",
      "Input funzione: 'pallina dentro un cassetto bianco estremamente pieno' \n",
      "\n",
      "Output atteso:\n",
      "12\n",
      "\n",
      "----- print interne funzione -----\n",
      "\n",
      "----------------------------------\n",
      "\n",
      "Output ottenuto:\n",
      "12\n",
      "\n",
      "Risultato Test: POSITIVO\n",
      "\n",
      "******************************\n",
      "\n",
      "Test funzione: maxlung \n",
      "\n",
      "Input funzione: '' \n",
      "\n",
      "Output atteso:\n",
      "0\n",
      "\n",
      "----- print interne funzione -----\n",
      "\n",
      "----------------------------------\n",
      "\n",
      "Output ottenuto:\n",
      "0\n",
      "\n",
      "Risultato Test: POSITIVO\n",
      "\n",
      "******************************\n",
      "\n",
      "Test funzione: maxlung \n",
      "\n",
      "Input funzione: 'pallina dentro un cassetto bianco estremamente' \n",
      "\n",
      "Output atteso:\n",
      "12\n",
      "\n",
      "----- print interne funzione -----\n",
      "\n",
      "----------------------------------\n",
      "\n",
      "Output ottenuto:\n",
      "12\n",
      "\n",
      "Risultato Test: POSITIVO\n",
      "\n",
      "******************************\n",
      "\n"
     ]
    },
    {
     "data": {
      "text/plain": [
       "1"
      ]
     },
     "execution_count": 6,
     "metadata": {},
     "output_type": "execute_result"
    }
   ],
   "source": [
    "from tester import tester_fun\n",
    "\n",
    "def maxlung(s):\n",
    "    spaces = [0]\n",
    "    maxLen = 0\n",
    "    for i in range(s.count(' ')):\n",
    "        spaces.append(s.find(' ', spaces[-1]+1))\n",
    "    spaces.append(len(s))\n",
    "    for i in range(1, len(spaces)):\n",
    "        tmp = spaces[i] - spaces[i-1] - 1\n",
    "        if tmp > maxLen:\n",
    "            maxLen = tmp\n",
    "    return maxLen\n",
    "        \n",
    "\n",
    "tester_fun(maxlung,['casa dolce casa'],5)\n",
    "tester_fun(maxlung,['pallina dentro un cassetto bianco'],8)\n",
    "tester_fun(maxlung,['pallina dentro un cassetto bianco estremamente pieno'],12)\n",
    "tester_fun(maxlung,[''],0)\n",
    "tester_fun(maxlung,['pallina dentro un cassetto bianco estremamente'],12)"
   ]
  },
  {
   "cell_type": "markdown",
   "metadata": {},
   "source": [
    "### Esercizio 6:\n",
    "Scrivete una funzione `sostituisci` che si comporti come il metodo replace delle stringhe"
   ]
  },
  {
   "cell_type": "code",
   "execution_count": 14,
   "metadata": {},
   "outputs": [
    {
     "name": "stdout",
     "output_type": "stream",
     "text": [
      "Test funzione: sostituisci \n",
      "\n",
      "Input funzione: 'palla', 'a', 'e' \n",
      "\n",
      "Output atteso:\n",
      "'pelle'\n",
      "\n",
      "----- print interne funzione -----\n",
      "\n",
      "----------------------------------\n",
      "\n",
      "Output ottenuto:\n",
      "'pelle'\n",
      "\n",
      "Risultato Test: POSITIVO\n",
      "\n",
      "******************************\n",
      "\n",
      "Test funzione: sostituisci \n",
      "\n",
      "Input funzione: 'pallina', 'a', 'o' \n",
      "\n",
      "Output atteso:\n",
      "'pollino'\n",
      "\n",
      "----- print interne funzione -----\n",
      "\n",
      "----------------------------------\n",
      "\n",
      "Output ottenuto:\n",
      "'pollino'\n",
      "\n",
      "Risultato Test: POSITIVO\n",
      "\n",
      "******************************\n",
      "\n",
      "Test funzione: sostituisci \n",
      "\n",
      "Input funzione: 'pallina', 'a', 'o', 1 \n",
      "\n",
      "Output atteso:\n",
      "'pollina'\n",
      "\n",
      "----- print interne funzione -----\n",
      "\n",
      "----------------------------------\n",
      "\n",
      "Output ottenuto:\n",
      "'pollina'\n",
      "\n",
      "Risultato Test: POSITIVO\n",
      "\n",
      "******************************\n",
      "\n",
      "Test funzione: sostituisci \n",
      "\n",
      "Input funzione: 'pallina', 'al', 'er', 1 \n",
      "\n",
      "Output atteso:\n",
      "'perlina'\n",
      "\n",
      "----- print interne funzione -----\n",
      "\n",
      "----------------------------------\n",
      "\n",
      "Output ottenuto:\n",
      "'perlina'\n",
      "\n",
      "Risultato Test: POSITIVO\n",
      "\n",
      "******************************\n",
      "\n",
      "Test funzione: sostituisci \n",
      "\n",
      "Input funzione: 'palla casa pallone', 'll', 'l', 1 \n",
      "\n",
      "Output atteso:\n",
      "'pala casa pallone'\n",
      "\n",
      "----- print interne funzione -----\n",
      "\n",
      "----------------------------------\n",
      "\n",
      "Output ottenuto:\n",
      "'pala casa pallone'\n",
      "\n",
      "Risultato Test: POSITIVO\n",
      "\n",
      "******************************\n",
      "\n"
     ]
    },
    {
     "data": {
      "text/plain": [
       "1"
      ]
     },
     "execution_count": 14,
     "metadata": {},
     "output_type": "execute_result"
    }
   ],
   "source": [
    "from tester import tester_fun\n",
    "\n",
    "def sostituisci(s,c1,c2,count=None):\n",
    "    lastCh = 0\n",
    "    for i in range(1, s.count(c1)+1):\n",
    "        tmp = s.find(c1, lastCh+1)\n",
    "        s = s[:tmp] + c2 + s[tmp + len(c1):]\n",
    "        if i == count:\n",
    "            break\n",
    "    return s\n",
    "        \n",
    "\n",
    "tester_fun(sostituisci,['palla','a','e'],'pelle')\n",
    "tester_fun(sostituisci,['pallina','a','o'],'pollino')\n",
    "tester_fun(sostituisci,['pallina','a','o',1],'pollina')\n",
    "tester_fun(sostituisci,['pallina','al','er',1],'perlina')\n",
    "tester_fun(sostituisci,['palla casa pallone','ll','l',1],'pala casa pallone')"
   ]
  },
  {
   "cell_type": "code",
   "execution_count": null,
   "metadata": {},
   "outputs": [],
   "source": []
  }
 ],
 "metadata": {
  "kernelspec": {
   "display_name": "Python 3 (ipykernel)",
   "language": "python",
   "name": "python3"
  },
  "language_info": {
   "codemirror_mode": {
    "name": "ipython",
    "version": 3
   },
   "file_extension": ".py",
   "mimetype": "text/x-python",
   "name": "python",
   "nbconvert_exporter": "python",
   "pygments_lexer": "ipython3",
   "version": "3.8.17"
  }
 },
 "nbformat": 4,
 "nbformat_minor": 4
}
