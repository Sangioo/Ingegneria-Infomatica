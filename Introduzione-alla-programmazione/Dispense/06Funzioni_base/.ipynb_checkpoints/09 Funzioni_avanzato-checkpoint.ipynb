{
 "cells": [
  {
   "cell_type": "markdown",
   "metadata": {
    "slideshow": {
     "slide_type": "slide"
    }
   },
   "source": [
    "#### Autori: Domenico Lembo, Giuseppe Santucci and Marco Schaerf\n",
    "\n",
    "[Dipartimento di Ingegneria informatica, automatica e gestionale](https://www.diag.uniroma1.it)\n",
    "\n",
    "<img src=\"https://mirrors.creativecommons.org/presskit/buttons/88x31/png/by-nc-sa.eu.png\"\n",
    "     alt=\"License\"\n",
    "     style=\"float: left;\"\n",
    "     height=\"40\" width=\"100\" />\n",
    "This notebook is distributed with license Creative Commons *CC BY-NC-SA*"
   ]
  },
  {
   "cell_type": "markdown",
   "metadata": {},
   "source": [
    "# Definizione di Funzioni\n",
    "1. Introduzione alle funzioni: Input, Output e Effetti Collaterali. Esempio: Funzione raddoppia\n",
    "2. Visibilità delle variabili\n",
    "2. Modifica variabili globali\n",
    "3. Funzioni senza input\n",
    "4. Funzioni senza output\n",
    "5. Effetti collaterali\n",
    "5. Buone regole nella definizione di una funzione\n",
    "5. Esempio: funzione isintero()\n",
    "6. Salvare funzione in un file e poi richiamarla\n",
    "2. Doppio return (uscire appena scopro quello che cerco…)\n",
    "3. Costruzione incrementale risultato (e.g., due stringhe)\n",
    "6. Il test delle funzioni\n",
    "5. Parametri opzionali\n",
    "5. Regole parametri opzionali\n",
    "6. Esercizio: implementazione di count\n",
    "7. Esercizio: implementazione di find\n",
    "8. Esercizio: implementazione di rfind\n"
   ]
  },
  {
   "cell_type": "markdown",
   "metadata": {},
   "source": [
    "### Introduzione alle funzioni: Input e Output\n",
    "Quando pensiamo che un insieme di istruzioni debba essere eseguito più volte nel nostro programma oppure pensiamo che possa essere utile anche in un altro programma, allora la cosa da fare è racchiudere queste istruzioni in una funzione definita da noi. Abbiamo già visto molte funzione predefinite di Python come `len()`, `print()`, `input()` ed altre, ma ora vediamo come possiamo *definire* noi delle funzioni. Le funzioni in Python vengono definite tramite `def`, e.g. :\n",
    "\n",
    "```python\n",
    "def nomefunzione(parametri):\n",
    "    istruzione/i\n",
    "    return risultato\n",
    "```\n",
    "\n",
    "Questa è la *definizione* della funzione, da non confondere con la sua *esecuzione*. Definire una funzione vuole solo dire che questa funzione è ora disponibile e può essere usata, *NON* comporta direttamente la sua esecuzione.\n",
    "\n",
    "Possiamo pensare a una funzione Python come ad una funzione matematica, e.g., *sin(x)*, che riceve in ingresso dei dati (tramite i parametri) e restituisce un risultato (tramite la return):\n",
    "\n",
    "<img src=\"Immagini/Funzione1.png\" alt=\"drawing\" width=\"400\"/>\n",
    "\n",
    "Nel corso di questa e delle prossime lezioni definiremo anche funzioni che non hanno parametri, e quindi non ricevono dati in ingresso. Vedremo anche funzioni che non hanno un return, o nelle quali il return non è seguito da una espressione che definisce il \"risultato\", e quindi tecnicamente queste funzioni non restituiscono un risultato (il return, se presente, causa solo la fine dell'esecuzione della funzione - ulteriori dettagli in seguito). E' possibile anche avere più di un return in una funzione. In genere queste si trovano in \"diversi rami del programma\" (ad esempio, per istruzioni if-else, ci può essere un return nel \"ramo if\" (quello che eseguiamo se la condizione dell'if è True) e un return nel \"ramo else\" (quello che eseguamo se la condizione dell'if è False).\n",
    "\n",
    "Vediamo dei primi semplici esempi."
   ]
  },
  {
   "cell_type": "code",
   "execution_count": 3,
   "metadata": {},
   "outputs": [
    {
     "name": "stdout",
     "output_type": "stream",
     "text": [
      "206\n"
     ]
    }
   ],
   "source": [
    "def raddoppia1(n):  # in questo modo definiamo la funzione\n",
    "    k = 2*n\n",
    "    return \n",
    "    \n",
    "print(raddoppia1(7)+10)  # esempio di invocazione della funzione: al parametro n \n",
    "                      # sostituiamo una espressione (in questo caso un numero)"
   ]
  },
  {
   "cell_type": "markdown",
   "metadata": {},
   "source": [
    "Oppure in modo equivalente si poteva definire così:"
   ]
  },
  {
   "cell_type": "code",
   "execution_count": null,
   "metadata": {},
   "outputs": [],
   "source": [
    "def raddoppia2(n):\n",
    "    return 2*n\n",
    "\n",
    "print(raddoppia2(7))\n",
    "ris = raddoppia2(7)\n",
    "print(ris)"
   ]
  },
  {
   "cell_type": "markdown",
   "metadata": {},
   "source": [
    "### Invocazione di una funzione\n",
    "\n",
    "All'invocazione di una funzione (sia essa definita da utente, importata da una libreria, o built-in), l'inteprete esegue la funzione nel modo seguente:\n",
    "* **copia** il valore di ciascun argomento nel parametro corrispondente (quindi i parametri sono di fatto variabili che possiedono già un valore nel momento in cui inizia l’esecuzione della funzione)\n",
    "* esegue le istruzioni del corpo della funzione, fino a incontrare l’istruzione return oppure l’ultima istruzione del corpo\n",
    "* se l’eventuale istruzione return è seguita da un’espressione, restituisce il valore di tale espressione come risultato della chiamata"
   ]
  },
  {
   "cell_type": "markdown",
   "metadata": {},
   "source": [
    "### Visibilità delle variabili\n",
    "Per comprendere bene il comportamento delle funzioni è importante capire la differenza tra variabili globali (del programma) e locali (della funzione). Schematicamente, possiamo vedere la situazione così:\n",
    "<img src=\"Immagini/Variabili.png\" alt=\"drawing\" width=\"400\"/>\n",
    "All'interno della funzione è possibile usare (*ma non modificare se si tratta di oggetti immutabili*) le variabili globali ma, al contrario, il programma principale non vede (non ha accesso) alle variabili (locali) delle funzioni.\n",
    "\n",
    "*Nota Bene*: I parametri usati nella definizione (detti parametri formali) sono variabili locali della funzione. Vediamo alcuni esempi:"
   ]
  },
  {
   "cell_type": "code",
   "execution_count": null,
   "metadata": {
    "scrolled": true
   },
   "outputs": [],
   "source": [
    "def raddoppia3(n):\n",
    "    print('Il valore di n è:', n)\n",
    "    k = 2*n\n",
    "    print('Il valore di num è:', num)\n",
    "    return k\n",
    "\n",
    "num = 5 \n",
    "doppio = raddoppia3(num)\n",
    "print(doppio)"
   ]
  },
  {
   "cell_type": "code",
   "execution_count": null,
   "metadata": {},
   "outputs": [],
   "source": [
    "def raddoppia4(n):\n",
    "    print('Il valore di n è:', n)\n",
    "    k = 2*n\n",
    "    print('Il valore di num è:', num)\n",
    "    return k\n",
    "\n",
    "num = 5\n",
    "doppio = raddoppia4(num)\n",
    "print(doppio)\n",
    "print(n) # n è una variabile locale (parametro) delle funzioni\n",
    "# NON è definita nel programma principale"
   ]
  },
  {
   "cell_type": "markdown",
   "metadata": {},
   "source": [
    "### Modifica variabili globali\n",
    "Se una variabile globale di tipo *immutabile* (numero o stringa, ad esempio) viene modificata all'interno di una funzione, allora Python assume che sia una *nuova* variabile locale con lo stesso nome di quella globale. Se vogliamo evitare che si crei una nuova variabile ed, invece, modificare dentro la funzione la variabile globale dobbiamo dichiarare all'interno della funzione la variabile come `global`. Vediamo degli esempi:"
   ]
  },
  {
   "cell_type": "code",
   "execution_count": 5,
   "metadata": {},
   "outputs": [
    {
     "name": "stdout",
     "output_type": "stream",
     "text": [
      "k nella funzione vale 99\n",
      "k nel main vale 5\n"
     ]
    }
   ],
   "source": [
    "#visibilità variabili\n",
    "\n",
    "def prova():\n",
    "    # k è visibile in sola lettura (valore destro)\n",
    "\n",
    "    print('k nella funzione vale', k)\n",
    "      #eseguendo questa istruzione k diventa una variabile locale a prova!\n",
    "\n",
    "#main\n",
    "k=5     \n",
    "prova()\n",
    "print('k nel main vale',k)"
   ]
  },
  {
   "cell_type": "code",
   "execution_count": null,
   "metadata": {},
   "outputs": [],
   "source": [
    "#visibilità variabili seconda versione\n",
    "\n",
    "def prova():\n",
    "    global k\n",
    "    # k è visibile in lettura scrittura\n",
    "    print('dentro la funzione k vale',k)\n",
    "    k=9\n",
    "    print('dopo la modifica, dentro la funzione k vale',k)\n",
    "\n",
    "#main\n",
    "global k\n",
    "k=5     \n",
    "prova()\n",
    "print('dopo la funzione k vale',k)"
   ]
  },
  {
   "cell_type": "markdown",
   "metadata": {},
   "source": [
    "### Funzioni senza input\n",
    "E' possibile definire anche funzioni senza input, anche se non sono molti i casi in cui questa è la scelta migliore. Vediamo un esempio in cui invece di avere un parametro utilizziamo direttamente una variabile globale."
   ]
  },
  {
   "cell_type": "code",
   "execution_count": null,
   "metadata": {},
   "outputs": [],
   "source": [
    "def raddoppia5():\n",
    "    k = 2*num     #variabile globale in sola lettura\n",
    "    return k\n",
    "\n",
    "num = 7\n",
    "doppio = raddoppia5()\n",
    "print(doppio)"
   ]
  },
  {
   "cell_type": "markdown",
   "metadata": {},
   "source": [
    "### Funzioni senza output\n",
    "Ci sono anche funzioni senza output, che non restituiscono un risultato ma, ad esempio, eseguono solo una stampa. La stessa funzione `print()` NON restituisce un valore in output. Le funzioni che *non hanno l'istruzione* `return` o in cui il `return` non è seguito da nulla non restituiscono alcun valore. Per la precisione, una funzione che non restituisce alcun valore in realtà restituisce il valore speciale `None`. Vediamo un esempio:"
   ]
  },
  {
   "cell_type": "code",
   "execution_count": 2,
   "metadata": {},
   "outputs": [
    {
     "name": "stdout",
     "output_type": "stream",
     "text": [
      "14\n",
      "None\n",
      "14\n",
      "None\n"
     ]
    }
   ],
   "source": [
    "def raddoppia6(n):\n",
    "    print(2*n)\n",
    "    \n",
    "\n",
    "num = 7\n",
    "print(raddoppia6(num)) #questa print stampa il valore restituito da raddoppia6, cioè None\n",
    "ris = raddoppia6(num)\n",
    "print(ris)"
   ]
  },
  {
   "cell_type": "markdown",
   "metadata": {},
   "source": [
    "Notate che, come già detto, anche la funzione `print()` NON restituisce alcun risultato, ovvero restituisce ``. Vediamo un esempio:"
   ]
  },
  {
   "cell_type": "code",
   "execution_count": null,
   "metadata": {},
   "outputs": [],
   "source": [
    "x = print('prova')\n",
    "print(x)"
   ]
  },
  {
   "cell_type": "markdown",
   "metadata": {},
   "source": [
    "### Effetti collaterali\n",
    "Quando una funzione modifica lo stato del sistema, e.g., crea un fila, effettua una stampa, modifica le variabili globali (*di tipo mutabile*) o i parametri, si dice che la sua esecuzione ha avuto un *effetto collaterale*. Lo schema completo di una funzione può essere rappresentato così:\n",
    "<img src=\"Immagini/Funzione2.png\" alt=\"drawing\" width=\"400\"/>\n",
    "\n",
    "Anche se in alcuni casi gli effetti collaterali sono utili per motivi di efficienza, hanno però lo svantaggio di rendere le funzioni meno facilmente riutilizzabili. Vedremo esempi quando parleremo di tipi mutabili, come ad esempio le *liste*.\n",
    "Si pensi, ad esempio, a una funzione *sin(x)* che oltre a calcolare il seno di x effettui una stampa o addirttura modifichi il valore della x..."
   ]
  },
  {
   "cell_type": "markdown",
   "metadata": {},
   "source": [
    "### Buone regole nella definizione di una funzione\n",
    "Ci sono alcune regole da seguire quando si definisce una funzione:\n",
    "1. I dati di input della funzione devono *preferibilmente* essere tutti compresi nei parametri della funzione. **Evitate quindi (tranne casi eccezionali) di accedere direttamente alle variabili globali**\n",
    "2. Il risultato **deve** essere restituito con l'istruzione `return`. **Non usate il `print()`** per restituire il risultato\n",
    "3. Ridurre al minimo l'uso degli *effetti collaterali*\n",
    "\n",
    "Tutte queste regole servono a ridurre la possibilità di errori, ma anche ad aumentare la riutilizzabilità della funzione all'interno dello stesso programma od anche di programmi diversi. Vediamo come esempio la funzione `raddoppia7()`, questa funzione è *difficilmente riutilizzabile* perché ha bisogno che esista una variabile globale che si chiama `numero` e che contiene il valore da raddoppiare. Se nel programma avete usato un altro nome, questa funzione non verrà eseguita correttamente:"
   ]
  },
  {
   "cell_type": "code",
   "execution_count": null,
   "metadata": {},
   "outputs": [],
   "source": [
    "#Esempio di funzione che NON riceve i dati come parametri ma accede ad una variabile globale.\n",
    "#Rende la funzione molto rigida e difficilmente utilizzabile in un altro programma\n",
    "#che NON abbia la variabile numero definita\n",
    "\n",
    "def raddoppia7():\n",
    "    k = 2*numero\n",
    "    return k\n",
    "\n",
    "numero = 7\n",
    "doppio = raddoppia7()\n",
    "print(doppio)"
   ]
  },
  {
   "cell_type": "markdown",
   "metadata": {},
   "source": [
    "### Esempio: funzione isPari\n",
    "Scriviamo il nostro programma che controlla, in forma di funzione, se un numero è pari."
   ]
  },
  {
   "cell_type": "code",
   "execution_count": null,
   "metadata": {},
   "outputs": [],
   "source": [
    "def isPari(n):\n",
    "    if n % 2 == 0:\n",
    "        return True\n",
    "    else:\n",
    "        return False\n",
    "    \n",
    "num = 7\n",
    "while not isPari(num):\n",
    "    print('Numero non pari:', num)\n",
    "    num = int(input('Inserisci nuovo numero intero pari: '))\n",
    "\n",
    "print(num)"
   ]
  },
  {
   "cell_type": "markdown",
   "metadata": {
    "tags": []
   },
   "source": [
    "### Salvare una funzione in un file e poi richiamarla\n",
    "Le funzioni definite, fino ad ora, le abbiamo inserite all'inizio dello stesso file del programma. In Python, le funzioni devono essere definite *prima* di essere utilizzate e quindi devono essere *prima* anche nel file. C'è però un'alternativa molto più comoda, le funzioni possono essere salvate all'interno di un file e poi essere soltanto *importate* all'interno del programma che le usa, come abbiamo già fatto per le funzioni predefinite di Python tipo quelle del modulo `math`. Il nome del modulo è quello del file in cui avete salvato le funzioni. *Attenzione che il file deve essere (di regola) nella stessa directory del file del programma* (vedi dopo per ulteriori dettagli)"
   ]
  },
  {
   "cell_type": "code",
   "execution_count": null,
   "metadata": {},
   "outputs": [],
   "source": [
    "from mieFunzioni import isPari\n",
    "\n",
    "num = int(input('Inserisci numero intero pari: '))\n",
    "while not isPari(num):\n",
    "    print('Numero non pari:', num)\n",
    "    num = int(input('Inserisci nuovo numero intero pari: '))\n",
    "\n",
    "print(num)"
   ]
  },
  {
   "cell_type": "markdown",
   "metadata": {
    "tags": []
   },
   "source": [
    "### Dove cerca la import di Python?\n",
    "Per chi vuole sapere dove Python cerca le librerie di funzioni e, eventualmente, metterci anche le sue, eseguire il seguente programma:"
   ]
  },
  {
   "cell_type": "code",
   "execution_count": 3,
   "metadata": {},
   "outputs": [
    {
     "name": "stdout",
     "output_type": "stream",
     "text": [
      "['/Users/beppes/Uni Roma Sapienza Dropbox/Giuseppe Santucci/Doc_dida/Introduzione alla Programmazione/2023-2024/Notebooks nuova scaletta/09Funzioni (avanzato)', '/Users/beppes/Library/jupyterlab-desktop/jlab_server/lib/python38.zip', '/Users/beppes/Library/jupyterlab-desktop/jlab_server/lib/python3.8', '/Users/beppes/Library/jupyterlab-desktop/jlab_server/lib/python3.8/lib-dynload', '', '/Users/beppes/Library/jupyterlab-desktop/jlab_server/lib/python3.8/site-packages']\n"
     ]
    }
   ],
   "source": [
    "import sys\n",
    "\n",
    "print(sys.path)\n",
    "#oppure create una directory dove volete e aggiungetela a sys.path...\n",
    "sys.path.append(r'/Users/beppes/Documents/Librerie Python') #notare la r...\n"
   ]
  },
  {
   "cell_type": "markdown",
   "metadata": {},
   "source": [
    "### Doppio return (uscire appena scopro quello che cerco…)\n",
    "Finora abbiamo visto funzioni che avevano una sola istruzione `return`, ma se le funzioni sono complesse possono avere *molte* istruzioni `return`. Notate però che nel momento in cui viene eseguita un'istruzione `return` *l'esecuzione della funzione termina*, anche se ci sono altre istruzioni all'interno della funzione. Vediamo un esempio:"
   ]
  },
  {
   "cell_type": "code",
   "execution_count": null,
   "metadata": {},
   "outputs": [],
   "source": [
    "def raddoppiaModulo(n):\n",
    "    if n >= 0:\n",
    "        return 2*n\n",
    "        print('La funzione ha restituito il valore',2*n)\n",
    "    return -2*n\n",
    "    print('La funzione ha restituito il valore',-2*n)\n",
    "    \n",
    "num = int(input('Inserisci un numero: '))\n",
    "doppio = raddoppiaModulo(num)\n",
    "print(doppio)"
   ]
  },
  {
   "cell_type": "markdown",
   "metadata": {},
   "source": [
    "Vediamo esempio con la funzione `isPrimo(n)` che inseriremo nel file mieFunzioni (per semplicità 1 viene considerato primo in questo esempio)"
   ]
  },
  {
   "cell_type": "code",
   "execution_count": null,
   "metadata": {},
   "outputs": [],
   "source": [
    "def isPrimo(n):\n",
    "    if n==1 or n==2:\n",
    "        return True\n",
    "    maxdivisore = int(1+n**0.5)\n",
    "    for i in range(2,maxdivisore):\n",
    "        if n % i == 0:\n",
    "            return False #se trovo un divisore posso IMMEDIATAMENTE --> False   \n",
    "    return True #se non ho trovato alcun divisore restituisco risultato True\n",
    "\n",
    "for i in range(1,50):\n",
    "    if isPrimo(i):\n",
    "        print(i,'',end='')"
   ]
  },
  {
   "cell_type": "markdown",
   "metadata": {},
   "source": [
    "### Costruzione incrementale risultato\n",
    "in molte funzioni, non possiamo restituire direttamente il risultato (come negli esempi visti), ma la soluzione va costruita *incrementalmente* (usando, ad esempio, cicli con accumulatori). Vediamo come definire una funzione che riceve in ingresso una stringa e restituisce come risultato la stessa stringa da cui sono stati eliminati tutti i caratteri *non alfabetici*."
   ]
  },
  {
   "cell_type": "code",
   "execution_count": null,
   "metadata": {},
   "outputs": [],
   "source": [
    "def rimuovoNonAlpha(s):\n",
    "    ris = ''\n",
    "    for c in s:\n",
    "        if c.isalpha():\n",
    "            ris += c\n",
    "    return ris\n",
    "\n",
    "stringa = input('Inserisci una stringa: ')\n",
    "pulita = rimuovoNonAlpha(stringa)\n",
    "print(pulita)"
   ]
  },
  {
   "cell_type": "code",
   "execution_count": null,
   "metadata": {},
   "outputs": [],
   "source": [
    "#Variante che NON restituisce il risultato, ma lo stampa a schermo\n",
    "#Rende la funzione difficilmente utilizzabile\n",
    "\n",
    "def rimuovoNonAlpha2(s):\n",
    "    ris = ''\n",
    "    for c in s:\n",
    "        if c.isalpha():\n",
    "            ris += c\n",
    "    print(ris)\n",
    "\n",
    "stringa = input('Inserisci una stringa: ')\n",
    "pulita = rimuovoNonAlpha2(stringa)\n",
    "print(pulita)"
   ]
  },
  {
   "cell_type": "markdown",
   "metadata": {},
   "source": [
    "### Il test delle funzioni\n",
    "Per verificare il corretto funzionamento delle funzioni che definiamo è importante testarne il funzionamento su più dati di ingresso e verificare la correttezza dell'output che producono. Per semplificare questo controllo vi mettiamo a disposizione la funzione ** tester_fun(function, input_data, output_data)** sviluppata per questo corso che prende in input:\n",
    "1. Il nome della funzione\n",
    "2. Una lista dello specifico insieme di ingressi della funzione (gli input vanno quindi scritti in ordine all'interno delle parentesi quadre '[' e ']')\n",
    "3. L'output **corretto** corripondente allo specifico input\n",
    "\n",
    "Come buona regola, raccomandiamo di scrivere alcuni test **prima** di scrivere il codice della funzione, in modo che i test non dipendano dalla vostra soluzione, ma verifichino il comportamento della funzione in presenza di un certo dato di input (in altri termini, verifichiamo che la soluzione scritta sia rispondente alle specifiche almeno per i dati di input forniti). Vediamo alcuni esempi:"
   ]
  },
  {
   "cell_type": "code",
   "execution_count": null,
   "metadata": {
    "scrolled": true
   },
   "outputs": [],
   "source": [
    "from tester import tester_fun\n",
    "\n",
    "def raddoppia(n):\n",
    "    return 2*n\n",
    "\n",
    "tester_fun(raddoppia, [2], 4)\n",
    "tester_fun(raddoppia, [4], 8)"
   ]
  },
  {
   "cell_type": "markdown",
   "metadata": {},
   "source": [
    "### Esempio: \n",
    "Scrivi una funzione che prende in input una stringa ed un carattere e restituisce il numero di occorrenze del carattere nella stringa (implementazione semplificata di count)"
   ]
  },
  {
   "cell_type": "code",
   "execution_count": null,
   "metadata": {},
   "outputs": [],
   "source": [
    "from tester import tester_fun\n",
    "\n",
    "def contaCarattere(s,c):\n",
    "    \"\"\"MODIFICARE IL CONTENUTO DI QUESTA FUNZIONE PER SVOLGERE L'ESERCIZIO\"\"\"\n",
    "\n",
    "tester_fun(contaCarattere, ['ciao mamma','a'], 3)\n",
    "tester_fun(contaCarattere, ['ciao mamma','x'], 0)\n",
    "tester_fun(contaCarattere, ['ciao mamma','i'], 1)\n",
    "tester_fun(contaCarattere, ['','i'], 0)\n"
   ]
  },
  {
   "cell_type": "code",
   "execution_count": null,
   "metadata": {},
   "outputs": [],
   "source": [
    "from tester import tester_fun\n",
    "\n",
    "def contaCarattere(s,c):\n",
    "    conta = 0\n",
    "    for car in s:\n",
    "        if car==c:\n",
    "            conta += 1\n",
    "    return conta\n",
    "\n",
    "tester_fun(contaCarattere, ['ciao mamma','a'], 3)\n",
    "tester_fun(contaCarattere, ['ciao mamma','x'], 0)\n",
    "tester_fun(contaCarattere, ['ciao mamma','i'], 1)\n",
    "tester_fun(contaCarattere, ['','i'], 0)"
   ]
  },
  {
   "cell_type": "markdown",
   "metadata": {},
   "source": [
    "### Parametri opzionali\n",
    "Molte funzioni (e metodi) possono avere dei parametri *opzionali*, cioè che possono essere presenti o meno quando usate (chiamate) le funzioni. Abbiamo già visto molti esempi, come la funzione `range()` che può avere 1, 2 o 3 parametri, e molti metodi (ad esempio il metodo `count()`, in cui al primo parametro può seguire un secondo parametro che indica l'indice da cui iniziare a contare, ed un terzo, che indica l'indice (escluso) fino al quale contare). Vediamo come possiamo specificare che un parametro è opzionale:\n",
    "\n",
    "```python\n",
    "def incrementa(n, incremento=1):\n",
    "    return n+incremento\n",
    "```\n",
    "\n",
    "In questo caso, il parametro opzionale è `incremento` e si differenzia perché gli viene asssegnato un *valore di default*. In pratica, questo vuol dire che la funzione ha in realtà 2 parametri, ma se il secondo non viene specificato allora gli viene assegnato il valore di default. Vediamo un esempio:"
   ]
  },
  {
   "cell_type": "code",
   "execution_count": null,
   "metadata": {},
   "outputs": [],
   "source": [
    "def incrementa(n,incremento=1):\n",
    "    return n+incremento\n",
    "\n",
    "x = 5\n",
    "print(incrementa(x))\n",
    "\n",
    "print(incrementa(x,3))\n",
    "\n",
    "print(x)"
   ]
  },
  {
   "cell_type": "markdown",
   "metadata": {},
   "source": [
    "### Regole parametri opzionali\n",
    "Le regole da rispettare nella definzione di funzioni con parametri opzionali sono:\n",
    "1. I parametri opzionali devono essere gli *ultimi* nella lista dei parametri. Cioè non ci possono essere parametri *non opzionali* dopo un parametro opzionale.\n",
    "2. Se ci sono più parametri opzionali, questi vanno specificati in ordine e *non è possibile* specificare un parametro successivo e *non specificare* uno precedente\n",
    "\n",
    "La regola 2 ammette un'eccezione che ora vedremo nel secondo esempio"
   ]
  },
  {
   "cell_type": "code",
   "execution_count": null,
   "metadata": {},
   "outputs": [],
   "source": [
    "def incrementa2(n,passo=1, lunghezza=1):\n",
    "    return n+passo*lunghezza\n",
    "\n",
    "x = 5\n",
    "print(incrementa2(x))\n",
    "print(incrementa2(x,3))\n",
    "# il secondo parametro si riferisce al passo, non alla lunghezza\n",
    "print(incrementa2(x,3,2))\n",
    "\n",
    "print(x)"
   ]
  },
  {
   "cell_type": "code",
   "execution_count": null,
   "metadata": {},
   "outputs": [],
   "source": [
    "def incrementa2(n,passo=1, lunghezza=1):\n",
    "    return n+passo*lunghezza\n",
    "\n",
    "x = 5\n",
    "print(incrementa2(x))\n",
    "print(incrementa2(x,lunghezza=3))\n",
    "# il secondo parametro si riferisce alla lunghezza\n",
    "print(incrementa2(x,3,2))"
   ]
  },
  {
   "cell_type": "markdown",
   "metadata": {},
   "source": [
    "### Esercizio: implementazione di count\n",
    "Come esempio proviamo a scrivere noi una funzione che si comporti come il metodo `count()` delle stringhe."
   ]
  },
  {
   "cell_type": "code",
   "execution_count": null,
   "metadata": {},
   "outputs": [],
   "source": [
    "from tester import tester_fun\n",
    "\n",
    "def conta(s,c,start=0,end=None):\n",
    "    \"\"\"MODIFICARE IL CONTENUTO DI QUESTA FUNZIONE PER SVOLGERE L'ESERCIZIO\"\"\"\n",
    "\n",
    "tester_fun(conta,['palla','a'],2)\n",
    "tester_fun(conta,['pallina','a',2],1)\n",
    "tester_fun(conta,['pallina','a',2,4],0)\n",
    "tester_fun(conta,['pallina','ll'],1)"
   ]
  },
  {
   "cell_type": "code",
   "execution_count": null,
   "metadata": {},
   "outputs": [],
   "source": [
    "from tester import tester_fun\n",
    "\n",
    "#implementa il count\n",
    "def conta(s,c,start=0,end=None):\n",
    "    s1 = s[start:end]\n",
    "    num = 0\n",
    "    if c=='':\n",
    "        return len(s1)+1 #comportamento analogo a s1.count('')\n",
    "    for i in range(len(s1) + 1 - len(c)):\n",
    "        #print(s1[i:i+len(c)],i+start)\n",
    "        if s1[i:i+len(c)] == c:\n",
    "            num = num + 1\n",
    "    return num\n",
    "\n",
    "tester_fun(conta,['palla','a'],2)\n",
    "tester_fun(conta,['pallina','a',2],1)\n",
    "tester_fun(conta,['pallina','a',2,4],0)\n",
    "tester_fun(conta,['pallina','ll'],1)"
   ]
  },
  {
   "cell_type": "code",
   "execution_count": null,
   "metadata": {},
   "outputs": [],
   "source": [
    "#implementa il count e lo testa confrontandolo con il count all'interno di un while\n",
    "def conta(s,c,start=0,end=None):\n",
    "    s1 = s[start:end]\n",
    "    num = 0\n",
    "    if c=='':\n",
    "        return len(s1)+1\n",
    "    for i in range(len(s1) + 1 - len(c)):\n",
    "        #print(s1[i:i+len(c)])\n",
    "        if s1[i:i+len(c)] == c:\n",
    "            num = num + 1\n",
    "    return num\n",
    "\n",
    "continua = 's'\n",
    "while continua != 'n':\n",
    "    s = input('Inserisci la stringa: ')\n",
    "    c = input('Inserisci il carattere da cercare: ')\n",
    "    n1 = int(input('Inserisci start: '))\n",
    "    n2 = int(input('Inserisci end: '))\n",
    "    print('Nostro valore (ignora start e end):',conta(s,c),'Valore del count',s.count(c))\n",
    "    print('Nostro valore (ignora end):',conta(s,c,n1),'Valore del count',s.count(c,n1))\n",
    "    print('Nostro valore:',conta(s,c,n1,n2),'Valore del count',s.count(c,n1,n2))\n",
    "    continua = input('Continua ? (s/n)')"
   ]
  },
  {
   "cell_type": "markdown",
   "metadata": {},
   "source": [
    "### Esercizio: implementazione di find\n",
    "Come esempio proviamo a scrivere noi una funzione che si comporti come il metodo `find()` delle stringhe."
   ]
  },
  {
   "cell_type": "code",
   "execution_count": null,
   "metadata": {},
   "outputs": [],
   "source": [
    "from tester import tester_fun\n",
    "\n",
    "def trova(s,c, start = 0, end =None):\n",
    "    \"\"\"MODIFICARE IL CONTENUTO DI QUESTA FUNZIONE PER SVOLGERE L'ESERCIZIO\"\"\"\n",
    "    \n",
    "tester_fun(trova,['palla','a'],1)\n",
    "tester_fun(trova,['pallina','a',2],6)\n",
    "tester_fun(trova,['pallina','a',2,4],-1)\n",
    "tester_fun(trova,['pallina','ll'],2)"
   ]
  },
  {
   "cell_type": "code",
   "execution_count": null,
   "metadata": {},
   "outputs": [],
   "source": [
    "from tester import tester_fun\n",
    "\n",
    "# implementa find\n",
    "def trova(s,c, start=0, end=None):\n",
    "    s1 = s[start:end]    \n",
    "    if not c in s1:\n",
    "        return -1\n",
    "    for i in range(len(s1) + 1 - len(c)):\n",
    "        if c == s1[i:i+len(c)]:\n",
    "            return i + start\n",
    "\n",
    "tester_fun(trova,['palla','a'],1)\n",
    "tester_fun(trova,['pallina','a',2],6)\n",
    "tester_fun(trova,['pallina','a',2,4],-1)\n",
    "tester_fun(trova,['pallina','ll'],2)"
   ]
  },
  {
   "cell_type": "code",
   "execution_count": null,
   "metadata": {},
   "outputs": [],
   "source": [
    "# implementa find e lo testa confrontandolo con il find all'interno di un while\n",
    "def trova(s,c, start = 0, end =None):\n",
    "    s1 = s[start:end]    \n",
    "    if not c in s1:\n",
    "        return -1\n",
    "    for i in range(len(s1) + 1 - len(c)):\n",
    "        if c == s1[i:i+len(c)]:\n",
    "            return i + start\n",
    "\n",
    "continua = 's'\n",
    "s = input('Inserisci la stringa: ')\n",
    "while continua.lower() != 'n':\n",
    "    print('ricerca su:',s)\n",
    "    c = input('Inserisci il carattere da cercare: ')\n",
    "    n1 = int(input('Inserisci start: '))\n",
    "    n2 = int(input('Inserisci end: '))\n",
    "    print('Nostra posizione:',trova(s,c),'Posizione del find ',s.find(c))\n",
    "    print('Nostra posizione con start:',trova(s,c,n1),'Posizione del find',s.find(c,n1))\n",
    "    print('Nostra posizione con start ed end:',trova(s,c,n1,n2),'Posizione del find ',s.find(c,n1,n2))\n",
    "    continua = input('Continua ? (s/n)')"
   ]
  },
  {
   "cell_type": "markdown",
   "metadata": {},
   "source": [
    "### Esercizio: implementazione di rfind\n",
    "Come esempio proviamo a scrivere noi una funzione che si comporti come il metodo `rfind()` delle stringhe."
   ]
  },
  {
   "cell_type": "code",
   "execution_count": null,
   "metadata": {},
   "outputs": [],
   "source": [
    "from tester import tester_fun\n",
    "\n",
    "def trovad(s,c, start = 0, end = None):\n",
    "    \"\"\"MODIFICARE IL CONTENUTO DI QUESTA FUNZIONE PER SVOLGERE L'ESERCIZIO\"\"\"\n",
    "\n",
    "tester_fun(trovad,['palla','a'],4)\n",
    "tester_fun(trovad,['pallina','a',2],6)\n",
    "tester_fun(trovad,['pallina','a',1,4],1)\n",
    "tester_fun(trovad,['pasticciaccio','cc'],9)"
   ]
  },
  {
   "cell_type": "code",
   "execution_count": null,
   "metadata": {},
   "outputs": [],
   "source": [
    "from tester import tester_fun\n",
    "\n",
    "def trovad(s,c, start = 0, end = None):\n",
    "    s1 = s[start:end]\n",
    "    \n",
    "    if c not in s1:\n",
    "        return -1\n",
    "    \n",
    "    for i in range(len(s1) - len(c),-1,-1):\n",
    "        if c == s1[i:i+len(c)]:\n",
    "            return i + start\n",
    "\n",
    "tester_fun(trovad,['palla','a'],4)\n",
    "tester_fun(trovad,['pallina','a',2],6)\n",
    "tester_fun(trovad,['pallina','a',1,4],1)\n",
    "tester_fun(trovad,['pasticciaccio','cc'],9)"
   ]
  },
  {
   "cell_type": "code",
   "execution_count": null,
   "metadata": {},
   "outputs": [],
   "source": [
    "# implementa rfind e lo testa confrontandolo con il rfind all'interno di un while\n",
    "def trovad(s,c, start = 0, end = None):\n",
    "    s1 = s[start:end]\n",
    "    \n",
    "    if not c in s1:\n",
    "        return -1\n",
    "    \n",
    "    for i in range(len(s1) - len(c),-1,-1):\n",
    "        if c == s1[i:i+len(c)]:\n",
    "            return i + start\n",
    "\n",
    "continua = 's'\n",
    "while continua != 'n':\n",
    "    s = input('Inserisci la stringa: ')\n",
    "    c = input('Inserisci il carattere da cercare: ')\n",
    "    n1 = int(input('Inserisci start: '))\n",
    "    n2 = int(input('Inserisci end: '))\n",
    "    print('Nostra posizione (ignora start e end):',trovad(s,c),'Posizione del find',s.rfind(c))\n",
    "    print('Nostra posizione (ignora end):',trovad(s,c,n1),'Posizione del find',s.rfind(c,n1))\n",
    "    print('Nostra posizione:',trovad(s,c,n1,n2),'Posizione del find',s.rfind(c,n1,n2))\n",
    "    continua = input('Continua ? (s/n)')"
   ]
  },
  {
   "cell_type": "markdown",
   "metadata": {},
   "source": [
    "### Esercizi\n",
    "Completate questi esercizi prima di cominciare il prossimo argomento"
   ]
  },
  {
   "cell_type": "markdown",
   "metadata": {},
   "source": [
    "### Esercizio 1:\n",
    "Scrivere una funzione che prende in input un numero n e restituisce il suo fattoriale. Il fattoriale di 0 deve restituire 1."
   ]
  },
  {
   "cell_type": "code",
   "execution_count": null,
   "metadata": {},
   "outputs": [],
   "source": [
    "from tester import tester_fun\n",
    "    \"\"\"MODIFICARE IL CONTENUTO DI QUESTA FUNZIONE PER SVOLGERE L'ESERCIZIO\"\"\"\n",
    "\n",
    "def fattoriale(n):\n",
    "\n",
    "tester_fun(fattoriale,[4],24)\n",
    "tester_fun(fattoriale,[5],120)\n",
    "tester_fun(fattoriale,[10],3628800)\n",
    "tester_fun(fattoriale,[21],51090942171709440000)\n",
    "tester_fun(fattoriale,[0],1)"
   ]
  },
  {
   "cell_type": "markdown",
   "metadata": {},
   "source": [
    "### Esercizio 2:\n",
    "Scrivere una funzione che prende in input un numero intero positivo n e restituisce il suo massimo divisore diverso da n. Se il numero è primo deve restituire 1."
   ]
  },
  {
   "cell_type": "code",
   "execution_count": null,
   "metadata": {
    "scrolled": true
   },
   "outputs": [],
   "source": [
    "from tester import tester_fun\n",
    "\n",
    "def maxdivisore(n):\n",
    "    \"\"\"MODIFICARE IL CONTENUTO DI QUESTA FUNZIONE PER SVOLGERE L'ESERCIZIO\"\"\"\n",
    "\n",
    "tester_fun(maxdivisore,[24],12)\n",
    "tester_fun(maxdivisore,[9],3)\n",
    "tester_fun(maxdivisore,[175],35)\n",
    "tester_fun(maxdivisore,[231],77)\n",
    "tester_fun(maxdivisore,[131],1)"
   ]
  },
  {
   "cell_type": "markdown",
   "metadata": {},
   "source": [
    "### Esercizio 3: \n",
    "Scrivere una funzione che prende in input una stringa e restuituisce il carattere più frequente. Se ci sono più caratteri con la stessa frequenza, restituisce il primo incontrato, se la stringa in input è vuota restituisce una stringa vuota."
   ]
  },
  {
   "cell_type": "code",
   "execution_count": null,
   "metadata": {
    "scrolled": true
   },
   "outputs": [],
   "source": [
    "from tester import tester_fun\n",
    "\n",
    "def maxfreq(s):\n",
    "    \"\"\"MODIFICARE IL CONTENUTO DI QUESTA FUNZIONE PER SVOLGERE L'ESERCIZIO\"\"\"\n",
    "\n",
    "\n",
    "tester_fun(maxfreq,['palla'],'a')\n",
    "tester_fun(maxfreq,['pallone'],'l')\n",
    "tester_fun(maxfreq,['casa bianca di piero e sergio'],' ')\n",
    "tester_fun(maxfreq,['palla casa pallone'],'a')\n",
    "tester_fun(maxfreq,[''],'')"
   ]
  },
  {
   "cell_type": "markdown",
   "metadata": {},
   "source": [
    "### Esercizio 4:\n",
    "Scrivete una funzione che prende in input due stringhe s1 ed s2 e restituisce una nuova stringa composta dai caratteri di s1 seguiti dai caratteri di s2, **MA SENZA RIPETIZIONI**."
   ]
  },
  {
   "cell_type": "code",
   "execution_count": null,
   "metadata": {},
   "outputs": [],
   "source": [
    "from tester import tester_fun\n",
    "\n",
    "def collegaNoRipetizioni(s1,s2):\n",
    "    \"\"\"MODIFICARE IL CONTENUTO DI QUESTA FUNZIONE PER SVOLGERE L'ESERCIZIO\"\"\"\n",
    "    \n",
    "\n",
    "tester_fun(collegaNoRipetizioni,['casa', 'dolce casa'],'casdole ')\n",
    "tester_fun(collegaNoRipetizioni,['pallina dentro','un cassetto bianco'],'palin detroucsb')\n",
    "tester_fun(collegaNoRipetizioni,['pallina dentro un cassetto bianco estremamente pieno',''],'palin detroucsbm')\n",
    "tester_fun(collegaNoRipetizioni,['aaaaaaaaaaaaaaaaaaaaaaaaaaaaaab','bbbbbbbbbbbbbbbbbbbbbbbba'],'ab')\n",
    "tester_fun(collegaNoRipetizioni,['',''],'')"
   ]
  },
  {
   "cell_type": "markdown",
   "metadata": {},
   "source": [
    "### Esercizio 5:\n",
    "Scrivete una funzione che prende in input una stringa s, composta solo da caratteri alfabetici e spazi bianchi (' '), e restituisce la lunghezza della parola più lunga. Si assuma che le parole siano sempre separate da spazi. *Suggerimento* usate il metodo *find()* per trovare la posizione degli spazi bianche nella stringa."
   ]
  },
  {
   "cell_type": "code",
   "execution_count": null,
   "metadata": {},
   "outputs": [],
   "source": [
    "from tester import tester_fun\n",
    "\n",
    "def maxlung(s):\n",
    "    \"\"\"MODIFICARE IL CONTENUTO DI QUESTA FUNZIONE PER SVOLGERE L'ESERCIZIO\"\"\"\n",
    "\n",
    "tester_fun(maxlung,['casa dolce casa'],5)\n",
    "tester_fun(maxlung,['pallina dentro un cassetto bianco'],8)\n",
    "tester_fun(maxlung,['pallina dentro un cassetto bianco estremamente pieno'],12)\n",
    "tester_fun(maxlung,[''],0)\n",
    "tester_fun(maxlung,['pallina dentro un cassetto bianco estremamente'],12)"
   ]
  },
  {
   "cell_type": "markdown",
   "metadata": {},
   "source": [
    "### Esercizio 6:\n",
    "Scrivete una funzione `sostituisci` che si comporti come il metodo replace delle stringhe"
   ]
  },
  {
   "cell_type": "code",
   "execution_count": null,
   "metadata": {},
   "outputs": [],
   "source": [
    "from tester import tester_fun\n",
    "\n",
    "def sostituisci(s,c1,c2,count=None):\n",
    "    \"\"\"MODIFICARE IL CONTENUTO DI QUESTA FUNZIONE PER SVOLGERE L'ESERCIZIO\"\"\"\n",
    "\n",
    "tester_fun(sostituisci,['palla','a','e'],'pelle')\n",
    "tester_fun(sostituisci,['pallina','a','o'],'pollino')\n",
    "tester_fun(sostituisci,['pallina','a','o',1],'pollina')\n",
    "tester_fun(sostituisci,['pallina','al','er',1],'perlina')\n",
    "tester_fun(sostituisci,['palla casa pallone','ll','l',1],'pala casa pallone')"
   ]
  }
 ],
 "metadata": {
  "kernelspec": {
   "display_name": "Python 3 (ipykernel)",
   "language": "python",
   "name": "python3"
  },
  "language_info": {
   "codemirror_mode": {
    "name": "ipython",
    "version": 3
   },
   "file_extension": ".py",
   "mimetype": "text/x-python",
   "name": "python",
   "nbconvert_exporter": "python",
   "pygments_lexer": "ipython3",
   "version": "3.8.13"
  }
 },
 "nbformat": 4,
 "nbformat_minor": 4
}
