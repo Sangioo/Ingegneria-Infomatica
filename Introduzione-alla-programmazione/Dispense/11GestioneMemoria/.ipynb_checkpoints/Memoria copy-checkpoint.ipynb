{
 "cells": [
  {
   "cell_type": "markdown",
   "metadata": {
    "slideshow": {
     "slide_type": "slide"
    }
   },
   "source": [
    "#### Autori: Domenico Lembo, Giuseppe Santucci and Marco Schaerf\n",
    "\n",
    "[Dipartimento di Ingegneria informatica, automatica e gestionale](https://www.diag.uniroma1.it)\n",
    "\n",
    "<img src=\"https://mirrors.creativecommons.org/presskit/buttons/88x31/png/by-nc-sa.eu.png\"\n",
    "     alt=\"License\"\n",
    "     style=\"float: left;\"\n",
    "     height=\"40\" width=\"100\" />\n",
    "This notebook is distributed with license Creative Commons *CC BY-NC-SA*"
   ]
  },
  {
   "cell_type": "markdown",
   "metadata": {},
   "source": [
    "# Gestione in memoria degli oggetti mutabili\n",
    "1. Gestione della memoria: stack ed heap\n",
    "2. Passaggio e gestione parametri di tipo immutabile\n",
    "3. Passaggio e modifica parametri di tipo lista \n",
    "    - 3.1 Esempi di funzioni su liste: modifica elemento di una lista\n",
    "    - 3.2 Cicli che modificano il numero di elementi in una lista \n",
    "        - 3.2.1 Esempio: Pulizia lista\n",
    "        - 3.2.2 Esempio: Elimina la prima occorrenza\n",
    "        - 3.2.3 Esempio: Elimina tutte le occorrenze\n",
    "4. Confronto fra metodi ed operatori sulle liste\n",
    "    - 4.1 Confronto fra append e +\n",
    "    - 4.2 Uso di slice per appendere elementi ad una lista\n",
    "    - 4.3 Approfondimento su `insert()` e `extend()`\n",
    "    - 4.4 Approfondimento su  `pop()`\n",
    "    - 4.5 Differenza fra  `l.sort()` e `sorted(l)`\n",
    "    - 4.6 Copia di liste\n",
    "    - 4.7 Inizializzazione di una lista"
   ]
  },
  {
   "cell_type": "markdown",
   "metadata": {},
   "source": [
    "## Gestione della memoria: stack ed heap\n",
    "Per capire meglio la differenza tra oggetti *immutabili* (come numeri e stringhe) ed oggetti *mutabili* (come liste) è importante avere chiaro come i linguaggi di programmazione e i sistemi operativi gestiscono la memoria. Quello che presenteremo è una versione **semplificata** di come funziona veramente il gestore della memoria, ma dovrebbe essere sufficiente per il nostro scopo.\n",
    "\n",
    "Possiamo pensare alla memoria centrale del nostro computer come divisa in varie parti:\n",
    "* Area di memoria del Codice: Area dove viene memorizzato il codice (istruzioni) del nostro programma\n",
    "* Area di memoria dei dati: Area dove vengono memorizzati i dati del nostro programma\n",
    "* Area di lavoro di tipo Stack: Area di lavoro (**privata di ogni programma/funzione**) che contiene i dati *statici* del programma/funzione. Questa zona (di ogni programma/funzione) si chiama generalmente *frame* ed esiste solo per il periodo in cui il programma/funzione è in esecuzione.\n",
    "* Area di lavoro di tipo Heap: Area di lavoro (**comune a tutti i programmi/funzioni**) che contiene i dati *dinamici* di ogni programma/funzione. Rimane occupata anche dopo la terminazione del programma/funzione se non liberata (*memory garbage*, spesso ripulita dai cosiddetti *garbage collectors*)\n",
    "\n",
    "In modo riassuntivo possiamo pensare ad una struttura fatta così, con i due casi in cui ci sia un solo programma/funzione in esecuzione o più di uno:\n",
    "\n",
    "<!--\n",
    "<a title=\"By TomV13 [CC BY-SA 3.0 \n",
    " (https://creativecommons.org/licenses/by-sa/3.0\n",
    ")], from Wikimedia Commons\" href=\"https://commons.wikimedia.org/wiki/File:Single_vs_multithreaded_processes.jpg\"><img width=\"512\" alt=\"Single vs multithreaded processes\" src=\"https://upload.wikimedia.org/wikipedia/commons/thumb/e/e3/Single_vs_multithreaded_processes.jpg/512px-Single_vs_multithreaded_processes.jpg\"></a>\n",
    "-->\n",
    "\n",
    "![Immagine non disponibile](Immagini/Single_vs_multithreaded_processes.jpg)\n",
    "\n",
    "\n",
    "Il *frame* del programma principale viene normalmente chiamato *global frame*. Il *frame* di ogni programma/funzione viene quindi creato nello stack ed ha, di regola, una dimensione fissa e contiene, oltre ad altre informazioni, **Tutte le variabili** del programma/funzione.\n",
    "\n",
    "**Ci sono però importanti differenze nel modo in cui variabili di diversi tipi vengono gestite in Python**. In particolare, la differenza fondamentale è tra:\n",
    "1. Tipi immmutabili (numeri, stringhe, ..): viene memorizzato all'interno del frame sia la variabile che la zona di memoria corrispondente\n",
    "2. Tipi mutabili (liste, dizionari, ...): viene memorizzato all'interno del frame solo la variabile, mentre la zona di memoria corrispondente si trova nell'heap\n",
    "\n",
    "Usando il sito web [Python Tutor](http://www.pythontutor.com/), vediamo un [esempio](https://goo.gl/p3XCdG) di esecuzione su questo programma:\n",
    "```Python\n",
    "def aggiungi1(l,n):\n",
    "    l.append(n)\n",
    "\n",
    "def aggiungi2(l,n):\n",
    "    l2=l.copy()\n",
    "    l2.append(n)\n",
    "    return l2\n",
    "\n",
    "lista = [2,4,5]\n",
    "n = 7\n",
    "aggiungi1(lista,n)\n",
    "print(lista)\n",
    "lista2 = aggiungi2(lista,n)\n",
    "print(lista,lista2)\n",
    "```"
   ]
  },
  {
   "cell_type": "markdown",
   "metadata": {},
   "source": [
    "## Passaggio e modifica parametri di tipo immutabile"
   ]
  },
  {
   "cell_type": "code",
   "execution_count": null,
   "metadata": {},
   "outputs": [],
   "source": [
    "## Cosa succede ad a e b ??\n",
    "def ScambiaVar(x,y):\n",
    "    z = x\n",
    "    x = y\n",
    "    y = z\n",
    "    \n",
    "a = 3\n",
    "b = 4\n",
    "ScambiaVar(a,b)\n",
    "print(a,b)  "
   ]
  },
  {
   "cell_type": "markdown",
   "metadata": {},
   "source": [
    "## Passaggio e modifica parametri di tipo lista \n",
    "Siccome le liste sono tipi di dato *mutabili* è possibile modificarle all'interno di una funzione, ottenendo in questo modo un effetto collaterale. Possono essere modificati all'interno della funzione sia i parametri (**più corretto**) che le variabili globali (**da evitare, se possibile**). Vediamo degli esempi (anche su Python Tutor [qui](https://goo.gl/YLBhtN)):"
   ]
  },
  {
   "cell_type": "code",
   "execution_count": null,
   "metadata": {},
   "outputs": [],
   "source": [
    "def raddoppiaUltimo(l): # riceve in ingresso un parametro e lo modifica\n",
    "    if len(l) > 0:\n",
    "        l.append(l[-1])\n",
    "\n",
    "def raddoppiaUltimo2(): # modifica direttamente una variabile globale (NON RACCOMANDATO)\n",
    "    if len(lista) > 0:\n",
    "        lista.append(lista[-1])\n",
    "\n",
    "lista = [2,4,5]\n",
    "print('Prima della chiamata di funzione:',lista)\n",
    "raddoppiaUltimo(lista)\n",
    "print('Dopo la chiamata di funzione:',lista)\n",
    "raddoppiaUltimo2()\n",
    "print('Dopo la chiamata della funzione 2:',lista)"
   ]
  },
  {
   "cell_type": "markdown",
   "metadata": {},
   "source": [
    "Si noti quindi che quando all'interno di una funzione si vuole modificare una variabile globale che si riferisce ad un tipo di dato mutabile **non** si deve dichiarare questa variabile `global`(come avviene per tipi di dato immutabili) "
   ]
  },
  {
   "cell_type": "markdown",
   "metadata": {},
   "source": [
    "### Esempi di funzioni su liste: modifica elemento di una lista\n",
    "Vediamo ora come scrivere una funzione che riceve in ingresso una lista di numeri interi e la modifica raddoppiando tutti gli elementi positivi (anche su Python Tutor [qui](https://goo.gl/KMLG1B)):"
   ]
  },
  {
   "cell_type": "code",
   "execution_count": null,
   "metadata": {},
   "outputs": [],
   "source": [
    "def raddPos(l):\n",
    "    for i in range(len(l)):\n",
    "        if l[i] > 0:\n",
    "            l[i] = 2*l[i]\n",
    "            \n",
    "numeri = [3, -2, 1, 6, 0]\n",
    "raddPos(numeri)\n",
    "print(numeri)"
   ]
  },
  {
   "cell_type": "markdown",
   "metadata": {},
   "source": [
    "**Versione NON corretta**\n",
    "\n",
    "Notate che il ciclo è sulle posizioni, non sugli elementi. Infatti, la versione con in ciclo sugli elementi non modifica la lista (anche su Python Tutor [qui](https://goo.gl/gvBmdf)):"
   ]
  },
  {
   "cell_type": "code",
   "execution_count": null,
   "metadata": {},
   "outputs": [],
   "source": [
    "def raddPos(l):\n",
    "    for el in l:\n",
    "        if el > 0:\n",
    "            el = 2*el\n",
    "            \n",
    "numeri = [3, -2, 1, 6, 0]\n",
    "raddPos(numeri)\n",
    "print(numeri)"
   ]
  },
  {
   "cell_type": "markdown",
   "metadata": {},
   "source": [
    "### Cicli che modificano il numero di elementi in una lista: \n",
    "\n",
    "#### Esempio: Pulizia lista\n",
    "Scrivere una funzione che prende in ingresso una lista `l` e rimuove da `l` tutti gli elementi che NON sono stringhe.\n",
    "\n",
    "**Nota:** per ottenere il tipo di una variabile `x` si usa la funzione `type(x)`. Il tipo stringa è denotato in Python da `str` (altri tipi sono `int`, `float`, `list`, `tuple`, ecc.). Con l'operatore `is` è poi possibile confrontare il tipo restituito da `type()` con il tipo `str`."
   ]
  },
  {
   "cell_type": "code",
   "execution_count": null,
   "metadata": {},
   "outputs": [],
   "source": [
    "# prima versione - uso del for che itera sugli elementi della lista\n",
    "\n",
    "#La funzione type() restituisce il tipo dell'elemento e la condizione\n",
    "#(type(l[i]) is not str) ci dice se l'elemento NON è una stringa.\n",
    "\n",
    "\n",
    "def rimuoviNonStringhe(l):\n",
    "    for elem in l:\n",
    "        if type(elem) is not str:\n",
    "            l.remove(elem)\n",
    "\n",
    "\n",
    "lista = [3, 'alla', 'pelle', 9.1, 'casa']\n",
    "\n",
    "print(lista)\n",
    "rimuoviNonStringhe(lista)\n",
    "print(lista)            \n",
    "            \n",
    "lista = [3, 5, 'alla', 'pelle', 9.1, 'casa']\n",
    "\n",
    "print(lista)\n",
    "rimuoviNonStringhe(lista)\n",
    "print(lista)"
   ]
  },
  {
   "cell_type": "markdown",
   "metadata": {},
   "source": [
    "Vediamo l'esecuzione in PythonTutor [qui](https://pythontutor.com/visualize.html#code=%23%20prima%20versione%20-%20uso%20del%20for%20che%20itera%20sugli%20elementi%20della%20lista%0A%0A%23La%20funzione%20type%28%29%20restituisce%20il%20tipo%20dell'elemento%20e%20la%20condizione%0A%23%28type%28l%5Bi%5D%29%20is%20not%20str%29%20ci%20dice%20se%20l'elemento%20NON%20%C3%A8%20una%20stringa.%0A%0A%0Adef%20rimuoviNonStringhe%28l%29%3A%0A%20%20%20%20for%20elem%20in%20l%3A%0A%20%20%20%20%20%20%20%20if%20type%28elem%29%20is%20not%20str%3A%0A%20%20%20%20%20%20%20%20%20%20%20%20l.remove%28elem%29%0A%0A%0Alista%20%3D%20%5B3,%20'alla',%20'pelle',%209.1,%20'casa'%5D%0A%0Aprint%28lista%29%0ArimuoviNonStringhe%28lista%29%0Aprint%28lista%29%20%20%20%20%20%20%20%20%20%20%20%20%0A%20%20%20%20%20%20%20%20%20%20%20%20%0Alista%20%3D%20%5B3,%205,%20'alla',%20'pelle',%209.1,%20'casa'%5D%0A%0Aprint%28lista%29%0ArimuoviNonStringhe%28lista%29%0Aprint%28lista%29&cumulative=false&curInstr=33&heapPrimitives=nevernest&mode=display&origin=opt-frontend.js&py=3&rawInputLstJSON=%5B%5D&textReferences=false). Dopo aver eliminato un elemento in posizione `i`, tutti gli elementi che lo seguono vengono spostati all’indietro di una posizione. All’iterazione successiva il ciclo `for` assegna ad `elem` l’elemento di `l` nella posizione `i+1`, e quindi “salta” al di là dell’elemento che era il successivo prima dell’eliminazione.\n",
    "\n",
    "Risolviamo facendo una copia della lista ed iterando su questa."
   ]
  },
  {
   "cell_type": "code",
   "execution_count": null,
   "metadata": {},
   "outputs": [],
   "source": [
    "# seconda versione (corretta) - uso del for che itera su una copia della lista\n",
    "\n",
    "def rimuoviNonStringhe(l):\n",
    "    l2=l.copy()\n",
    "    for elem in l2:\n",
    "        if type(elem) is not str:\n",
    "            l.remove(elem)\n",
    "\n",
    "lista = [3, 5, 'alla', 'pelle', 9.1, 'casa']\n",
    "\n",
    "print(lista)\n",
    "rimuoviNonStringhe(lista)\n",
    "print(lista)"
   ]
  },
  {
   "cell_type": "markdown",
   "metadata": {},
   "source": [
    "Vedi l'esecuzione su [PythonTutor](https://pythontutor.com/visualize.html#code=def%20rimuoviNonStringhe%28l%29%3A%0A%20%20%20%20l2%3Dl.copy%28%29%0A%20%20%20%20for%20elem%20in%20l2%3A%0A%20%20%20%20%20%20%20%20if%20type%28elem%29%20is%20not%20str%3A%0A%20%20%20%20%20%20%20%20%20%20%20%20l.remove%28elem%29%0A%0Alista%20%3D%20%5B3,%205,%20'alla',%20'pelle',%209.1,%20'casa'%5D%0A%0Aprint%28lista%29%0ArimuoviNonStringhe%28lista%29%0Aprint%28lista%29&cumulative=false&curInstr=0&heapPrimitives=nevernest&mode=display&origin=opt-frontend.js&py=3&rawInputLstJSON=%5B%5D&textReferences=false).\n",
    "\n",
    "Notiamo inoltre che non è possibile risolvere il problema precedente iterando sugli indici."
   ]
  },
  {
   "cell_type": "code",
   "execution_count": null,
   "metadata": {},
   "outputs": [],
   "source": [
    "# terza versione (errata) - uso del for che itera sugli indici\n",
    "\n",
    "def rimuoviNonStringhe2(l):\n",
    "    for i in range(len(l)):\n",
    "        # print(\"la variabile i è pari a \",i)\n",
    "        # print(\"la lista è uguale a \", l)\n",
    "        if type(l[i]) is not str:\n",
    "            l.remove(l[i])\n",
    "            \n",
    "lista = [3, 'alla', 'pelle', 9.1, 'casa']\n",
    "\n",
    "print(lista)\n",
    "rimuoviNonStringhe2(lista)\n",
    "print(lista)"
   ]
  },
  {
   "cell_type": "markdown",
   "metadata": {},
   "source": [
    "Nella funzione appena vista, in tutti i casi in cui la lista in input presenta almeno un elemento non stringa otteniamo sicuramente un IndexError. Infatti, la funzione range è eseguita una sola volta all'inizio del ciclo, e quindi genera una sequenza di interi che va da 0 a len(l)-1, dove l è la stringa iniziale (nel codice precedente len(l)-1=4). Dato però che l viene \"accorciata\" durante il ciclo, ad un certo punto il codice prova ad accedere ad una posizione non più esistente generando un IndexError. Vedi esecuzione su PythonTutor [qui](https://pythontutor.com/visualize.html#code=%23%20terza%20versione%20%28errata%29%20-%20uso%20del%20for%20che%20itera%20sugli%20indici%0A%0Adef%20rimuoviNonStringhe2%28l%29%3A%0A%20%20%20%20for%20i%20in%20range%28len%28l%29%29%3A%0A%20%20%20%20%20%20%20%20%23%20print%28%22la%20variabile%20i%20%C3%A8%20pari%20a%20%22,i%29%0A%20%20%20%20%20%20%20%20%23%20print%28%22la%20lista%20%C3%A8%20uguale%20a%20%22,%20l%29%0A%20%20%20%20%20%20%20%20if%20type%28l%5Bi%5D%29%20is%20not%20str%3A%0A%20%20%20%20%20%20%20%20%20%20%20%20l.remove%28l%5Bi%5D%29%0A%20%20%20%20%20%20%20%20%20%20%20%20%0Alista%20%3D%20%5B3,%20'alla',%20'pelle',%209.1,%20'casa'%5D%0A%0Aprint%28lista%29%0ArimuoviNonStringhe2%28lista%29%0Aprint%28lista%29&cumulative=false&curInstr=0&heapPrimitives=nevernest&mode=display&origin=opt-frontend.js&py=3&rawInputLstJSON=%5B%5D&textReferences=false)"
   ]
  },
  {
   "cell_type": "markdown",
   "metadata": {},
   "source": [
    "La soluzione consiste in questo caso nel **bloccare l’avanzamento dell’indice in caso di eliminazione**, in modo che all’iterazione successiva si consideri nuovamente la posizione appena analizzata (che contiene un nuovo elemento). Per fare questo è necessario usare un ciclo `while`."
   ]
  },
  {
   "cell_type": "code",
   "execution_count": null,
   "metadata": {
    "scrolled": true
   },
   "outputs": [],
   "source": [
    "# quarta versione (corretta) - con ciclo while\n",
    "#\n",
    "#Notate l'uso del while al posto del for per evitare problemi con\n",
    "#la modifica della lista mentre la scorriamo\n",
    "\n",
    "def rimuoviNonStringhe3(l):\n",
    "    i = 0\n",
    "    while i < len(l):\n",
    "        if type(l[i]) is not str:\n",
    "            l.remove(l[i])\n",
    "        else:\n",
    "            i = i+1 \n",
    "            # i si incrementa solo se non è stata eliminato nulla.\n",
    "\n",
    "lista = [3, 5, 'alla', 'pelle', 9.1, 'casa']\n",
    "\n",
    "print(lista)\n",
    "rimuoviNonStringhe3(lista)\n",
    "print(lista)"
   ]
  },
  {
   "cell_type": "markdown",
   "metadata": {},
   "source": [
    "#### Esempio: elimina la prima occorrenza\n",
    "scrivere una funzione python che ricevendo in ingresso una lista `l` e un elemento `elem` da rimuovere, ne rimuove la prima occorrenza (se compare nella lista) restituendo True, altrimenti restituisce False\n"
   ]
  },
  {
   "cell_type": "code",
   "execution_count": null,
   "metadata": {},
   "outputs": [],
   "source": [
    "#rimuove il primo elemento dalla lista. Restituisce True se la rimozione ha successo\n",
    "def rimuovi(l,elem):\n",
    "    if elem in l:\n",
    "        l.remove(elem)\n",
    "        return True\n",
    "    else:\n",
    "        return False\n",
    "\n",
    "k=['nel','mezzo','cammino','nel']\n",
    "\n",
    "print(k)\n",
    "print(\"rimuovo 'casa'\",rimuovi(k,'casa'))\n",
    "print(\"rimuovo 'nel'\",rimuovi(k,'nel'))\n",
    "print(k)"
   ]
  },
  {
   "cell_type": "markdown",
   "metadata": {},
   "source": [
    "#### Esempio: elimina tutte le occorrenze\n",
    "Scrivere una funzione Python che riceve in ingresso una lista `l` ed un elemento `el` e rimuove (se presente) tutte le occorrenze di `el` in `l`, restituendo True. Se l'elemento non è presente in `l`, restituisce False."
   ]
  },
  {
   "cell_type": "code",
   "execution_count": null,
   "metadata": {},
   "outputs": [],
   "source": [
    "#rimuove TUTTE le occorrenze di un elemento dalla lista.\n",
    "#Restituisce True se c'è almeno un elemento da rimuovere\n",
    "\n",
    "def rimuoviTutti(l,el):\n",
    "    rimosso =  el in l\n",
    "    while el in l:\n",
    "        l.remove(el)       \n",
    "    return rimosso\n",
    "\n",
    "k=['nel','mezzo','cammino','mezzo','giorno']\n",
    "\n",
    "print(k)\n",
    "print(\"rimuovo 'mezzo'\",rimuoviTutti(k,'mezzo'))\n",
    "print(k)\n",
    "print(\"rimuovo 'nel'\",rimuoviTutti(k,'nel'))\n",
    "print(k)\n",
    "print(\"rimuovo 'vita'\",rimuoviTutti(k,'vita'))\n",
    "print(k)"
   ]
  },
  {
   "cell_type": "markdown",
   "metadata": {},
   "source": [
    "La seguente versione che usa il `for` è invece errata.\n",
    "\n",
    "In questa soluzione infatti si effettua un ciclo for sugli elementi della lista e se l'elemento è quello da eliminare allora lo elimina. Questa soluzione crea però dei problemi in alcuni casi, dovuti al fatto che stiamo facendo un ciclo for su una lista che allo stesso tempo stiamo modificando. Poiché il ciclo for, per ottimizzare il codice, calcola solo all'inizio la sequenza su cui deve fare il ciclo e **non** si aspetta che venga modificata. Anche se iteriamo sugli elementi e non sugli indici, se ad una iterazione è stato analizzato l'elemento in posizione i, all'iterazione successiva sarà analizzato l'elemento in posizione i+1 (se esiste), e se nell'iterazione la lista è stata modificata e l'elemento in posizione i+1 è cambiato, il ciclo analizzerà il nuovo elemento (se non esiste più, il ciclo si ferma). Non sempre quindi tutti gli elementi della lista vengono effettivamente analizzati. \n",
    "\n",
    "Notate che nel caso di sotto, la prima eliminazione funziona correttamente, ma l'ultima lascia una copia dell'elemento."
   ]
  },
  {
   "cell_type": "code",
   "execution_count": null,
   "metadata": {},
   "outputs": [],
   "source": [
    "def rimuoviTuttiErr(l,el):\n",
    "    rimosso =  el in l\n",
    "    for elem in l:\n",
    "        if elem == el:\n",
    "            l.remove(elem)\n",
    "    return rimosso\n",
    "\n",
    "\n",
    "k=['nel','mezzo','giorno','giorno','cammino','giorno']\n",
    "\n",
    "print(k)\n",
    "print(\"rimuovo 'mezzo'\",rimuoviTuttiErr(k,'mezzo'))\n",
    "print(k)\n",
    "print(\"rimuovo 'vita'\",rimuoviTuttiErr(k,'vita'))\n",
    "print(k)\n",
    "print(\"rimuovo 'giorno'\",rimuoviTuttiErr(k,'giorno'))\n",
    "print(k)\n",
    "\n"
   ]
  },
  {
   "cell_type": "markdown",
   "metadata": {},
   "source": [
    "## Confronto fra metodi ed operatori sulle liste\n",
    "\n",
    "### Confronto fra append e +\n",
    "I seguenti frammenti di codice possono sembrare equivalenti. Hanno in pratica lo stesso effetto ma la gestione della memoria è diversa "
   ]
  },
  {
   "cell_type": "code",
   "execution_count": null,
   "metadata": {},
   "outputs": [],
   "source": [
    "l = [1,2,3]\n",
    "l.append(12)\n",
    "print(l)\n",
    "\n",
    "print()\n",
    "\n",
    "l = [1,2,3]\n",
    "l = l + [12] #notare l'uso di una lista contenente l'elemento 12\n",
    "print(l)"
   ]
  },
  {
   "cell_type": "markdown",
   "metadata": {},
   "source": [
    "Possiamo usare la funzione `id()` che ci restituisce un identificativo univoco per l'oggetto. Ogni oggetto ha un id differente. Intuitivamente, corrisponde all'indirizzo di memoria occupata dall'oggetto."
   ]
  },
  {
   "cell_type": "code",
   "execution_count": null,
   "metadata": {},
   "outputs": [],
   "source": [
    "l = [1,2,3]\n",
    "print(id(l))\n",
    "l.append(4)\n",
    "print(l)\n",
    "print(id(l))\n",
    "\n",
    "print()\n",
    "\n",
    "l = [1,2,3]\n",
    "print(id(l))\n",
    "l = l + [4] #notare l'uso di una lista contenente l'elemento 4\n",
    "print(l)\n",
    "print(id(l))"
   ]
  },
  {
   "cell_type": "markdown",
   "metadata": {},
   "source": [
    "Questo è particolarmente rilevante quando andiamo a scrivere delle funzioni. Esegui in [Python Tutor](https://pythontutor.com/live.html#code=def%20raddoppiaUltimo%28ls%29%3A%20%23%20riceve%20in%20ingresso%20un%20parametro%20e%20lo%20modifica%0A%20%20%20%20if%20len%28ls%29%20%3E%200%3A%0A%20%20%20%20%20%20%20%20print%28%22Identificativo%20di%20ls%20prima%20della%20modifica%22,%20id%28ls%29%29%0A%20%20%20%20%20%20%20%20%23l.append%28l%5B-1%5D%29%0A%20%20%20%20%20%20%20%20ls%20%3D%20ls%20%2B%20%5Bls%5B-1%5D%5D%0A%20%20%20%20%20%20%20%20print%28%22Identificativo%20di%20ls%20dopo%20la%20modifica%22,%20id%28ls%29%29%0A%20%20%20%20%20%20%20%20%0A%0Al%20%3D%20%5B2,4,5%5D%0Aprint%28'Prima%20della%20chiamata%20di%20funzione%3A',l%29%0Aprint%28'Identificativo%20di%20l',%20id%28l%29%29%0AraddoppiaUltimo%28l%29%0Aprint%28'Dopo%20la%20chiamata%20di%20funzione%3A',l%29%0Aprint%28'Identificativo%20di%20l',%20id%28l%29%29&cumulative=false&curInstr=0&heapPrimitives=nevernest&mode=display&origin=opt-live.js&py=3&rawInputLstJSON=%5B%5D&textReferences=false)"
   ]
  },
  {
   "cell_type": "code",
   "execution_count": null,
   "metadata": {},
   "outputs": [],
   "source": [
    "# In questa nuova versione di raddoppiaUltimo sostituiamo\n",
    "# la append con una concatenazione. Come possiamo vedere\n",
    "# questa soluzione è scorretta: la lista in input non viene \n",
    "# modificata\n",
    "\n",
    "def raddoppiaUltimo(ls): # riceve in ingresso un parametro e lo modifica\n",
    "    if len(ls) > 0:\n",
    "        print(\"Identificativo di ls prima della modifica:\", id(ls))\n",
    "        #ls.append(ls[-1])\n",
    "        ls = ls + [ls[-1]]  # sostituendo il rigo precedente con questo la modifica \n",
    "                            # non si ripercuote sulla variabile l del programma\n",
    "        print(\"Identificativo di ls dopo la modifica:\", id(ls))\n",
    "        \n",
    "\n",
    "l = [2,4,5]\n",
    "print('l prima della chiamata di funzione:',l)\n",
    "print('Identificativo di l:', id(l))\n",
    "raddoppiaUltimo(l)\n",
    "print('l dopo la chiamata di funzione:',l)\n",
    "print('Identificativo di l:', id(l))"
   ]
  },
  {
   "cell_type": "markdown",
   "metadata": {},
   "source": [
    "### Uso di slice per appendere elementi ad una lista\n",
    "\n",
    "Prima di tutto notiamo quanto segue\n",
    " \n",
    "`l=[1,2,3,4]`\n",
    "\n",
    "`l[4]`\n",
    "\n",
    "<span style=\"color:red\">Traceback (most recent call last):</span> <br>\n",
    " <span style=\"color:red\"> File \"<pyshell#155>\", line 1, in <module\\></span><br>\n",
    " <span style=\"color:red\">   l[4]</span><br>\n",
    "<span style=\"color:red\">IndexError: list index out of range</span>\n",
    "\n",
    "`l[4:4]`\n",
    "\n",
    "[ ]\n",
    " \n",
    "Mentre l’operazione di indicizzazione (`l[4]`) tenta di accedere ad una posizione che non esiste in `l`, l’operazione di slicing in cui i due indici `i` sono uguali (nell’esempio `l[4:4]`) individua la sottolista di `l` che inizia alla posizione `i`, ma non comprende questa posizione. In questi casi la sottolista è ovviamente vuota (ma va comunque considerata una sottolista di `l` posta “appena prima della posizione” `i` ).\n",
    "\n",
    "Possiamo quindi sempre appendere un elemento ad una lista `l` modificando la sua sottolista (vuota) che otteniamo tramite `l[len(l):len(l)]`.\n"
   ]
  },
  {
   "cell_type": "code",
   "execution_count": null,
   "metadata": {},
   "outputs": [],
   "source": [
    "#Ad esempio\n",
    "\n",
    "l=[1,2,3,4]\n",
    "\n",
    "l[len(l):len(l)] = [5] \n",
    "print(l)"
   ]
  },
  {
   "cell_type": "markdown",
   "metadata": {},
   "source": [
    "**Nota:** in realtà questo meccanismo funziona anche con `l[x:len(l)]`, per ogni `x >= len(l)` "
   ]
  },
  {
   "cell_type": "markdown",
   "metadata": {},
   "source": [
    "### Approfondimento su `insert()` e `extend()`\n",
    "\n",
    "`l.insert(i,elem)` inserisce l’elemento `elem` nella lista `l` in posizione `i` (se `i>=0`, `i` sarà in effetti la posizione di `elem` dopo l’inserimento; se `i<0`, la posizione dopo l'inserimento sarà `i-1`). Tutti gli elementi che si trovavano in posizione `0>=k>=i` prima dell’invocazione della `insert()` si troveranno in posizione `k+1` dopo l’invocazione della `insert()`. Si noti che `l.insert(0,elem)` inserisce `elem` in testa alla lista `l`, e `l.insert(len(l),elem))` equivale a `l.append(elem)`. \n",
    "\n",
    "Si noti anche che le seguenti istruzioni modificano `l` nello stesso modo:\n",
    " \n",
    "`l.insert(i, elem)`<br> \n",
    "`l[i:i] = [elem]`\n",
    " \n",
    "In particolare, la seconda espressione sostituisce la sottolista `[]` di `l` che si trova prima dell’elemento `i` con la lista `[elem]` (notate che è anche possibile scrivere `l[i:j] = [elem]`, con `i>j` ed avere il medesimo effetto).\n",
    "\n",
    "Il metodo `extend()` nell’invocazione `l.extend(L)` estende la lista aggiungendovi in coda tutti gli elementi della lista `L`; equivale a `l[len(l):len(l)] = L`."
   ]
  },
  {
   "cell_type": "code",
   "execution_count": null,
   "metadata": {},
   "outputs": [],
   "source": [
    "#Ad esempio\n",
    "\n",
    "l=[1,2,4]\n",
    "l[2:2]=[3] # equivale a l.insert(2,3)\n",
    "print(l)\n",
    "\n",
    "print()\n",
    "\n",
    "s=[5,6]\n",
    "\n",
    "l[len(l):len(l)] = s # equivale a l.extend(s)\n",
    "print(l)"
   ]
  },
  {
   "cell_type": "markdown",
   "metadata": {},
   "source": [
    "### Approfondimento su  `pop()`\n",
    "\n",
    "`pop(i)` rimuove l'elemento di indice `i` e lo restituisce come risultato dell'operazione. Si noti che entrambe le seguenti istruzioni modificano `l` nello stesso modo\n",
    " \n",
    "`l.pop(i)`<br>\n",
    "`l[i:i+1] = [] `\n",
    "\n",
    "anche se `l.pop(i)` in più fornisce come risultato anche l’elemento eliminato.\n",
    " \n",
    "Se non è specificato alcun indice, `l.pop()` rimuove l'ultimo elemento della lista e lo restituisce come risultato dell’operazione. \n"
   ]
  },
  {
   "cell_type": "markdown",
   "metadata": {},
   "source": [
    "### Differenza fra  `l.sort()` e `sorted(l)`\n",
    "\n",
    "`l.sort()` ordina gli elementi della lista `l` in ordine crescente, modificando `l`. Non restituisce alcun risultato. I suoi effetti sono visibili solo sulla lista `l`\n",
    "\n",
    "`sorted(l)` è una **funzione** che restituisce una **nuova lista** i cui elementi sono uguali a quelli della lista `l` ma ordinati in ordine crescente. `l` non viene modificata. L'effetto dell'ordinamento è visibile solo nella lista restituita."
   ]
  },
  {
   "cell_type": "code",
   "execution_count": null,
   "metadata": {},
   "outputs": [],
   "source": [
    "l = [3,2,4,5,1]\n",
    "print(l.sort())\n",
    "print(l)"
   ]
  },
  {
   "cell_type": "code",
   "execution_count": null,
   "metadata": {},
   "outputs": [],
   "source": [
    "l = [3,2,4,5,1]\n",
    "print(sorted(l))\n",
    "print(l)"
   ]
  },
  {
   "cell_type": "markdown",
   "metadata": {},
   "source": [
    "### Copia di liste\n",
    "\n",
    "Le due seguenti istruzioni sono equivalenti (entrambi consentono di fare una copia della lista).\n",
    "\n",
    "`s=l.copy()`<br>\n",
    "`s=l[:]`"
   ]
  },
  {
   "cell_type": "code",
   "execution_count": null,
   "metadata": {},
   "outputs": [],
   "source": [
    "l=[1,2,3]\n",
    "s = l.copy()\n",
    "print(s)\n",
    "print(\"l ed s sono uguali?\",l==s)\n",
    "print(\"l ed s sono la stessa lista?\",l is s)\n",
    "\n",
    "print()\n",
    "\n",
    "l=[1,2,3]\n",
    "s = l[:]\n",
    "print(s)\n",
    "print(\"l ed s sono uguali?\",l==s)\n",
    "print(\"l ed s sono la stessa lista?\",l is s)"
   ]
  },
  {
   "cell_type": "markdown",
   "metadata": {},
   "source": [
    "### Inizializzazione di una lista\n",
    "Inizializzare una lista vuol dire creare una lista di una certa lunghezza i cui elementi siano tutti impostati ad un valore iniziale (in genere un elemento non significativo e destinato ad essere modificato). Questo modo di procedere può essere particolarmente comodo quando dobbiamo manipolare liste di dimensione nota a priori (e che non viene modificata), in modo da allocare inizialmente tutte le componenti della lista, e successivamente popolarle con elementi significativi. Per mostrare un caso in cui è importante avere delle liste già inizializzate vediamo una funzione che somma due vettori"
   ]
  },
  {
   "cell_type": "code",
   "execution_count": null,
   "metadata": {},
   "outputs": [],
   "source": [
    "## funzione che riceve in ingresso due liste di pari dimensioni contenententi numeri interi\n",
    "## e rappresentanti due vettori, e ne restituisce la lista rappresentante il vettore somma\n",
    "\n",
    "from tester import tester_fun\n",
    "\n",
    "def sommaVettori(v1,v2):\n",
    "    length=len(v1)\n",
    "    l=[0] * length\n",
    "    for j in range(length):\n",
    "        l[j]=v1[j]+v2[j]\n",
    "    return l\n",
    "        \n",
    "tester_fun(sommaVettori,[[3,5,8],[2,3,4]],[5,8,12])\n",
    "tester_fun(sommaVettori,[[1,1,1,1],[2,2,2,2]],[3,3,3,3])"
   ]
  },
  {
   "cell_type": "markdown",
   "metadata": {},
   "source": [
    "In Python ci sono vari modi per inizializzare una lista (oltre quello visto in precedenza). In particolare è possibile usare la cosiddetta *list comprehension*"
   ]
  },
  {
   "cell_type": "code",
   "execution_count": null,
   "metadata": {},
   "outputs": [],
   "source": [
    "# creazione di una lista di 10 elementi tutti 0\n",
    "l1 = [0]*10\n",
    "print('l1=',l1)\n",
    "\n",
    "# in alternativa si può usare questa forma (i.e., list comprehension)\n",
    "l2 = [0 for i in range(10)]\n",
    "print('l2=',l2)\n",
    "\n",
    "# questa seconda forma è più flessibile, per esempio\n",
    "l3 = [i for i in range(10)]\n",
    "print('l3=',l3)\n",
    "\n",
    "# la forma precedente è del tutto equivalente al codice seguente\n",
    "l4 = []\n",
    "for i in range(10):\n",
    "    l4.append(i)\n",
    "print('l4=',l4)    "
   ]
  },
  {
   "cell_type": "markdown",
   "metadata": {},
   "source": [
    "Vediamo ora come inizializzare una **lista di liste**, tutte inizialmente vuote "
   ]
  },
  {
   "cell_type": "code",
   "execution_count": 2,
   "metadata": {
    "scrolled": true
   },
   "outputs": [
    {
     "name": "stdout",
     "output_type": "stream",
     "text": [
      "l5= [[0, 0, 0], [0, 0, 0], [0, 0, 0], [0, 0, 0]]\n",
      "l5= [[0, 1, 0], [0, 1, 0], [0, 1, 0], [0, 1, 0]]\n",
      "l6= [[0, 0, 0], [0, 0, 0], [0, 0, 0], [0, 0, 0]]\n",
      "l6= [[0, 0, 0], [0, 1, 0], [0, 0, 0], [0, 0, 0]]\n",
      "l7= [[0, 0, 0], [0, 0, 0], [0, 0, 0], [0, 0, 0]]\n",
      "4\n",
      "3\n"
     ]
    }
   ],
   "source": [
    "# Creazione di una lista di liste, tutte della stessa lunghezza. \n",
    "# Attenzione: il codice che segue crea una sola\n",
    "# lista di 3 zeri e 4 riferimenti a questa stessa lista\n",
    "l5 = [[0]*3]*4\n",
    "print('l5=',l5)\n",
    "\n",
    "l5[1][1]=1\n",
    "print('l5=',l5)\n",
    "\n",
    "# in alternativa si può usare il seguente codice\n",
    "# Attenzione: in questo caso vengono prodotte 4 liste \"diverse\" \n",
    "# (cioè 4 copie della stessa lista) di 3 zeri \n",
    "l6 = [[0 for i in range(3)] for i in range(4)]\n",
    "print('l6=',l6)\n",
    "\n",
    "l6[1][1]=1\n",
    "print('l6=',l6)\n",
    "\n",
    "# stesso codice di sopra ma con l'uso di due variabili/parametri\n",
    "m=4   #numero di sottoliste   \n",
    "n=3   #nunero di elementi in ciascuna sottolista\n",
    "l7 = [[0 for i in range(n)] for j in range(m)]\n",
    "print('l7=',l7)\n",
    "\n",
    "#print(len(l7)) #--> numero di sottoliste\n",
    "#print(len(l7[0])) #---> nunero di elementi in ciascuna sottolista"
   ]
  },
  {
   "cell_type": "markdown",
   "metadata": {},
   "source": [
    "Come evidenziato nei commenti precedenti, nel caso di inizializzazione di liste di liste l'uso della list comprehension non produce un risultato equivalente all'uso della \"moltiplicazione\" di una lista per un intero\n",
    "\n",
    "Per convincersene, si guardi anche <a href=\"https://pythontutor.com/visualize.html#code=lista1%3D%5B%5B%5D%20for%20i%20in%20range%283%29%5D%0A%0Alista2%3D%5B%5B%5D%5D*3%0A%0Alista3%20%3D%20%5B%5B0%5D*3%5D*4%0A%0Alista4%20%3D%20%5B%5B0%20for%20i%20in%20range%283%29%5D%20for%20j%20in%20range%284%29%5D%0A%0Aprint%28lista3%29%0Aprint%28lista4%29%0A%0Alista3%5B0%5D%5B1%5D%3D1%0A%0Alista4%5B0%5D%5B1%5D%3D1%0A%0Aprint%28lista3%29%0Aprint%28lista4%29&cumulative=false&curInstr=0&heapPrimitives=nevernest&mode=display&origin=opt-frontend.js&py=3&rawInputLstJSON=%5B%5D&textReferences=false\">questo codice sul Python Tutor</a>\n",
    "\n",
    "Si sottolinea infine che, come abbiamo visto, la list comprehension è molto comoda per scrivere codice in modo compatto, ma non aggiunge potere espressivo al linguaggio. Ad esempio, se dobbiamo trasformare una lista di stringhe rappresentati interi (ad esempio acqusiti da riga di comando o letti da un file di testo, come vedremo nelle prossime lezioni), è possibile usare una list comprehension per ottenere un codice Python più compatto."
   ]
  },
  {
   "cell_type": "code",
   "execution_count": null,
   "metadata": {},
   "outputs": [],
   "source": [
    "listaStringhe=['1','2','10','54','66']\n",
    "\n",
    "listaInteri=[int(s) for s in listaStringhe]\n",
    "\n",
    "print(sum(listaInteri))\n",
    "\n",
    "## è equivalente a\n",
    "\n",
    "listaInteri=[]\n",
    "for s in listaStringhe:\n",
    "    listaInteri.append(int(s))\n",
    "\n",
    "print(sum(listaInteri))"
   ]
  },
  {
   "cell_type": "markdown",
   "metadata": {},
   "source": [
    "### Esercizi\n",
    "Completate questi esercizi prima di cominciare il prossimo argomento"
   ]
  },
  {
   "cell_type": "markdown",
   "metadata": {},
   "source": [
    "### Esercizio 1: \n",
    "Scrivere una funzione Python che riceve in input una lista di stringhe e restituisce la lunghezza della stringa più lunga. "
   ]
  },
  {
   "cell_type": "code",
   "execution_count": null,
   "metadata": {},
   "outputs": [],
   "source": [
    "from tester import tester_fun\n",
    "\n",
    "def stringaMax(l):\n",
    "    \"\"\"MODIFICARE IL CONTENUTO DI QUESTA FUNZIONE PER SVOLGERE L'ESERCIZIO\"\"\"  \n",
    "\n",
    "tester_fun(stringaMax,[['casa','pippo', 'paperopoli']],10)\n",
    "tester_fun(stringaMax,[['ciao','a', '','io']],4)\n",
    "tester_fun(stringaMax,[['mario','maria','mario']],5)\n",
    "tester_fun(stringaMax,[['a','b','c']],1)\n",
    "tester_fun(stringaMax,[['abracadabra']],11)"
   ]
  },
  {
   "cell_type": "markdown",
   "metadata": {},
   "source": [
    "### Esercizio 2:\n",
    "scrivere una funzione Python che riceve in input una lista di interi e restituisce la posizione dell'ultimo elemento positivo (>= 0). Se nessun elemento è positivo deve restituire -1"
   ]
  },
  {
   "cell_type": "code",
   "execution_count": null,
   "metadata": {},
   "outputs": [],
   "source": [
    "from tester import tester_fun\n",
    "\n",
    "def ultimoPos(l):\n",
    "    \"\"\"MODIFICARE IL CONTENUTO DI QUESTA FUNZIONE PER SVOLGERE L'ESERCIZIO\"\"\"\n",
    "\n",
    "tester_fun(ultimoPos,[[5, 6, 9, 0, -2]],3)\n",
    "tester_fun(ultimoPos,[[-5, -6, -9, -2]],-1)\n",
    "tester_fun(ultimoPos,[[-10, 6, 9, 0, 2]],4)\n",
    "tester_fun(ultimoPos,[[-5, 3]],1)\n",
    "tester_fun(ultimoPos,[[5, -6, 9, 0, 2, -12, 13]],6)"
   ]
  },
  {
   "cell_type": "markdown",
   "metadata": {},
   "source": [
    "### Esercizio 3:\n",
    "Scrivere una funzione python che ricevendo in ingresso una lista `l` e una stringa `s` inserisce la stringa `s` in `l` in modo da mantenere le stringhe ordinate per lunghezza"
   ]
  },
  {
   "cell_type": "code",
   "execution_count": null,
   "metadata": {},
   "outputs": [],
   "source": [
    "from tester import tester_fun\n",
    "\n",
    "#inserisce una stringa in una lista mantenendo l'ordinamento sulla\n",
    "#lunghezza delle stringhe\n",
    "\n",
    "def inserisciStringa(l,s):\n",
    "    \"\"\"MODIFICARE IL CONTENUTO DI QUESTA FUNZIONE PER SVOLGERE L'ESERCIZIO\"\"\"\n",
    "\n",
    "tester_fun(inserisciStringa,[['nel','mezzo','cammino'],'casa'],['nel','casa','mezzo','cammino'])\n",
    "tester_fun(inserisciStringa,[['nel','casa','mezzo','cammino'],'casa'],['nel','casa','casa','mezzo','cammino'])\n",
    "tester_fun(inserisciStringa,[['nel','casa','casa','mezzo','cammino'],'vita'],['nel','casa','casa','vita','mezzo','cammino'])\n",
    "tester_fun(inserisciStringa,[['nel','casa','casa','mezzo','cammino'],'nostra'],['nel','casa','casa','mezzo','nostra','cammino'])\n",
    "tester_fun(inserisciStringa,[['nel','casa','mezzo','nostra','cammino'],'mi'],['mi','nel','casa','mezzo','nostra','cammino'])"
   ]
  },
  {
   "cell_type": "markdown",
   "metadata": {},
   "source": [
    "### Esercizio 4:\n",
    "Scrivere una funzione che prende in ingresso una lista `l` di elementi disomogenei e calcola la somma di tutti gli elementi interi."
   ]
  },
  {
   "cell_type": "code",
   "execution_count": null,
   "metadata": {},
   "outputs": [],
   "source": [
    "from tester import tester_fun\n",
    "\n",
    "def somma(l):\n",
    "    \"\"\"MODIFICARE IL CONTENUTO DI QUESTA FUNZIONE PER SVOLGERE L'ESERCIZIO\"\"\"\n",
    "\n",
    "tester_fun(somma,[[3, 5, 6.1, -1, 'casa',  11]],18)\n",
    "tester_fun(somma,[[3, 'ciao', 6.1, -1, 'casa',  11]],13)\n",
    "tester_fun(somma,[[3, 'ciao', 'roma', -1, 'casa',  11]],13)\n",
    "tester_fun(somma,[[3, -1, 11]],13)\n",
    "tester_fun(somma,[[5, 'ciao', -1, 'casa',  13]],17)"
   ]
  },
  {
   "cell_type": "markdown",
   "metadata": {},
   "source": [
    "### Esercizio 5:\n",
    "Scrivere una funzione che prende in input una lista di stringhe `l` ed un intero `i` ed elimina da `l` tutte le stringhe che hanno lunghezza maggiore di `i `"
   ]
  },
  {
   "cell_type": "code",
   "execution_count": null,
   "metadata": {},
   "outputs": [],
   "source": [
    "from tester import tester_fun\n",
    "\n",
    "def eliminaStringhe(l,i) :\n",
    "    \"\"\"MODIFICARE IL CONTENUTO DI QUESTA FUNZIONE PER SVOLGERE L'ESERCIZIO\"\"\"\n",
    "\n",
    "tester_fun(eliminaStringhe,[[\"mamma\",\"sì\",\"ciao\",\"pippo\"],2],[\"sì\"])\n",
    "tester_fun(eliminaStringhe,[[\"mamma\",\"sì\",\"ciao\",\"pippo\"],4],[\"sì\", \"ciao\"])\n",
    "tester_fun(eliminaStringhe,[[\"mamma\",\"sì\",\"ciao\",\"pippo\"],5],[\"mamma\",\"sì\",\"ciao\",\"pippo\"])\n",
    "tester_fun(eliminaStringhe,[[\"mamma\",\"sì\",\"ciao\",\"pippo\"],0],[])\n",
    "tester_fun(eliminaStringhe,[[\"assolo\",\"io\"],4],[\"io\"])"
   ]
  },
  {
   "cell_type": "markdown",
   "metadata": {},
   "source": [
    "### Esercizio 6:\n",
    "Scrivere un funzione che prende in input 2 liste di stringhe ordinate per lunghezza e crea una nuova lista dalla fusione (merge) delle 2 liste preservando l'ordinamento per lunghezza. Nel caso di stringhe della stessa lunghezza, scegliere prima le stringhe della lista `l2`."
   ]
  },
  {
   "cell_type": "code",
   "execution_count": null,
   "metadata": {},
   "outputs": [],
   "source": [
    "from tester import tester_fun\n",
    "    \n",
    "def merge(l1,l2):\n",
    "    \"\"\"MODIFICARE IL CONTENUTO DI QUESTA FUNZIONE PER SVOLGERE L'ESERCIZIO\"\"\"\n",
    "\n",
    "tester_fun(merge,[['a', 'b','abc','abbcc'],['','aa','bb','cccc','ccccccc']],['','a','b','aa','bb','abc','cccc','abbcc','ccccccc'])\n",
    "tester_fun(merge,[['aa','bb'],['cccc','ccccccc']],['aa','bb','cccc','ccccccc'])\n",
    "tester_fun(merge,[[\"sì\",\"ciao\",\"mamma\",\"pippo\"],[\"io\",\"assolo\"]],[\"io\",\"sì\",\"ciao\",\"mamma\",\"pippo\",\"assolo\"])\n",
    "tester_fun(merge,[['', 'a','c'],['dd']],['', 'a','c','dd'])\n",
    "tester_fun(merge,[['alfa','omega'],['beta','gamma']],['beta','alfa','gamma','omega']) \n"
   ]
  },
  {
   "cell_type": "code",
   "execution_count": null,
   "metadata": {},
   "outputs": [],
   "source": []
  }
 ],
 "metadata": {
  "kernelspec": {
   "display_name": "Python 3 (ipykernel)",
   "language": "python",
   "name": "python3"
  },
  "language_info": {
   "codemirror_mode": {
    "name": "ipython",
    "version": 3
   },
   "file_extension": ".py",
   "mimetype": "text/x-python",
   "name": "python",
   "nbconvert_exporter": "python",
   "pygments_lexer": "ipython3",
   "version": "3.8.13"
  }
 },
 "nbformat": 4,
 "nbformat_minor": 4
}
