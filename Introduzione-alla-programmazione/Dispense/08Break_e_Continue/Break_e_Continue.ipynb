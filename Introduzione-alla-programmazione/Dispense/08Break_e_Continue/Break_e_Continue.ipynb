{
 "cells": [
  {
   "cell_type": "markdown",
   "metadata": {
    "slideshow": {
     "slide_type": "slide"
    }
   },
   "source": [
    "#### Autori: Domenico Lembo, Antonella Poggi, Giuseppe Santucci and Marco Schaerf\n",
    "\n",
    "[Dipartimento di Ingegneria informatica, automatica e gestionale](https://www.diag.uniroma1.it)\n",
    "\n",
    "<img src=\"https://mirrors.creativecommons.org/presskit/buttons/88x31/png/by-nc-sa.eu.png\"\n",
    "     alt=\"License\"\n",
    "     style=\"float: left;\"\n",
    "     height=\"40\" width=\"100\" />\n",
    "This notebook is distributed with license Creative Commons *CC BY-NC-SA*"
   ]
  },
  {
   "cell_type": "markdown",
   "metadata": {},
   "source": [
    "# Le istruzioni break e continue\n",
    "1. Istruzione `break`\n",
    "2. Istruzione `continue`\n",
    "3. Uso di `break` e `continue` nel ciclo `for`\n",
    "4. Esempio complesso con uso del `break`"
   ]
  },
  {
   "cell_type": "markdown",
   "metadata": {},
   "source": [
    "### Istruzione `break`\n",
    "\n",
    "Python prevede due istruzioni, **break** e  **continue** che alterano la normale esecuzione di un ciclo `while`  o `for`. Si è visto che l’esecuzione di un’istruzione iterativa espressa con l'istruzione `while` termina quando, all’inizio di un’iterazione, l’espressione condizionale risulta falsa, mentre una istruzione iterativa espressa con l'istruzione `for` termina quando l'intera sequenza di valori su cui si sta iterando è stata processata.\n",
    "\n",
    "Per concludere l’esecuzione di un’istruzione iterativa è anche possibile usare l’istruzione **break**. \n",
    "\n",
    "Questa istruzione **può essere usata solo all’interno di un’istruzione iterativa**, in un qualsiasi punto della sequenza di istruzioni da ripetere.\n",
    "\n",
    "Di norma l’istruzione break *viene scritta all’interno di un’istruzione condizionale all'interno di un’istruzione iterativa*, per concludere l’esecuzione di quest’ultima nel caso in cui si verifichi una data condizione.\n",
    "\n",
    "Quando l’interprete incontra l’istruzione break conclude immediatamente l’esecuzione dell’istruzione iterativa, e passa a eseguire l’istruzione successiva."
   ]
  },
  {
   "cell_type": "code",
   "execution_count": null,
   "metadata": {},
   "outputs": [],
   "source": [
    "# Programma che riceve in input un numero intero\n",
    "# positivo e verifica se è un numero primo\n",
    "\n",
    "n = int(input(\"Inserire un numero naturale maggiore di 1: \"))\n",
    "\n",
    "i = 2 \n",
    "limite = n-1 #massimo numero da considerare per verificare se c'è un divisore\n",
    "\n",
    "while i <= limite:\n",
    "    if n%i == 0:\n",
    "        print('numero non primo')\n",
    "        break\n",
    "    i += 1 \n",
    "if i > limite: \n",
    "    print('numero primo')"
   ]
  },
  {
   "cell_type": "markdown",
   "metadata": {},
   "source": [
    "Notate che il `break` non aggiunge potere espressivo al linguaggio, ma in alcuni casi consente di scrivere un codice più compatto o efficiente. E' comunque sempre possibile riscrivere un ciclo in cui compare il `break` in modo che il `break` non sia usato."
   ]
  },
  {
   "cell_type": "code",
   "execution_count": null,
   "metadata": {},
   "outputs": [],
   "source": [
    "# Programma che riceve in input un numero intero\n",
    "# positivo e verifica se è un numero primo\n",
    "# versione senza break\n",
    "\n",
    "n = int(input(\"Inserire un numero naturale maggiore di 1: \"))\n",
    "primo = True\n",
    "i = 2 \n",
    "limite = n-1 #massimo numero da considerare per verificare se c'è un divisore\n",
    "\n",
    "while i <= limite and primo:\n",
    "    if n%i == 0:\n",
    "        primo = False\n",
    "    i += 1 \n",
    "if primo:\n",
    "    print('numero primo')\n",
    "else:\n",
    "    print('numero non primo')"
   ]
  },
  {
   "cell_type": "markdown",
   "metadata": {},
   "source": [
    "### Istruzione `continue`\n",
    "\n",
    "Analogamente all’istruzione break, l’istruzione **continue può essere solo usata all’interno di un ciclo**, e normalmente è scritta all’interno di un’istruzione condizionale presente nel ciclo **per interrompere l’esecuzione di UNA iterazione** nel caso in cui si verifichi una data condizione.\n",
    "\n",
    "Quindi, diversamente dal break, l’istruzione continue non causa l’interruzione del ciclo, spostando quindi il controllo alla istruzione immediatamente dopo il ciclo (se presente),  ma interrompe solo l’esecuzione dell’iterazione in corso, e sposta il controllo all’inizio del ciclo stesso. \n",
    "\n",
    "Dopo l’esecuzione dell’istruzione continue l’iterazione sarà quindi valutata nuovamente."
   ]
  },
  {
   "cell_type": "code",
   "execution_count": null,
   "metadata": {},
   "outputs": [],
   "source": [
    "# Programma che stampa tutti i numeri da 9 a 0 tranne il 5\n",
    "\n",
    "var = 10\n",
    "while var > 0:              \n",
    "    var = var -1\n",
    "    if var == 5:\n",
    "        continue\n",
    "    print(\"valore variabile corrente:\", var)\n",
    "print(\"fine!\")"
   ]
  },
  {
   "cell_type": "code",
   "execution_count": null,
   "metadata": {},
   "outputs": [],
   "source": [
    "# Programma che stampa tutti i multipli di 3 tra 1 e 51\n",
    "\n",
    "var = 0\n",
    "while var <= 51:              \n",
    "    var = var +1\n",
    "    if var % 3 != 0:\n",
    "        continue\n",
    "    print(\"valore variabile corrente:\", var)\n",
    "print(\"fine!\")"
   ]
  },
  {
   "cell_type": "markdown",
   "metadata": {},
   "source": [
    "Notate che il `continue`, come il `break`, non aggiunge potere espressivo al linguaggio, ovvero è sempre possibile riscrivere un ciclo in cui compare il `continue`, evitendo di usarlo. "
   ]
  },
  {
   "cell_type": "code",
   "execution_count": null,
   "metadata": {},
   "outputs": [],
   "source": [
    "# Programma che stampa tutti i multipli di 3 tra 1 e 51 senza il continue\n",
    "\n",
    "var = 0\n",
    "while var <= 51:              \n",
    "    var = var +1\n",
    "    if var % 3 == 0:\n",
    "        print(\"valore variabile corrente:\", var)\n",
    "print(\"fine!\")"
   ]
  },
  {
   "cell_type": "markdown",
   "metadata": {},
   "source": [
    "### Uso di break e continue nel ciclo `for`\n",
    "\n",
    "Analogamente al ciclo `while`, anche nel ciclo `for` è possibile usare l’istruzione `break` e/o l’istruzione `continue`, con lo stesso significato visto per il `while`"
   ]
  },
  {
   "cell_type": "code",
   "execution_count": null,
   "metadata": {},
   "outputs": [],
   "source": [
    "# Programma che riceve in input un numero intero\n",
    "# positivo e verifica se è un numero primo\n",
    "\n",
    "# versione con for e break\n",
    "\n",
    "n = int(input('Inserire un numero naturale maggiore di 1: '))\n",
    "\n",
    "for i in range(2,n) :\n",
    "    if n % i == 0 :\n",
    "        print ('numero non primo')\n",
    "        break\n",
    "if n==2 or n % i != 0:\n",
    "    print ('numero primo')\n",
    "    \n",
    "# notiamo che se non si entra nel ciclo (caso di n \n",
    "# uguale a 2) la variabile divisore non viene \n",
    "# inizializzata e pertanto questi casi vanno trattati \n",
    "# esplicitamente dopo il ciclo."
   ]
  },
  {
   "cell_type": "markdown",
   "metadata": {
    "tags": []
   },
   "source": [
    "Di seguito forniamo una versione del programma che cerca e conta tutti i numeri primi tra 1 e k>2."
   ]
  },
  {
   "cell_type": "code",
   "execution_count": 1,
   "metadata": {
    "tags": []
   },
   "outputs": [
    {
     "name": "stdout",
     "output_type": "stream",
     "text": [
      "1 2 3 5 7 11 13 17 19 23 29 31 37 41 43 47 53 59 61 67 71 73 79 83 89 97 101 103 107 109 113 127 131 137 139 149 151 157 163 167 173 179 181 191 193 197 199 211 223 227 229 233 239 241 251 257 263 269 271 277 281 283 293 307 311 313 317 331 337 347 349 353 359 367 373 379 383 389 397 401 409 419 421 431 433 439 443 449 457 461 463 467 479 487 491 499 503 509 521 523 541 547 557 563 569 571 577 587 593 599 601 607 613 617 619 631 641 643 647 653 659 661 673 677 683 691 701 709 719 727 733 739 743 751 757 761 769 773 787 797 809 811 821 823 827 829 839 853 857 859 863 877 881 883 887 907 911 919 929 937 941 947 953 967 971 977 983 991 997 \n",
      "divisioni= 498501\n",
      "numeri primi= 169\n"
     ]
    }
   ],
   "source": [
    "k=1000\n",
    "\n",
    "divisioni=0   #ne serviranno 498501 per scoprire 169 primi\n",
    "primi=2   # 1 e 2 sono primi\n",
    "print(1,2,'',end='')\n",
    "for n in range(3,k+1):           \n",
    "    primo=True\n",
    "    limite=n-1                   \n",
    "    for i in range (2,limite+1):                  \n",
    "        divisioni+=1\n",
    "        if n%i==0:\n",
    "            primo=False #il numero non è primo                                \n",
    "    if primo:\n",
    "        print(n, '', end='')\n",
    "        primi+=1\n",
    "print('\\ndivisioni=',divisioni)   \n",
    "print('numeri primi=',primi)  \n"
   ]
  },
  {
   "cell_type": "markdown",
   "metadata": {
    "tags": []
   },
   "source": [
    "Di seguito forniamo una versione **ottimizzata** del programma che cerca e conta tutti i numeri primi tra 1 e k>2."
   ]
  },
  {
   "cell_type": "code",
   "execution_count": 4,
   "metadata": {
    "tags": []
   },
   "outputs": [
    {
     "name": "stdout",
     "output_type": "stream",
     "text": [
      "1 2 3 5 7 11 13 17 19 23 29 31 37 41 43 47 53 59 61 67 71 73 79 83 89 97 101 103 107 109 113 127 131 137 139 149 151 157 163 167 173 179 181 191 193 197 199 211 223 227 229 233 239 241 251 257 263 269 271 277 281 283 293 307 311 313 317 331 337 347 349 353 359 367 373 379 383 389 397 401 409 419 421 431 433 439 443 449 457 461 463 467 479 487 491 499 503 509 521 523 541 547 557 563 569 571 577 587 593 599 601 607 613 617 619 631 641 643 647 653 659 661 673 677 683 691 701 709 719 727 733 739 743 751 757 761 769 773 787 797 809 811 821 823 827 829 839 853 857 859 863 877 881 883 887 907 911 919 929 937 941 947 953 967 971 977 983 991 997 \n",
      "divisioni= 4789\n",
      "numeri primi= 169\n"
     ]
    }
   ],
   "source": [
    "k=1000\n",
    "\n",
    "divisioni=0   #ne serviranno 498501 nel caso non ottimizzato per contare 169 primi\n",
    "primi=2   # 1 e 2 sono primi\n",
    "print(1,2,'',end='')\n",
    "for n in range(3,k+1,2):           #ottimizzazione: solo i dispari for n in range(3,k+1,2) 249001 divisioni\n",
    "    primo=True\n",
    "    limite = int(n**0.5)               #ottimizzazione limite = int(n**0.5)  9800 divisioni\n",
    "    for i in range (2,limite+1):                  \n",
    "        divisioni+=1\n",
    "        if n%i==0:\n",
    "            primo=False #il numero non è primo\n",
    "            break                    #ottimizzazione break appena scopro che non è primo 4789 divisioni\n",
    "    if primo:\n",
    "        print(n, '', end='')\n",
    "        primi+=1\n",
    "print('\\ndivisioni=',divisioni)   \n",
    "print('numeri primi=',primi)  \n",
    "\n",
    "#N.B. il break è solo un possibile modo per ottimizzare il ciclo interno"
   ]
  },
  {
   "cell_type": "markdown",
   "metadata": {
    "tags": []
   },
   "source": [
    "### Esempio complesso con uso del `break`\n",
    "\n",
    "Vediamo ora un esercizio per la conversione di un numerale da base 2-16 a base 10 e inseriamo dei controlli per verificare che l'input inserito da utente sia corretto. In particolare, il programma chiede ripetutamente all'utente di inserire una base fino a quando non ne inserisce una corretta. Successivamente chiede all'utente di inserire un numerale nella base specificata e se il numerale non è nella base indicata, restituisce un messaggio di errore, altrimenti restituisce il numerale convertito in base 10. In entrambi i casi, chiede all'utente se vuole effettuare una nuova conversione e, in caso di risposta affermativa, chiede nuovamente la base, altrimenti termina. Aiutiamoci con il `break` all'interno del ciclo `for` interno."
   ]
  },
  {
   "cell_type": "code",
   "execution_count": null,
   "metadata": {},
   "outputs": [
    {
     "name": "stdin",
     "output_type": "stream",
     "text": [
      "inserisci la base (2..16):  66\n"
     ]
    },
    {
     "name": "stdout",
     "output_type": "stream",
     "text": [
      "inserito un input errato per la base\n"
     ]
    },
    {
     "name": "stdin",
     "output_type": "stream",
     "text": [
      "inserisci la base (2..16):  55\n"
     ]
    },
    {
     "name": "stdout",
     "output_type": "stream",
     "text": [
      "inserito un input errato per la base\n"
     ]
    }
   ],
   "source": [
    "finito=False\n",
    "while not finito:\n",
    "    \n",
    "    #-----------\n",
    "    base=input(\"inserisci la base (2..16): \")\n",
    "    if not (base.isdecimal() and (2<=int(base)<=16)):\n",
    "        print('inserito un input errato per la base')\n",
    "        continue\n",
    "    base=int(base)\n",
    "    s=input(\"numerale in base \"+str(base)+\": \")\n",
    "    valore=0\n",
    "    potenza=len(s)-1\n",
    "    errore = False\n",
    "    for c in s:\n",
    "        if not (c.isdecimal() or c in \"ABCDEF\"):\n",
    "            print('inserito un numerale errato per la base')\n",
    "            errore=True\n",
    "            break\n",
    "        if c in \"ABCDEF\":\n",
    "            c = ord(c)-ord(\"A\")+10\n",
    "        else:\n",
    "            c=int(c)\n",
    "        if not (0<=c<base):\n",
    "            print('inserito un numerale errato per la base')\n",
    "            errore = True\n",
    "            break\n",
    "        valore=valore+c*base**potenza\n",
    "        potenza=potenza-1\n",
    "    if not errore:\n",
    "        print(s,\"vale\",valore)\n",
    "    #------------\n",
    "    s1=input(\"----Finisco (si/no)? \")\n",
    "    finito=s1.lower()==\"si\""
   ]
  },
  {
   "cell_type": "markdown",
   "metadata": {
    "tags": []
   },
   "source": [
    "### Invito alla cautela\n",
    "\n",
    "L'uso sistematico di `break` e `continue` rende il codice non strutturato e poco leggibile. "
   ]
  },
  {
   "cell_type": "markdown",
   "metadata": {},
   "source": [
    "### Esercizi\n",
    "Completate questi esercizi prima di cominciare il prossimo argomento"
   ]
  },
  {
   "cell_type": "markdown",
   "metadata": {},
   "source": [
    "### Esercizio 1: \n",
    "Scrivete un programma (usando il `break` per efficienza) che legge in input una stringa s ed un numero intero n e stampa il primo carattere di s il cui codice Unicode sia un multiplo di n."
   ]
  },
  {
   "cell_type": "code",
   "execution_count": null,
   "metadata": {},
   "outputs": [],
   "source": []
  },
  {
   "cell_type": "markdown",
   "metadata": {},
   "source": [
    "### Esercizio 2:\n",
    "Scrivete un programma (usando il `break`) che legge in input due interi positivi calcola il loro massimo comun divisore e lo stampa a schermo."
   ]
  },
  {
   "cell_type": "code",
   "execution_count": null,
   "metadata": {},
   "outputs": [],
   "source": []
  },
  {
   "cell_type": "markdown",
   "metadata": {},
   "source": [
    "### Esercizio 3:\n",
    "Scrivere un programma (usando il `break` ed il `for`) che legge in input una stringa e verifica se ci sia una doppia, cioè due lettere alfabetiche uguali consecutive. In caso positivo stampa 'SI', in caso negativo 'NO'"
   ]
  },
  {
   "cell_type": "code",
   "execution_count": null,
   "metadata": {},
   "outputs": [],
   "source": []
  }
 ],
 "metadata": {
  "kernelspec": {
   "display_name": "Python 3 (ipykernel)",
   "language": "python",
   "name": "python3"
  },
  "language_info": {
   "codemirror_mode": {
    "name": "ipython",
    "version": 3
   },
   "file_extension": ".py",
   "mimetype": "text/x-python",
   "name": "python",
   "nbconvert_exporter": "python",
   "pygments_lexer": "ipython3",
   "version": "3.8.17"
  }
 },
 "nbformat": 4,
 "nbformat_minor": 4
}
