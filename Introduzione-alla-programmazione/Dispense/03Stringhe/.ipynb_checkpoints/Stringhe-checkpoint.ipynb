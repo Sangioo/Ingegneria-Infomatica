{
 "cells": [
  {
   "cell_type": "markdown",
   "metadata": {
    "slideshow": {
     "slide_type": "slide"
    }
   },
   "source": [
    "#### Autori: Domenico Lembo, Giuseppe Santucci and Marco Schaerf\n",
    "\n",
    "[Dipartimento di Ingegneria informatica, automatica e gestionale](https://www.diag.uniroma1.it)\n",
    "\n",
    "<img src=\"https://mirrors.creativecommons.org/presskit/buttons/88x31/png/by-nc-sa.eu.png\"\n",
    "     alt=\"License\"\n",
    "     style=\"float: left;\"\n",
    "     height=\"40\" width=\"100\" />\n",
    "This notebook is distributed with license Creative Commons *CC BY-NC-SA*"
   ]
  },
  {
   "cell_type": "markdown",
   "metadata": {},
   "source": [
    "# Stringhe\n",
    "1. Caratteri speciali (Escape characters)\n",
    "2. Accesso al singolo carattere di una stringa\n",
    "3. Funzioni e metodi su stringhe (`len()`, `lower()`, `upper()`, `count()`, `find()`,  `rfind()`, `replace()`, `str()`,`strip()`)\n",
    "4. Funzioni `ord()` e `chr()`\n",
    "5. Slicing di stringhe\n",
    "6. Uso avanzato di replace\n",
    "7. Non modificabilità delle stringhe"
   ]
  },
  {
   "cell_type": "markdown",
   "metadata": {
    "tags": []
   },
   "source": [
    "### Caratteri speciali in Python (escape characters)\n",
    "In Python ci sono alcuni caratteri speciali *non stampabili* ma che corrispondono a comandi di impaginazione. Essi sono rappresentati internamente come singoli caratteri, ma vengono denotati da una sequenza che inizia con il simbolo \\ (backslash). I più comunemente utilizzati sono:\n",
    "\n",
    "* `\\n` Newline, quando stampato provoca l'andata a riga nuova\n",
    "* `\\t` Tab, quando stampato provoca l'inserimento di spazi (tabulazione)\n",
    "* `\\b` Backspace, quando stampato provoca la cancellazione del carattere precedente, denotato anche come `\\x08`  \n",
    "**NOTA BENE: nella versione attuale di Python (3.10.7) il \\b semra non funzionare in modo corretto.**\n",
    "\n",
    "\n",
    "Ci sono poi delle sequenze particolari che servono per denotare caratteri o situazioni speciali, ma che NON sono rappresentati come caratteri nella tabella UNICODE:\n",
    "\n",
    "\n",
    "* `\\'` Serve per stampare il carattere ' (che altrimenti verrebbe interpretato come inizio stringa)\n",
    "* `\\\"` Serve per stampare il carattere \" (che altrimenti verrebbe interpretato come inizio stringa)\n",
    "* `\\\\` Serve per stampare il carattere \\ (che altrimenti verrebbe interpretato come inizio carattere speciale)\n",
    "\n",
    "* N.B. i caratteri di controllo, anche se NON vengono stampati, fanno parte della stringa \n",
    "\n",
    "* Infine, `\\`  indica la continuazione della riga, quando si va a capo scrivendo una istruzione Python. NON fa parte della stringa o dellla istruzione in cui compare e NON può separare nomi di funzione e di variabili\n"
   ]
  },
  {
   "cell_type": "code",
   "execution_count": 5,
   "metadata": {},
   "outputs": [
    {
     "name": "stdout",
     "output_type": "stream",
     "text": [
      "5 6\n"
     ]
    }
   ],
   "source": [
    "print(5,\\\n",
    "      6)  "
   ]
  },
  {
   "cell_type": "code",
   "execution_count": null,
   "metadata": {},
   "outputs": [],
   "source": [
    "prin\\\n",
    "t(5,6)"
   ]
  },
  {
   "cell_type": "code",
   "execution_count": 1,
   "metadata": {},
   "outputs": [
    {
     "data": {
      "text/plain": [
       "'prima prova\\x08 \\n\\ndi una \\t riga nuova con tabulazione e caratteri speciali \\', \" e \\\\'"
      ]
     },
     "execution_count": 1,
     "metadata": {},
     "output_type": "execute_result"
    }
   ],
   "source": [
    "x = 'prima \\\n",
    "prova\\b \\n\\ndi una \\t riga nuova con tabulazione e caratteri speciali \\', \\\" e \\\\'\n",
    "x"
   ]
  },
  {
   "cell_type": "markdown",
   "metadata": {},
   "source": [
    "Notate che, per queste stringhe, si ottiene un risultato diverso se visualizziamo il valore della variabile (come sopra) oppure lo stampiamo con la funzione print(), come sotto. Nel primo caso i caratteri speciali sono presenti nella stringa, nel secondo vengono eseguiti, ma non compaiono più."
   ]
  },
  {
   "cell_type": "code",
   "execution_count": null,
   "metadata": {},
   "outputs": [],
   "source": [
    "x = 'prima \\\n",
    "prova\\b \\n\\ndi una \\t riga nuova con tabulazione e caratteri speciali \\', \\\" e \\\\'\n",
    "print(x)"
   ]
  },
  {
   "cell_type": "markdown",
   "metadata": {},
   "source": [
    "### Accesso al singolo carattere di una stringa\n",
    "In Python le stringhe sono delle sequenze di caratteri ed ogni carattere della stringa è caratterizzato dalla sua posizione nella stringa. Ad esempio, nel caso della stringa s = 'palla':\n",
    "\n",
    "p|a|l|l|a\n",
    "---|---|---|---|---\n",
    "0|1|2|3|4\n",
    "\n",
    "abbiamo una stringa composta di 5 caratteri, le cui posizioni vanno da 0 a 4. Se si vuole accedere ad un singolo carattere (ad esempio in posizione 1) della stringa la notazione è s[1]."
   ]
  },
  {
   "cell_type": "code",
   "execution_count": null,
   "metadata": {},
   "outputs": [],
   "source": [
    "s = 'palla'\n",
    "s[1]"
   ]
  },
  {
   "cell_type": "markdown",
   "metadata": {},
   "source": [
    "Se proviamo ad accedere ad una posizione non presente nella stringa otteniamo un errore"
   ]
  },
  {
   "cell_type": "code",
   "execution_count": null,
   "metadata": {},
   "outputs": [],
   "source": [
    "s = 'palla'\n",
    "s[5]"
   ]
  },
  {
   "cell_type": "markdown",
   "metadata": {},
   "source": [
    "### Funzioni e metodi su stringhe\n",
    "Sulle stringhe ci sono molte funzioni (e metodi) già definite. I metodi sono funzioni speciali (funzioni delle classi) che si usano in modo leggermente diverso, come vedremo negli esempi successivi.\n",
    "\n",
    "#### funzione `len()`\n",
    "La funzione `len()` applicata ad una stringa restituisce la lunghezza della stringa (numero di caratteri, compresi gli spazi e i caratteri speciali che contano come un singolo carattere). Ad esempio, l'istruzione\n",
    "\n",
    "`len('palla')`\n",
    "\n",
    "restituisce `5`. \n",
    "\n",
    "`len('pal\\tla')` e \n",
    "\n",
    "`len('palla ')`\n",
    "\n",
    "restituiscono entrambe `6`.\n",
    "\n",
    "Ovviamente, se la stringa in input è vuota, cioè eseguiamo `len('')`, la funzione restituisce `0`"
   ]
  },
  {
   "cell_type": "code",
   "execution_count": null,
   "metadata": {},
   "outputs": [],
   "source": [
    "s = 'Pallone\\tBianco\\nrotto!'\n",
    "print('La stringa vale:',s)\n",
    "print('La sua lunghezza è:',len(s))"
   ]
  },
  {
   "cell_type": "markdown",
   "metadata": {},
   "source": [
    "Notate la differenza con quest'altra situazione, ogni spazio occupa 1 posizione"
   ]
  },
  {
   "cell_type": "code",
   "execution_count": 6,
   "metadata": {},
   "outputs": [
    {
     "name": "stdout",
     "output_type": "stream",
     "text": [
      "La stringa vale: Pallone \t Bianco \n",
      " rotto!\n",
      "La sua lunghezza è: 25\n",
      "\t B\n"
     ]
    }
   ],
   "source": [
    "s = 'Pallone \\t Bianco \\n rotto!'\n",
    "print('La stringa vale:',s)\n",
    "print('La sua lunghezza è:',len(s))\n",
    "print(s[8],s[10])"
   ]
  },
  {
   "cell_type": "markdown",
   "metadata": {
    "tags": []
   },
   "source": [
    "#### metodo `lower()`\n",
    "Il metodo `lower()` serve per convertire in minuscolo tutti i caratteri alfabetici della stringa. Essendo un metodo, non una funzione, si usa in modo leggermente diverso, cioè se vogliamo applicarlo ad una variabile di tipo stringa `s`, scriviamo `s.lower()`. *Notate che questa istruzione NON modifica il valore di `s`*, ma costruisce una nuova stringa. Infatti, se stampate il valore di `s` dopo aver eseguito l'istruzione `s.lower()` vedete che `s` NON è cambiata. "
   ]
  },
  {
   "cell_type": "code",
   "execution_count": null,
   "metadata": {},
   "outputs": [],
   "source": [
    "s = 'Pallone bianco di Paolo, non tuo!'\n",
    "print('La stringa vale:',s)\n",
    "print('La sua lunghezza è:',len(s))\n",
    "print('La stringa in minuscolo è:',s.lower())"
   ]
  },
  {
   "cell_type": "markdown",
   "metadata": {},
   "source": [
    "#### metodo `upper()`\n",
    "il metodo `upper()` converte in maiuscolo tutti i caratteri alfabetici della stringa. Anche lui NON modifica il valore di `s`"
   ]
  },
  {
   "cell_type": "code",
   "execution_count": null,
   "metadata": {},
   "outputs": [],
   "source": [
    "print('La stringa vale:',s)\n",
    "print('La stringa in maiuscolo è:',s.upper())"
   ]
  },
  {
   "cell_type": "markdown",
   "metadata": {},
   "source": [
    "#### metodo `count()`\n",
    "Il metodo `count()` conta quante volte un carattere (o più in generale un'altra stringa) compare nella stringa. Ad esempio, se voglio sapere quante `'a'` compaiono nella stringa `s` scrivo `s.count('a')`"
   ]
  },
  {
   "cell_type": "code",
   "execution_count": 8,
   "metadata": {},
   "outputs": [
    {
     "name": "stdout",
     "output_type": "stream",
     "text": [
      "La stringa vale: Pallone bianco di Paola\n",
      "4\n",
      "3\n"
     ]
    }
   ],
   "source": [
    "s = 'Pallone bianco di Paola'\n",
    "print('La stringa vale:',s)\n",
    "print(s.count('a'))\n",
    "print(s.count(' '))"
   ]
  },
  {
   "cell_type": "markdown",
   "metadata": {},
   "source": [
    "Possiamo anche vedere quante volte una stringa (di più di un carattere) compare in un'altra"
   ]
  },
  {
   "cell_type": "code",
   "execution_count": 9,
   "metadata": {},
   "outputs": [
    {
     "name": "stdout",
     "output_type": "stream",
     "text": [
      "1\n",
      "0\n"
     ]
    }
   ],
   "source": [
    "print(s.count('lo'))\n",
    "print(s.count('ca'))"
   ]
  },
  {
   "cell_type": "markdown",
   "metadata": {},
   "source": [
    "Notate che nel seguente caso la risposta è 1, poiché non si possono usare 2 volte pezzi di stringa"
   ]
  },
  {
   "cell_type": "code",
   "execution_count": null,
   "metadata": {},
   "outputs": [],
   "source": [
    "s1 = 'lololo'\n",
    "s1.count('lolo')"
   ]
  },
  {
   "cell_type": "markdown",
   "metadata": {},
   "source": [
    "Come caso particolare, quante volte la stringa vuota ('') compare all'interno di una stringa? Non c'è una soluzione ovvia, Python usa una convenzione, cioè:"
   ]
  },
  {
   "cell_type": "code",
   "execution_count": 10,
   "metadata": {},
   "outputs": [
    {
     "name": "stdout",
     "output_type": "stream",
     "text": [
      "5 4\n"
     ]
    }
   ],
   "source": [
    "s='casa'\n",
    "print(s.count(''),len(s))"
   ]
  },
  {
   "cell_type": "markdown",
   "metadata": {},
   "source": [
    "#### metodi `find()` e `rfind()`\n",
    "Il metodo `find()` trova la *prima posizione* in cui si trova un carattere (o più in generale un'altra stringa) all'interno della stringa. Ad esempio, se nella stringa `s = 'palla'` cerchiamo il carattere `'a'` (l'istruzione è `s.find('a')`) otteniamo come risultato `1` (posizione della prima `'a'` in `'palla'`). Se il carattere non compare nella stringa, il metodo restituisce il valore `-1`. Il metodo `rfind()` funziona come il metodo `find()`, ma trova la prima occorrenza *partendo dalla fine della stringa* (`rfind()` vuol dire right find, ricerca da destra). "
   ]
  },
  {
   "cell_type": "code",
   "execution_count": 12,
   "metadata": {},
   "outputs": [
    {
     "name": "stdout",
     "output_type": "stream",
     "text": [
      "La stringa vale: Pallone bianco di Paolo\n",
      "4\n",
      "22\n"
     ]
    }
   ],
   "source": [
    "s = 'Pallone bianco di Paolo'\n",
    "print('La stringa vale:',s)\n",
    "print(s.find('o'))\n",
    "print(s.rfind('o'))"
   ]
  },
  {
   "cell_type": "markdown",
   "metadata": {},
   "source": [
    "Se il carattere/stringa da cercare non compare nella stringa, allora la find restituisce il valore -1"
   ]
  },
  {
   "cell_type": "code",
   "execution_count": null,
   "metadata": {},
   "outputs": [],
   "source": [
    "s.find('lolo')"
   ]
  },
  {
   "cell_type": "markdown",
   "metadata": {},
   "source": [
    "#### metodo `replace()`\n",
    "Il metodo replace sostituisce all'interno della stringa un carattere (o più in generale un'altra stringa) con un altro carattere (o più in generale un'altra stringa). Ad esempio, sostituendo nella stringa `s = 'palla'` le `'a'` con `'e'` (l'istruzione è `s.replace('a','e')`) otteniamo come risultato `'pelle'`. *Notate che anche questa istruzione NON modifica il valore di s*, ma costruisce una nuova stringa. Infatti, se stampate il valore di `s` dopo aver eseguito il metodo replace vedete che s NON è cambiata. Notiamo infine che se il carattere (o stringa) da sostituire non occorre nella stringa iniziale, la stringa restituita è uguale alla stringa iniziale. Se usate come terzo argomento un numero intero, potete stabilire il numero di sostituizioni da effettuare (da sinistra a destra, oppure da destra a sinistra nel caso di `rfind`)."
   ]
  },
  {
   "cell_type": "code",
   "execution_count": 24,
   "metadata": {},
   "outputs": [
    {
     "name": "stdout",
     "output_type": "stream",
     "text": [
      "s= Pallone bianco di Paolo\n",
      "Parrone bianco di Paoro\n",
      "Parrone bianco di Paolo\n",
      "s= Pallone bianco di Paolo\n"
     ]
    }
   ],
   "source": [
    "s = 'Pallone bianco di Paolo'\n",
    "print('s=',s)\n",
    "print(s.replace('l','r'))   #sostituisce tutte le occorrenze di 'l' con 'r'\n",
    "print(s.replace('l','r',2)) #sostituisce solo le prime due occorrenze\n",
    "print('s=',s)"
   ]
  },
  {
   "cell_type": "markdown",
   "metadata": {},
   "source": [
    "Si possono anche sostituire stringhe con altre stringhe, anche di lunghezza diversa tra di loro"
   ]
  },
  {
   "cell_type": "code",
   "execution_count": 20,
   "metadata": {},
   "outputs": [
    {
     "name": "stdout",
     "output_type": "stream",
     "text": [
      "Collallone bianco di Collaolo\n",
      "Collallone bianco di Paolo\n"
     ]
    }
   ],
   "source": [
    "s = 'Pallone bianco di Paolo'\n",
    "print(s.replace('Pa','Colla'))"
   ]
  },
  {
   "cell_type": "markdown",
   "metadata": {},
   "source": [
    "E' anche possibile sostituire un carattere (o una stringa) con la stringa vuota ''. Questo equivale a cancellare il carattere/stringa"
   ]
  },
  {
   "cell_type": "code",
   "execution_count": 28,
   "metadata": {},
   "outputs": [
    {
     "data": {
      "text/plain": [
       "'Pllone binco di Polo'"
      ]
     },
     "execution_count": 28,
     "metadata": {},
     "output_type": "execute_result"
    }
   ],
   "source": [
    "s = 'Pallone bianco di Paolo'\n",
    "s.replace('a','')"
   ]
  },
  {
   "cell_type": "markdown",
   "metadata": {},
   "source": [
    "#### funzione `str()`\n",
    "Quando si ha l'esigenza di trasformare un dato in stringa, bisogna usare la funzione `str()` che trasforma in stringa un dato di qualunque tipo. La funzione `str()` è spesso utile, ad esempio, all'interno della funzione `print()` per stampare un'unica stringa composta da molte informazioni anche di tipo diverso."
   ]
  },
  {
   "cell_type": "code",
   "execution_count": 29,
   "metadata": {},
   "outputs": [
    {
     "name": "stdout",
     "output_type": "stream",
     "text": [
      "12 / 10 / 2010\n"
     ]
    }
   ],
   "source": [
    "giorno = 12\n",
    "mese = 10\n",
    "anno = 2010\n",
    "print(giorno,'/',mese,'/',anno)"
   ]
  },
  {
   "cell_type": "markdown",
   "metadata": {},
   "source": [
    "Come vedete la stampa non è precisa perché contiene degli spazi in più. Un'alternativa è di transformare le variabili intere in stringhe e poi concatenarle con il +"
   ]
  },
  {
   "cell_type": "code",
   "execution_count": null,
   "metadata": {},
   "outputs": [],
   "source": [
    "print(str(giorno)+'/'+str(mese)+'/'+str(anno))"
   ]
  },
  {
   "cell_type": "markdown",
   "metadata": {},
   "source": [
    "#### metodo `strip()`\n",
    "\n",
    "Il metodo `strip()` applicato ad una stringa 's' restituisce una **nuova** stringa ottenuta da 's' togliendo spazi bianchi (' '), tabulazioni ('\\t') e riga nuova ('\\n') (in sostanza i cosiddetti caratteri di spaziatura) **all'inizio ed alla fine della stringa**. Notate però che eventuali spazi bianchi, tabulazioni o ritorni a capo nel mezzo della stringa **non vengono eliminati**."
   ]
  },
  {
   "cell_type": "code",
   "execution_count": 36,
   "metadata": {},
   "outputs": [
    {
     "name": "stdout",
     "output_type": "stream",
     "text": [
      "s=  \n",
      "\tprova\t di strip  \n",
      "\n",
      "r= prova\t di strip\n"
     ]
    },
    {
     "data": {
      "text/plain": [
       "'prova\\t di strip'"
      ]
     },
     "execution_count": 36,
     "metadata": {},
     "output_type": "execute_result"
    }
   ],
   "source": [
    "s=' \\n\\tprova\\t di strip  \\n'\n",
    "r=s.strip()       #r vale 'prova\\t di strip'\n",
    "print('s=',s)\n",
    "print('r=',r)\n",
    "r"
   ]
  },
  {
   "cell_type": "markdown",
   "metadata": {},
   "source": [
    "### Funzione `ord()`\n",
    "La funzione `ord()` serve per calcolare, dato un carattere, la sua posizione nella tabella Unicode. Ad esempio, `ord('a')` restituisce 97 (la posizione del carattere `'a'`nella tabella Unicode)."
   ]
  },
  {
   "cell_type": "code",
   "execution_count": 37,
   "metadata": {
    "scrolled": true
   },
   "outputs": [
    {
     "name": "stdout",
     "output_type": "stream",
     "text": [
      "La posizione del carattere 'a' è: 97\n",
      "La posizione del carattere 'ù' è: 249\n",
      "La posizione del carattere '字' è: 23383\n"
     ]
    }
   ],
   "source": [
    "print('La posizione del carattere \\'a\\' è:',ord('a'))\n",
    "print('La posizione del carattere \\'ù\\' è:',ord('ù'))\n",
    "print('La posizione del carattere \\'字\\' è:',ord('字'))"
   ]
  },
  {
   "cell_type": "markdown",
   "metadata": {},
   "source": [
    "### Funzione `chr()`\n",
    "La funzione `chr()` esegue l'operazione inversa della `ord()`, cioè data una posizione della tabella Unicode restituisce il carattere in quella posizione. Notate che la tabella Unicode 2.0 (quella attualmente usata) ha `1114112` posizioni. Se inserite un valore superiore otterrete un errore. Per molte posizioni con valori 'molto grandi' ottenete un carattere che probabilmente il vostro computer *non è in grado di stampare* poiché non ha un font installato che includa quel carattere. In questo caso viene stampato sullo schermo un piccolo quadratino."
   ]
  },
  {
   "cell_type": "code",
   "execution_count": 41,
   "metadata": {},
   "outputs": [
    {
     "name": "stdout",
     "output_type": "stream",
     "text": [
      "Il carattere in posizione 99 è: c\n",
      "Il carattere in posizione 233 è: é\n",
      "Il carattere in posizione 27112 è: 槨\n",
      "Il carattere in posizione 207112 è: 𲤎\n"
     ]
    },
    {
     "ename": "ValueError",
     "evalue": "chr() arg not in range(0x110000)",
     "output_type": "error",
     "traceback": [
      "\u001b[0;31m---------------------------------------------------------------------------\u001b[0m",
      "\u001b[0;31mValueError\u001b[0m                                Traceback (most recent call last)",
      "Input \u001b[0;32mIn [41]\u001b[0m, in \u001b[0;36m<cell line: 5>\u001b[0;34m()\u001b[0m\n\u001b[1;32m      3\u001b[0m \u001b[38;5;28mprint\u001b[39m(\u001b[38;5;124m'\u001b[39m\u001b[38;5;124mIl carattere in posizione 27112 è:\u001b[39m\u001b[38;5;124m'\u001b[39m,\u001b[38;5;28mchr\u001b[39m(\u001b[38;5;241m27112\u001b[39m))\n\u001b[1;32m      4\u001b[0m \u001b[38;5;28mprint\u001b[39m(\u001b[38;5;124m'\u001b[39m\u001b[38;5;124mIl carattere in posizione 207112 è:\u001b[39m\u001b[38;5;124m'\u001b[39m,\u001b[38;5;28mchr\u001b[39m(\u001b[38;5;241m207118\u001b[39m))  \u001b[38;5;66;03m#posizione valida ma ancora libera \u001b[39;00m\n\u001b[0;32m----> 5\u001b[0m \u001b[38;5;28mprint\u001b[39m(\u001b[38;5;124m'\u001b[39m\u001b[38;5;124mIl carattere in posizione 1207112 è:\u001b[39m\u001b[38;5;124m'\u001b[39m,\u001b[38;5;28;43mchr\u001b[39;49m\u001b[43m(\u001b[49m\u001b[38;5;241;43m1207112\u001b[39;49m\u001b[43m)\u001b[49m)\n",
      "\u001b[0;31mValueError\u001b[0m: chr() arg not in range(0x110000)"
     ]
    }
   ],
   "source": [
    "print('Il carattere in posizione 99 è:',chr(99))\n",
    "print('Il carattere in posizione 233 è:',chr(233))\n",
    "print('Il carattere in posizione 27112 è:',chr(27112))\n",
    "print('Il carattere in posizione 207112 è:',chr(207118))  #posizione valida ma ancora libera \n",
    "print('Il carattere in posizione 1207112 è:',chr(1207112))"
   ]
  },
  {
   "cell_type": "markdown",
   "metadata": {},
   "source": [
    "Se vogliamo stampare il carattere *successivo* ad un carattere letto da input, dobbiamo prima calcolare la posizione del carattere letto, aumentarla di 1 e poi riconvertire in carattere"
   ]
  },
  {
   "cell_type": "code",
   "execution_count": null,
   "metadata": {},
   "outputs": [],
   "source": [
    "c = input('Inserisci un carattere: ')\n",
    "pos = ord(c)\n",
    "prossimo = pos + 1\n",
    "succ = chr(prossimo)\n",
    "print(succ)"
   ]
  },
  {
   "cell_type": "markdown",
   "metadata": {},
   "source": [
    "Una soluzione più compatta è"
   ]
  },
  {
   "cell_type": "code",
   "execution_count": null,
   "metadata": {},
   "outputs": [],
   "source": [
    "c = input('Inserisci il carattere: ')\n",
    "print(chr(ord(c)+1))"
   ]
  },
  {
   "cell_type": "markdown",
   "metadata": {},
   "source": [
    "### Slicing di stringhe\n",
    "In Python è possibile selezionare (tagliare una fetta, in inglese slicing) una parte di una stringa. Come vedremo più avanti nel corso, lo stesso si può fare anche di altre strutture dati come liste e tuple. Per selezionare una parte di una stringa `s` si usa la notazione `s[i:j]` dove `i` denota la *prima posizione* da selezionare e `j` la *prima posizione* da escludere. In altre parole, con la notazione `s[i:j]` si denota la parte di `s` che va dalla posizione di indice `i` *inclusa* alla posizione di indice `j` *esclusa*. Qualora manchi la `i` (`s[:j]`) si intende implicitamente che si parte dall'inizio della stringa (come se la `i` valesse 0), mentre se manca la `j` (`s[i:]`) si intende implicitamente che arriva alla fine della stringa (come se la `j` valesse `len(s)`). Si noti anche che se mancano entrambi gli indici (coè se scriviamo `s[:]`), lo slicing restituisce una copia della stringa, mentre se in uno slicing `s[i:j]` abbiamo che `i >= j`, lo slicing restituirà una stringa vuota."
   ]
  },
  {
   "cell_type": "code",
   "execution_count": 42,
   "metadata": {
    "scrolled": true
   },
   "outputs": [
    {
     "name": "stdout",
     "output_type": "stream",
     "text": [
      "paperopoli\n",
      "paperopoli s[1:3] ap\n",
      "paperopoli s[:3] pap s[0:3] pap\n",
      "paperopoli s[1:] aperopoli s[1:len(s)] aperopoli\n",
      "paperopoli s[4:4] \n"
     ]
    }
   ],
   "source": [
    "s=\"paperopoli\"\n",
    "print(s)\n",
    "print(s,'s[1:3]',s[1:3])\n",
    "print(s,'s[:3]',s[:3],'s[0:3]',s[0:3])\n",
    "print(s,'s[1:]',s[1:],'s[1:len(s)]',s[1:len(s)])\n",
    "print(s,'s[4:4]',s[4:4])"
   ]
  },
  {
   "cell_type": "markdown",
   "metadata": {},
   "source": [
    "#### Versione completa\n",
    "Una versione più generale dello slicing prevede un terzo valore, con la notazione `s[i:j:n]` dove `n` indica il *passo*, cioè non si prendono *tutti* i caratteri da `i` a `j`, ma solo uno ogni `n` di questi."
   ]
  },
  {
   "cell_type": "code",
   "execution_count": 45,
   "metadata": {},
   "outputs": [
    {
     "name": "stdout",
     "output_type": "stream",
     "text": [
      "paperopoli s[1:8:2] aeoo\n",
      "paperopoli s[0:10:3] pepi\n"
     ]
    },
    {
     "data": {
      "text/plain": [
       "'lpr'"
      ]
     },
     "execution_count": 45,
     "metadata": {},
     "output_type": "execute_result"
    }
   ],
   "source": [
    "s=\"paperopoli\"\n",
    "print(s,'s[1:8:2]',s[1:8:2])\n",
    "print(s,'s[0:10:3]',s[0:10:3])\n",
    "s[8:2:-2]"
   ]
  },
  {
   "cell_type": "markdown",
   "metadata": {},
   "source": [
    "#### Nota: indici negativi per le posizioni dei caratteri in una stringa\n",
    "\n",
    "Le posizioni dei caratteri di una stringa `s` hanno anche una indicizzazione \"inversa\", che usa interi negativi partendo da `-1`, associato all'ultimo carattere di `s`, fino al numero `-len(s)`, associato al primo carattere di `s` (in altri termini, l'indice negativo va inteso come il numero che bisogna sottrarre a `len(s)` per ottenere la posizione voluta).\n",
    "\n",
    "Esempio:\n",
    "\n",
    "|||||||\n",
    "|:---:|:---:|:---:|:---:|:---:|:---:|\n",
    "|indici positivi (da sinistra a destra) | 0   | 1  |  2  |  3 |  4|\n",
    "|                                       | p  | i  | p   | p  | o|\n",
    "|indici negativi (da destra a sinistra) | -5 | -4 |  -3 | -2 | -1 |\n",
    "\n",
    "\n",
    "\n",
    "Quindi, ad esempio \n",
    "\n",
    "`'pippo'[4]=='pippo'[-1]`\n",
    "\n",
    "più in generale, per una stringa s qualunque vale\n",
    "\n",
    "`s[len(s)-1] == s[-1]`\n",
    "\n",
    "e\n",
    "\n",
    "`s[0] == s[-len(s)]`\n",
    "\n",
    "\n",
    "Gli indici negativi possono essere usati anche nello slicing.\n"
   ]
  },
  {
   "cell_type": "code",
   "execution_count": 21,
   "metadata": {},
   "outputs": [
    {
     "name": "stdout",
     "output_type": "stream",
     "text": [
      "pippo s[1:3] ip\n",
      "pippo s[:3] pip s[0:3] pip\n",
      "pippo s[1:] ippo\n",
      "pippo s[-3:-4] \n"
     ]
    }
   ],
   "source": [
    "s=\"pippo\"\n",
    "print(s,'s[1:3]',s[-4:-2])\n",
    "print(s,'s[:3]',s[:-2],'s[0:3]',s[0:-2])\n",
    "print(s,'s[1:]',s[-4:]) \n",
    "print(s,'s[-3:-4]',s[-3:-4]) # caso di i > j: restituisce stringa vuota (lo stesso se i=j)"
   ]
  },
  {
   "cell_type": "code",
   "execution_count": 22,
   "metadata": {},
   "outputs": [
    {
     "data": {
      "text/plain": [
       "'12345678'"
      ]
     },
     "execution_count": 22,
     "metadata": {},
     "output_type": "execute_result"
    }
   ],
   "source": [
    "s='123456789'\n",
    "s[-len(s):-1]"
   ]
  },
  {
   "cell_type": "markdown",
   "metadata": {},
   "source": [
    "### Uso avanzato di replace\n",
    "Grazie allo slicing possiamo effettuare anche forme più avanzate di `replace()` dove la sostituzione avviene solo su una parte della stringa (si ricoda che il metodo replace sostituisce all'interno della stringa una sottostringa con un'altra sottostringa; se c'è un terzo parametro, questo è un intero che indica il numero di volte, iniziando a contare da sinistra, che verrà fatta la sostituzione). Esempi:"
   ]
  },
  {
   "cell_type": "code",
   "execution_count": 1,
   "metadata": {},
   "outputs": [
    {
     "name": "stdout",
     "output_type": "stream",
     "text": [
      "s.replace('p','k',1) kippo\n"
     ]
    }
   ],
   "source": [
    "#esempi avanzati di replace\n",
    "s=\"pippo\"\n",
    "\n",
    "print(\"s.replace('p','k',1)\",s.replace('p','k',1))"
   ]
  },
  {
   "cell_type": "markdown",
   "metadata": {},
   "source": [
    "Per rimpiazzare solo a in una parte della stringa possiamo fare:"
   ]
  },
  {
   "cell_type": "code",
   "execution_count": 2,
   "metadata": {},
   "outputs": [
    {
     "name": "stdout",
     "output_type": "stream",
     "text": [
      "s[1:].replace('p','k',1) ikpo\n"
     ]
    }
   ],
   "source": [
    "print(\"s[1:].replace('p','k',1)\",s[1:].replace('p','k',1))"
   ]
  },
  {
   "cell_type": "markdown",
   "metadata": {},
   "source": [
    "Nel caso di sopra abbiamo però perso il primo carattere, se non volevamo perderlo potevamo fare:"
   ]
  },
  {
   "cell_type": "code",
   "execution_count": 3,
   "metadata": {},
   "outputs": [
    {
     "name": "stdout",
     "output_type": "stream",
     "text": [
      "pikpo\n"
     ]
    }
   ],
   "source": [
    "print(s[0]+s[1:].replace('p','k',1))"
   ]
  },
  {
   "cell_type": "markdown",
   "metadata": {},
   "source": [
    "Vediamo ora un piccolo programma in cui vogliamo sostituire la *seconda* occorrenza di un carattere in una stringa con il carattere '\\*'. Per fare questo prima vediamo dove compare il carattere la prima volta e poi facciamo la sostituzione sulla parte successiva della stringa"
   ]
  },
  {
   "cell_type": "code",
   "execution_count": 46,
   "metadata": {},
   "outputs": [
    {
     "name": "stdin",
     "output_type": "stream",
     "text": [
      "Inserisci la stringa:  accadimento\n",
      "Inserisci il carattere da sostituire:  c\n"
     ]
    },
    {
     "name": "stdout",
     "output_type": "stream",
     "text": [
      "ac*adimento\n"
     ]
    }
   ],
   "source": [
    "s = input('Inserisci la stringa: ')\n",
    "c = input('Inserisci il carattere da sostituire: ') \n",
    "pos = s.find(c)\n",
    "risultato = s[0:pos+1]+s[pos+1:].replace(c,'*',1)\n",
    "print(risultato)"
   ]
  },
  {
   "cell_type": "markdown",
   "metadata": {
    "tags": []
   },
   "source": [
    "### Non modificabilità delle stringhe\n",
    "In Python, le stringhe sono oggetti *immutabili*. Questo vuol dire che non è possibile modificare il valore di una variabile di tipo stringa e che tutti i metodi sulle stringhe (incluso lo slicing) *non modificano la stringa* ma creano nuove stringhe. Per mantenere in memoria queste nuove stringhe è necessario assegnarne il valore a variabili."
   ]
  },
  {
   "cell_type": "code",
   "execution_count": 4,
   "metadata": {},
   "outputs": [
    {
     "name": "stdout",
     "output_type": "stream",
     "text": [
      "pippo\n"
     ]
    },
    {
     "ename": "TypeError",
     "evalue": "'str' object does not support item assignment",
     "output_type": "error",
     "traceback": [
      "\u001b[1;31m---------------------------------------------------------------------------\u001b[0m",
      "\u001b[1;31mTypeError\u001b[0m                                 Traceback (most recent call last)",
      "Cell \u001b[1;32mIn[4], line 2\u001b[0m\n\u001b[0;32m      1\u001b[0m \u001b[38;5;28mprint\u001b[39m(s)\n\u001b[1;32m----> 2\u001b[0m \u001b[43ms\u001b[49m\u001b[43m[\u001b[49m\u001b[38;5;241;43m2\u001b[39;49m\u001b[43m]\u001b[49m \u001b[38;5;241m=\u001b[39m \u001b[38;5;124m'\u001b[39m\u001b[38;5;124mx\u001b[39m\u001b[38;5;124m'\u001b[39m\n",
      "\u001b[1;31mTypeError\u001b[0m: 'str' object does not support item assignment"
     ]
    }
   ],
   "source": [
    "print(s)\n",
    "s[2] = 'x'"
   ]
  },
  {
   "cell_type": "markdown",
   "metadata": {},
   "source": [
    "Come vedete **non è possibile** cambiare il valore di un carattere di una stringa. possiamo invece creare una **nuova** stringa usando ad esempio il metodo replace e salvando il risultato in una nuova variabile"
   ]
  },
  {
   "cell_type": "code",
   "execution_count": 5,
   "metadata": {},
   "outputs": [
    {
     "name": "stdout",
     "output_type": "stream",
     "text": [
      "pippo\n",
      "s.replace('p','k',1) kippo  - la stringa s vale invece: pippo\n"
     ]
    }
   ],
   "source": [
    "print(s)\n",
    "s1 = s.replace('p','k',1)\n",
    "print(\"s.replace('p','k',1)\",s1,\" - la stringa s vale invece:\", s)"
   ]
  },
  {
   "cell_type": "markdown",
   "metadata": {},
   "source": [
    "Ovviamente questo non ha modificato la variabile s"
   ]
  },
  {
   "cell_type": "code",
   "execution_count": 6,
   "metadata": {},
   "outputs": [
    {
     "name": "stdout",
     "output_type": "stream",
     "text": [
      "ipp\n",
      "pippo\n"
     ]
    }
   ],
   "source": [
    "print(s[1:4])\n",
    "print(s) # la stringa s non è stata modificata"
   ]
  },
  {
   "cell_type": "markdown",
   "metadata": {},
   "source": [
    "### Esercizi\n",
    "Completate questi esercizi prima di cominciare il prossimo argomento"
   ]
  },
  {
   "cell_type": "markdown",
   "metadata": {},
   "source": [
    "#### Esercizio 1: \n",
    "Scrivete le istruzioni Python che chiedono a un utente una stringa `s` ed un carattere `x` e stampano:\n",
    "\n",
    "- la posizione della prima occorrenza di `x` in `s`\n",
    "- il numero di volte in cui `x` appare in `s`\n",
    "- la stringa ottenuta sostituendo `x` in `s` con la stringa '!!!'"
   ]
  },
  {
   "cell_type": "code",
   "execution_count": 16,
   "metadata": {},
   "outputs": [
    {
     "name": "stdin",
     "output_type": "stream",
     "text": [
      "inserire una stringa:  stringas\n",
      "inserire un carattere:  s\n"
     ]
    },
    {
     "name": "stdout",
     "output_type": "stream",
     "text": [
      "-\tprima occorrenza di s in stringas: 0\n",
      "-\ts appare 2 volte in stringas\n",
      "-\tsostituendo s con '!!!' si ottiene: !!!tringa!!!\n"
     ]
    }
   ],
   "source": [
    "s = input('inserire una stringa: ')\n",
    "x = input('inserire un carattere: ')\n",
    "\n",
    "print(f'-\\tprima occorrenza di {x} in {s}: {s.find(x)}')\n",
    "print(f'-\\t{x} in {s} appare: {s.count(x)} volta/e')\n",
    "e = '!!!'\n",
    "print(f'-\\stringa ottenuta sostituendo {x} con \\'!!!\\': {s.replace(x, e)}')"
   ]
  },
  {
   "cell_type": "markdown",
   "metadata": {},
   "source": [
    "#### Esercizio 2: \n",
    "Scrivete le istruzioni Python che chiedono a un utente di inserire una stringa `s` e due caratteri `x` e `y` e stampano:\n",
    "\n",
    "- la stringa ottenuta sostituendo `x` con `y` in `s`\n",
    "- il numero di volte in cui la stringa `xy` appare in `s`"
   ]
  },
  {
   "cell_type": "code",
   "execution_count": 18,
   "metadata": {},
   "outputs": [
    {
     "name": "stdin",
     "output_type": "stream",
     "text": [
      "inserire una stringa:  stringas\n",
      "inserire un primo carattere:  s\n",
      "inserire un secondo carattere:  t\n"
     ]
    },
    {
     "name": "stdout",
     "output_type": "stream",
     "text": [
      "-\tstringa ottenuta sostituendo s con t: ttringat\n",
      "-\tst in stringas appare: 1 volte\n"
     ]
    }
   ],
   "source": [
    "s = input('inserire una stringa: ')\n",
    "x = input('inserire un primo carattere: ')\n",
    "y = input('inserire un secondo carattere: ')\n",
    "\n",
    "print(f'-\\tstringa ottenuta sostituendo {x} con {y}: {s.replace(x,y)}')\n",
    "print(f'-\\t{x+y} in {s} appare: {s.count(x+y)} volta/e')"
   ]
  },
  {
   "cell_type": "markdown",
   "metadata": {},
   "source": [
    "#### Esercizio 3:\n",
    "Scrivete le istruzioni Python che chiedono a un utente di inserire una stringa `s`, un carattere `x` ed un'altra stringa `s1` e stampano:\n",
    "\n",
    "- la stringa ottenuta sostituendo `x` in `s` con la stringa '!!!'\n",
    "- il numero di volte in cui `s1` appare in `s`\n",
    "- la stringa ottenuta sostituendo `s1` in `s` con `x`"
   ]
  },
  {
   "cell_type": "code",
   "execution_count": 20,
   "metadata": {},
   "outputs": [
    {
     "name": "stdin",
     "output_type": "stream",
     "text": [
      "inserire una prima stringa:  stringas\n",
      "inserire un carattere:  s\n",
      "inserire una seconda stringa:  ga\n"
     ]
    },
    {
     "name": "stdout",
     "output_type": "stream",
     "text": [
      "-\tstringa ottenuta sostituendo s con '!!!' in stringas: !!!tringa!!!\n",
      "-\tga in stringas appare: 1 volta/e\n",
      "-\tstringa ottenuta sostituendo ga con s in stringas: strinss\n"
     ]
    }
   ],
   "source": [
    "s = input('inserire una prima stringa: ')\n",
    "x = input('inserire un carattere: ')\n",
    "s1 = input('inserire una seconda stringa: ')\n",
    "\n",
    "\n",
    "e = '!!!'\n",
    "print(f'-\\tstringa ottenuta sostituendo {x} con \\'!!!\\' in {s}: {s.replace(x, e)}')\n",
    "print(f'-\\t{s1} in {s} appare: {s.count(s1)} volta/e')\n",
    "print(f'-\\tstringa ottenuta sostituendo {s1} con {x} in {s}: {s.replace(s1,x)}')"
   ]
  },
  {
   "cell_type": "markdown",
   "metadata": {},
   "source": [
    "#### Esercizio 4:\n",
    "Scrivete le istruzioni Python che chiedono ad un utente di inserire una stringa `s` ed un passo `n` e stampano i caratteri di `s` uno ogni `n`. Ad esempio, se vengono inseriti 'linguaggio di programmazione' e 4, la stampa deve esssere 'luiiomi'"
   ]
  },
  {
   "cell_type": "code",
   "execution_count": 25,
   "metadata": {},
   "outputs": [
    {
     "name": "stdin",
     "output_type": "stream",
     "text": [
      "inserire una stringa:  abcdefghijklmnopqrstuvwxyz\n",
      "inserire un passo:  2\n"
     ]
    },
    {
     "name": "stdout",
     "output_type": "stream",
     "text": [
      "acegikmoqsuwy"
     ]
    }
   ],
   "source": [
    "s = input('inserire una stringa: ')\n",
    "n = int(input('inserire un passo: '))\n",
    "for i in s:\n",
    "    if s.find(i)%n == 0:\n",
    "        print(i, end=\"\")"
   ]
  },
  {
   "cell_type": "code",
   "execution_count": null,
   "metadata": {},
   "outputs": [],
   "source": []
  }
 ],
 "metadata": {
  "kernelspec": {
   "display_name": "Python 3 (ipykernel)",
   "language": "python",
   "name": "python3"
  },
  "language_info": {
   "codemirror_mode": {
    "name": "ipython",
    "version": 3
   },
   "file_extension": ".py",
   "mimetype": "text/x-python",
   "name": "python",
   "nbconvert_exporter": "python",
   "pygments_lexer": "ipython3",
   "version": "3.8.17"
  }
 },
 "nbformat": 4,
 "nbformat_minor": 4
}
