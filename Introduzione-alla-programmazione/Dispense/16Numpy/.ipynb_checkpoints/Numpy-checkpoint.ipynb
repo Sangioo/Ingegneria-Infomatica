{
 "cells": [
  {
   "cell_type": "markdown",
   "metadata": {
    "slideshow": {
     "slide_type": "slide"
    }
   },
   "source": [
    "#### Autori: Domenico Lembo, Antonella Poggi, Giuseppe Santucci and Marco Schaerf\n",
    "\n",
    "[Dipartimento di Ingegneria informatica, automatica e gestionale](https://www.diag.uniroma1.it)\n",
    "\n",
    "<img src=\"https://mirrors.creativecommons.org/presskit/buttons/88x31/png/by-nc-sa.eu.png\"\n",
    "     alt=\"License\"\n",
    "     style=\"float: left;\"\n",
    "     height=\"40\" width=\"100\" />\n",
    "This notebook is distributed with license Creative Commons *CC BY-NC-SA*"
   ]
  },
  {
   "cell_type": "markdown",
   "metadata": {
    "tags": []
   },
   "source": [
    "# La libreria NumPy\n",
    "1. NumPy\n",
    "2. Il tipo array di NumPy\n",
    "3. Creazione di un array in NumPy\n",
    "4. Rappresentazione interna degli array ed i metodi `reshape()` e `flatten()`\n",
    "5. Attributi, operatori e funzioni della classe `ndarray` (array)\n",
    "6. Indicizzazione, slicing e iterazione\n",
    "7. Lettura di un array da file\n",
    "8. Esercizi su matrici come NumPy array"
   ]
  },
  {
   "cell_type": "markdown",
   "metadata": {},
   "source": [
    "## Numpy\n",
    "Questa lezione è basata sul tutorial [Quickstart](https://numpy.org/devdocs/user/quickstart.html) del sito ufficiale di [NumPy](https://numpy.org/) (in inglese).\n",
    "Per eseguire questo notebook dovete installare sul vostro computer il modulo numpy, istruzioni dettagliate sono disponibili [qui](https://scipy.org/install.html), comunque per la maggior parte delle installazioni dovete solo aprire una shell di comandi e dare il comando: `pip3 install numpy`; per installarlo nell'ambiente  notebook dovete dare il comando  `%pip3 install numpy`.\n",
    "\n",
    "Perchè? Ottimizzazione!\n",
    "\n",
    "NumPy fa parte di un pacchetto di moduli Python per il calcolo scientifico, noi vedremo, brevemente, anche [Matplotlib](https://matplotlib.org/)."
   ]
  },
  {
   "cell_type": "code",
   "execution_count": null,
   "metadata": {},
   "outputs": [],
   "source": [
    "%pip install numpy"
   ]
  },
  {
   "cell_type": "markdown",
   "metadata": {},
   "source": [
    "## Il tipo array di NumPy \n",
    "L'oggetto principale di NumPy è l'array multidimensionale **omogeneo**. È una tabella di elementi (solitamente numeri), tutti dello stesso tipo, indicizzati da una tupla di numeri interi non negativi. In NumPy le dimensioni sono chiamate assi.\n",
    "\n",
    "Ad esempio, le coordinate di un punto nello spazio \\[1, 2, 1\\] sono rappresentate su un asse. L'asse contiene 3 elementi, quindi diciamo che ha una lunghezza di 3. \n",
    "\n",
    "Nell'esempio mostrato di seguito, l'array ha 2 assi. Il primo asse ha una lunghezza di 2, il secondo asse ha una lunghezza di 3.\n",
    "\n",
    "\\[\\[1., 0., 0.\\],\n",
    " \\[0., 1., 2.\\]\\]\n",
    " \n",
    "N.B. per evitare qualunque confusione useremo i due termini:\n",
    "\n",
    "- asse/i: coordinata/e dell'array\n",
    "- lunghezza asse (o dimensione asse): numero di elementi presenti in un asse\n",
    "\n",
    "Un array 3D (tridimensionale) ha tre assi :-).  La dimensione degli assi ha una lunghezza che dipende dal numero di elementi inseriti.\n",
    " \n",
    "La classe di array di NumPy si chiama *ndarray*. È anche conosciuto con l'alias *array*. Notate che numpy.array non è uguale alla classe Standard Python Library array.array, che gestisce solo array 1D e offre molte meno funzionalità.\n",
    "\n",
    "- *ndarray.ndim*: numero degli assi\n",
    "\n",
    "- *ndarray.shape*: è una tupla di ndim interi che contiene la lunghezza di ogni asse\n",
    "\n",
    "- *ndarray.size*: numero complessivo di elementi dell'array\n",
    "\n",
    "Un esempio:\n",
    " "
   ]
  },
  {
   "cell_type": "code",
   "execution_count": null,
   "metadata": {},
   "outputs": [],
   "source": [
    "import numpy as np\n",
    "\n",
    "#Creiamo, ad esempio, un array a due assi 2x3 (cioè con 2 righe e 3 colonne)\n",
    "a = np.array([[1., 0., 0.],[0., 1., 2.]])\n",
    "\n",
    "print('a=',a)\n",
    "\n",
    "print('numero assi=',a.ndim)\n",
    "print('shape=',a.shape)\n",
    "print('numero elementi=',a.size)\n"
   ]
  },
  {
   "cell_type": "markdown",
   "metadata": {},
   "source": [
    "Per accedere a un elemento di indici `i` e `j` di un array bidimensionale `m` si può usare la notazione delle liste di liste (cioé `m[i][j]`) oppure la notazione semplificata `m[i,j]`. Ovviamente, questo è valido anche per array di dimensione superiore a 2.\n",
    "\n",
    "Un esempio:"
   ]
  },
  {
   "cell_type": "code",
   "execution_count": null,
   "metadata": {},
   "outputs": [],
   "source": [
    "import numpy as np\n",
    "\n",
    "#Creiamo, ad esempio, un array 2x3 (cioè con 2 righe e 3 colonne)\n",
    "a = np.array([[1., 0., 0.],[0., 1., 2.]])\n",
    "print(type(a))\n",
    "print('a=',a)\n",
    "print()\n",
    "#Stampiamo uno specifico elemento, ad esempio,\n",
    "#quello sulla riga 0 colonna 1\n",
    "print('elemento riga 0 colonna 1',a[0][1]) #notazione standard per liste di liste\n",
    "print('elemento riga 0 colonna 1',a[0,1]) #notazione semplificata di NumPy\n",
    "# stampa tramite doppio ciclo \n",
    "\n",
    "print()\n",
    "for i in range(a.shape[0]):       # righe\n",
    "    for j in range(a.shape[1]):   # colonne\n",
    "        print(a[i,j],end='\\t')\n",
    "    print()"
   ]
  },
  {
   "cell_type": "markdown",
   "metadata": {},
   "source": [
    "## Creazione di un array in NumPy\n",
    "Ci sono molti modi per creare un array in NumPy, si può direttamente creare un array fornendo tutti i dati, come visto sopra, si può trasformare una lista in array oppure si possono usare le numerose funzioni di inizializzazione presenti in NumPy. **Notate che le dimensioni degli assi dell'array vanno fornite come tuple**, cioè scritte tra parentesi. \n",
    "\n",
    "La funzione *print()* applicata ad un oggetto di tipo array lo stampa automaticamente per righe, se è tridimensionale stampa un piano 2D per volta. Vediamo degli esempi:"
   ]
  },
  {
   "cell_type": "code",
   "execution_count": null,
   "metadata": {},
   "outputs": [],
   "source": [
    "# Crea un array 2D di uno con 3 righe e 4 colonne\n",
    "print(np.ones((3,4))) "
   ]
  },
  {
   "cell_type": "markdown",
   "metadata": {},
   "source": [
    "Si noti che nell'esempio sopra, la tupla (3,4) è la shape dell'array e denota contemporaneamente:\n",
    "- il numero degli assi (lunghezza della tupla)\n",
    "- la lunghezza di ciascun asse (valori della tupla)\n",
    "\n",
    "La stampa di un array con 3 o più assi richiede stampe ripetute:"
   ]
  },
  {
   "cell_type": "code",
   "execution_count": null,
   "metadata": {},
   "outputs": [],
   "source": [
    "# Crea un array 3D di zeri con shape 2x3x4 ed ogni elemento di tipo intero (con segno) a 16 bit\n",
    "print(np.zeros((2,3,4),dtype=np.int16)) #notate la stampa fatta di 2 matrici 3x4"
   ]
  },
  {
   "cell_type": "code",
   "execution_count": null,
   "metadata": {},
   "outputs": [],
   "source": [
    "# Crea un array 2D di valori casuali (random)\n",
    "print(np.random.random((2,2)))"
   ]
  },
  {
   "cell_type": "code",
   "execution_count": null,
   "metadata": {},
   "outputs": [],
   "source": [
    "# Crea un array 2D vuoto \n",
    "print(np.empty((3,2)))"
   ]
  },
  {
   "cell_type": "code",
   "execution_count": null,
   "metadata": {},
   "outputs": [],
   "source": [
    "# Crea un array 2D pieno con il valore 7 (tutti gli elementi valgono 7)\n",
    "print(np.full((2,2),7))"
   ]
  },
  {
   "cell_type": "code",
   "execution_count": null,
   "metadata": {},
   "outputs": [],
   "source": [
    "# Crea un array 1D con i valori da 10 a 50 (escluso) con passo 5\n",
    "print(np.arange(10,50,5))"
   ]
  },
  {
   "cell_type": "code",
   "execution_count": null,
   "metadata": {},
   "outputs": [],
   "source": [
    "# Crea un array 1D con 9 valori uniformemente spaziati tra 0 e 2 (inclusi)\n",
    "print(np.linspace(0,2,9))"
   ]
  },
  {
   "cell_type": "markdown",
   "metadata": {},
   "source": [
    "## Rappresentazione interna degli array ed i metodi `reshape()` e `flatten()`\n",
    "NumPy rappresenta in memoria gli array usando zone contigue di memoria. Di fatto, l'array viene rappresentato sempre **come un array monodimensionale**, dove le righe vengono scritte una dopo l'altra. Un array di dimensioni (3,4) e un array di dimensioni (2,3,2) sono rappresentati in memoria nella stessa maniera: un array monodimensionale di 12 elementi (12). Per questo motivo, è possibile cambiare facilmente **la shape**  lasciando invariato il numero degli elementi, ovvero la **size**, usando il metodo `reshape()`. Se vogliamo trasformare un array nella sua versione monodimensionale possiamo usare il metodo `flatten()`. Vediamo degli esempi:"
   ]
  },
  {
   "cell_type": "code",
   "execution_count": null,
   "metadata": {},
   "outputs": [],
   "source": [
    "a = np.random.random((3,4)) #12 elementi, shape (3,4)\n",
    "print(a)"
   ]
  },
  {
   "cell_type": "code",
   "execution_count": null,
   "metadata": {},
   "outputs": [],
   "source": [
    "b = a.reshape((2,3,2)) #12 elementi, shape (2,3,2)\n",
    "print(b)\n",
    "d = a.reshape((2,5))\n",
    "print(d)"
   ]
  },
  {
   "cell_type": "code",
   "execution_count": null,
   "metadata": {},
   "outputs": [],
   "source": [
    "c = a.flatten() #oppure c = a.reshape((12))\n",
    "print(c)"
   ]
  },
  {
   "cell_type": "markdown",
   "metadata": {},
   "source": [
    "## Attributi, operatori e funzioni della classe ndarray (array)\n",
    "Oltre agli attributi **ndim**, **shape**, e **size**, già introdotti in precedenza, la classe ndarray offre:\n",
    "\n",
    "- **dtype**: il tipo di elementi nella matrice. Si può creare o specificare i tipi usando i tipi standard di Python. Inoltre NumPy fornisce tipi propri: numpy.int32, numpy.int16 e numpy.float64 sono alcuni esempi.\n",
    "- **itemsize**: la dimensione in byte di ciascun elemento dell'array. Ad esempio, un array di elementi di tipo float64 ha itemsize 8 (= 64/8), mentre uno di tipo complex32 ha itemsize 4 (= 32/8). È equivalente a ndarray.dtype.itemsize.\n",
    "\n",
    "- +, \\-, \\*, \\*\\*, \\\\, <, =, > :  operatori che operano su **tutta** la matrice \n"
   ]
  },
  {
   "cell_type": "code",
   "execution_count": null,
   "metadata": {},
   "outputs": [],
   "source": [
    "a = np.array ([2,3,4])\n",
    "print('dtype=',a.dtype)\n",
    "b = np.array ([1.2, 3.5, 5.1])\n",
    "print('dtype=',b.dtype)\n",
    "c = np.array([[1,2], [3,4]], dtype = complex)\n",
    "print(c)\n",
    "print('dtype=',c.dtype)"
   ]
  },
  {
   "cell_type": "markdown",
   "metadata": {},
   "source": [
    "### Operazioni di base\n",
    "Gli operatori aritmetici sugli array si applicano a tutti gli elementi. Di regola, un nuovo array viene creato e riempito con il risultato."
   ]
  },
  {
   "cell_type": "code",
   "execution_count": null,
   "metadata": {},
   "outputs": [],
   "source": [
    "a = np.array ([20,30,40,50])\n",
    "b = np.array ([4,4,4,4])\n",
    "c = a-b\n",
    "print(c)\n",
    "print()\n",
    "print('a*7=',a*7)\n",
    "print('a*b=',a*b)"
   ]
  },
  {
   "cell_type": "code",
   "execution_count": null,
   "metadata": {},
   "outputs": [],
   "source": [
    "print(b**2)\n",
    "print(np.sin(a))"
   ]
  },
  {
   "cell_type": "code",
   "execution_count": null,
   "metadata": {},
   "outputs": [],
   "source": [
    "print(a)\n",
    "print(a < 35)"
   ]
  },
  {
   "cell_type": "markdown",
   "metadata": {},
   "source": [
    "N.B. A differenza di molti linguaggi a matrice, l'operatore del prodotto * opera elemento per elemento negli array NumPy, cioè moltiplica gli elementi nella stessa posizione dei 2 arrays, che devono avere le stesse dimensioni. Il prodotto tra matrici può essere eseguito utilizzando l'operatore @ (in python> = 3.5) o il metodo dot()"
   ]
  },
  {
   "cell_type": "code",
   "execution_count": null,
   "metadata": {},
   "outputs": [],
   "source": [
    "A = np.array([[1,1],\n",
    "              [0,1]]) \n",
    "B = np.array ([[2,0],\n",
    "               [3,4]])\n",
    "print(A * B) # è il prodotto elemento per elemento\n",
    "print(A @ B) # è il prodotto tra matrici\n",
    "print(A.dot(B)) # un altro prodotto tra matrici\n",
    "  \n",
    "# A @ B =     [1,1]   [2,0]      [1*2+1*3, 1*0+1*4]     [5,4]\n",
    "#             [0,1]   [3,4]      [0*2+1*3, 0*0+1*4]     [3,4]"
   ]
  },
  {
   "cell_type": "markdown",
   "metadata": {},
   "source": [
    "Alcune operazioni, come += e \\*=, agiscono per modificare un array esistente anziché crearne uno nuovo."
   ]
  },
  {
   "cell_type": "code",
   "execution_count": null,
   "metadata": {},
   "outputs": [],
   "source": [
    "a = np.ones((2,3), dtype = int)\n",
    "print(a)\n",
    "\n",
    "a *= 3\n",
    "print(a)"
   ]
  },
  {
   "cell_type": "markdown",
   "metadata": {},
   "source": [
    "Molte operazioni unarie, come calcolare la somma di tutti gli elementi dell'array, sono implementate come metodi della classe ndarray."
   ]
  },
  {
   "cell_type": "code",
   "execution_count": null,
   "metadata": {},
   "outputs": [],
   "source": [
    "a = np.random.random((2,3))\n",
    "print(a)\n",
    "print('sum=',a.sum())\n",
    "print('min=',a.min())\n",
    "print('max=',a.max())"
   ]
  },
  {
   "cell_type": "code",
   "execution_count": null,
   "metadata": {},
   "outputs": [],
   "source": [
    "a = np.random.random((2,3))\n",
    "print('a=',a)\n",
    "b = np.random.random(10)\n",
    "print('b=',b)\n",
    "\n",
    "# per trovare l'indice in cui si trova il massimo (od il minimo) si può usare\n",
    "# la funzione (NON METODO) argmax (argmin). Se l'array è monodimensionale restituisce\n",
    "# l'indice, altrimenti restituisce l'indice dell'array flat (appiattito) in cui tutte\n",
    "# le righe sono messe di seguito. In caso di più elementi pari al massimo (o minimo) \n",
    "# argmax restituisce l'indice più piccolo fra tutti quelli \n",
    "\n",
    "print('argmax_b',np.argmax(b))\n",
    "print('argmin_b',np.argmin(b))\n",
    "\n",
    "print('argmax_a',np.argmax(a)) #di [0.96961376 0.9839157  0.36553127 0.2911096  0.92764884 0.62635703]\n",
    "print('argmin_a',np.argmin(a)) #di [0.96961376 0.9839157  0.36553127 0.2911096  0.92764884 0.62635703]"
   ]
  },
  {
   "cell_type": "markdown",
   "metadata": {},
   "source": [
    "Per impostazione predefinita, queste operazioni si applicano all'array come se fosse un elenco di numeri, indipendentemente dalla sua forma. Tuttavia, specificando il parametro axis è possibile applicare un'operazione lungo l'asse specificato di un array:"
   ]
  },
  {
   "cell_type": "code",
   "execution_count": null,
   "metadata": {},
   "outputs": [],
   "source": [
    "a = np.random.random((2,3))\n",
    "print('a=',a)\n",
    "print()\n",
    "# somma di ogni colonna, restituisce un array con una dimensione in meno\n",
    "print('somma delle righe=', a.sum(axis = 0))\n",
    "print()\n",
    "print('somma delle colonne=', a.sum(axis = 1))"
   ]
  },
  {
   "cell_type": "code",
   "execution_count": null,
   "metadata": {},
   "outputs": [],
   "source": [
    "# min di ogni riga, restituisce un array con una dimensione in meno\n",
    "b = np.random.random((3,2))\n",
    "print(b)\n",
    "print()\n",
    "print('Minimo lungo l\\'asse 0:',b.min(axis = 0))\n",
    "print('Minimo lungo l\\'asse 1:',b.min(axis = 1))"
   ]
  },
  {
   "cell_type": "code",
   "execution_count": null,
   "metadata": {},
   "outputs": [],
   "source": [
    "# somma cumulativa lungo ogni asse\n",
    "print('Somma cumulativa lungo l\\'asse 0:',b.cumsum(axis = 0))\n",
    "print()\n",
    "print('Minimo lungo l\\'asse 1:',b.cumsum(axis = 1))"
   ]
  },
  {
   "cell_type": "markdown",
   "metadata": {},
   "source": [
    "## Indicizzazione, slicing e iterazione\n",
    "Le matrici multidimensionali possono essere indicizzate, suddivise e ripetute, in modo simile alle liste e ad altre sequenze di Python, ma anche **contemporaneamente** su più assi usando la notazione semplificata. Attraverso lo slicing si può, ad esempio, estrarre una colonna della matrice od anche le colonne dispari. Vediamo alcuni esempi."
   ]
  },
  {
   "cell_type": "code",
   "execution_count": null,
   "metadata": {},
   "outputs": [],
   "source": [
    "b = np.arange(9) #crea array 1D di 9 elementi da (ovvero con tutti gli interi da 0 a 9, con passo 1)\n",
    "print(b)"
   ]
  },
  {
   "cell_type": "code",
   "execution_count": null,
   "metadata": {},
   "outputs": [],
   "source": [
    "print(b[2])      # stampa l'elemento di indice 2\n",
    "print(b[1:8:2])  # da indice 1 a indice 8 (escluso) passo 2 "
   ]
  },
  {
   "cell_type": "code",
   "execution_count": null,
   "metadata": {},
   "outputs": [],
   "source": [
    "b = np.arange(12) #crea array 1D di 12 elementi\n",
    "print(b)\n",
    "d=b[::-1] #restituisce un array 1D invertendo il contenuto di b\n",
    "\n",
    "print(d.shape)\n",
    "print(d)"
   ]
  },
  {
   "cell_type": "code",
   "execution_count": null,
   "metadata": {},
   "outputs": [],
   "source": [
    "# Consideriamo ora un caso a 2D \n",
    "\n",
    "c = np.arange(20).reshape(4,5) #crea array 4x5 da un array 1D di 20 elementi\n",
    "print(c)"
   ]
  },
  {
   "cell_type": "code",
   "execution_count": null,
   "metadata": {},
   "outputs": [],
   "source": [
    "print('l\\'elemento in posizione 2,3 è',c[2,3]) # stampa l'elemento di indice 2, 3\n",
    "print(c[1:4:2,:]) # stampa per le righe 1 e 3, tutte le colonne\n"
   ]
  },
  {
   "cell_type": "code",
   "execution_count": null,
   "metadata": {},
   "outputs": [],
   "source": [
    "print(c)\n",
    "print()\n",
    "print(c[0:2,0:3]) # seleziona e stampa le righe 0 e 1 e le colonne 0, 1, e 2"
   ]
  },
  {
   "cell_type": "code",
   "execution_count": null,
   "metadata": {},
   "outputs": [],
   "source": [
    "print(c)\n",
    "print()\n",
    "print(c[1:3,1:4]) # seleziona e stampa le righe 1 e 2 e le colonne 1, 2 e 3"
   ]
  },
  {
   "cell_type": "code",
   "execution_count": null,
   "metadata": {},
   "outputs": [],
   "source": [
    "print(c)\n",
    "print()\n",
    "print(c[:,::2]) # seleziona e stampa le colonne pari"
   ]
  },
  {
   "cell_type": "code",
   "execution_count": null,
   "metadata": {},
   "outputs": [],
   "source": [
    "print(c)\n",
    "print()\n",
    "d=c[:,2:3] #seleziona la colonna 2\n",
    "print('la dimensione dell\\'array c[:,2:3] è', d.shape)\n",
    "print('il suo tipo è',d.dtype)\n",
    "print(d)\n",
    "e=c[:,2]\n",
    "print('la dimensione dell\\'array c[:,2] è', e.shape)\n",
    "print('il suo tipo è',e.dtype)\n",
    "print(e)"
   ]
  },
  {
   "cell_type": "code",
   "execution_count": null,
   "metadata": {},
   "outputs": [],
   "source": [
    "# Vediamo ora degli esempi di iterazioni  con la print()\n",
    "b = np.arange(4) #crea array 1D di 4 elementi\n",
    "print('b=',b)\n",
    "print()\n",
    "for elem in b:\n",
    "    print(elem ** 2) # calcola il quadrato degli elementi di b e stampa ciascun valore su una riga diversa"
   ]
  },
  {
   "cell_type": "code",
   "execution_count": null,
   "metadata": {},
   "outputs": [],
   "source": [
    "c = np.arange(6).reshape(2,3) #crea array 2x3 da un array 1D di 6 elementi\n",
    "print(c)\n",
    "print()\n",
    "print('c[0]=',c[0])\n",
    "print()\n",
    "for riga in c:\n",
    "    print(riga ** 2) # calcola, riga per riga, il quadrato degli elementi"
   ]
  },
  {
   "cell_type": "code",
   "execution_count": null,
   "metadata": {},
   "outputs": [],
   "source": [
    "for i in range(c.shape[0]):    # stampa ciascun valore di c su una riga diversa\n",
    "    for j in range(c.shape[1]):\n",
    "        print(c[i,j]) "
   ]
  },
  {
   "cell_type": "code",
   "execution_count": null,
   "metadata": {
    "tags": []
   },
   "outputs": [],
   "source": [
    "for riga in c:    # versione alternativa che itera sugli elementi e non sugli indici\n",
    "    for elem in riga:\n",
    "        print(elem)"
   ]
  },
  {
   "cell_type": "markdown",
   "metadata": {
    "tags": []
   },
   "source": [
    "## Lettura di un array da file\n",
    "NumPy offre il metodo loadtxt() per leggere un file nel seguente formato:\n",
    "\n",
    "`numero`<sub>1,1</sub> `numero`<sub>1,2</sub> `numero`<sub>1,3</sub> .... `numero`<sub>1,n</sub>\n",
    "\n",
    "`numero`<sub>2,1</sub> `numero`<sub>2,2</sub> `numero`<sub>2,3</sub> .... `numero`<sub>2,n</sub>\n",
    "........\n",
    "\n",
    "`numero`<sub>m,1</sub> `numero`<sub>m,2</sub> `numero`<sub>m,3</sub> .... `numero`<sub>m,n</sub>\n",
    "\n",
    "e restituisce un `nd.array` 2D con tutti i valori contenuti nel file."
   ]
  },
  {
   "cell_type": "code",
   "execution_count": null,
   "metadata": {},
   "outputs": [],
   "source": [
    "print(np.loadtxt(\"array1.txt\"))"
   ]
  },
  {
   "cell_type": "markdown",
   "metadata": {},
   "source": [
    "Se il file contiene una sola riga, viene restituito un array 1D"
   ]
  },
  {
   "cell_type": "code",
   "execution_count": null,
   "metadata": {
    "tags": []
   },
   "outputs": [],
   "source": [
    "print(np.loadtxt(\"array2.txt\"))"
   ]
  },
  {
   "cell_type": "markdown",
   "metadata": {},
   "source": [
    "Se il file non contiene lo stesso numero di colonne in ogni riga, la lettura va in errore:"
   ]
  },
  {
   "cell_type": "code",
   "execution_count": null,
   "metadata": {},
   "outputs": [],
   "source": [
    "print(np.loadtxt(\"array3.txt\"))"
   ]
  },
  {
   "cell_type": "markdown",
   "metadata": {
    "tags": []
   },
   "source": [
    "### lettura da file csv\n",
    "Se il file invece di avere lo spazio come separatore ha la ',' (o un altro separatore), basta specificare quale è il delimitatore (delimiter)"
   ]
  },
  {
   "cell_type": "code",
   "execution_count": null,
   "metadata": {
    "tags": []
   },
   "outputs": [],
   "source": [
    "print(np.loadtxt(\"array1.csv\", delimiter = ','))"
   ]
  },
  {
   "cell_type": "markdown",
   "metadata": {},
   "source": [
    "## Esercizi su matrici come NumPy array\n",
    "\n",
    "1. Esercizio: Ricerca dell'elemento massimo: Funzione che prende in input una matrice e restituisce il valore massimo presente; assume che la matrice non sia vuota. \n",
    "2. Esercizio: Ricerca della riga a somma massima: Funzione che prende in input una matrice e restituisce l'indice della riga di somma massima presente; assume che la matrice non sia vuota e che nel caso ci siano più righe di somma massima la funzione restituisca la riga con indice minore.\n",
    "3. Esercizio: Somma di matrici (stessa dimensione).\n",
    "4. Esercizio: Prodotto di matrici (dimensioni compatibili)."
   ]
  },
  {
   "cell_type": "code",
   "execution_count": null,
   "metadata": {},
   "outputs": [],
   "source": [
    "# Creiamo 2 matrici 4x3 a e b ed una matrice c 3x4, tutte con numeri random\n",
    "a = np.random.random((4,3))\n",
    "b = np.random.random((4,3))\n",
    "c = np.random.random((3,4))\n",
    "print(a)\n",
    "print()\n",
    "print(b)\n",
    "print()\n",
    "print(c)\n",
    "print()"
   ]
  },
  {
   "cell_type": "code",
   "execution_count": null,
   "metadata": {},
   "outputs": [],
   "source": [
    "# Esercizio 1: basta usare la funzione np.max()\n",
    "print(a)\n",
    "print(np.max(a))"
   ]
  },
  {
   "cell_type": "code",
   "execution_count": null,
   "metadata": {},
   "outputs": [],
   "source": [
    "# Esercizio 2: Scansiona le righe e trova il massimo\n",
    "print(a)\n",
    "sommarighe = np.sum(a,axis=1) #calcolo il vettore somma delle righe\n",
    "print(sommarighe)\n",
    "\n",
    "print(np.argmax(sommarighe)) #restituisco l'indice dell'elemento massimo"
   ]
  },
  {
   "cell_type": "code",
   "execution_count": null,
   "metadata": {},
   "outputs": [],
   "source": [
    "# Esercizio 3: basta usare l'operatore +\n",
    "print(a+b) # Il risultato ha le stesse dimensioni di a e b"
   ]
  },
  {
   "cell_type": "code",
   "execution_count": null,
   "metadata": {},
   "outputs": [],
   "source": [
    "# Esercizio 4: basta usare l'operatore @\n",
    "print(a@c) # Poiché a è 4x3 e c 3x4 il risultato è un array 4x4"
   ]
  },
  {
   "cell_type": "markdown",
   "metadata": {},
   "source": [
    "#### Esercizio: calcolo del più grande punto di sella\n",
    "Scrivere una funzione che prende in input un array bidimensionale **a** e restituisce (se esiste) la tupla (i,j) della posizione del più grande punto di sella presente nell'array. Se non esiste deve restituire la tupla (-1,-1). Si definisce *punto di sella (i,j)* una posizione tale che a\\[i,j\\] è il **minimo valore della riga i** e il **massimo valore della colonna j** o viceversa. Assumete, per semplicità, che ogni riga e ogni colonna abbia uno e un solo massimo e minimo."
   ]
  },
  {
   "cell_type": "code",
   "execution_count": null,
   "metadata": {},
   "outputs": [],
   "source": [
    "import numpy as np\n",
    "\n",
    "def maxPuntoSella(a):\n",
    "    ris = (-1,-1) # per ora non ho trovato punti di sella\n",
    "    minrighe = np.argmin(a,axis=1) # Trova gli indici dei minimi per riga e.g. [4, 1, 1, 4, 4])\n",
    "    maxrighe = np.argmax(a,axis=1) # Trova gli indici dei massimi per riga\n",
    "    mincol = np.argmin(a,axis=0) # Trova gli indici dei minimi per colonna\n",
    "    maxcol = np.argmax(a,axis=0) # Trova gli indici dei massimi per colonna\n",
    "    # un punto di sella (i,j) minimo sulle righe e massimo sulle colonne ha la proprietà che\n",
    "    # j = minrighe[i] e i = maxcol[j], la colonna j è la minima sulla riga i e la riga i\n",
    "    # è la massima nella colonna j. per l'altro tipo di punto di sella vale il simmetrico\n",
    "    for i in range(a.shape[0]):\n",
    "        j = minrighe[i] # cerco punti di sella minriga-maxcol\n",
    "        if i == maxcol[j]: # Trovato un punto di sella minriga-maxcol\n",
    "            if ris == (-1,-1): # primo punto di sella trovato\n",
    "                ris = (i,j)\n",
    "            elif a[i,j] > a[ris]: # Trovato un nuovo punto di sella, più grande del massimo precedente\n",
    "                ris = (i,j)\n",
    "        j = maxrighe[i] # cerco punti di sella maxriga-mincol\n",
    "        if i == mincol[j]: # Trovato un punto di sella maxriga-mincol \n",
    "            if ris == (-1,-1): # primo punto di sella trovato\n",
    "                ris = (i,j)\n",
    "            elif a[i,j] > a[ris]: # Trovato un nuovo punto di sella, più grande del massimo precedente\n",
    "                ris = (i,j)\n",
    "    return ris"
   ]
  },
  {
   "cell_type": "code",
   "execution_count": null,
   "metadata": {},
   "outputs": [],
   "source": [
    "ps=(-1,-1)\n",
    "while ps==(-1,-1):\n",
    "    a=np.random.random((5,5))\n",
    "    ps=maxPuntoSella(a)\n",
    "print(a,maxPuntoSella(a))"
   ]
  },
  {
   "cell_type": "markdown",
   "metadata": {},
   "source": [
    "### Altre funzioni e librerie\n",
    "Python ha un numero molto elevato di altri moduli e librerie predefinite che sono a disposizione dei programmatori, quali ad esempio [SciPy](https://www.scipy.org/) per il calcolo scientifico, [Pandas](https://pandas.pydata.org/) per l'analisi dei dati, [Keras](https://keras.io/), [TensorFlow](https://www.tensorflow.org/) e [PyTorch](https://pytorch.org/) per il cosiddetto *deep learning* e molte altre. Qui ora mostriamo solo alcune funzionalità della libreria *IPython.display* per la gestione delle immagini."
   ]
  },
  {
   "cell_type": "markdown",
   "metadata": {},
   "source": [
    "#### Caricare, visualizzare e cancellare immagini\n",
    "La libreria IPython.display ci mette a disposizione 3 funzioni per le immagini, cioè le funzioni *Image*, *display* e *clear_output*. Il loro comportamento è il seguente:\n",
    "- La funzione `Image(url)` carica un immagine da un indirizzo web (url) o e restituisce un oggetto di tipo image\n",
    "- La funzione `display(image)` visualizza sullo schermo un oggetto di tipo image\n",
    "- la funzione `clear_output()` cancella quanto visualizzato dalla cella.\n",
    "\n",
    "Vediamo un semplice esempio:"
   ]
  },
  {
   "cell_type": "code",
   "execution_count": null,
   "metadata": {},
   "outputs": [],
   "source": [
    "from IPython.display import display, Image, clear_output\n",
    "\n",
    "url1 = \"https://upload.wikimedia.org/wikipedia/commons/thumb/c/c9/Interno_del_Colosseo.jpg/281px-Interno_del_Colosseo.jpg\"\n",
    "url2 = \"https://upload.wikimedia.org/wikipedia/commons/thumb/d/d8/Colosseum_in_Rome-April_2007-1-_copie_2B.jpg/390px-Colosseum_in_Rome-April_2007-1-_copie_2B.jpg\"\n",
    "\n",
    "image1 = Image(url1) # carica l'immagine alla url1 nell'oggetto image1\n",
    "image2 = Image(url2) # carica l'immagine alla url2 nell'oggetto image2\n",
    "image3=Image(open('Eiffel.png',\"rb\").read())\n",
    "display(image1) # visualizza image1\n",
    "input() # il programma aspetta un invio ('enter') prima di andare avanti\n",
    "clear_output() # cancella output\n",
    "display(image2) # visualizza image1\n",
    "input() # il programma aspetta un invio ('enter') prima di andare avanti\n",
    "clear_output() # cancella output\n",
    "display(image3) # visualizza image2\n",
    "input() # il programma aspetta un invio ('enter') prima di andare avanti\n",
    "clear_output() # cancella output e termina\n"
   ]
  },
  {
   "cell_type": "markdown",
   "metadata": {},
   "source": [
    "## Esercizi\n",
    "Completate questi esercizi prima di cominciare il prossimo argomento"
   ]
  },
  {
   "cell_type": "markdown",
   "metadata": {},
   "source": [
    "### Esercizio 1:\n",
    "Scrivere una funzione che riceve in input il nome di un file contenente un array 2D e restituisce la lista degli indici delle righe che contengono il massimo numero di valori strettamente positivi. Assumere che il file sia ben formato, cioè tutte le righe contengono lo stesso numero di elementi."
   ]
  },
  {
   "cell_type": "code",
   "execution_count": null,
   "metadata": {
    "scrolled": true
   },
   "outputs": [],
   "source": [
    "import numpy as np\n"
   ]
  },
  {
   "cell_type": "markdown",
   "metadata": {
    "tags": []
   },
   "source": [
    "### Esercizio 2:\n",
    "Scrivere una funzione che riceve in input il nome di un file contenente un array 2D e restituisce la colonna il cui valore medio sia, in valore assoluto, più piccolo. Assumere che il file sia ben formato, cioè tutte le righe contengono lo stesso numero di elementi."
   ]
  },
  {
   "cell_type": "code",
   "execution_count": null,
   "metadata": {
    "scrolled": true
   },
   "outputs": [],
   "source": [
    "import numpy as np\n",
    "\n"
   ]
  }
 ],
 "metadata": {
  "kernelspec": {
   "display_name": "Python 3 (ipykernel)",
   "language": "python",
   "name": "python3"
  },
  "language_info": {
   "codemirror_mode": {
    "name": "ipython",
    "version": 3
   },
   "file_extension": ".py",
   "mimetype": "text/x-python",
   "name": "python",
   "nbconvert_exporter": "python",
   "pygments_lexer": "ipython3",
   "version": "3.8.17"
  }
 },
 "nbformat": 4,
 "nbformat_minor": 4
}
