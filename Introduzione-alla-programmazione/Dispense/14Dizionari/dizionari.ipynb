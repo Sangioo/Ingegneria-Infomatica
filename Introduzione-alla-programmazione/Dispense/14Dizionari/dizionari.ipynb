{
 "cells": [
  {
   "cell_type": "markdown",
   "metadata": {
    "slideshow": {
     "slide_type": "slide"
    }
   },
   "source": [
    "#### Autori: Domenico Lembo, Antonella Poggi, Giuseppe Santucci and Marco Schaerf\n",
    "\n",
    "[Dipartimento di Ingegneria informatica, automatica e gestionale](https://www.diag.uniroma1.it)\n",
    "\n",
    "<img src=\"https://mirrors.creativecommons.org/presskit/buttons/88x31/png/by-nc-sa.eu.png\"\n",
    "     alt=\"License\"\n",
    "     style=\"float: left;\"\n",
    "     height=\"40\" width=\"100\" />\n",
    "This notebook is distributed with license Creative Commons *CC BY-NC-SA*"
   ]
  },
  {
   "cell_type": "markdown",
   "metadata": {},
   "source": [
    "# Dizionari\n",
    "1. File: frequenza di caratteri\n",
    "2. Dizionari\n",
    "3. Esercizio: frequenza caratteri di un file usando un dizionario\n",
    "4. Stampa del contenuto di un dizionario\n",
    "5. Esercizio: frequenza parole in un file usando un dizionario\n",
    "6. Dizionario invertito\n",
    "7. Approfondimento sul metodo `split`\n",
    "8. Esercizio: lista esami\n",
    "9. Esercizio: dizionario esami"
   ]
  },
  {
   "cell_type": "markdown",
   "metadata": {},
   "source": [
    "### File: frequenza di caratteri\n",
    "Vogliamo leggere un file e calcolare la frequenza dei suoi caratteri. Consideriamo alcune varianti al problema e vediamo quale è la soluzione più adatta. "
   ]
  },
  {
   "cell_type": "markdown",
   "metadata": {},
   "source": [
    "#### Caso 1:\n",
    "Assumiamo di volere contare solo i caratteri alfabetici, e di non voler distinguere fra maiuscole e minuscole (cioè se troviamo 'A' ed 'a' diciamo semplicemente che abbiamo trovato due occorrenze della lettera 'a'). Nella soluzione proposta di seguito, per rappresentare il risultato useremo una lista di 26 elementi, ognuno rappresentante la frequenza della lettera ('a'-'z') corrispondente."
   ]
  },
  {
   "cell_type": "code",
   "execution_count": null,
   "metadata": {
    "scrolled": true
   },
   "outputs": [],
   "source": [
    "# La funzione fCaratteri restituisce una lista di 26 interi, ognuno rappresentante, rispettivamente, \n",
    "# la frequenza della lettera ('a'-'z')\n",
    "def fCaratteri(file_in):\n",
    "    l=[] # inizializzo la lista risultato\n",
    "    for i in range(ord('z')-ord('a')+1): #26 ripetizioni\n",
    "        l.append(0) #[0,0...]\n",
    "    #l=[0]*(ord('z')-ord('a')+1) # analoga al ciclo for precedente\n",
    "    #l=[0 for i in range(ord('z')-ord('a')+1)] # analoga al ciclo for precedente\n",
    "\n",
    "    fin=open(file_in,\"r\",encoding=\"UTF-8\")\n",
    "    c=fin.read(1).lower()#legge il primo carattere del file e lo converte in minuscolo\n",
    "    \n",
    "    while c!=\"\":\n",
    "        if 'a'<=c<='z':            #solo in python !!!!!!\n",
    "            l[ord(c)-ord('a')]+=1  #aggiorna la posizione corrispondente al carattere\n",
    "        c=fin.read(1).lower()      #legge il prossimo carattere\n",
    "    fin.close()\n",
    "    return l\n",
    "\n",
    "\n",
    "\n",
    "frequenze=fCaratteri(\"I_Malavoglia.txt\")\n",
    "#print(frequenze)\n",
    "for i in range(len(frequenze)):\n",
    "    print(chr(ord('a')+i),frequenze[i])"
   ]
  },
  {
   "cell_type": "markdown",
   "metadata": {},
   "source": [
    "#### Caso 2:\n",
    "La soluzione precedente si basa sul fatto che esiste un ordinamento noto sui caratteri. Inoltre può essere adottata in modo conveniente solo quando il numero di caratteri distinti da cercare è piccolo (nel nostro esempio 26). Consideriamo ad esempio il caso in cui vogliamo calcolare la frequenza di tutti i caratteri presenti nel file. Se volessimo procedere come nel caso precedente, dovremmo usare una lista che abbia tanti elementi quanti sono i caratteri nella codifica UTF-8. Preferiamo quindi una soluzione diversa, in cui per rappresentare il risultato useremo una lista di coppie, in cui per ogni carattere presente nel file memorizziamo la coppia (carattere, numero di occorrenze). Questa soluzione è sicuramente più adatta quando il numero di potenziali caratteri da cercare è molto grande. Ha però lo svantaggio che richiede ogni volta di scandire la lista per cercare in quale posizione sia la coppia da aggiornare."
   ]
  },
  {
   "cell_type": "code",
   "execution_count": null,
   "metadata": {},
   "outputs": [],
   "source": [
    "# La funzione aggiornaConto(l,c) prende in ingresso una lista l di coppie [c,n] e un carattere c1 e \n",
    "# aggiorna l come segue: se [c1,n1] è presente nella lista l, aumenta di 1 il numero n1, altrimenti\n",
    "# inserisce la coppia [c1,1] per indicare che il carattere c1 è stato incontrato\n",
    "# per la prima volta\n",
    "def aggiornaConto(l,c): \n",
    "    for coppia in l:\n",
    "        if coppia[0] == c:\n",
    "            coppia[1] += 1\n",
    "            return #appena si trova l'elemento si aggiorna e si interrompe la scansione di l\n",
    "    l.append([c,1])\n",
    "            \n",
    "\n",
    "def fCaratteri2(file_in):\n",
    "    l=[]\n",
    "    fin=open(file_in,\"r\",encoding=\"UTF-8\")\n",
    "    c=fin.read(1) #legge il primo carattere\n",
    "    while c!=\"\":\n",
    "        aggiornaConto(l,c)\n",
    "        c=fin.read(1)   #legge il prossimo carattere\n",
    "    return l\n",
    "\n",
    "frequenze=fCaratteri2(\"I_Malavoglia.txt\")\n",
    "for i in range(len(frequenze)):\n",
    "    print(frequenze[i])"
   ]
  },
  {
   "cell_type": "markdown",
   "metadata": {},
   "source": [
    "### Dizionari\n",
    "Il modo di rappresentare i risultati degli esercizi precedente non è molto comodo. Infatti, la prima soluzione funziona solo per situazioni in cui i caratteri da cercare sono pochi, mentre la seconda è lenta nell'aggiornamento. Per offrire una soluzione migliore a questo tipo di problemi, in Python sono stati introdotti i *Dizionari*. I dizionari sono strutture dati basate sul concetto di coppia *chiave : valore*. Cioè coppie in cui il primo valore serve per identificare univocamente la particolare coppia ed il secondo contiene il valore corrispondente alla chiave.\n",
    "\n",
    "Un dizionario è un insieme di coppie (chiave : valore), con alcune importanti proprietà:\n",
    "1. I dizionari sono oggetti **mutabili**\n",
    "2. l'ordine delle coppie NON ha importanza. \n",
    "3. i valori delle chiavi **non possono mai ripetersi**\n",
    "4. Si usa la chiave per accedere **direttamente** al valore corrispondente\n",
    "5. L'operatore `in` si applica alle chiavi del dizionario, non ai valori né alle coppie *chiave : valore*\n",
    "6. Le chiavi **possono essere disomogenee ma solo di tipi immutabili**. I valori possono essere di qualunque tipo (anche di tipo dizionario)\n",
    "\n",
    "La chiave svolge il ruolo dell'indice nelle liste o stringhe, nel senso che ogni valore è identificato dalla chiave, non dalla posizione in cui si trova. Vediamo ora come si possa creare e modificare un dizionario."
   ]
  },
  {
   "cell_type": "code",
   "execution_count": 1,
   "metadata": {
    "scrolled": true
   },
   "outputs": [
    {
     "name": "stdout",
     "output_type": "stream",
     "text": [
      "{'a': 3}\n",
      "{'a': 3, 'b': 5}\n",
      "{'a': 7, 'b': 5}\n",
      "{'a': 7, 'b': 5, 1: [1, 2, 4]}\n"
     ]
    },
    {
     "ename": "TypeError",
     "evalue": "unhashable type: 'list'",
     "output_type": "error",
     "traceback": [
      "\u001b[0;31m---------------------------------------------------------------------------\u001b[0m",
      "\u001b[0;31mTypeError\u001b[0m                                 Traceback (most recent call last)",
      "Cell \u001b[0;32mIn[1], line 10\u001b[0m\n\u001b[1;32m      8\u001b[0m d[\u001b[38;5;241m1\u001b[39m] \u001b[38;5;241m=\u001b[39m [\u001b[38;5;241m1\u001b[39m, \u001b[38;5;241m2\u001b[39m, \u001b[38;5;241m4\u001b[39m] \u001b[38;5;66;03m# aggiunge la coppia con chiave 1 e valore la lista [1, 2, 4]\u001b[39;00m\n\u001b[1;32m      9\u001b[0m \u001b[38;5;28mprint\u001b[39m(d)\n\u001b[0;32m---> 10\u001b[0m \u001b[43md\u001b[49m\u001b[43m[\u001b[49m\u001b[43m[\u001b[49m\u001b[38;5;241;43m1\u001b[39;49m\u001b[43m]\u001b[49m\u001b[43m]\u001b[49m \u001b[38;5;241m=\u001b[39m \u001b[38;5;241m3\u001b[39m \u001b[38;5;66;03m# Va in errore perché la chiave NON può essere di tipo mutabile come le liste\u001b[39;00m\n",
      "\u001b[0;31mTypeError\u001b[0m: unhashable type: 'list'"
     ]
    }
   ],
   "source": [
    "d = {} # Crea un dizionario VUOTO\n",
    "d['a'] = 3 # crea una prima coppia con chiave 'a' e valore 3\n",
    "print(d)\n",
    "d['b'] = 5 # aggiunge una coppia con chiave 'a' e valore 5\n",
    "print(d)\n",
    "d['a'] = 7 # modifica la coppia con chiave 'a' cambiando il valore in 7\n",
    "print(d)\n",
    "d[1] = [1, 2, 4] # aggiunge la coppia con chiave 1 e valore la lista [1, 2, 4]\n",
    "print(d)\n",
    "d[[1]] = 3 # Va in errore perché la chiave NON può essere di tipo mutabile come le liste"
   ]
  },
  {
   "cell_type": "code",
   "execution_count": 2,
   "metadata": {
    "scrolled": true
   },
   "outputs": [
    {
     "name": "stdout",
     "output_type": "stream",
     "text": [
      "777\n",
      "casa\n",
      "99\n"
     ]
    }
   ],
   "source": [
    "d = {'a': 777, 'b': 'casa', 'z': 99} # Crea e inizializza un dizionario \n",
    "print(d['a']) \n",
    "print(d['b'])\n",
    "print(d['z'])"
   ]
  },
  {
   "cell_type": "markdown",
   "metadata": {},
   "source": [
    "#### Alcuni operatori e funzioni sui dizionari\n",
    "\n",
    "\n",
    "| Sintassi  | Descrizione  |\n",
    "|-|-|\n",
    "| <b>diz$_1$ == diz$_2$</b>  |  `True` se stesse coppie *chiave:valore* in diz$_1$ e diz$_2$, `False` altrimenti |\n",
    "| <b>diz$_1$ != diz$_2$</b>  |  `True` se almeno una coppia *chiave:valore* diversa tra diz$_1$ e diz$_2$, `False` altrimenti|\n",
    "| <b>diz[*key*]</b> | indicizzazione: accesso ai singoli elementi (tramite la chiave) |\n",
    "|<b>len(diz)</b> | restituisce il numero di coppie chiave-valore nel dizionario |\n",
    "|<b>*key* in diz</b> | `True` se diz ha *key* fra le sue chiavi, `False` altrimenti|\n",
    "|<b>*key* not in diz</b> | `True` se diz non ha *key* fra le sue chiavi, `False` altrimenti|\n",
    "|<b>max(diz)</b>| restituisce la chiave maggiore se sulle chiavi è definito un ordinamento (solo numeri, solo stringhe, ecc.) |\n",
    "|<b>min(diz)</b>| restituisce la chiave minore se sulle chiavi è definito un ordinamento (solo numeri, solo stringhe, ecc.) |\n",
    "|<b>sum(diz)</b>| somma le chiavi se sono tutte numeri (int o float) |\n",
    "\n",
    "Le funzioni `max()`, `min()`, `sum()` restituiscono un errore se la condizione in cui sono applicabili non è verificata dal dizionario in input. Notiamo anche che quando ricevono in ingresso un dizionario queste funzioni non hanno la stessa utilità che abbiamo visto nel loro utilizzo, ad esempio, su liste o tuple, essendo il calcolo limitato alle sole chiavi (senza considerare il valore associato a ciascuna chiave).\n",
    "\n",
    "Si noti inoltre come per gli operatori `==` e `!=` l'ordine delle coppie *chiave:valore* nel dizionario è irrilevante."
   ]
  },
  {
   "cell_type": "markdown",
   "metadata": {},
   "source": [
    "#### Scansione di un dizionario\n",
    "Per scandire tutte le coppie di un dizionario si può usare un ciclo  `for` con la seguente struttura:\n",
    "\n",
    "```Python\n",
    "for key in d:\n",
    "    print(key,d[key])\n",
    "```    \n",
    "Notate che il ciclo si fa sulle *chiavi* del dizionario e se vogliamo accedere al valore corrispondente alla chiave `key` nel dizionario `d`, si usa la notazione `d[key]`."
   ]
  },
  {
   "cell_type": "code",
   "execution_count": 3,
   "metadata": {
    "scrolled": true
   },
   "outputs": [
    {
     "name": "stdout",
     "output_type": "stream",
     "text": [
      "a 777\n",
      "b casa\n",
      "z 99\n"
     ]
    }
   ],
   "source": [
    "for key in d:\n",
    "    print(key,d[key])"
   ]
  },
  {
   "cell_type": "markdown",
   "metadata": {},
   "source": [
    "#### Metodi fondamentali definiti per i dizionari\n",
    "I metodi fondamentali definiti per i dizionari sono:\n",
    " - `clear()` svuota il dizionario, cioè riporta il dizionario a vuoto\n",
    " - `copy()` crea una copia del dizionario\n",
    " - `get(key)` restituisce il valore associato alla chiave nel dizionario, se la chiave **non è presente** nel dizionario, restituisce `None`. Notate che `None` è il valore di default restituito in caso la chiave non sia presente. Se si invoca `get()` con due argomenti, ad esempio `get(key,value)`, il secondo argomento, cioè `value`, sarà il valore restituito in caso la chiave non sia presente. \n",
    " - `pop(key)` elimina l'elemento con chiave == key (se c'è, altrimenti va in errore) e restituisce il suo valore\n",
    " - `keys()` restituisce la lista di tutte le chiavi del dizionario\n",
    " - `values()` restituisce la lista di tutti i valori del dizionario\n",
    " \n",
    "Per la precisione, le funzioni `keys()` e `values()` non restiuiscono un valore di tipo lista (rispettivamente contenenti le sole chiavi ed i soli valori del dizionario), ma restituiscono dei *dictionary view objects*. Un oggetto di questo tipo fornisce una vista dinamica sulle voci del dizionario, il che significa che **quando il dizionario cambia, la vista riflette queste modifiche**. Da un dictionary view object `W` è sempre possibile ottenere una lista con l'istruzione `list(W)`. Ad ogni modo, un dictionary view object è iterabile, per cui è ad esempio possibile scandirlo con un ciclo `for` (l'effetto sarà lo stesso che scandire la lista `list(W)`) e verificare la presenza di un valore nella vista con l'operatore `in` (anche in questo caso l'effetto sarà lo stesso che usare l'operatore sulla lista `list(W)`). Non è però possibile usare l'indicizzazione tramite le `[]` per accedere ad un elemento, né ovviamente modificare in alcun modo l'oggetto stesso (che si modifica \"automaticamente\" al variare del dizionario di cui è una vista):\n",
    "\n",
    "\n",
    "Vediamo degli esempi:"
   ]
  },
  {
   "cell_type": "code",
   "execution_count": 4,
   "metadata": {},
   "outputs": [
    {
     "name": "stdout",
     "output_type": "stream",
     "text": [
      "{1: 'palla', 2: 'pelle'}\n",
      "{1: 'palla', 2: 'pelle'}\n",
      "{}\n",
      "{1: 'palla', 2: 'pelle'}\n"
     ]
    }
   ],
   "source": [
    "d = {}\n",
    "d[1] = 'palla'\n",
    "d[2] = 'pelle'\n",
    "d2 = d.copy()\n",
    "print(d)\n",
    "print(d2)\n",
    "d.clear()\n",
    "print(d)\n",
    "print(d2)"
   ]
  },
  {
   "cell_type": "code",
   "execution_count": 5,
   "metadata": {},
   "outputs": [
    {
     "name": "stdout",
     "output_type": "stream",
     "text": [
      "dict_keys([1, 2])\n",
      "[1, 2]\n",
      "dict_values(['palla', 'pelle'])\n",
      "['palla', 'pelle']\n",
      "palla\n",
      "{2: 'pelle'}\n",
      "None\n",
      "pelle\n",
      "[2]\n",
      "['pelle']\n",
      "[2, 3]\n",
      "['pelle', 'nuovo elemento']\n"
     ]
    }
   ],
   "source": [
    "d2={}\n",
    "d2[1] = 'palla'\n",
    "d2[2] = 'pelle'\n",
    "print(d2.keys())\n",
    "print(list(d2.keys()))\n",
    "print(d2.values())\n",
    "print(list(d2.values()))\n",
    "print(d2.pop(1))\n",
    "print(d2)\n",
    "print(d2.get(1))\n",
    "print(d2.get(2))\n",
    "o=d2.keys()\n",
    "v=d2.values()\n",
    "print(list(o))\n",
    "print(list(v))\n",
    "d2[3]=\"nuovo elemento\"\n",
    "print(list(o))\n",
    "print(list(v))"
   ]
  },
  {
   "cell_type": "markdown",
   "metadata": {},
   "source": [
    "### Esercizio: frequenza caratteri di un file usando un dizionario\n",
    "Risolviamo ora il problema che abbiamo visto all'inizio della lezione usando i dizionari. In particolare consideriamo il secondo caso, quello in cui vogliamo conoscere la frequenza di tutti i caratteri presenti nel file. Vediamo dopo quali sono i vantaggi."
   ]
  },
  {
   "cell_type": "code",
   "execution_count": null,
   "metadata": {
    "scrolled": true
   },
   "outputs": [],
   "source": [
    "def fCaratteriDiz(file_in):\n",
    "    fin=open(file_in,\"r\",encoding=\"UTF-8\")\n",
    "    d={}\n",
    "    c=fin.read(1) #legge il primo carattere\n",
    "    while c!=\"\":\n",
    "        if c in d:\n",
    "            d[c] = d[c] + 1\n",
    "        else:\n",
    "            d[c] = 1\n",
    "        #In alternativa a questo if else si poteva usare la sola istruzione d[c] = d.get(c,0) + 1\n",
    "        c=fin.read(1) \n",
    "    return d\n",
    "\n",
    "frequenze=fCaratteriDiz(\"I_Malavoglia.txt\")\n",
    "for c in frequenze:\n",
    "    print(c,frequenze[c])\n",
    "    "
   ]
  },
  {
   "cell_type": "markdown",
   "metadata": {},
   "source": [
    "#### Discussione\n",
    "La soluzione con il dizionario combina i vantaggi delle 2 soluzioni basate sull'uso di una lista che abbiamo visto in precedenza, infatti permette una rappresentazione non ridondante che funziona anche quando ci sono tanti caratteri diversi (come per la seconda soluzione  vista sopra) ed al tempo stesso garantisce l'efficienza di accedere rapidamente ad ogni valore (come per la prima soluzione vista sopra) grazie al meccanismo delle coppie *chiave:valore*. Evitiamo quindi il ciclo in cui ricerchiamo l'elemento da aggiornare della seconda soluzione basata su liste. \n",
    "\n",
    "Se vogliamo rappresentare solo le occorrenze delle lettere alfabetiche comprese fra 'a e 'z', senza distinguere fra maiuscole e minuscole, possiamo anche pensare ad una soluzione alternativa come la seguente:"
   ]
  },
  {
   "cell_type": "code",
   "execution_count": null,
   "metadata": {},
   "outputs": [],
   "source": [
    "#crea un dizionario <carattere 'a' 'z'><frequenza carattere>\n",
    "def fCaratteriDiz2(file_in):\n",
    "    fin=open(file_in,\"r\",encoding=\"UTF-8\")\n",
    "    f={}\n",
    "    for i in range(26):  \n",
    "        f[chr(ord('a')+i)]=0 #crea un dizionario {'a':0, 'b':0, ...}\n",
    "      \n",
    "    c=fin.read(1).lower()#legge il primo carattere del file e lo converte in minuscolo\n",
    "    while c!=\"\":\n",
    "        if 'a'<= c <='z': #controlla che il carattere letto sia tra 'a' e 'z'\n",
    "            f[c]+=1\n",
    "        c=fin.read(1).lower()   \n",
    "    return f \n",
    "\n",
    "frequenze=fCaratteriDiz2(\"I_Malavoglia.txt\")\n",
    "for c in frequenze:\n",
    "    print(c,frequenze[c])"
   ]
  },
  {
   "cell_type": "markdown",
   "metadata": {},
   "source": [
    "#### Discussione\n",
    "La soluzione appena vista ha l'unico vantaggio di presentare nel risultato anche i caratteri che non compaiono nel file e diventa inefficiente nel caso di un insieme grande di potenziali caratteri da cercare (e.g., tutti i caratteri UNICODE)  (ha quindi le stesse caratteristiche della funzione `fCaratteri()` vista in precedenza). "
   ]
  },
  {
   "cell_type": "markdown",
   "metadata": {},
   "source": [
    "### Stampa del contenuto di un dizionario\n",
    "Dato un dizionario, è possibile stamparne il contenuto in diversi modi. Vediamo degli esempi."
   ]
  },
  {
   "cell_type": "markdown",
   "metadata": {},
   "source": [
    "#### Stampa in ordine di chiave\n",
    "Per fare questo dobbiamo estrarre le chiavi in una lista, ordinarle e poi fare un ciclo su questa lista ordinata per stampare, per ogni chiave, il corrispondente valore."
   ]
  },
  {
   "cell_type": "code",
   "execution_count": null,
   "metadata": {
    "scrolled": true
   },
   "outputs": [],
   "source": [
    "frequenze=fCaratteriDiz(\"I_Malavoglia.txt\")\n",
    "\n",
    "l=list(frequenze.keys())\n",
    "l.sort()        #l contiene tutte le chiavi di f,\n",
    "                #ovvero tutti i caratteri del file in ordine alfabetico \n",
    "print('Frequenze dei caratteri in ordine alfabetico')\n",
    "for k in l:      \n",
    "    print(k,frequenze[k]) #stampa il dizionario usando i valori ordinati di l"
   ]
  },
  {
   "cell_type": "markdown",
   "metadata": {},
   "source": [
    "#### Stampa di tutte le coppie del dizionario\n",
    "Possiamo stampare tutte le coppie iterando sulle chiavi del dizionario"
   ]
  },
  {
   "cell_type": "code",
   "execution_count": null,
   "metadata": {},
   "outputs": [],
   "source": [
    "print('Frequenze dei caratteri usando le chiavi del dizionario')\n",
    "for k in frequenze:\n",
    "    print(k,frequenze[k]) #stampa il dizionario usando le chiavi di f (non ordinate)"
   ]
  },
  {
   "cell_type": "markdown",
   "metadata": {},
   "source": [
    "#### Stampa dei valori del dizionario ordinati dal più grande al più piccolo"
   ]
  },
  {
   "cell_type": "code",
   "execution_count": null,
   "metadata": {},
   "outputs": [],
   "source": [
    "print('Valori del dizionario ordinati dal più grande al più piccolo (frequenze dei caratteri)')\n",
    "valori = list(frequenze.values()) # valori convertiti in lista \n",
    "valori.sort(reverse=True) # e poi ordinati a scendere\n",
    "for v in valori[:10]: #stampa i primi 10 valori del dizionario,\n",
    "    print(v)          #ovvero tutte le frequenze dei caratteri (con ripetizioni)\n",
    "    "
   ]
  },
  {
   "cell_type": "markdown",
   "metadata": {},
   "source": [
    "Notate che non c'è un modo semplice per risalire dai valori contenuti nel dizionario alle chiavi a cui sono associati. Riprenderemo comunque questa discussione più avanti."
   ]
  },
  {
   "cell_type": "markdown",
   "metadata": {},
   "source": [
    "### Esercizio: frequenza parole in un file\n",
    "Scriviamo ora un funzione che crea un dizionario delle parole presenti in un file"
   ]
  },
  {
   "cell_type": "code",
   "execution_count": 6,
   "metadata": {},
   "outputs": [],
   "source": [
    "#crea un dizionario: <chiave=parola> <valore= frequenza>\n",
    "def fParoleDiz(file_in):\n",
    "    fin=open(file_in,\"r\",encoding=\"UTF-8\")\n",
    "    d={}\n",
    "    parole=fin.read() #tutto il file è in una stringa\n",
    "   \n",
    "    for c in \"()-;—<>:?!.,«»'\\\"*/=’\":  #trasforma i separatori \"umani\" in spazi\n",
    "        parole=parole.replace(c,\" \")  \n",
    "    parole=parole.split()       #crea una lista di parole \n",
    "   \n",
    "    for p in parole:\n",
    "        if p in d:\n",
    "            d[p]+=1\n",
    "        else:\n",
    "            d[p]=1\n",
    "            # d[p] = d.get(p,0) + 1    \n",
    "    return d          #<parola><frequenza>\n"
   ]
  },
  {
   "cell_type": "markdown",
   "metadata": {},
   "source": [
    "#### Discussione\n",
    "Avendo calcolato il dizionario delle parole possiamo ora usarlo, ad esempio, per stampare la frequenza delle prime 20 parole in ordine alfabetico, o per stampare la frequenza di alcune parole specifiche"
   ]
  },
  {
   "cell_type": "code",
   "execution_count": 7,
   "metadata": {},
   "outputs": [
    {
     "name": "stdout",
     "output_type": "stream",
     "text": [
      "Stampa delle prime 20 parole in ordine alfabetico (insieme alla loro frequenza nel file)\n",
      "0 2\n",
      "11 1\n",
      "12 2\n",
      "1863 1\n",
      "1881 1\n",
      "19 1\n",
      "1907 1\n",
      "2018 1\n",
      "25 3\n",
      "26 1\n",
      "3 2\n",
      "30 1\n",
      "66 1\n",
      "78 1\n",
      "A 62\n",
      "Accidenti 1\n",
      "Accogliamo 1\n",
      "Accurimbono 1\n",
      "Aci 17\n",
      "Acicastello 1\n",
      "\n",
      "-----frequenza di parole specifiche---\n",
      "casa 346\n",
      "mare 111\n",
      "alici 0\n",
      "sassi 25\n",
      "pippo 0\n"
     ]
    }
   ],
   "source": [
    "fp=fParoleDiz(\"I_Malavoglia.txt\")\n",
    "\n",
    "lk=list(fp.keys()) \n",
    "lk.sort()           #lista ordinata delle chiavi di fp (parole)\n",
    "\n",
    "print('Stampa delle prime 20 parole in ordine alfabetico (insieme alla loro frequenza nel file)')\n",
    "for elem in lk[:20]:\n",
    "    print(elem,fp[elem])\n",
    "\n",
    "print() # lascia riga vuota    \n",
    "    \n",
    "print('-----frequenza di parole specifiche---')\n",
    "for p in ['casa','mare','alici','sassi','pippo']:\n",
    "    print(p,fp.get(p,0)) #fp.get(p,<valore>) cerca la chiave p. Se la trova restituisce fp[p],\n",
    "                        #altrimenti <valore>"
   ]
  },
  {
   "cell_type": "markdown",
   "metadata": {},
   "source": [
    "#### Parole più frequenti\n",
    "Per stampare tutte le parole che compaiono più di 500 volte possiamo fare così:"
   ]
  },
  {
   "cell_type": "code",
   "execution_count": null,
   "metadata": {},
   "outputs": [],
   "source": [
    "print('parole che compaiono più di 500 volte')\n",
    "\n",
    "for k in fp:      #stampa di tutte le parole che compaiono più di 500 volte\n",
    "    if fp[k]>500:\n",
    "        print(k,fp[k])"
   ]
  },
  {
   "cell_type": "markdown",
   "metadata": {},
   "source": [
    "#### Top ten parole in un file\n",
    "Stampiamo ora le prime 10 posizioni nella classifica delle parole più frequenti (se più parole occupano la stessa posizione le stampiamo tutte). L'operazione è leggermente più complessa rispetto a prima. Infatti, dobbiamo estrarre la lista dei valori, eliminarne i duplicati, e poi ordinarla in modo decrescente. Ora con un ciclo sulle chiavi del dizionario, stampiamo solo le chiavi i cui corrispondenti valori sono nei primi dieci posti della lista ordinata."
   ]
  },
  {
   "cell_type": "code",
   "execution_count": 11,
   "metadata": {},
   "outputs": [
    {
     "name": "stdout",
     "output_type": "stream",
     "text": [
      "Malavoglia top ten\n",
      "3178 e \n",
      "2402 che \n",
      "2030 la \n",
      "1887 di \n",
      "1873 a \n",
      "1678 il \n",
      "1554 non \n",
      "1024 per \n",
      "935 si \n",
      "840 in \n"
     ]
    }
   ],
   "source": [
    "vd=list(fp.values())  #lista valori frequenze con duplicati\n",
    "vd=set(vd) # elimina i duplicati\n",
    "# posso anche scrivere direttamente vd=setfp.values()) \n",
    "vd=list(vd)\n",
    "        \n",
    "vd.sort(reverse=True) #frequenze ordinate in ordine decrescente\n",
    "\n",
    "\n",
    "#stampa le 10 parole più frequenti\n",
    "print('Malavoglia top ten')\n",
    "for elem in vd[:10]:\n",
    "    print(elem,end=\" \")\n",
    "    for k in fp:\n",
    "        if fp[k]==elem:\n",
    "            print(k, end=\" \") # se ho parole ex aequo le stampa sulla stessa riga\n",
    "    print()"
   ]
  },
  {
   "cell_type": "markdown",
   "metadata": {},
   "source": [
    "### Dizionario invertito\n",
    "Dato un dizionario, a volte sarebbe comodo avere una sua versione invertita, in cui i valori diventano le chiavi e le chiavi valori. Ad esempio, nel dizionario in cui calcoliamo le frequenze dei caratteri non c'è un modo semplice di risalire dalle frequenze ai caratteri. Dovremmo quindi costruire un dizionario in cui le frequenze sono le chiavi e i caratteri i valori. Ci sono però alcune attenzioni da fare quando di vuole *invertire* un dizionario:\n",
    "1. L'inversione si può fare solo se (anche) i valori sono di tipi *immutabili*. Infatti, i valori diventano le chiavi e le chiavi devono essere di tipi immutabili.\n",
    "2. le chiavi devono essere univoche, poiché in generale i valori *non sono univoci*, la soluzione è di associare ad un valore *la lista di tutte le chiavi che hanno quel valore*\n",
    "\n",
    "Vediamo un esempio:"
   ]
  },
  {
   "cell_type": "code",
   "execution_count": null,
   "metadata": {},
   "outputs": [],
   "source": [
    "# inverte un dizionario <chiave><valore>\n",
    "# in un nuovo dizionario <valore><lista di chiavi>\n",
    "def invertiDizionario(d):\n",
    "    valori = set(d.values()) #crea una lista con tutti valori distinti di d\n",
    "\n",
    "    di={}       #dizionario invertito chiave:<frequenza> valore:<lista caratteri>      \n",
    "\n",
    "    for elem in valori:\n",
    "        di[elem]=[]     #crea un elemento in di per ciascun valore in\n",
    "                        #valori\n",
    "    for k in d:\n",
    "        di[d[k]].append(k) # aggiungo alla lista \n",
    "    return di\n",
    "\n",
    "s=open('I_Malavoglia_50.txt',encoding='UTF-8').read() #legge il file e lo salva in s\n",
    "freq={}\n",
    "for c in s:                 #crea un dizionario chiave:<carattere> valore:<frequenza>\n",
    "    freq[c]=1+freq.get(c,0) #freq.get(c,0): se la chiave c è presente \n",
    "                            #aggiunge 1, altrimenti restituisce 0\n",
    "print(\"dizionario=\",freq)\n",
    "\n",
    "inv = invertiDizionario(freq)\n",
    "\n",
    "print(\"dizionario invertito=\",inv)"
   ]
  },
  {
   "cell_type": "markdown",
   "metadata": {},
   "source": [
    "### Esercizio: lista esami\n",
    "Scrivere una funzione che prende in ingresso un file (in formato csv) contenente tutti i voti ottenuti agli esami da un gruppo di studenti e il nome di uno studente e restituisce l'elenco di tutti gli esami con rispettivo voto sostenuti da quello studente. Testare il programma sul file \n",
    "[esami1.csv](esami1.csv)"
   ]
  },
  {
   "cell_type": "markdown",
   "metadata": {},
   "source": [
    "#### Soluzione con liste\n",
    "In questa prima soluzione calcoleremo solo gli esami sostenuti dallo studente, che saranno rappresentati con una lista in cui ogni elemento è a sua volta una lista di 2 valori, il nome dell'esame ed il voto ottenuto. Se lo studente non compare nel file, viene restituita la lista vuota (viene restituita una lista vuota anche se il file è vuoto)."
   ]
  },
  {
   "cell_type": "code",
   "execution_count": null,
   "metadata": {},
   "outputs": [],
   "source": [
    "def listaEsami(file,nome):\n",
    "    fin=open(file,\"r\",encoding=\"UTF-8\")\n",
    "    l=[]\n",
    "    campi=fin.readline()  #consuma la prima riga \n",
    "    if len(campi)==0: # se il file è vuoto restituisce una lista vuota\n",
    "        return l\n",
    "    campi=campi.strip().split(\",\") \n",
    "    \n",
    "    riga=fin.readline() \n",
    "    \n",
    "    while len(riga)>0: #se vero, è stata letta una riga da processare\n",
    "        riga=riga.strip().split(',')\n",
    "        if len(riga)==len(campi): # processa solo righe corrette\n",
    "                                 # (si assume che la prima riga definisca\n",
    "                                 # correttamente la struttura del file csv)\n",
    "            if riga[0]==nome:\n",
    "                l.append([riga[1].strip(),riga[2].strip()])\n",
    "        riga=fin.readline()\n",
    "    return l    \n",
    "\n",
    "# Nota: sia la strip() che la split() sono fatte dopo avere\n",
    "# verificato se la riga letta è non vuota. La prima riga definisce\n",
    "# la struttura del file: le altre righe devono avere il suo stesso \n",
    "# numero di campi, altrimenti non vengono processate.\n",
    "\n",
    "l=listaEsami(\"esami1.csv\",\"Mario\")\n",
    "\n",
    "print(\"la lista l vale: \",l)\n",
    "print()\n",
    "\n",
    "print(\"for elem in l: print(elem[0], elem[1])\")\n",
    "for elem in l:\n",
    "    print(elem[0], elem[1])\n",
    "\n",
    "print()\n",
    "    \n",
    "#accesso a un singolo valore\n",
    "print(\"accesso singolo valore print( l[1][0],l[1][1])\")\n",
    "print( l[1][0],l[1][1])"
   ]
  },
  {
   "cell_type": "markdown",
   "metadata": {},
   "source": [
    "#### Soluzione con dizionari\n",
    "In questa seconda soluzione useremo un dizionario in cui per ogni studente viene costruita la lista degli esami sostenuti. La funzione che realizziamo restituisce il dizionario, che può essere usato poi per stampare la lista di esami con voti per un qualunque studente (nella soluzione stampiamo la lista degli esami sostenuti da tutti gli studenti)."
   ]
  },
  {
   "cell_type": "code",
   "execution_count": null,
   "metadata": {
    "tags": []
   },
   "outputs": [],
   "source": [
    "def listaEsami(file):\n",
    "    fin=open(file,\"r\",encoding=\"UTF-8\")\n",
    "    d={}\n",
    "    campi=fin.readline() #consuma la prima riga \n",
    "    if len(campi)==0: # se il file è vuoto restituisce un dizionario vuoto\n",
    "        return d\n",
    "    campi=campi.strip().split(\",\")\n",
    "    riga=fin.readline() \n",
    "    while len(riga)>0: #se vero, è stata letta una riga da processare\n",
    "        riga=riga.strip().split(',')\n",
    "        if len(riga)==len(campi):\n",
    "            if riga[0]in d:\n",
    "                d[riga[0]].append([riga[1].strip(),riga[2].strip()])\n",
    "            else:    \n",
    "                d[riga[0]]=[[riga[1].strip(),riga[2].strip()]]\n",
    "        # l'if-else precedente si può sostituire con l'unica istruzione \n",
    "        # d[riga[0]]=d.get(riga[0],[])+[[riga[1].strip(),riga[2].strip()]]    \n",
    "        riga=fin.readline()\n",
    "    fin.close()    \n",
    "    return d    \n",
    "\n",
    "d=listaEsami(\"esami1.csv\")\n",
    "\n",
    "print(\"il dizionario vale: \",d)\n",
    "#print()\n",
    "\n",
    "for k in d:\n",
    "    print('\\n',k,sep='')\n",
    "    for elem in d[k]:\n",
    "        print(elem[0], elem[1])"
   ]
  },
  {
   "cell_type": "markdown",
   "metadata": {},
   "source": [
    "#### Soluzione con un dizionario di dizionari\n",
    "La soluzione proposta costringe a ricordare l'ordine dei campi della lista: elem[0] è il nome dell'esame, elem[1] il voto. Questo modo di  procedere rende il codice poco leggibiele e diventa ingestibile quando il numero di campi è elevato (e.g., nome esame, data esame, nome docente, aula dell'esame, etc.) La soluzione a questo problema è l'utilizzo di una lista di dizionari, in cui l'accesso è fatto usando sempre dei nomi leggibili. Le istruzioni sono più verbose, e.g., d['Mario][1]['Voto'] ma la leggibilità del codice aumenta in modo significativo. Si veda la seguente soluzione:"
   ]
  },
  {
   "cell_type": "code",
   "execution_count": null,
   "metadata": {
    "tags": []
   },
   "outputs": [],
   "source": [
    "def listaEsami(file):\n",
    "    fin=open(file,\"r\",encoding=\"UTF-8\")\n",
    "    d={}\n",
    "    campi=fin.readline() #consuma la prima riga \n",
    "    if len(campi)==0: # se il file è vuoto restituisce un dizionario vuoto\n",
    "        return d\n",
    "    campi=campi.strip().split(\",\")\n",
    "    riga=fin.readline() \n",
    "    while len(riga)>0: #se vero, è stata letta una riga da processare\n",
    "        riga=riga.strip().split(',')\n",
    "        if len(riga)==len(campi):\n",
    "            if riga[0]in d:\n",
    "                d[riga[0]].append({'Esame':riga[1].strip(),'Voto':riga[2].strip()})\n",
    "                #oppure d[riga[0]].append({campi[1]:riga[1].strip(),campi[2]:riga[2].strip()})\n",
    "            else:    \n",
    "                d[riga[0]]=[{'Esame':riga[1].strip(),'Voto':riga[2].strip()}]\n",
    "        # l'if-else precedente si può sostituire con l'unica istruzione \n",
    "        # d[riga[0]]=d.get(riga[0],[])+['Esame':riga[1].strip(),'Voto':riga[2].strip()}]    \n",
    "        riga=fin.readline()\n",
    "    fin.close()    \n",
    "    return d    \n",
    "\n",
    "d=listaEsami(\"esami1.csv\")\n",
    "\n",
    "\n",
    "print(\"il dizionario vale: \",d)\n",
    "\n",
    "for k in d:\n",
    "    print('\\n',k,sep='')\n",
    "    for elem in d[k]: #elem è un dizionario con chiavi 'Esame' e 'Voto'\n",
    "        print(elem['Esame'], elem['Voto'])"
   ]
  },
  {
   "cell_type": "code",
   "execution_count": null,
   "metadata": {
    "jupyter": {
     "source_hidden": true
    },
    "tags": []
   },
   "outputs": [],
   "source": [
    "def listaEsami(file):\n",
    "    fin=open(file,\"r\",encoding=\"UTF-8\")\n",
    "    d={}\n",
    "    campi=fin.readline() #consuma la prima riga \n",
    "    if len(campi)==0: # se il file è vuoto restituisce un dizionario vuoto\n",
    "        return d\n",
    "    campi=campi.strip().split(\",\")\n",
    "    riga=fin.readline() \n",
    "    while len(riga)>0: #se vero, è stata letta una riga da processare\n",
    "        riga=riga.strip().split(',')\n",
    "        if len(riga)==len(campi):\n",
    "            if riga[0]in d:\n",
    "                d[riga[0]].append([riga[1].strip(),riga[2].strip()])\n",
    "            else:    \n",
    "                d[riga[0]]=[[riga[1].strip(),riga[2].strip()]]\n",
    "        # l'if-else precedente si può sostituire con l'unica istruzione \n",
    "        # d[riga[0]]=d.get(riga[0],[])+[[riga[1].strip(),riga[2].strip()]]    \n",
    "        riga=fin.readline()\n",
    "    fin.close()    \n",
    "    return d    \n",
    "\n",
    "d=listaEsami(\"esami1.csv\")\n",
    "\n",
    "print(\"il dizionario vale: \",d)\n",
    "#print()\n",
    "\n",
    "for k in d:\n",
    "    print('\\n',k,sep='')\n",
    "    for elem in d[k]:\n",
    "        print(elem[0], elem[1])"
   ]
  },
  {
   "cell_type": "markdown",
   "metadata": {},
   "source": [
    "### Esercizi\n",
    "Completate questi esercizi prima di cominciare il prossimo argomento"
   ]
  },
  {
   "cell_type": "markdown",
   "metadata": {},
   "source": [
    "### Esercizio 1:\n",
    "Scrivere una funzione che riceve in input il nome di un file csv contenente informazioni sulle persone e su gli importi (interi) che hanno guadagnato nell'ultimo trimestre (cioè ogni riga contiene una coppia nel formato Nome,Importo) e restituisce un dizionario contenente per ogni persona il totale guadagnato nel trimestre. Assumere che il file sia ben formato (non ci sono righe con meno di due elementi e gli importi sono sempre intepretabili come interi) oppure sia vuoto. In questo caso al funzione deve restituire un dizionario vuoto."
   ]
  },
  {
   "cell_type": "code",
   "execution_count": null,
   "metadata": {
    "scrolled": true
   },
   "outputs": [],
   "source": [
    "from tester import tester_fun\n",
    "\n",
    "def sommaImporti(file):\n",
    "    \"\"\"MODIFICARE IL CONTENUTO DI QUESTA FUNZIONE PER SVOLGERE L'ESERCIZIO\"\"\"\n",
    "\n",
    "tester_fun(sommaImporti,[\"importi1.csv\"],{'Mario': 23, 'Giorgio': 15, 'Michela': 37} )\n",
    "tester_fun(sommaImporti,[\"importi2.csv\"],{'Alberto': 45, 'Mario': 13, 'Giorgio': 15, 'Michela': 37})\n",
    "tester_fun(sommaImporti,[\"vuoto.csv\"],{} )\n"
   ]
  },
  {
   "cell_type": "markdown",
   "metadata": {},
   "source": [
    "### Esercizio 2:\n",
    "Scrivere una funzione che prende in ingresso il nome di un file con le indicazioni delle altezze di un gruppo di persone misurate in vari momenti di tempo e restituisce un dizionario con chiavi i nomi delle persone e valori le liste delle loro altezze (nell'ordine in cui sono trovate nel file). Se il file letto in input è vuoto, la funzione deve restituire un dizionario vuoto."
   ]
  },
  {
   "cell_type": "code",
   "execution_count": null,
   "metadata": {
    "scrolled": true
   },
   "outputs": [],
   "source": [
    "from tester import tester_fun\n",
    "\n",
    "def creaDizionarioAltezze(file):\n",
    "    \"\"\"MODIFICARE IL CONTENUTO DI QUESTA FUNZIONE PER SVOLGERE L'ESERCIZIO\"\"\"\n",
    "\n",
    "tester_fun(creaDizionarioAltezze, ['altezze.csv'],{'Marco': ['1.50', '1.55', '1.66', '1.74'], 'Lucio': ['1.60', '1.65', '1.75', '1.76'], 'Giovanni': ['1.45', '1.49', '1.58', '1.70']})\n",
    "tester_fun(creaDizionarioAltezze, ['vuoto.csv'],{})\n"
   ]
  },
  {
   "cell_type": "markdown",
   "metadata": {},
   "source": [
    "### Esercizio 3: \n",
    "Scrivere un funzione che prende in ingresso il nome del file con tutti i voti presi agli esami da un gruppo di studenti e calcola l'elenco di tutti gli studenti che hanno preso almeno 27 a tutti i loro esami. L'elenco restituito deve essere in ordine alfabetico. Si può assumere che righe ben formate (sempre 3 valori separati da virgole - il terzo valore è sempre interpretabile come intero)."
   ]
  },
  {
   "cell_type": "code",
   "execution_count": null,
   "metadata": {},
   "outputs": [],
   "source": [
    "from tester import tester_fun\n",
    "\n",
    "def voti(file):\n",
    "    \"\"\"MODIFICARE IL CONTENUTO DI QUESTA FUNZIONE PER SVOLGERE L'ESERCIZIO\"\"\"\n",
    "\n",
    "tester_fun(voti,['esami1.csv'],['Giovanni', 'Maria'])\n",
    "tester_fun(voti,['esami2.csv'],['Giovanni', 'Maria', 'Mario'] )\n"
   ]
  },
  {
   "cell_type": "markdown",
   "metadata": {},
   "source": [
    "### Esercizio 4\n",
    "**Gestione di una rubrica telefonica** (esercizio complesso) Data una rubrica dei propri contatti nel formato usato da Google (vedi esempio [rubricaGoogle.csv](rubricaGoogle.csv)), discutere come sia meglio memorizzarla e poi scrivere una funzione che preso in ingresso il nome del file in cui è memorizzata la rubrica, una stringa `s` (parte del nome) ed il nome `n` di un campo, restituisce la lista di coppie [nome completo, valore del campo `n`] per tutti i contatti il cui nome contiene la stringa `s`."
   ]
  },
  {
   "cell_type": "code",
   "execution_count": null,
   "metadata": {
    "scrolled": true
   },
   "outputs": [],
   "source": [
    "from tester import tester_fun\n",
    "\n",
    "def infoContatto(file,nome,campo):\n",
    "    \"\"\"MODIFICARE IL CONTENUTO DI QUESTA FUNZIONE PER SVOLGERE L'ESERCIZIO\"\"\"\n",
    "\n",
    "tester_fun(infoContatto,[\"rubricaGoogle.csv\",\"Stilton\",\"Given Name\"],[['Geronimo Stilton', 'Geronimo'], ['Tea Stilton', 'Tea']])\n",
    "tester_fun(infoContatto,[\"rubricaGoogle.csv\",\"Mouse\",\"Given Name\"],[['Mickey Mouse', 'Mickey'], ['Minnie Mouse', 'Minnie']])\n",
    "tester_fun(infoContatto,[\"rubricaGoogle.csv\",\"paperino\",\"Phone 1 - Value\"],[['paolino paperino', '+1 1111111']])\n"
   ]
  }
 ],
 "metadata": {
  "kernelspec": {
   "display_name": "Python 3 (ipykernel)",
   "language": "python",
   "name": "python3"
  },
  "language_info": {
   "codemirror_mode": {
    "name": "ipython",
    "version": 3
   },
   "file_extension": ".py",
   "mimetype": "text/x-python",
   "name": "python",
   "nbconvert_exporter": "python",
   "pygments_lexer": "ipython3",
   "version": "3.8.17"
  }
 },
 "nbformat": 4,
 "nbformat_minor": 4
}
