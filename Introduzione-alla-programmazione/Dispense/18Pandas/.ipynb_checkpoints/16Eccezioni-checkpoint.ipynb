{
 "cells": [
  {
   "cell_type": "markdown",
   "metadata": {
    "slideshow": {
     "slide_type": "slide"
    }
   },
   "source": [
    "#### Autori: Antonella Poggi, Giuseppe Santucci and Marco Schaerf\n",
    "\n",
    "[Dipartimento di Ingegneria informatica, automatica e gestionale](https://www.diag.uniroma1.it)\n",
    "\n",
    "<img src=\"https://mirrors.creativecommons.org/presskit/buttons/88x31/png/by-nc-sa.eu.png\"\n",
    "     alt=\"License\"\n",
    "     style=\"float: left;\"\n",
    "     height=\"40\" width=\"100\" />\n",
    "This notebook is distributed with license Creative Commons *CC BY-NC-SA*"
   ]
  },
  {
   "cell_type": "markdown",
   "metadata": {},
   "source": [
    "## Gestione delle eccezioni\n",
    "1. Cos'è un'eccezione?\n",
    "2. Gestire un'eccezione\n",
    "3. Sollevare un'eccezione"
   ]
  },
  {
   "attachments": {},
   "cell_type": "markdown",
   "metadata": {},
   "source": [
    "## Cos'è un'eccezione?\n",
    "Chiamasi *eccezione* un evento che interrompe il *normale* flusso di esecuzione di un programma. Abbiamo già sperimentato il verificarsi di eccezioni: ogni volta che a tempo di esecuzione (a *runtime*) si verifica un errore, Python genera  un'eccezione (si dice che Python *solleva* un'eccezione), ovvero interrompe l'esecuzione del programma, stampando sul canale di uscita standard un messaggio che indica il tipo di errore e la linea di codice eseguendo la quale ha generato l'eccezione. \n",
    "\r\n",
    "Ci sono molt tipi diversi diierrorii per cuil'interprete Python può generare un'eccezionee a runtim che interrompe l'esecuzione del programma.;Pper esempio\n",
    "- perché si tenta di aprire un file che non esiste\n",
    "- perché si tenta di eseguire un'operazione su un valore di tipo non compatibile\n",
    "- perché si tenta di accedere ad un indice inesistente\n",
    "- perché si tenta di accedere al valore di un dizionario tramite una chiave che non appartiene al dizionario\n",
    "- ...lo ha generato\r\n",
    "\n"
   ]
  },
  {
   "cell_type": "code",
   "execution_count": 1,
   "metadata": {},
   "outputs": [
    {
     "ename": "FileNotFoundError",
     "evalue": "[Errno 2] No such file or directory: 'prova'",
     "output_type": "error",
     "traceback": [
      "\u001b[0;31m---------------------------------------------------------------------------\u001b[0m",
      "\u001b[0;31mFileNotFoundError\u001b[0m                         Traceback (most recent call last)",
      "Cell \u001b[0;32mIn[1], line 2\u001b[0m\n\u001b[1;32m      1\u001b[0m \u001b[38;5;66;03m# apertura di un file che non esiste\u001b[39;00m\n\u001b[0;32m----> 2\u001b[0m f\u001b[38;5;241m=\u001b[39m\u001b[38;5;28;43mopen\u001b[39;49m\u001b[43m(\u001b[49m\u001b[38;5;124;43m'\u001b[39;49m\u001b[38;5;124;43mprova\u001b[39;49m\u001b[38;5;124;43m'\u001b[39;49m\u001b[43m)\u001b[49m\n",
      "File \u001b[0;32m~/Library/jupyterlab-desktop/jlab_server/lib/python3.8/site-packages/IPython/core/interactiveshell.py:284\u001b[0m, in \u001b[0;36m_modified_open\u001b[0;34m(file, *args, **kwargs)\u001b[0m\n\u001b[1;32m    277\u001b[0m \u001b[38;5;28;01mif\u001b[39;00m file \u001b[38;5;129;01min\u001b[39;00m {\u001b[38;5;241m0\u001b[39m, \u001b[38;5;241m1\u001b[39m, \u001b[38;5;241m2\u001b[39m}:\n\u001b[1;32m    278\u001b[0m     \u001b[38;5;28;01mraise\u001b[39;00m \u001b[38;5;167;01mValueError\u001b[39;00m(\n\u001b[1;32m    279\u001b[0m         \u001b[38;5;124mf\u001b[39m\u001b[38;5;124m\"\u001b[39m\u001b[38;5;124mIPython won\u001b[39m\u001b[38;5;124m'\u001b[39m\u001b[38;5;124mt let you open fd=\u001b[39m\u001b[38;5;132;01m{\u001b[39;00mfile\u001b[38;5;132;01m}\u001b[39;00m\u001b[38;5;124m by default \u001b[39m\u001b[38;5;124m\"\u001b[39m\n\u001b[1;32m    280\u001b[0m         \u001b[38;5;124m\"\u001b[39m\u001b[38;5;124mas it is likely to crash IPython. If you know what you are doing, \u001b[39m\u001b[38;5;124m\"\u001b[39m\n\u001b[1;32m    281\u001b[0m         \u001b[38;5;124m\"\u001b[39m\u001b[38;5;124myou can use builtins\u001b[39m\u001b[38;5;124m'\u001b[39m\u001b[38;5;124m open.\u001b[39m\u001b[38;5;124m\"\u001b[39m\n\u001b[1;32m    282\u001b[0m     )\n\u001b[0;32m--> 284\u001b[0m \u001b[38;5;28;01mreturn\u001b[39;00m \u001b[43mio_open\u001b[49m\u001b[43m(\u001b[49m\u001b[43mfile\u001b[49m\u001b[43m,\u001b[49m\u001b[43m \u001b[49m\u001b[38;5;241;43m*\u001b[39;49m\u001b[43margs\u001b[49m\u001b[43m,\u001b[49m\u001b[43m \u001b[49m\u001b[38;5;241;43m*\u001b[39;49m\u001b[38;5;241;43m*\u001b[39;49m\u001b[43mkwargs\u001b[49m\u001b[43m)\u001b[49m\n",
      "\u001b[0;31mFileNotFoundError\u001b[0m: [Errno 2] No such file or directory: 'prova'"
     ]
    }
   ],
   "source": [
    "# apertura di un file che non esiste\n",
    "f=open('prova')"
   ]
  },
  {
   "cell_type": "code",
   "execution_count": 2,
   "metadata": {},
   "outputs": [
    {
     "ename": "TypeError",
     "evalue": "unsupported operand type(s) for //: 'str' and 'int'",
     "output_type": "error",
     "traceback": [
      "\u001b[0;31m---------------------------------------------------------------------------\u001b[0m",
      "\u001b[0;31mTypeError\u001b[0m                                 Traceback (most recent call last)",
      "Cell \u001b[0;32mIn[2], line 3\u001b[0m\n\u001b[1;32m      1\u001b[0m \u001b[38;5;66;03m# esecuzione di un'operazione su un valore non compatibile\u001b[39;00m\n\u001b[1;32m      2\u001b[0m s\u001b[38;5;241m=\u001b[39m\u001b[38;5;124m'\u001b[39m\u001b[38;5;124mstringa\u001b[39m\u001b[38;5;124m'\u001b[39m\n\u001b[0;32m----> 3\u001b[0m \u001b[43ms\u001b[49m\u001b[38;5;241;43m/\u001b[39;49m\u001b[38;5;241;43m/\u001b[39;49m\u001b[38;5;241;43m2\u001b[39;49m\n",
      "\u001b[0;31mTypeError\u001b[0m: unsupported operand type(s) for //: 'str' and 'int'"
     ]
    }
   ],
   "source": [
    "# esecuzione di un'operazione su un valore non compatibile\n",
    "s='stringa'\n",
    "s//2"
   ]
  },
  {
   "cell_type": "code",
   "execution_count": 3,
   "metadata": {},
   "outputs": [
    {
     "name": "stdin",
     "output_type": "stream",
     "text": [
      "Inserisci una parola: Prova\n"
     ]
    },
    {
     "ename": "IndexError",
     "evalue": "string index out of range",
     "output_type": "error",
     "traceback": [
      "\u001b[0;31m---------------------------------------------------------------------------\u001b[0m",
      "\u001b[0;31mIndexError\u001b[0m                                Traceback (most recent call last)",
      "Cell \u001b[0;32mIn[3], line 3\u001b[0m\n\u001b[1;32m      1\u001b[0m \u001b[38;5;66;03m# accesso ad un indice inesistente\u001b[39;00m\n\u001b[1;32m      2\u001b[0m s\u001b[38;5;241m=\u001b[39m\u001b[38;5;28minput\u001b[39m(\u001b[38;5;124m'\u001b[39m\u001b[38;5;124mInserisci una parola:\u001b[39m\u001b[38;5;124m'\u001b[39m)\n\u001b[0;32m----> 3\u001b[0m \u001b[38;5;28mprint\u001b[39m(\u001b[38;5;124m'\u001b[39m\u001b[38;5;124mLa parola inserita termina con\u001b[39m\u001b[38;5;124m'\u001b[39m,\u001b[43ms\u001b[49m\u001b[43m[\u001b[49m\u001b[38;5;28;43mlen\u001b[39;49m\u001b[43m(\u001b[49m\u001b[43ms\u001b[49m\u001b[43m)\u001b[49m\u001b[43m]\u001b[49m)\n",
      "\u001b[0;31mIndexError\u001b[0m: string index out of range"
     ]
    }
   ],
   "source": [
    "# accesso ad un indice inesistente\n",
    "s=input('Inserisci una parola:')\n",
    "print('La parola inserita termina con',s[len(s)])"
   ]
  },
  {
   "cell_type": "code",
   "execution_count": 5,
   "metadata": {},
   "outputs": [
    {
     "ename": "KeyError",
     "evalue": "'giallo'",
     "output_type": "error",
     "traceback": [
      "\u001b[0;31m---------------------------------------------------------------------------\u001b[0m",
      "\u001b[0;31mKeyError\u001b[0m                                  Traceback (most recent call last)",
      "Cell \u001b[0;32mIn[5], line 2\u001b[0m\n\u001b[1;32m      1\u001b[0m d\u001b[38;5;241m=\u001b[39m{\u001b[38;5;124m'\u001b[39m\u001b[38;5;124mblu\u001b[39m\u001b[38;5;124m'\u001b[39m:\u001b[38;5;241m2\u001b[39m,\u001b[38;5;124m'\u001b[39m\u001b[38;5;124mbianco\u001b[39m\u001b[38;5;124m'\u001b[39m:\u001b[38;5;241m4\u001b[39m,\u001b[38;5;124m'\u001b[39m\u001b[38;5;124mrosso\u001b[39m\u001b[38;5;124m'\u001b[39m:\u001b[38;5;241m0\u001b[39m}\n\u001b[0;32m----> 2\u001b[0m \u001b[38;5;28mprint\u001b[39m(\u001b[43md\u001b[49m\u001b[43m[\u001b[49m\u001b[38;5;124;43m'\u001b[39;49m\u001b[38;5;124;43mgiallo\u001b[39;49m\u001b[38;5;124;43m'\u001b[39;49m\u001b[43m]\u001b[49m)\n",
      "\u001b[0;31mKeyError\u001b[0m: 'giallo'"
     ]
    }
   ],
   "source": [
    "d={'blu':2,'bianco':4,'rosso':0}\n",
    "print(d['giallo'])"
   ]
  },
  {
   "cell_type": "markdown",
   "metadata": {},
   "source": [
    "## Gestire un'eccezione\n",
    "**Gestire** un'eccezione significa prevedere una *reazione* nel caso in cui un'istruzione sollevasse, a runtime, un'eccezione, evitando che l'interprete interrompa l'esecuzione del programma. Tipicamente, la reazione deve essere tale da consentire di correggere l'errore che ha sollevato l'eccezione.\n",
    "\n",
    "Per gestire un'eccezione, è necessario **catturarla** prima, ovvero intercettare l'eccezione che l'interprete solleva affinché non porti ad interrompere l'esecuzione ma all'esecuzione di un blocco di istruzioni *alternativo*. In Python, questo si può fare usando l'istruzione `try-except`.\n"
   ]
  },
  {
   "cell_type": "code",
   "execution_count": 11,
   "metadata": {},
   "outputs": [
    {
     "name": "stdout",
     "output_type": "stream",
     "text": [
      "<class 'pandas.core.frame.DataFrame'>\n",
      "   Matricola  Voto     Materia\n",
      "0       1345    29      Fisica\n",
      "1       1987    17  Fondamenti\n",
      "2       1346    27     Analisi\n",
      "3       1896    30   Geometria\n",
      "4       1753    30      Fisica\n"
     ]
    }
   ],
   "source": [
    "import pandas\n",
    "\n",
    "df=pandas.read_excel('esami.xlsx')  #pandas.read_csv('esami.csv') si comporta in modo identico\n",
    "print(type(df))\n",
    "print(df)\n"
   ]
  },
  {
   "cell_type": "markdown",
   "metadata": {},
   "source": [
    "Pandas riconosce automaticamente la prima riga del file e i tipi contenuti nelle celle; il data frame permette una facile manipolazione dei dati:\n",
    "\n",
    "- **df.columns**    nomi delle colonne\n",
    "- **df.shape**      dimensioni della matrice (righe, colonne)\n",
    "- **df.values**     accesso ai dati del file (lista di liste)\n",
    "- **df.NOME**       ispezione di una colonna usando il suo nome,   *e.g., df.Materia*\n",
    "- **df['NOME']**    ispezione di una colonna usando il suo nome,   *e.g., df['Materia']*\n",
    "\n",
    "- **df.NOME.values** estrazione dei valori di una colonna con il suo nome\n",
    "- **df.NOME.mean()** calcolo della media (max, min, ...) di una colonna \n",
    "\n",
    "Le colonne sono indicizzabili, e.g., df.Materia[0] e offrono metodi non previsti per le liste, e.g., df.Voto.mean() "
   ]
  },
  {
   "cell_type": "code",
   "execution_count": 8,
   "metadata": {},
   "outputs": [
    {
     "name": "stdout",
     "output_type": "stream",
     "text": [
      "I nomi delle colonne sono: ['Matricola', 'Voto', 'Materia'] \n",
      "\n",
      "numero di righe e colonne: (5, 3) \n",
      "\n",
      "valori delle righe:\n",
      " [[1345 29 'Fisica']\n",
      " [1987 17 'Fondamenti']\n",
      " [1346 27 'Analisi']\n",
      " [1896 30 'Geometria']\n",
      " [1753 30 'Fisica']] \n",
      "\n",
      "Materie= ['Fisica', 'Fondamenti', 'Analisi', 'Geometria', 'Fisica'] \n",
      "\n",
      "Materie= ['Fisica', 'Fondamenti', 'Analisi', 'Geometria', 'Fisica'] \n",
      "\n",
      "La media dei voti è= 26.6\n"
     ]
    }
   ],
   "source": [
    "print('I nomi delle colonne sono:',list(df.columns),'\\n')\n",
    "print('numero di righe e colonne:',df.shape,'\\n')\n",
    "print('valori delle righe:\\n',df.values,'\\n') #notare che le matricole e i voti sono già convertiti in interi\n",
    "print('Materie=',list(df.Materia),'\\n') \n",
    "print('Materie=',list(df['Materia']),'\\n') \n",
    "print('La media dei voti è=', df.Voto.mean()) "
   ]
  },
  {
   "cell_type": "markdown",
   "metadata": {},
   "source": [
    "### Stampa del contenuto di un file excel\n",
    "Utilizzando df.values è possibile accedere a singoli valori df.values[i][j] o singole righe df.values[i]"
   ]
  },
  {
   "cell_type": "code",
   "execution_count": null,
   "metadata": {},
   "outputs": [],
   "source": [
    "for i in range(df.shape[0]):        #numero di righe\n",
    "    for j in range(df.shape[1]):    #numero di colonne\n",
    "        print(df.values[i][j], end='\\t')\n",
    "    print()"
   ]
  },
  {
   "cell_type": "markdown",
   "metadata": {},
   "source": [
    "### Esercizio\n",
    "Scrivere una funzione che, ricevendo in ingresso il nome di un file excel, restituisca un dizionario con chiavi i nomi delle colonne e valori la lista ordinata dei valori delle colonne senza duplicazioni."
   ]
  },
  {
   "cell_type": "code",
   "execution_count": 10,
   "metadata": {},
   "outputs": [
    {
     "name": "stdout",
     "output_type": "stream",
     "text": [
      "{'Matricola': [1345, 1346, 1753, 1896, 1987], 'Voto': [17, 27, 29, 30], 'Materia': ['Analisi', 'Fisica', 'Fondamenti', 'Geometria']}\n",
      "\n",
      "{'Matricola': [499, 1345, 1346, 1753, 1896, 1987], 'Voto': [nan, 17.0, 27.0, 29.0, 30.0], 'Materia': ['Analisi', 'Fisica', 'Fondamenti', 'Geometria']}\n"
     ]
    }
   ],
   "source": [
    "def excel2diz(nome_file):\n",
    "    import pandas\n",
    "    df=pandas.read_excel(nome_file)\n",
    "    diz={}\n",
    "    for nome in df.columns:                 \n",
    "        diz[nome]=list(set(df[nome])) #valori della colonna nome\n",
    "        diz[nome].sort()\n",
    "    return diz\n",
    "\n",
    "d=excel2diz('esami.xlsx')\n",
    "print(d)\n",
    "\n",
    "d1=excel2diz('esami1.xlsx')  #file con campi numerici vuoti\n",
    "print()\n",
    "print(d1)"
   ]
  },
  {
   "cell_type": "markdown",
   "metadata": {},
   "source": [
    "### Nota sui campi mancanti\n",
    "Pandas assegna a eventuali campi vuoti il valore **nan**, not a number che è di tipo **float**, indipendentemente dal tipo degli altri valori della colonna. La media, min, max, o l'ordinamento di valori numerici danno il risultato corretto, l'ordinamento di stringhe e **nan** produce un errore"
   ]
  },
  {
   "cell_type": "code",
   "execution_count": null,
   "metadata": {},
   "outputs": [],
   "source": [
    "def excel2diz(nome_file):\n",
    "    import pandas\n",
    "    df=pandas.read_excel(nome_file)\n",
    "    diz={}\n",
    "    for nome in df.columns:                 \n",
    "        diz[nome]=list(set(df[nome]))\n",
    "        diz[nome].sort()\n",
    "    return diz\n",
    "\n",
    "\n",
    "d2=excel2diz('esami2.xlsx')  #file con campi non numerici vuoti: produce un errore nel sort\n",
    "print(d2)"
   ]
  },
  {
   "cell_type": "markdown",
   "metadata": {},
   "source": [
    "### Controllo su campi mancanti\n",
    "Il seguente codice controlla che i valori della colonna possano essere ordinati, ovvero che siano tutti dello stesso tipo"
   ]
  },
  {
   "cell_type": "code",
   "execution_count": null,
   "metadata": {},
   "outputs": [],
   "source": [
    "def excel2diz(nome_file):\n",
    "    import pandas\n",
    "    df=pandas.read_excel(nome_file)\n",
    "    diz={}\n",
    "    for nome in df.columns:                 \n",
    "        diz[nome]=list(set(df[nome]))\n",
    "        tipo=type(df[nome][0])        #tipo del primo elemento della colonna\n",
    "        ordinabile=True\n",
    "        for elem in diz[nome]:\n",
    "            if type(elem)!=tipo:      #la colonna contiene tipi distinti\n",
    "                ordinabile=False\n",
    "                break\n",
    "        if ordinabile:\n",
    "            diz[nome].sort()\n",
    "    return diz\n",
    "d2=excel2diz('esami2.xlsx')  #file con campi non numerici vuoti: produce un errore nel sort\n",
    "print(d2)"
   ]
  },
  {
   "cell_type": "markdown",
   "metadata": {},
   "source": [
    "### Identificazione campi mancanti o errati\n",
    "Più in generale, la presenza di campi mancanti o mal formati può creare problemi nell'analisi dei dati. La seguente funzione analizza un file excel e restituisce una lista di tuple (num riga, riga) delle righe corrette e una lista analoga di quelle che contengono valori **nan**. Per vedere se un float è nan è possibile usare la funzione booleana math.isnan()"
   ]
  },
  {
   "cell_type": "code",
   "execution_count": null,
   "metadata": {
    "tags": []
   },
   "outputs": [],
   "source": [
    "def excel2diz3(nome_file):\n",
    "    import pandas\n",
    "    import math\n",
    "    df=pandas.read_excel(nome_file)\n",
    "    righeOK=[]\n",
    "    righeNAN=[]\n",
    "    for i in range(df.shape[0]):     #righe               \n",
    "        for j in range(df.shape[1]): #colonne\n",
    "            nanTrovato=False\n",
    "            if type((df.values[i][j]))==float and  math.isnan(df.values[i][j]):\n",
    "                righeNAN.append((i,list(df.values[i])))   #la riga contiene almeno un nan\n",
    "                nanTrovato=True\n",
    "                break\n",
    "        if not nanTrovato:\n",
    "            righeOK.append((i,list(df.values[i])))        \n",
    "    return righeOK,righeNAN\n",
    "a,b=excel2diz3('esami2.xlsx')  #file con campi non numerici vuoti: produce un errore nel sort\n",
    "print(a)\n",
    "print()\n",
    "print(b)"
   ]
  },
  {
   "cell_type": "markdown",
   "metadata": {},
   "source": [
    "### Scrittura di un file excel\n",
    "Per scrivere un file excel con pandas bisogna creare un DataFrame:\n",
    "\n",
    "df = pd.DataFrame(\\<lista righe\\>, nomi colonne)\n",
    "    \n",
    "e poi chiamare la funzione\n",
    "    \n",
    "df.to_excel(\\<nome del file excel\\>, \\<nome del tab\\>, index=False) \n",
    "\n",
    "index=True aggiunge una colonna aggiuntiva con l'indice delle righe\n",
    "\n",
    "Il seguente programma calcola i valori della funzione y=x\\*\\*x nell'intervallo -100,100 variando x di 0.1 e tabula la funzione sul file excel quadrato.xlsx:"
   ]
  },
  {
   "cell_type": "code",
   "execution_count": null,
   "metadata": {
    "tags": []
   },
   "outputs": [],
   "source": [
    "import pandas\n",
    "f=[]\n",
    "for i in range(-1000,1000,1):\n",
    "    x=i/10\n",
    "    y=x**2\n",
    "    f.append([x,y])   \n",
    "print('f=',f[:3],'...')\n",
    "\n",
    "df = pandas.DataFrame(f,columns=['X', 'Y'])\n",
    "df.to_excel('quadrato.xlsx','y=xx',index=False)"
   ]
  },
  {
   "cell_type": "markdown",
   "metadata": {},
   "source": [
    "#### Parentesi su eval ed exec\n",
    "Il programma appena mostrato non è parametrico rispetto alla funzione, ovvero calcola sempre il quadrato di x. Volendo scrivere un programma parametrico, possiamo sfruttare il fatto che, essendo python un linguaggio interpretato, è possibile esguire espressioni e comandi costruiti dinamicamente dal programmma. Si veda il seguente esempio su exec (esegue una stringa):"
   ]
  },
  {
   "cell_type": "code",
   "execution_count": null,
   "metadata": {},
   "outputs": [],
   "source": [
    "s='for i in range(5):\\n\\tprint(i)'\n",
    "exec(s)"
   ]
  },
  {
   "cell_type": "markdown",
   "metadata": {},
   "source": [
    "\n",
    "e il seguente esempio su eval (valuta il valore di una espressione contenuta in una stringa)"
   ]
  },
  {
   "cell_type": "code",
   "execution_count": null,
   "metadata": {},
   "outputs": [],
   "source": [
    "x=5\n",
    "s='x*10'\n",
    "eval(s)"
   ]
  },
  {
   "cell_type": "markdown",
   "metadata": {},
   "source": [
    "#### Esercizio\n",
    "Scrivere una funzione che, ricevendo una stringa **s** che contiene una espressione arbitraria in *x*, il nome di un file excel **nome**, due interi ordinati **i1 < i2** corrispondenti a un intervallo sull'asse x, e un intero **p**, corrispondente a un passo p/100, calcoli i valori della funzione y=eval(s) nell'intervallo i1,i2 variando x di p/100 e tabuli tale funzione sul file excel **nome**:"
   ]
  },
  {
   "cell_type": "code",
   "execution_count": null,
   "metadata": {},
   "outputs": [],
   "source": [
    "import pandas\n",
    "def tabula(s,nome,i1,i2,p):\n",
    "    f=[]\n",
    "    for i in range(i1*100,i2*100,p):\n",
    "        x=i/100\n",
    "        y=eval(s)\n",
    "        f.append([x,y])    \n",
    "    df = pandas.DataFrame(f,columns=['X', 'Y'])\n",
    "    df.to_excel(nome,'T1',index=False)\n",
    "s='x**3+x**2+x+5'\n",
    "tabula(s,'funzione.xlsx',-10,+10,10)"
   ]
  },
  {
   "cell_type": "markdown",
   "metadata": {},
   "source": [
    "### Semplici visualizzazioni in Python\n",
    "Alcuni moduli, invece, sono orientati alla generazione di semplici visualizzazioni, e qui vederemo il modulo matplotlib, che permette di disegnare punti e linee sul piano cartesiano o diagrammi a barre. Vediamo un semplice esempio in cui disegnamo con la funzione matplotlib.pyplot 3 punti, di coordinate (1,5), (1,7) e (2,9). \n",
    "Si procede definendo la struttura del disegno matplotlib.pyplot.plot, ovvero:\n",
    "\n",
    "- le coordinate dei punti, tramite due liste [x1,x2,x3] [y1,y2,y3]\n",
    "- il carattere da usare per il punto (tipicamente 'o','\\*', o '+'), la sua dimensione e colore\n",
    "- se vogliamo disegnare linee di colore blu usiamo il carattere 'b-'\n",
    "- la porzione di piano su cui disegnare [xmin, xmax] e [ymin, ymax] (oppure usare il comando axis())\n",
    "- etichette associate agli assi e a insiemi di punti"
   ]
  },
  {
   "cell_type": "code",
   "execution_count": null,
   "metadata": {
    "tags": []
   },
   "outputs": [],
   "source": [
    "from matplotlib import pyplot as plt  #usiamo  la stringa plt invece di matplotlib.pyplot\n",
    "#disegno di 3 punti (1,5), (1,7) e (2,9)\n",
    "plt.plot([1, 1, 2],[5,7,9],\n",
    "         '*', markersize=3,\n",
    "         color='red',\n",
    "         alpha=0.5,\n",
    "         label='tre punti')\n",
    "plt.xlabel('X')\n",
    "plt.ylabel('Y')\n",
    "\n",
    "plt.xlim([0,10]) \n",
    "plt.ylim([0,10]) \n",
    "\n",
    "#plt.axis() #attenzione, produce diagrammi non proporzionali...\n",
    "\n",
    "plt.legend()\n",
    "plt.show()\n",
    "\n"
   ]
  },
  {
   "cell_type": "markdown",
   "metadata": {},
   "source": [
    "E' possibile disegnare differenti diagrammi contemporaneamente definendo più plot: "
   ]
  },
  {
   "cell_type": "code",
   "execution_count": null,
   "metadata": {
    "tags": []
   },
   "outputs": [],
   "source": [
    "from matplotlib import pyplot as plt  #usiamo  la stringa plt invece di matplotlib.pyplot\n",
    "#disegno di 3 punti (1,5), (1,7) e (2,9)\n",
    "plt.plot([1, 1, 2],[5,7,9],\n",
    "         '*', markersize=3,\n",
    "         color='red',\n",
    "         alpha=0.5,\n",
    "         label='tre punti')\n",
    "plt.plot([0, 2, 8],[0,2,2],\n",
    "         'b-', markersize=2,\n",
    "         alpha=0.5,\n",
    "         label='due linee')\n",
    "plt.xlabel('Y')\n",
    "plt.ylabel('X')\n",
    "plt.xlim([0,10]) \n",
    "plt.ylim([0,10]) \n",
    "plt.legend()\n",
    "plt.show()\n",
    "\n"
   ]
  },
  {
   "cell_type": "markdown",
   "metadata": {},
   "source": [
    "### Esercizio \n",
    "Scrivere una funzione python che riceve un data frame di Pandas con shape (n,2) che rappresenta un insieme di punti e lo plotta sullo schermo. \n",
    "\n"
   ]
  },
  {
   "cell_type": "code",
   "execution_count": null,
   "metadata": {},
   "outputs": [],
   "source": [
    "import pandas\n",
    "from matplotlib import pyplot as plt  #usiamo  la stringa plt invece di matplotlib.pyplot\n",
    "import math\n",
    "\n",
    "def dfplot(df,etichettaPunti):\n",
    "    plt.plot(df['X'], df['Y'],\n",
    "         '.', markersize=1,\n",
    "         color='blue',\n",
    "         alpha=0.5,\n",
    "         label='y='+etichettaPunti)\n",
    "    plt.xlabel('X')\n",
    "    plt.ylabel('Y')\n",
    "    plt.axis()\n",
    "    plt.legend()\n",
    "    plt.show()\n",
    "    \n",
    "def crea_df(funzione,i1,i2,p):\n",
    "    f=[]\n",
    "    for i in range(i1*100,i2*100,p):\n",
    "        x=i/100\n",
    "        if x==0:\n",
    "            continue #evita singolarità in x==0\n",
    "        y=eval(funzione)\n",
    "        f.append([x,y])    \n",
    "    df = pandas.DataFrame(f,columns=['X', 'Y'])\n",
    "    return df   \n",
    "    \n",
    "s='x**3+x**2+x+5'\n",
    "df=crea_df(s,-10,+10,1)\n",
    "dfplot(df,s)\n",
    "\n",
    "s='math.sin(x)/x'\n",
    "df=crea_df(s,-10,+10,1)\n",
    "dfplot(df,s)\n"
   ]
  },
  {
   "cell_type": "markdown",
   "metadata": {},
   "source": [
    "#### Istogrammi\n",
    "Gli istogrammi sono un facile metodo per visualizzare la frequenza di ogni valore in una sequenza x. In generale, per ogni valore della x viene visualizzata una barra verticale di altezza uguale al numero di frequenze di quel valore. Quando i valori distinti della x sono molti può convenire raggrupparli in gruppi, chiamati *bins* in pyplot. Per disegnare istogrammi si può usare la funzione `plt.hist()`. Questa funzione ha moltissimi parametri ed utilizzi, per un dettaglio potete vedere la [documentazione](https://matplotlib.org/api/_as_gen/matplotlib.pyplot.hist.html?highlight=hist#matplotlib.pyplot.hist) (in inglese). vediamo 2 esempi, uno molto semplice con pochi valori distinti della x ed uno più compesso."
   ]
  },
  {
   "cell_type": "code",
   "execution_count": null,
   "metadata": {},
   "outputs": [],
   "source": [
    "x = [1, 0, 0, 1, 1, 2, 3, 2, 1, 0]\n",
    "\n",
    "plt.hist(x)\n",
    "\n",
    "plt.xlabel('valori della x')\n",
    "plt.ylabel('Numero di occorrenze')\n",
    "plt.grid(True) # disegna la griglia per render più leggibile l'istogramma\n",
    "plt.show()"
   ]
  },
  {
   "cell_type": "markdown",
   "metadata": {},
   "source": [
    "### Esercizio\n",
    "Disegnare un istogramma delle frequenze delle vocali (senza distingure tra minuscole e maiuscole) de I Malavoglia"
   ]
  },
  {
   "cell_type": "code",
   "execution_count": null,
   "metadata": {},
   "outputs": [],
   "source": [
    "from matplotlib import pyplot as plt  #usiamo  la stringa plt invece di matplotlib.pyplot\n",
    "\n",
    "s=open('I_Malavoglia.txt').read()\n",
    "x=[]\n",
    "for c in s:\n",
    "    if c.lower() in 'aeiou':\n",
    "        x.append(c.lower())\n",
    "x.sort()\n",
    "plt.hist(x)\n",
    "plt.xlabel('valori della x')\n",
    "plt.ylabel('Numero di occorrenze')\n",
    "plt.grid(True) # disegna la griglia per render più leggibile l'istogramma\n",
    "plt.show()"
   ]
  }
 ],
 "metadata": {
  "kernelspec": {
   "display_name": "Python 3 (ipykernel)",
   "language": "python",
   "name": "python3"
  },
  "language_info": {
   "codemirror_mode": {
    "name": "ipython",
    "version": 3
   },
   "file_extension": ".py",
   "mimetype": "text/x-python",
   "name": "python",
   "nbconvert_exporter": "python",
   "pygments_lexer": "ipython3",
   "version": "3.8.17"
  }
 },
 "nbformat": 4,
 "nbformat_minor": 4
}
