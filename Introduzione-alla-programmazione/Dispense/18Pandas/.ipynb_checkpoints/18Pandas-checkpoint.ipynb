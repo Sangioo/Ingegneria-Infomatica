{
 "cells": [
  {
   "cell_type": "markdown",
   "metadata": {
    "slideshow": {
     "slide_type": "slide"
    }
   },
   "source": [
    "#### Autori: Domenico Lembo, Antonella Poggi, Giuseppe Santucci and Marco Schaerf\n",
    "\n",
    "[Dipartimento di Ingegneria informatica, automatica e gestionale](https://www.diag.uniroma1.it)\n",
    "\n",
    "<img src=\"https://mirrors.creativecommons.org/presskit/buttons/88x31/png/by-nc-sa.eu.png\"\n",
    "     alt=\"License\"\n",
    "     style=\"float: left;\"\n",
    "     height=\"40\" width=\"100\" />\n",
    "This notebook is distributed with license Creative Commons *CC BY-NC-SA*"
   ]
  },
  {
   "cell_type": "markdown",
   "metadata": {},
   "source": [
    "## Gestione di file Excel con pandas e semplici primitive grafiche con matplotlib\n",
    "1. Moduli esterni\n",
    "2. pandas\n",
    "3. plplot"
   ]
  },
  {
   "cell_type": "markdown",
   "metadata": {},
   "source": [
    "### Moduli esterni\n",
    "La comunità open source ha sviluppato negli anni una innumerevole quantità di moduli (package) esterni che permettono di estendere le funzionalità di python. L'elenco, continuamente aggiornato di questi moduli, è disponibile sul sito Web [Python Package Index](https://pypi.python.org/pypi). Il modo più semplice per installare un modulo è quello di usare il comando  `pip install nome_del_package` o  `pip3 install nome_del_package`. Una volta installato un modulo, per utilizzarlo all'interno di un programma Python occorre importarlo con il comando  `import`.\n",
    "\n",
    "Questo notebook si concentra sul modulo pandas che permette di gestire i file Excel in formato nativo (.xlsx) e sul modulo matplotlib che permette di stampare semplici grafici.\n",
    "\n",
    "La prima cosa da fare è installare i due moduli con i comandi: `pip3 install pandas` e `pip3 install matplotlib`. \n",
    "\n",
    "Per utilizzare questi moduli all'interno di un notebook eseguire all'interno di un notebook, **una volta sola***, i seguenti comandi:\n",
    "\n",
    "%pip install openpyxl\n",
    "\n",
    "%pip install pandas\n",
    "\n",
    "%pip install matplotlib"
   ]
  },
  {
   "cell_type": "code",
   "execution_count": null,
   "metadata": {},
   "outputs": [],
   "source": [
    "%pip install openpyxl\n",
    "%pip install pandas\n",
    "%pip install matplotlib"
   ]
  },
  {
   "cell_type": "markdown",
   "metadata": {},
   "source": [
    "### Leggere un file Excel con Pandas\n",
    "La funzione pandas.read_excel() legge un file excel da disco e lo carica in un oggetto di tipo **DataFrame**:"
   ]
  },
  {
   "cell_type": "code",
   "execution_count": null,
   "metadata": {},
   "outputs": [],
   "source": [
    "import pandas\n",
    "\n",
    "df=pandas.read_excel('esami.xlsx')  #pandas.read_csv('esami.csv') si comporta in modo identico\n",
    "print(type(df))\n",
    "print(df)\n"
   ]
  },
  {
   "cell_type": "markdown",
   "metadata": {},
   "source": [
    "Pandas riconosce automaticamente la prima riga del file e i tipi contenuti nelle celle; il data frame permette una facile manipolazione dei dati:\n",
    "\n",
    "- **df.columns**    nomi delle colonne\n",
    "- **df.shape**      dimensioni della matrice (righe, colonne)\n",
    "- **df.values**     accesso ai dati del file (lista di liste)\n",
    "- **df.NOME**       ispezione di una colonna usando il suo nome,   *e.g., df.Materia*\n",
    "- **df['NOME']**    ispezione di una colonna usando il suo nome,   *e.g., df['Materia']*\n",
    "\n",
    "- **df.NOME.values** estrazione dei valori di una colonna con il suo nome\n",
    "- **df.NOME.mean()** calcolo della media (max, min, ...) di una colonna \n",
    "\n",
    "Le colonne sono indicizzabili, e.g., df.Materia[0] e offrono metodi non previsti per le liste, e.g., df.Voto.mean() "
   ]
  },
  {
   "cell_type": "code",
   "execution_count": null,
   "metadata": {},
   "outputs": [],
   "source": [
    "print('I nomi delle colonne sono:',list(df.columns),'\\n')\n",
    "print('numero di righe e colonne:',df.shape,'\\n')\n",
    "print('valori delle righe:\\n',df.values,'\\n') #notare che le matricole e i voti sono già convertiti in interi\n",
    "print('Materie=',list(df.Materia),'\\n') \n",
    "print('Materie=',list(df['Materia']),'\\n') \n",
    "print('La media dei voti è=', df.Voto.mean()) "
   ]
  },
  {
   "cell_type": "markdown",
   "metadata": {},
   "source": [
    "### Stampa del contenuto di un file excel\n",
    "Utilizzando df.values è possibile accedere a singoli valori df.values[i][j] o singole righe df.values[i]"
   ]
  },
  {
   "cell_type": "code",
   "execution_count": null,
   "metadata": {},
   "outputs": [],
   "source": [
    "for i in range(df.shape[0]):        #numero di righe\n",
    "    for j in range(df.shape[1]):    #numero di colonne\n",
    "        print(df.values[i][j], end='\\t')\n",
    "    print()"
   ]
  },
  {
   "cell_type": "markdown",
   "metadata": {},
   "source": [
    "### Esercizio\n",
    "Scrivere una funzione che, ricevendo in ingresso il nome di un file excel, restituisca un dizionario con chiavi i nomi delle colonne e valori la lista ordinata dei valori delle colonne senza duplicazioni."
   ]
  },
  {
   "cell_type": "code",
   "execution_count": null,
   "metadata": {},
   "outputs": [],
   "source": [
    "def excel2diz(nome_file):\n",
    "    import pandas\n",
    "    df=pandas.read_excel(nome_file)\n",
    "    diz={}\n",
    "    for nome in df.columns:                 \n",
    "        diz[nome]=list(set(df[nome])) #valori della colonna nome\n",
    "        diz[nome].sort()\n",
    "    return diz\n",
    "\n",
    "d=excel2diz('esami.xlsx')\n",
    "print(d)\n",
    "\n",
    "d1=excel2diz('esami1.xlsx')  #file con campi numerici vuoti\n",
    "print()\n",
    "print(d1)"
   ]
  },
  {
   "cell_type": "markdown",
   "metadata": {},
   "source": [
    "### Nota sui campi mancanti\n",
    "Pandas assegna a eventuali campi vuoti il valore **nan**, not a number che è di tipo **float**, indipendentemente dal tipo degli altri valori della colonna. La media, min, max, o l'ordinamento di valori numerici danno il risultato corretto, l'ordinamento di stringhe e **nan** produce un errore"
   ]
  },
  {
   "cell_type": "code",
   "execution_count": null,
   "metadata": {},
   "outputs": [],
   "source": [
    "def excel2diz(nome_file):\n",
    "    import pandas\n",
    "    df=pandas.read_excel(nome_file)\n",
    "    diz={}\n",
    "    for nome in df.columns:                 \n",
    "        diz[nome]=list(set(df[nome]))\n",
    "        diz[nome].sort()\n",
    "    return diz\n",
    "\n",
    "\n",
    "d2=excel2diz('esami2.xlsx')  #file con campi non numerici vuoti: produce un errore nel sort\n",
    "print(d2)"
   ]
  },
  {
   "cell_type": "markdown",
   "metadata": {},
   "source": [
    "### Controllo su campi mancanti\n",
    "Il seguente codice controlla che i valori della colonna possano essere ordinati, ovvero che siano tutti dello stesso tipo"
   ]
  },
  {
   "cell_type": "code",
   "execution_count": null,
   "metadata": {},
   "outputs": [],
   "source": [
    "def excel2diz(nome_file):\n",
    "    import pandas\n",
    "    df=pandas.read_excel(nome_file)\n",
    "    diz={}\n",
    "    for nome in df.columns:                 \n",
    "        diz[nome]=list(set(df[nome]))\n",
    "        tipo=type(df[nome][0])        #tipo del primo elemento della colonna\n",
    "        ordinabile=True\n",
    "        for elem in diz[nome]:\n",
    "            if type(elem)!=tipo:      #la colonna contiene tipi distinti\n",
    "                ordinabile=False\n",
    "                break\n",
    "        if ordinabile:\n",
    "            diz[nome].sort()\n",
    "    return diz\n",
    "d2=excel2diz('esami2.xlsx')  #file con campi non numerici vuoti: produce un errore nel sort\n",
    "print(d2)"
   ]
  },
  {
   "cell_type": "markdown",
   "metadata": {},
   "source": [
    "### Identificazione campi mancanti o errati\n",
    "Più in generale, la presenza di campi mancanti o mal formati può creare problemi nell'analisi dei dati. La seguente funzione analizza un file excel e restituisce una lista di tuple (num riga, riga) delle righe corrette e una lista analoga di quelle che contengono valori **nan**. Per vedere se un float è nan è possibile usare la funzione booleana math.isnan()"
   ]
  },
  {
   "cell_type": "code",
   "execution_count": null,
   "metadata": {
    "tags": []
   },
   "outputs": [],
   "source": [
    "def excel2diz3(nome_file):\n",
    "    import pandas\n",
    "    import math\n",
    "    df=pandas.read_excel(nome_file)\n",
    "    righeOK=[]\n",
    "    righeNAN=[]\n",
    "    for i in range(df.shape[0]):     #righe               \n",
    "        for j in range(df.shape[1]): #colonne\n",
    "            nanTrovato=False\n",
    "            if type((df.values[i][j]))==float and  math.isnan(df.values[i][j]):\n",
    "                righeNAN.append((i,list(df.values[i])))   #la riga contiene almeno un nan\n",
    "                nanTrovato=True\n",
    "                break\n",
    "        if not nanTrovato:\n",
    "            righeOK.append((i,list(df.values[i])))        \n",
    "    return righeOK,righeNAN\n",
    "a,b=excel2diz3('esami2.xlsx')  #file con campi non numerici vuoti: produce un errore nel sort\n",
    "print(a)\n",
    "print()\n",
    "print(b)"
   ]
  },
  {
   "cell_type": "markdown",
   "metadata": {},
   "source": [
    "### Scrittura di un file excel\n",
    "Per scrivere un file excel con pandas bisogna creare un DataFrame:\n",
    "\n",
    "df = pd.DataFrame(\\<lista righe\\>, nomi colonne)\n",
    "    \n",
    "e poi chiamare la funzione\n",
    "    \n",
    "df.to_excel(\\<nome del file excel\\>, \\<nome del tab\\>, index=False) \n",
    "\n",
    "index=True aggiunge una colonna aggiuntiva con l'indice delle righe\n",
    "\n",
    "Il seguente programma calcola i valori della funzione y=x\\*\\*x nell'intervallo -100,100 variando x di 0.1 e tabula la funzione sul file excel quadrato.xlsx:"
   ]
  },
  {
   "cell_type": "code",
   "execution_count": null,
   "metadata": {
    "tags": []
   },
   "outputs": [],
   "source": [
    "import pandas\n",
    "f=[]\n",
    "for i in range(-1000,1000,1):\n",
    "    x=i/10\n",
    "    y=x**2\n",
    "    f.append([x,y])   \n",
    "print('f=',f[:3],'...')\n",
    "\n",
    "df = pandas.DataFrame(f,columns=['X', 'Y'])\n",
    "df.to_excel('quadrato.xlsx','y=xx',index=False)"
   ]
  },
  {
   "cell_type": "markdown",
   "metadata": {},
   "source": [
    "#### Parentesi su eval ed exec\n",
    "Il programma appena mostrato non è parametrico rispetto alla funzione, ovvero calcola sempre il quadrato di x. Volendo scrivere un programma parametrico, possiamo sfruttare il fatto che, essendo python un linguaggio interpretato, è possibile esguire espressioni e comandi costruiti dinamicamente dal programmma. Si veda il seguente esempio su exec (esegue una stringa):"
   ]
  },
  {
   "cell_type": "code",
   "execution_count": null,
   "metadata": {},
   "outputs": [],
   "source": [
    "s='for i in range(5):\\n\\tprint(i)'\n",
    "exec(s)"
   ]
  },
  {
   "cell_type": "markdown",
   "metadata": {},
   "source": [
    "\n",
    "e il seguente esempio su eval (valuta il valore di una espressione contenuta in una stringa)"
   ]
  },
  {
   "cell_type": "code",
   "execution_count": null,
   "metadata": {},
   "outputs": [],
   "source": [
    "x=5\n",
    "s='x*10'\n",
    "eval(s)"
   ]
  },
  {
   "cell_type": "markdown",
   "metadata": {},
   "source": [
    "#### Esercizio\n",
    "Scrivere una funzione che, ricevendo una stringa **s** che contiene una espressione arbitraria in *x*, il nome di un file excel **nome**, due interi ordinati **i1 < i2** corrispondenti a un intervallo sull'asse x, e un intero **p**, corrispondente a un passo p/100, calcoli i valori della funzione y=eval(s) nell'intervallo i1,i2 variando x di p/100 e tabuli tale funzione sul file excel **nome**:"
   ]
  },
  {
   "cell_type": "code",
   "execution_count": null,
   "metadata": {},
   "outputs": [],
   "source": [
    "import pandas\n",
    "def tabula(s,nome,i1,i2,p):\n",
    "    f=[]\n",
    "    for i in range(i1*100,i2*100,p):\n",
    "        x=i/100\n",
    "        y=eval(s)\n",
    "        f.append([x,y])    \n",
    "    df = pandas.DataFrame(f,columns=['X', 'Y'])\n",
    "    df.to_excel(nome,'T1',index=False)\n",
    "s='x**3+x**2+x+5'\n",
    "tabula(s,'funzione.xlsx',-10,+10,10)"
   ]
  },
  {
   "cell_type": "markdown",
   "metadata": {},
   "source": [
    "### Semplici visualizzazioni in Python\n",
    "Alcuni moduli, invece, sono orientati alla generazione di semplici visualizzazioni, e qui vederemo il modulo matplotlib, che permette di disegnare punti e linee sul piano cartesiano o diagrammi a barre. Vediamo un semplice esempio in cui disegnamo con la funzione matplotlib.pyplot 3 punti, di coordinate (1,5), (1,7) e (2,9). \n",
    "Si procede definendo la struttura del disegno matplotlib.pyplot.plot, ovvero:\n",
    "\n",
    "- le coordinate dei punti, tramite due liste [x1,x2,x3] [y1,y2,y3]\n",
    "- il carattere da usare per il punto (tipicamente 'o','\\*', o '+'), la sua dimensione e colore\n",
    "- se vogliamo disegnare linee di colore blu usiamo il carattere 'b-'\n",
    "- la porzione di piano su cui disegnare [xmin, xmax] e [ymin, ymax] (oppure usare il comando axis())\n",
    "- etichette associate agli assi e a insiemi di punti"
   ]
  },
  {
   "cell_type": "code",
   "execution_count": null,
   "metadata": {
    "tags": []
   },
   "outputs": [],
   "source": [
    "from matplotlib import pyplot as plt  #usiamo  la stringa plt invece di matplotlib.pyplot\n",
    "#disegno di 3 punti (1,5), (1,7) e (2,9)\n",
    "plt.plot([1, 1, 2],[5,7,9],\n",
    "         '*', markersize=3,\n",
    "         color='red',\n",
    "         alpha=0.5,\n",
    "         label='tre punti')\n",
    "plt.xlabel('X')\n",
    "plt.ylabel('Y')\n",
    "\n",
    "plt.xlim([0,10]) \n",
    "plt.ylim([0,10]) \n",
    "\n",
    "#plt.axis() #attenzione, produce diagrammi non proporzionali...\n",
    "\n",
    "plt.legend()\n",
    "plt.show()\n",
    "\n"
   ]
  },
  {
   "cell_type": "markdown",
   "metadata": {},
   "source": [
    "E' possibile disegnare differenti diagrammi contemporaneamente definendo più plot: "
   ]
  },
  {
   "cell_type": "code",
   "execution_count": null,
   "metadata": {
    "tags": []
   },
   "outputs": [],
   "source": [
    "from matplotlib import pyplot as plt  #usiamo  la stringa plt invece di matplotlib.pyplot\n",
    "#disegno di 3 punti (1,5), (1,7) e (2,9)\n",
    "plt.plot([1, 1, 2],[5,7,9],\n",
    "         '*', markersize=3,\n",
    "         color='red',\n",
    "         alpha=0.5,\n",
    "         label='tre punti')\n",
    "plt.plot([0, 2, 8],[0,2,2],\n",
    "         'b-', markersize=2,\n",
    "         alpha=0.5,\n",
    "         label='due linee')\n",
    "plt.xlabel('Y')\n",
    "plt.ylabel('X')\n",
    "plt.xlim([0,10]) \n",
    "plt.ylim([0,10]) \n",
    "plt.legend()\n",
    "plt.show()\n",
    "\n"
   ]
  },
  {
   "cell_type": "markdown",
   "metadata": {},
   "source": [
    "### Esercizio \n",
    "Scrivere una funzione python che riceve un data frame di Pandas con shape (n,2) che rappresenta un insieme di punti e lo plotta sullo schermo. \n",
    "\n"
   ]
  },
  {
   "cell_type": "code",
   "execution_count": null,
   "metadata": {},
   "outputs": [],
   "source": [
    "import pandas\n",
    "from matplotlib import pyplot as plt  #usiamo  la stringa plt invece di matplotlib.pyplot\n",
    "import math\n",
    "\n",
    "def dfplot(df,etichettaPunti):\n",
    "    plt.plot(df['X'], df['Y'],\n",
    "         '.', markersize=1,\n",
    "         color='blue',\n",
    "         alpha=0.5,\n",
    "         label='y='+etichettaPunti)\n",
    "    plt.xlabel('X')\n",
    "    plt.ylabel('Y')\n",
    "    plt.axis()\n",
    "    plt.legend()\n",
    "    plt.show()\n",
    "    \n",
    "def crea_df(funzione,i1,i2,p):\n",
    "    f=[]\n",
    "    for i in range(i1*100,i2*100,p):\n",
    "        x=i/100\n",
    "        if x==0:\n",
    "            continue #evita singolarità in x==0\n",
    "        y=eval(funzione)\n",
    "        f.append([x,y])    \n",
    "    df = pandas.DataFrame(f,columns=['X', 'Y'])\n",
    "    return df   \n",
    "    \n",
    "s='x**3+x**2+x+5'\n",
    "df=crea_df(s,-10,+10,1)\n",
    "dfplot(df,s)\n",
    "\n",
    "s='math.sin(x)/x'\n",
    "df=crea_df(s,-10,+10,1)\n",
    "dfplot(df,s)\n"
   ]
  },
  {
   "cell_type": "markdown",
   "metadata": {},
   "source": [
    "#### Istogrammi\n",
    "Gli istogrammi sono un facile metodo per visualizzare la frequenza di ogni valore in una sequenza x. In generale, per ogni valore della x viene visualizzata una barra verticale di altezza uguale al numero di frequenze di quel valore. Quando i valori distinti della x sono molti può convenire raggrupparli in gruppi, chiamati *bins* in pyplot. Per disegnare istogrammi si può usare la funzione `plt.hist()`. Questa funzione ha moltissimi parametri ed utilizzi, per un dettaglio potete vedere la [documentazione](https://matplotlib.org/api/_as_gen/matplotlib.pyplot.hist.html?highlight=hist#matplotlib.pyplot.hist) (in inglese). vediamo 2 esempi, uno molto semplice con pochi valori distinti della x ed uno più compesso."
   ]
  },
  {
   "cell_type": "code",
   "execution_count": null,
   "metadata": {},
   "outputs": [],
   "source": [
    "x = [1, 0, 0, 1, 1, 2, 3, 2, 1, 0]\n",
    "\n",
    "plt.hist(x)\n",
    "\n",
    "plt.xlabel('valori della x')\n",
    "plt.ylabel('Numero di occorrenze')\n",
    "plt.grid(True) # disegna la griglia per render più leggibile l'istogramma\n",
    "plt.show()"
   ]
  },
  {
   "cell_type": "markdown",
   "metadata": {},
   "source": [
    "### Esercizio\n",
    "Disegnare un istogramma delle frequenze delle vocali (senza distingure tra minuscole e maiuscole) de I Malavoglia"
   ]
  },
  {
   "cell_type": "code",
   "execution_count": null,
   "metadata": {},
   "outputs": [],
   "source": [
    "from matplotlib import pyplot as plt  #usiamo  la stringa plt invece di matplotlib.pyplot\n",
    "\n",
    "s=open('I_Malavoglia.txt').read()\n",
    "x=[]\n",
    "for c in s:\n",
    "    if c.lower() in 'aeiou':\n",
    "        x.append(c.lower())\n",
    "x.sort()\n",
    "plt.hist(x)\n",
    "plt.xlabel('valori della x')\n",
    "plt.ylabel('Numero di occorrenze')\n",
    "plt.grid(True) # disegna la griglia per render più leggibile l'istogramma\n",
    "plt.show()"
   ]
  }
 ],
 "metadata": {
  "kernelspec": {
   "display_name": "Python 3 (ipykernel)",
   "language": "python",
   "name": "python3"
  },
  "language_info": {
   "codemirror_mode": {
    "name": "ipython",
    "version": 3
   },
   "file_extension": ".py",
   "mimetype": "text/x-python",
   "name": "python",
   "nbconvert_exporter": "python",
   "pygments_lexer": "ipython3",
   "version": "3.9.7"
  }
 },
 "nbformat": 4,
 "nbformat_minor": 4
}
