{
 "cells": [
  {
   "cell_type": "markdown",
   "metadata": {
    "slideshow": {
     "slide_type": "slide"
    }
   },
   "source": [
    "#### Autori: Domenico Lembo, Antonella Poggi, Giuseppe Santucci e Marco Schaerf\n",
    "\n",
    "[Dipartimento di Ingegneria informatica, automatica e gestionale](https://www.diag.uniroma1.it)\n",
    "\n",
    "<img src=\"https://mirrors.creativecommons.org/presskit/buttons/88x31/png/by-nc-sa.eu.png\"\n",
    "     alt=\"License\"\n",
    "     style=\"float: left;\"\n",
    "     height=\"40\" width=\"100\" />\n",
    "This notebook is distributed with license Creative Commons *CC BY-NC-SA*"
   ]
  },
  {
   "cell_type": "markdown",
   "metadata": {},
   "source": [
    "# Argomenti della lezione\n",
    "1. Le variabili in Python e l'istruzione di assegnazione\n",
    "2. Scrittura di programmi con l'Editor\n",
    "3. Funzioni `print()` ed `input()`\n",
    "4. Funzioni `int()` e `float()`"
   ]
  },
  {
   "cell_type": "markdown",
   "metadata": {
    "tags": []
   },
   "source": [
    "### Variabili\n",
    "Se vogliamo conservare un risultato, per poterlo poi riutilizzare, dobbiamo memorizzarlo in una variabile. Ad esempio:"
   ]
  },
  {
   "cell_type": "code",
   "execution_count": 3,
   "metadata": {},
   "outputs": [
    {
     "name": "stdout",
     "output_type": "stream",
     "text": [
      "49\n"
     ]
    }
   ],
   "source": [
    "x = 7*(5+2)\n",
    "print(x)"
   ]
  },
  {
   "cell_type": "markdown",
   "metadata": {},
   "source": [
    "Per visualizzare il valore di una variabile basta scrivere il suo nome in una cella"
   ]
  },
  {
   "cell_type": "code",
   "execution_count": 2,
   "metadata": {},
   "outputs": [
    {
     "data": {
      "text/plain": [
       "7"
      ]
     },
     "execution_count": 2,
     "metadata": {},
     "output_type": "execute_result"
    }
   ],
   "source": [
    "a=55\n",
    "b=7\n",
    "a\n",
    "b"
   ]
  },
  {
   "cell_type": "markdown",
   "metadata": {
    "tags": []
   },
   "source": [
    "\n",
    "\n",
    "### Istruzione di assegnazione `=`\n",
    "Le istruzioni tipo `x = 7*(5+2)` si chiamano *istruzioni di assegnazione*. A sinistra del segno `=` abbiamo il nome di una *variabile* (`x` in questo caso) e a destra un'*espressione*. La variabile non è altro che un modo per indicare l'indirizzo di una zona di memoria. L'espressione a destra viene valutata (calcolato il suo valore) e il risultato viene assegnato alla variabile a sinistra (viene scritto nella zona di memoria inl cui indirizzo è associato alla associata alla variabile).\n",
    "Se nell'espressione di destra compare una variabile, viene letto dalla memoria il suo valore attuale.\n",
    "\n",
    "\n",
    "![Loss](Immagini/assegnazione1.png)\n",
    "\n",
    " \n",
    "\n",
    "\n",
    "Si distinguono \n",
    "- il valore sinistro (a sinistra di =) che corrisponde a un indirizzo di memoria e \n",
    "- il valore destro (a destra di =) che corrisponde al valore dell'espressione che verrà memorizzato nell'indirizzo di memoria. \n",
    "\n",
    "Nell'esempio di sopra:\n",
    "\n",
    "x=7*(5+2)  x, valore sinistro, vale 9, ovvero l'indirizzo in cui scrivere il valore dell'espressione\n",
    "\n",
    "y=x+1   x, valore destro vale il suo contenuto, ovvero 49 e il risultato dell'espressione,50, viene memorizzato nell'indirizzo corrispondente a y\n",
    "\n",
    "\n",
    "\n",
    "#### L'istruzione di assegnazione NON va confusa con il simbolo matematico di uguaglianza, anche se il simbolo usato è lo stesso `=`\n",
    "\n",
    "In matematica l'uguaglianza è una relazione binaria di equivalenza che specifica che il valore dell'espressione a sinistra dell'= sia uguale a quello dell'espressione a destra. Usando lo stesso simbolo in Python sto invece assegnando il valore dell'espressione di destra alla variabile che compare a sinistra. Per apprezzare la differenza, notate (ad esempio) che l'uguaglianza matematica è simmetrica (cioè dire `a=b` o `b=a` è la stessa cosa) mentre la stessa proprietà non vale per l'assegnazione dove la parte sinistra e la destra hanno un ruolo molto diverso (`x = 7*(5+2)`è corretta, mentre `7*(5+2) = x` non ha alcun senso). Vedremo in seguito che Python, come quasi tutti i linguaggi di programmazione, usa un simbolo diverso, `==`,  per effettuare un confronto di uguaglianza fra due espressioni."
   ]
  },
  {
   "cell_type": "code",
   "execution_count": 3,
   "metadata": {
    "scrolled": true
   },
   "outputs": [
    {
     "name": "stdout",
     "output_type": "stream",
     "text": [
      "True\n"
     ]
    },
    {
     "data": {
      "text/plain": [
       "49"
      ]
     },
     "execution_count": 3,
     "metadata": {},
     "output_type": "execute_result"
    }
   ],
   "source": [
    "print(7*(5+2) == x)\n",
    "x\n"
   ]
  },
  {
   "cell_type": "markdown",
   "metadata": {},
   "source": [
    "### Regole nomi variabili\n",
    "I nomi delle variabili in Python devono rispettare queste regole:\n",
    "1. Il primo carattere deve essere una lettera o il simbolo \\_ (underscore o trattino in basso)\n",
    "2. I caratteri successivi possono essere lettere, cifre o il carattere \\_\n",
    "3. Python **fa** differenza tra maiuscole e minuscole (ad esempio, `x` e `X` sono due variabili distinte)"
   ]
  },
  {
   "cell_type": "code",
   "execution_count": 4,
   "metadata": {
    "scrolled": true,
    "tags": []
   },
   "outputs": [
    {
     "data": {
      "text/plain": [
       "14"
      ]
     },
     "execution_count": 4,
     "metadata": {},
     "output_type": "execute_result"
    }
   ],
   "source": [
    "x = 5\n",
    "X = 7\n",
    "y = 2*X\n",
    "y"
   ]
  },
  {
   "cell_type": "markdown",
   "metadata": {},
   "source": [
    "### Modifica del valore di una variabile\n",
    "L'assegnazione di un valore ad una variabile si può fare anche se la variabile ha già un valore. In questo caso il vecchio valore viene cancellato (perso) e sostituito da quello nuovo"
   ]
  },
  {
   "cell_type": "code",
   "execution_count": 5,
   "metadata": {},
   "outputs": [
    {
     "data": {
      "text/plain": [
       "49"
      ]
     },
     "execution_count": 5,
     "metadata": {},
     "output_type": "execute_result"
    }
   ],
   "source": [
    "x = 7**2\n",
    "x"
   ]
  },
  {
   "cell_type": "code",
   "execution_count": 6,
   "metadata": {},
   "outputs": [
    {
     "data": {
      "text/plain": [
       "5"
      ]
     },
     "execution_count": 6,
     "metadata": {},
     "output_type": "execute_result"
    }
   ],
   "source": [
    "x = 5\n",
    "x"
   ]
  },
  {
   "cell_type": "markdown",
   "metadata": {
    "tags": []
   },
   "source": [
    "#### Operatori di assegnazione composti\n",
    "\n",
    "E’ anche possibile scrivere enunciati che effettuano una assegnazione e svolgono allo stesso tempo un calcolo.\n",
    "\n",
    "Esempi:\n",
    "\n",
    "Forma breve | equivalente a\n",
    ":--- | :---\n",
    "`i += 5` | `i = i + 5`\n",
    "`i *= 2` | `i = i * 2`\n",
    "`i -= 1` | `i = i – 1`\n",
    "`i /= 3` | `i = i / 3`\n",
    "`i **= 4` | `i = i ** 4`\n",
    "`i %= 2` | `i = i % 2`"
   ]
  },
  {
   "cell_type": "markdown",
   "metadata": {
    "jp-MarkdownHeadingCollapsed": true,
    "tags": []
   },
   "source": [
    "### Avvio dell'Editor\n",
    "Per scrivere programmi composti da più istruzioni e poterli poi salvare e rieseguire, useremo l'Editor di Spyder.\n",
    "\n",
    "Dal menu `File` selezionate la voce `New File`\n",
    "\n",
    "La differenza fondamentale tra l'Editor e la Shell è che le istruzioni che scrivete all'interno dell'Editor non vengono immediatamente eseguite, ma devono essere salvate in un file (al primo salvataggio potete indicare un mome significativo per il file) e devono essere esplicitamente eseguite usando la voce `Run` dal menu `Run` (in alternativa usate il triangolino verde oppure il tasto 'F5').\n",
    "\n",
    "![Loss](Immagini/Spyder.png)\n",
    "\n",
    "Un primo grosso vantaggio dell'Editor rispetto alla Shell è quindi che il codice che abbiamo viene salvato e può essere riusato successivamente. Per mantenere in ordine il vostro codice, create una cartella in cui salvare tutti i vostri programmi e salvate questo file lì dentro."
   ]
  },
  {
   "cell_type": "markdown",
   "metadata": {
    "tags": []
   },
   "source": [
    "### Differenze tra Editor e Shell di Spyder e i notebooks\n",
    "Nell'Editor, i risultati delle istruzioni NON vengono visualizzati come succedeva nella Shell. Per far visualizzare un risultato bisogna dare esplicitamente il comando di stampa con la funzione `print()`. Copiate nell'Editor le seguenti istruzioni:\n",
    "\n",
    "`var1 = 'ciao'`\n",
    "\n",
    "`var2 = var1*4`\n",
    "\n",
    "ed eseguite il comando `Run`. Il risultato dell'esecuzione del vostro programma viene visualizzato sulla sulla Shell, ma in questo caso non viene visualizzato alcun risultato, solo un messaggio del tipo `RESTART(......)`. Per fare visualizzare un risultato dobbiamo stamparlo con la funzione `print()`."
   ]
  },
  {
   "cell_type": "markdown",
   "metadata": {
    "tags": []
   },
   "source": [
    "#### La funzione `print()`\n",
    "\n",
    "Consente di mostrare nella Shell il valore restituito da una qualsiasi espressione Python. La funzione `print()` ha almeno un argomento, ma può averne anche più di uno. Ogni argomento deve essere una espressione valida nel linguaggio Python, anche di tipo diverso."
   ]
  },
  {
   "cell_type": "code",
   "execution_count": 7,
   "metadata": {},
   "outputs": [
    {
     "name": "stdout",
     "output_type": "stream",
     "text": [
      "-3.2\n"
     ]
    }
   ],
   "source": [
    "print(-3.2)"
   ]
  },
  {
   "cell_type": "code",
   "execution_count": 8,
   "metadata": {},
   "outputs": [
    {
     "name": "stdout",
     "output_type": "stream",
     "text": [
      "-3.2\n"
     ]
    }
   ],
   "source": [
    "print('-3.2')"
   ]
  },
  {
   "cell_type": "code",
   "execution_count": 9,
   "metadata": {},
   "outputs": [
    {
     "name": "stdout",
     "output_type": "stream",
     "text": [
      "12\n"
     ]
    }
   ],
   "source": [
    "print(4*3)"
   ]
  },
  {
   "cell_type": "code",
   "execution_count": 10,
   "metadata": {
    "tags": []
   },
   "outputs": [
    {
     "name": "stdout",
     "output_type": "stream",
     "text": [
      "moltiplicando 4.5 con 3.7 ottengo: 16.650000000000002\n"
     ]
    }
   ],
   "source": [
    "print(\"moltiplicando 4.5 con 3.7 ottengo:\", 4.5*3.7)"
   ]
  },
  {
   "cell_type": "markdown",
   "metadata": {},
   "source": [
    "### Differenze tra Editor e Shell di Spyder e i notebooks (continua)\n",
    "Ora che abbiamo visto la funzione `print()`, aggiungete dopo le 2 istruzioni di sopra l'istruzione:\n",
    "\n",
    "`print(var2)`\n",
    "\n",
    "Ottenendo il programma:\n",
    "\n",
    "`var1 = 'ciao'`\n",
    "\n",
    "`var2 = var1*4`\n",
    "\n",
    "`print(var2)`\n",
    "\n",
    "e date nuovamente il comando `Run`. Ora viene stampato sulla Shell il valore `ciaociaociaociao`\n",
    "\n",
    "I notebooks si comportano in modo simile all'editor in cui bisogna usare la `print()`, ma potete anche mostrare sull schermo **un solo** risultato scrivendo il nome della variabile (o espressione) di cui volete mostrare il valore "
   ]
  },
  {
   "cell_type": "code",
   "execution_count": 11,
   "metadata": {},
   "outputs": [
    {
     "name": "stdout",
     "output_type": "stream",
     "text": [
      "var1= ciao\n",
      "ciaociaociaociao...ciao\n"
     ]
    }
   ],
   "source": [
    "var1 = 'ciao'\n",
    "var2 = var1*4\n",
    "print('var1=',var1)\n",
    "print(var2+'...'+var1)"
   ]
  },
  {
   "cell_type": "code",
   "execution_count": 12,
   "metadata": {},
   "outputs": [
    {
     "name": "stdout",
     "output_type": "stream",
     "text": [
      "ciao\n",
      "ciaociaociaociao\n"
     ]
    }
   ],
   "source": [
    "var1 = 'ciao'\n",
    "print(var1)\n",
    "var2 = var1*4\n",
    "print(var2)"
   ]
  },
  {
   "cell_type": "markdown",
   "metadata": {
    "tags": []
   },
   "source": [
    "### Eseguire più volte un programma\n",
    "Nella grande maggiornaza dei casi, un programma non viene scritto per essere eseguito una sola volta, ma più volte e con dati di ingresso diversi. Nell'esempio precedente, se vogliamo ri-eseguire il programma su valori diversi (per esempio assegnando alla variabile `var1` il valore 'prova' invece di 'ciao') dovremmo modificare il programma prima di eseguirlo.\n",
    "\n",
    "### Funzione `input()`\n",
    "Una soluzione migliore è di scrivere un programma che NON assegna un valore fisso alla variabile `var1` ma che invece chiede all'utente di fornirlo al momento dell'esecuzione. In questo modo il programma rimane lo stesso, ma ogni esecuzione avrà diversi dati di ingresso. Il modo più semplice di ottenere questo risultato in Python è usando la funzione `input()`\n",
    "\n",
    "All'interno dell'Editor sostituiamo la riga\n",
    "`var1 = 'ciao'`\n",
    "con\n",
    "`var1 = input()`\n",
    "ottenendo il programma:\n",
    "\n",
    "`var1 = input()`\n",
    "\n",
    "`var2 = var1*4`\n",
    "\n",
    "`print(var2)`\n",
    "\n",
    "ed eseguiamo `Run`.\n",
    "\n",
    "Il programma non genera alcun risultato perché è in attesa che venga inserito il dato di ingresso *nella Shell*  che verrà poi assegnato alla variabile `var1`. Spostate quindi il mouse nella Python Shell ed inserite il dato, ad esempio: palla\n",
    "\n",
    "Sulla Shell apparirà il risultato, cioè `pallapallapallapalla` nel nostro caso.\n",
    "\n",
    "### Formato funzione `input()`\n",
    "Per rendere più chiaro il fatto che il programma è in attesa di ricevere un dato in ingresso, la funzione `input()` può essere usata in questo modo:\n",
    "\n",
    "`var1 = input('Inserisci un dato di ingresso')`\n",
    "\n",
    "ottenendo il programma:\n",
    "\n",
    "`var1 = input('Inserisci un dato di ingresso')`\n",
    "\n",
    "`var2 = var1*4`\n",
    "\n",
    "`print(var2)`\n",
    "\n",
    "**`'Inserisci un dato di ingresso'` è una stringa la cui sola funzione è di essere stampata sulla Shell per far capire all'utente che il programma è in attesa di ricevere un dato in ingresso. Il valore che verrà assegnato alla variabile `var1` *non è la stringa* `'Inserisci un dato di ingresso'` ma il valore che verrà inserito nella Shell.** Effettuate la prova qui nella cella sottostante di questo Notebook, ma **anche nell'Editor**."
   ]
  },
  {
   "cell_type": "code",
   "execution_count": 13,
   "metadata": {},
   "outputs": [
    {
     "name": "stdin",
     "output_type": "stream",
     "text": [
      "Inserisci un dato di ingresso:  4\n"
     ]
    },
    {
     "name": "stdout",
     "output_type": "stream",
     "text": [
      "4444\n"
     ]
    }
   ],
   "source": [
    "var1 = input('Inserisci un dato di ingresso: ')\n",
    "var2 = var1*4\n",
    "print(var2)"
   ]
  },
  {
   "cell_type": "markdown",
   "metadata": {},
   "source": [
    "Il dato di ingresso viene inserito subito dopo la stringa `'Inserisci un dato di ingresso'`. Questo non è intuitivo. Per evitare questo piccolo problema si può modificare leggermente la riga:\n",
    "\n",
    "`var1 = input('Inserisci un dato di ingresso')`\n",
    "\n",
    "in:\n",
    "\n",
    "`var1 = input('Inserisci un dato di ingresso: ')`\n",
    "\n",
    "ottenendo il programma:\n",
    "\n",
    "`var1 = input('Inserisci un dato di ingresso: ')`\n",
    "\n",
    "`var2 = var1*4`\n",
    "\n",
    "`print(var2)`\n",
    "\n",
    "lo spazio bianco presente nella nuova stringa rende più intuitivo l'inserimento del dato in ingresso"
   ]
  },
  {
   "cell_type": "code",
   "execution_count": 14,
   "metadata": {},
   "outputs": [
    {
     "name": "stdin",
     "output_type": "stream",
     "text": [
      "Inserisci un dato di ingresso:  6\n"
     ]
    },
    {
     "name": "stdout",
     "output_type": "stream",
     "text": [
      "6666\n"
     ]
    }
   ],
   "source": [
    "var1 = input('Inserisci un dato di ingresso: ')\n",
    "var2 = var1*4\n",
    "print(var2)"
   ]
  },
  {
   "cell_type": "markdown",
   "metadata": {
    "tags": []
   },
   "source": [
    "### La funzione `int()`\n",
    "Quando inserite un dato da tastiera, Python legge *esattamente* i caratteri che battete, senza preoccuparsi se siano caratteri o numeri. Dal punto di vista di Python *tutto* quello che inserite sono caratteri di una stringa. Se infatti eseguite il programma precedente ed inserite come dato di ingresso 5, il programma stamperà sulla Shell 5555, cioè 4 volte il *carattere* 5, non 4 volte il *numero* 5.\n",
    "\n",
    "Se quello che volete è che  `var1` contenga un numero intero, allora dovete aggiungere la riga\n",
    "\n",
    "`var1 = int(var1)`\n",
    "\n",
    "dopo la riga\n",
    "\n",
    "`var1 = input('Inserisci un dato di ingresso')` \n",
    "\n",
    "ottenendo il programma:\n",
    "\n",
    "`var1 = input('Inserisci un dato di ingresso: ')`\n",
    "\n",
    "`var1 = int(var1)`\n",
    "\n",
    "`var2 = var1*4`\n",
    "\n",
    "`print(var2)`\n",
    "\n",
    "L'effetto della nuova riga è di trasformare il valore della variabile `var1` in un numero intero. Questo è possibile solo se *tutti i caratteri* di `var1` dopo l'istruzione `input()` sono cifre, altrimenti il programma andrà in errore. Provate ad eseguire il nuovo programma **sia nella cella sottostante che nell'Editor** inserendo come dato in ingresso una volta un numero ed una volta una stringa di caratteri alfabetici come ad esempio 'palla'"
   ]
  },
  {
   "cell_type": "code",
   "execution_count": 15,
   "metadata": {},
   "outputs": [
    {
     "name": "stdin",
     "output_type": "stream",
     "text": [
      "Inserisci un intero:  4\n"
     ]
    }
   ],
   "source": [
    "n = int(input('Inserisci un intero: '))\n"
   ]
  },
  {
   "cell_type": "markdown",
   "metadata": {},
   "source": [
    "### La funzione `float()`\n",
    "\n",
    "Ha un funzionamento analogo alla funzione `int()`, ma converte la stringa in input in un numero frazionario. Se la stringa in input non è convertibile in un numero frazionario, viene restituito un errore. \n"
   ]
  },
  {
   "cell_type": "code",
   "execution_count": 16,
   "metadata": {},
   "outputs": [
    {
     "data": {
      "text/plain": [
       "7.55"
      ]
     },
     "execution_count": 16,
     "metadata": {},
     "output_type": "execute_result"
    }
   ],
   "source": [
    "4 + float('3.55')"
   ]
  },
  {
   "cell_type": "code",
   "execution_count": 17,
   "metadata": {},
   "outputs": [
    {
     "ename": "ValueError",
     "evalue": "could not convert string to float: '3,55'",
     "output_type": "error",
     "traceback": [
      "\u001b[1;31m---------------------------------------------------------------------------\u001b[0m",
      "\u001b[1;31mValueError\u001b[0m                                Traceback (most recent call last)",
      "\u001b[1;32m~\\AppData\\Local\\Temp/ipykernel_29448/2279207619.py\u001b[0m in \u001b[0;36m<module>\u001b[1;34m\u001b[0m\n\u001b[1;32m----> 1\u001b[1;33m \u001b[0mfloat\u001b[0m\u001b[1;33m(\u001b[0m\u001b[1;34m'3,55'\u001b[0m\u001b[1;33m)\u001b[0m\u001b[1;33m\u001b[0m\u001b[1;33m\u001b[0m\u001b[0m\n\u001b[0m",
      "\u001b[1;31mValueError\u001b[0m: could not convert string to float: '3,55'"
     ]
    }
   ],
   "source": [
    "float('3,55')"
   ]
  },
  {
   "cell_type": "code",
   "execution_count": null,
   "metadata": {
    "scrolled": true
   },
   "outputs": [],
   "source": [
    "float(\"12*3\")"
   ]
  },
  {
   "cell_type": "markdown",
   "metadata": {},
   "source": [
    "### Esercizi\n",
    "Completate questi esercizi prima di cominciare il prossimo argomento"
   ]
  },
  {
   "cell_type": "markdown",
   "metadata": {},
   "source": [
    "#### Esercizio 1:\n",
    "Scrivete le istruzioni Python che chiedono all'utente di inserire il valore del raggio di un cerchio e successivamente ne stampano l'area."
   ]
  },
  {
   "cell_type": "code",
   "execution_count": 8,
   "metadata": {},
   "outputs": [
    {
     "name": "stdin",
     "output_type": "stream",
     "text": [
      "inserire raggio del cerchio:  1\n"
     ]
    },
    {
     "name": "stdout",
     "output_type": "stream",
     "text": [
      "area del cerchio di diametro 1.0: 3.141592653589793\n"
     ]
    }
   ],
   "source": [
    "import math\n",
    "r = float(input('inserire raggio del cerchio: '))\n",
    "area = (r**2) * math.pi\n",
    "print('area del cerchio:', area)"
   ]
  },
  {
   "cell_type": "markdown",
   "metadata": {},
   "source": [
    "#### Esercizio 2: \n",
    "Scrivete le istruzioni Python che chiedono all'utente di inserire il valore del raggio di un cerchio e successivamente ne stampano su due righe differenti l'area e il diametro."
   ]
  },
  {
   "cell_type": "code",
   "execution_count": 9,
   "metadata": {},
   "outputs": [
    {
     "name": "stdin",
     "output_type": "stream",
     "text": [
      "inserire raggio del cerchio:  1\n"
     ]
    },
    {
     "name": "stdout",
     "output_type": "stream",
     "text": [
      "area del cerchio: 3.141592653589793\n",
      "diametro del cerchio: 6.283185307179586\n"
     ]
    }
   ],
   "source": [
    "import math\n",
    "r = float(input('inserire raggio del cerchio: '))\n",
    "area = (r**2) * math.pi\n",
    "diametro = (r*2) * math.pi\n",
    "print('area del cerchio:', area)\n",
    "print('diametro del cerchio:', diametro)"
   ]
  },
  {
   "cell_type": "markdown",
   "metadata": {},
   "source": [
    "#### Esercizio 3: \n",
    "Scrivete le istruzioni Python che chiedono all'utente il raggio e l'altezza di un cilindro e successivamente ne stampano a schermo il volume."
   ]
  },
  {
   "cell_type": "code",
   "execution_count": 11,
   "metadata": {},
   "outputs": [
    {
     "name": "stdin",
     "output_type": "stream",
     "text": [
      "inserire raggio della base del cilindro:  1\n",
      "inserire l'altezza del cilindro:  2\n"
     ]
    },
    {
     "name": "stdout",
     "output_type": "stream",
     "text": [
      "volume del cilindro: 6.283185307179586\n"
     ]
    }
   ],
   "source": [
    "import math\n",
    "r = float(input('inserire raggio della base del cilindro: '))\n",
    "h = float(input('inserire l\\'altezza del cilindro: '))\n",
    "volume = (r**2) * math.pi * h\n",
    "print('volume del cilindro:', volume)"
   ]
  },
  {
   "cell_type": "code",
   "execution_count": null,
   "metadata": {},
   "outputs": [],
   "source": []
  }
 ],
 "metadata": {
  "kernelspec": {
   "display_name": "Python 3 (ipykernel)",
   "language": "python",
   "name": "python3"
  },
  "language_info": {
   "codemirror_mode": {
    "name": "ipython",
    "version": 3
   },
   "file_extension": ".py",
   "mimetype": "text/x-python",
   "name": "python",
   "nbconvert_exporter": "python",
   "pygments_lexer": "ipython3",
   "version": "3.8.17"
  }
 },
 "nbformat": 4,
 "nbformat_minor": 4
}
