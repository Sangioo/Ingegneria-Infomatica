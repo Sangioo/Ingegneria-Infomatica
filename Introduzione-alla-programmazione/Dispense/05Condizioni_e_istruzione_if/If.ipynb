{
 "cells": [
  {
   "cell_type": "markdown",
   "metadata": {
    "slideshow": {
     "slide_type": "slide"
    }
   },
   "source": [
    "#### Autori: Domenico Lembo, Antonella Poggi, Giuseppe Santucci and Marco Schaerf\n",
    "\n",
    "[Dipartimento di Ingegneria informatica, automatica e gestionale](https://www.diag.uniroma1.it)\n",
    "\n",
    "<img src=\"https://mirrors.creativecommons.org/presskit/buttons/88x31/png/by-nc-sa.eu.png\"\n",
    "     alt=\"License\"\n",
    "     style=\"float: left;\"\n",
    "     height=\"40\" width=\"100\" />\n",
    "This notebook is distributed with license Creative Commons *CC BY-NC-SA*"
   ]
  },
  {
   "cell_type": "markdown",
   "metadata": {},
   "source": [
    "# Condizioni e Istruzione If\n",
    "1. Espressioni e variabili booleane\n",
    "3. Algebra booleana e operatori booleani and, or e not\n",
    "4. Funzioni booleane (e.g., `isupper()`, `isdecimal()`)\n",
    "5. if else, blocco di istruzioni, indentazione\n",
    "6. elif"
   ]
  },
  {
   "cell_type": "markdown",
   "metadata": {},
   "source": [
    "### Espressioni e variabili booleane\n",
    "In Python (come in molti altri linguaggi di programmazione) esiste il tipo di dato boolean (dal matematico Inglese [George Boole](https://it.wikipedia.org/wiki/George_Boole)). Questo tipo di dato ha solo 2 possibili valori, che in Python sono 2 costanti predefinite `True` e `False` (scritte con la prima lettera maiuscola). Le variabili di tipo boolean possono avere assegnato uno dei valori predefiniti oppure un'espressione il cui risultato sia un valore booleano, come gli **operatori di confronto** tra espressioni:\n",
    "\n",
    "Simbolo | Descrizione Operatore \n",
    "  :---:|:-------: \n",
    "\\> |  maggiore\n",
    "< |  minore\n",
    "\\>= |  maggiore o uguale\n",
    "<= |  minore o uguale\n",
    "== |  uguale\n",
    "\\!= |  diverso\n",
    "    \n",
    "Gli operatori di confronto *si possono applicare a espressioni intere, reali o stringhe*. Il risultato è sempre un valore booleano (`True` o `False`) e come tale può essere assegnato ad una variabile booleana."
   ]
  },
  {
   "cell_type": "code",
   "execution_count": null,
   "metadata": {
    "tags": []
   },
   "outputs": [],
   "source": [
    "#tipo boolean: due valori True e False (notare la prima lettera maiuscola)\n",
    "\n",
    "a=True\n",
    "print(a)"
   ]
  },
  {
   "cell_type": "markdown",
   "metadata": {},
   "source": [
    "Possiamo assegnare ad una variabile il risultato di un confronto"
   ]
  },
  {
   "cell_type": "code",
   "execution_count": null,
   "metadata": {},
   "outputs": [],
   "source": [
    "b=5<3  #b vale False\n",
    "print(b)"
   ]
  },
  {
   "cell_type": "markdown",
   "metadata": {},
   "source": [
    "Anche un confronto tra stringhe ha come risultato un valore booleano:\n",
    "\n",
    "\"casa\"==\"casale\" vale False"
   ]
  },
  {
   "cell_type": "code",
   "execution_count": null,
   "metadata": {},
   "outputs": [],
   "source": [
    "c = len(\"scuola\")==len(\"sala\")#len(\"scuola\")==len(\"sala\") è un'espressione booleana\n",
    "print(c)"
   ]
  },
  {
   "cell_type": "markdown",
   "metadata": {},
   "source": [
    "Confrontando 2 espressioni, vengono prima calcolati i risultati e poi confrontati tra di loro"
   ]
  },
  {
   "cell_type": "markdown",
   "metadata": {
    "tags": []
   },
   "source": [
    "### Algebra booleana e operatori booleani and, or e not\n",
    "Ci sono 3 operatori principali per comporre espressioni booleane più complesse a partire da espressioni semplici, e questi sono *or*, *and* e *not*. Vediamoli uno per volta cominciando con l'*or*:"
   ]
  },
  {
   "cell_type": "code",
   "execution_count": 1,
   "metadata": {},
   "outputs": [
    {
     "name": "stdout",
     "output_type": "stream",
     "text": [
      "\n",
      "or: tabella della verità\n",
      "\n",
      "True\tor\tTrue\tvale:\t True\n",
      "True\tor\tFalse\tvale:\t True\n",
      "False\tor\tTrue\tvale:\t True\n",
      "False\tor\tFalse\tvale:\t False\n"
     ]
    }
   ],
   "source": [
    "# or\n",
    "print(\"\\nor: tabella della verità\\n\") \n",
    "print(\"True\\tor\\tTrue\\tvale:\\t\", True or True)\n",
    "print(\"True\\tor\\tFalse\\tvale:\\t\", True or False)\n",
    "print(\"False\\tor\\tTrue\\tvale:\\t\", False or True)\n",
    "print(\"False\\tor\\tFalse\\tvale:\\t\", False or False)"
   ]
  },
  {
   "cell_type": "markdown",
   "metadata": {},
   "source": [
    "Vediamo il comportamento dell'operatore *and*"
   ]
  },
  {
   "cell_type": "code",
   "execution_count": 2,
   "metadata": {},
   "outputs": [
    {
     "name": "stdout",
     "output_type": "stream",
     "text": [
      "\n",
      "and: tabella della verità\n",
      "\n",
      "True\tand\tTrue\tvale:\t True\n",
      "True\tand\tFalse\tvale:\t False\n",
      "False\tand\tTrue\tvale:\t False\n",
      "False\tand\tFalse\tvale:\t False\n"
     ]
    }
   ],
   "source": [
    "# and\n",
    "print(\"\\nand: tabella della verità\\n\") \n",
    "print(\"True\\tand\\tTrue\\tvale:\\t\", True and True)\n",
    "print(\"True\\tand\\tFalse\\tvale:\\t\", True and False)\n",
    "print(\"False\\tand\\tTrue\\tvale:\\t\", False and True)\n",
    "print(\"False\\tand\\tFalse\\tvale:\\t\", False and False)"
   ]
  },
  {
   "cell_type": "markdown",
   "metadata": {},
   "source": [
    "E quello dell'operatore *not*"
   ]
  },
  {
   "cell_type": "code",
   "execution_count": 3,
   "metadata": {},
   "outputs": [
    {
     "name": "stdout",
     "output_type": "stream",
     "text": [
      "\n",
      "not: tabella della verità\n",
      "\n",
      "not True  vale:    False\n",
      "not False vale:   True\n",
      "\n"
     ]
    }
   ],
   "source": [
    "# not\n",
    "print(\"\\nnot: tabella della verità\\n\") \n",
    "print(\"not True  vale:   \", not True)\n",
    "print(\"not False vale:  \", not False)\n",
    "print()"
   ]
  },
  {
   "cell_type": "markdown",
   "metadata": {},
   "source": [
    "#### Alcune equivalenze che coinvolgono la negazione:\n",
    "\n",
    "Siano x e y variabili (o espressioni) su cui è possibile applicare gli operatori di confronto, valgono le seguenti equivalenze:\n",
    "\n",
    "Espressione | equivale a | Espressione\n",
    "  :---: | :---: | :---: \n",
    "not x == y | equivale a | x != y\n",
    "not x != y | equivale a | x == y\n",
    "not x < y  | equivale a | x >= y\n",
    "not x <= y | equivale a | x > y\n",
    "not x > y  | equivale a | x <= y\n",
    "not x >= y | equivale a | x < y"
   ]
  },
  {
   "cell_type": "markdown",
   "metadata": {},
   "source": [
    "#### Leggi di De Morgan\n",
    "\n",
    "Le tre operazioni booleane sono legate dalle relazioni seguenti che sono utili quando si deve negare una congiunzione (A and B) o una disgiunzione (A or B), dove A e B sono variabili o espressioni booleane):\n",
    "\n",
    "Formula | equivale a | Formula\n",
    "  :---: | :---: | :---: \n",
    " not ( x and y ) | equivale a | not x or not y\n",
    " not ( x or y )  | equivale a | not x and not y\n",
    "\n",
    "Queste regole si chiamano «leggi di De Morgan» in onore al matematico Augustus De Morgan (1806-1871).\n"
   ]
  },
  {
   "cell_type": "markdown",
   "metadata": {},
   "source": [
    "#### Regole di precedenza sugli operatori booloeani\n",
    "\n",
    "Le regole di precedenza stabiliscono l'ordine con cui vengono valutati gli operatori nelle espressioni. In Python valgono le regole standard relative alla precedenza dell'algebra booleana. L'uso delle parentesi può modificare l'ordine di precedenza standard.\n",
    "\n",
    "*REGOLE DI PRECEDENZA*\n",
    "\n",
    "1) Gli operatori di confronto hanno la precedenza rispetto agli operatori booleani durante la valutazione di una condizione.\n",
    "   + la valutazione dell'espressione `5 == 4 or False`  \n",
    "     restituisce `False` (si noti che è equivalente a `(5 == 4) or False`)\n",
    "   + la valutazione dell'espressione `True == (False or True)`    \n",
    "     restituisce `True`\n",
    "\n",
    "2) `not` ha precedenza più alta di `and` e `or`  \n",
    "     cioè per esempio `not A and not B or not C` equivale a `(not A) and (not B) and (not C)` \n",
    "     \n",
    "     \n",
    "3) `and` ha precedenza più alta di `or`  \n",
    "    cioè per esempio `A and B or C` equivale a `(A and B) or C`"
   ]
  },
  {
   "cell_type": "markdown",
   "metadata": {},
   "source": [
    "#### Espressioni condizionali complesse (esempi): \n",
    "\n",
    "* `x <= 0 and y != 2`<br/>\n",
    "    è vera (produce True) se la variabile x contiene un numero strettamente negativo, e se la variabile y contiene un numero diverso da 2; altrimenti è falsa (produce `False`)\n",
    "\n",
    "\n",
    "* `not (x > 0 or y == 2)`<br/>\n",
    "    è equivalente all'espressione precedente (De Morgan)\n",
    "\n",
    "* `(a != b or b >= 0) and c < 1` <br/>\n",
    "    è vera se le variabili a e b contengono valori diversi oppure se b contiene un numero non negativo, e contemporaneamente la variabile c contiene un numero minore di 1; altrimenti è falsa"
   ]
  },
  {
   "cell_type": "markdown",
   "metadata": {},
   "source": [
    "### Funzioni booleane (e.g., `isupper()`, `isdecimal()`, ... )\n",
    "In Python ci sono molte funzioni (o metodi) booleane (cioè che danno come risultato un valore booleano) già definite. Per esempio, per le stringhe sono definiti, tra gli altri, questi operatori e metodi booleani:\n",
    "1. `in` è un operatore booleano che verifica se una stringa compare in un'altra stringa. Ad esempio, `'pel' in 'spellare'` darà come risultato `True` mentre `'pa' in 'spellare'` darà come risultato `False`  \n",
    "\n",
    "\n",
    "1. `isalpha()` è un metodo che restituisce `True` se la stringa su cui è invocato non è vuota ed è composta da soli caratteri alfabetici. `False` altrimenti  \n",
    "\n",
    "\n",
    "2. `isdecimal()` è un metodo che restituisce `True` se la stringa su cui è invocato non è vuota ed è composta da sole cifre. `False` altrimenti  \n",
    "\n",
    "\n",
    "3. `islower()` è un metodo che restituisce `True` se la stringa su cui è invocato contiene almeno un carattere alfabetico minuscolo e NESSUN carattere alfabetico maiuscolo. `False` altrimenti  \n",
    "\n",
    "\n",
    "4. `isupper()` è un metodo che restituisce `True` se la stringa su cui è invocato contiene almeno un carattere alfabetico maiuscolo e NESSUN carattere alfabetico minuscolo. `False` altrimenti  "
   ]
  },
  {
   "cell_type": "code",
   "execution_count": null,
   "metadata": {},
   "outputs": [],
   "source": [
    "s1 = 'palla'\n",
    "print('Stringa:\\t',s1,'\\nAlfabetica ?:\\t', s1.isalpha(),'\\nDecimale ?:\\t',s1.isdecimal(),'\\nMinuscola ?:\\t',s1.islower(),'\\nMaiuscola ?:\\t',s1.isupper())"
   ]
  },
  {
   "cell_type": "code",
   "execution_count": null,
   "metadata": {},
   "outputs": [],
   "source": [
    "s2 = '121'\n",
    "print('Stringa:\\t',s2,'\\nAlfabetica ?:\\t', s2.isalpha(),'\\nDecimale ?:\\t',s2.isdecimal(),'\\nMinuscola ?:\\t',s2.islower(),'\\nMaiuscola ?:\\t',s2.isupper())"
   ]
  },
  {
   "cell_type": "code",
   "execution_count": null,
   "metadata": {},
   "outputs": [],
   "source": [
    "s3 = 'm11'\n",
    "print('Stringa:\\t',s3,'\\nAlfabetica ?:\\t', s3.isalpha(),'\\nDecimale ?:\\t',s3.isdecimal(),'\\nMinuscola ?:\\t',s3.islower(),'\\nMaiuscola ?:\\t',s3.isupper())"
   ]
  },
  {
   "cell_type": "code",
   "execution_count": null,
   "metadata": {},
   "outputs": [],
   "source": [
    "s4 = 'M11'\n",
    "print('Stringa:\\t',s4,'\\nAlfabetica ?:\\t', s4.isalpha(),'\\nDecimale ?:\\t',s4.isdecimal(),'\\nMinuscola ?:\\t',s4.islower(),'\\nMaiuscola ?:\\t',s4.isupper())"
   ]
  },
  {
   "cell_type": "code",
   "execution_count": null,
   "metadata": {},
   "outputs": [],
   "source": [
    "s5 = 'm2M'\n",
    "print('Stringa:\\t',s5,'\\nAlfabetica ?:\\t', s5.isalpha(),'\\nDecimale ?:\\t',s5.isdecimal(),'\\nMinuscola ?:\\t',s5.islower(),'\\nMaiuscola ?:\\t',s5.isupper())"
   ]
  },
  {
   "cell_type": "code",
   "execution_count": null,
   "metadata": {},
   "outputs": [],
   "source": [
    "voto=int(input(\"inserisci voto esame: \"))\n",
    "if voto>17:\n",
    "    print(\"promosso\")\n",
    "    print(\"bravo!\")\n"
   ]
  },
  {
   "cell_type": "markdown",
   "metadata": {},
   "source": [
    "### Istruzione if, blocco di istruzioni, indentazione\n",
    "In Python quando alcune istruzioni vanno eseguite solo se una condizione è soddisfatta si usa l'istruzione `if`. La sua forma più semplice è\n",
    "\n",
    "```python\n",
    "if condizione: \n",
    "    istruzione/i\n",
    "    \n",
    "```\n",
    "\n",
    "Notate che dopo la `condizione` ci sono i due punti `:` e che la riga successiva non comincia a sinistra, ma è spostata a destra (indentata). La `condizione` deve essere un'espressione booleana. Lo spostamento a destra di un'istruzione (o di un blocco di istruzioni consecutive) indica che essa fa parte dell'istruzione che si trova sopra e  alla sua sinistra.\n",
    "\n",
    "Il suo comportamento è molto semplice, viene valutata l'espressione booleana (`condizione`) e se essa assume il valore `True` allora vengono eseguite tutte le istruzioni (1 o più) contenute all'interno dell'`if`. Se assume il valore `False` le istruzioni NON vengono eseguite ed il programma continua dall'istruzione successiva all'`if`.\n",
    "\n",
    "#### Diagramma di flusso\n",
    "\n",
    "Il diagramma di flusso (flow chart) rappresenta graficamente le operazioni da eseguire in un programma. I vari tipi di istruzione sono associati a simboli standard. Ad esempio, l'istruzione generica va scritta all'interno di un rettangolo, mentre con un rombo contenente una espressione booleana si denotano i punti di scelta del programma (corrispondenti ad esempio alle condizioni delle istruzioni `if`, o `if-else` - vedi dopo). La linea di flusso indica il percorso di esecuzione delle istruzioni.\n",
    "\n",
    "Di seguito un semplice diagramma di flusso che rappresenta graficamente una generica istruzione `if`.\n",
    "\n",
    "<img src=\"./immagini/Flusso1.png\" alt=\"drawing\" style=\"width:600px;\"/>\n"
   ]
  },
  {
   "cell_type": "code",
   "execution_count": null,
   "metadata": {},
   "outputs": [],
   "source": [
    "#if\n",
    "from random import randint\n",
    "k=randint(0,100)\n",
    "l=randint(0,100)\n",
    "print(\"k =\",k,\"l =\",l)\n",
    "\n",
    "if k>l:\n",
    "    print(\"k è maggiore di l\")\n",
    "    print('sono nel True')\n",
    "print(\"Finito di eseguire l'istruzione if\")"
   ]
  },
  {
   "cell_type": "code",
   "execution_count": null,
   "metadata": {
    "scrolled": true
   },
   "outputs": [],
   "source": [
    "#esempio controllo ingresso input\n",
    "s=input(\"inserisci un intero positivo: \")\n",
    "\n",
    "if s.isdecimal():\n",
    "    n=int(s)\n",
    "    print(\"Intero inserito=\",n )\n",
    "print(\"Controllo eseguito\")"
   ]
  },
  {
   "cell_type": "markdown",
   "metadata": {},
   "source": [
    "### Istruzione if else\n",
    "In molti casi anche se la condizione è `False` bisogna eseguire delle istruzioni, diverse da quelle che devono essere eseguite se la condizione è `True`. In questo caso si usa un versione più completa dell'istruzione `if` che è la seguente:\n",
    "```python\n",
    "if condizione: \n",
    "    istruzione/i\n",
    "else:\n",
    "    istruzione/i\n",
    "    \n",
    "```\n",
    "Il primo gruppo di istruzioni viene eseguito se la condizione è vera ed il secondo se la condizione è falsa. A volte informalmente si dice che il primo gruppo di istruzioni appartiene al *ramo* `if` ed il secondo appartiene al *ramo* `else`.\n",
    "\n",
    "\n",
    "<img src=\"Immagini/Flusso2.png\" alt=\"drawing\" style=\"width:600px;\"/>"
   ]
  },
  {
   "cell_type": "code",
   "execution_count": null,
   "metadata": {},
   "outputs": [],
   "source": [
    "#esempio controllo ingresso input\n",
    "s=input(\"inserisci un intero positivo: \")\n",
    "\n",
    "if s.isdecimal():\n",
    "    n=int(s)\n",
    "    print(\"Intero inserito=\",n )\n",
    "else:\n",
    "    print(\"Il valore inserito NON è un numero intero positivo\")"
   ]
  },
  {
   "cell_type": "code",
   "execution_count": null,
   "metadata": {},
   "outputs": [],
   "source": [
    "from random import randint\n",
    "\n",
    "#if else if\n",
    "k=randint(0,100)\n",
    "l=randint(0,100)\n",
    "print(\"k =\",k,\"l =\",l)\n",
    "if k>l:\n",
    "    print(\"k è maggiore di l\")\n",
    "else:\n",
    "    print(\"k è minore od uguale a l\")"
   ]
  },
  {
   "cell_type": "markdown",
   "metadata": {},
   "source": [
    "### Istruzioni if else annidate ed elif\n",
    "In molti casi può essere necessario verificare una condizione all'interno di un'istruzione `if`. In questo caso, si dice che c'è un `if` annidato. \n",
    "\n",
    "#### Esempio:\n",
    "\n",
    "<img src=\"Immagini/Flusso3.png\" alt=\"drawing\" style=\"width:600px;\"/>"
   ]
  },
  {
   "cell_type": "code",
   "execution_count": null,
   "metadata": {},
   "outputs": [],
   "source": [
    "voto=int(input(\"Immetti il voto di un esame superato: \"))\n",
    "if voto>=18 and voto<=30 :\n",
    "    if voto>=24 :\n",
    "         print(\"Il risultato e' buono\")\n",
    "    else :\n",
    "         print(\"Il risultato e' sufficiente\")\n",
    "else :\n",
    "    print(\"voto non corretto\")"
   ]
  },
  {
   "cell_type": "markdown",
   "metadata": {},
   "source": [
    "Il secondo `if` può anche trovarsi all'interno del ramo `else`, in questo caso c'è una notazione più compatta che usa la parola chiave `elif`, cioè `else: if`"
   ]
  },
  {
   "cell_type": "code",
   "execution_count": null,
   "metadata": {},
   "outputs": [],
   "source": [
    "from random import randint\n",
    "\n",
    "k=randint(0,100)\n",
    "l=randint(0,100)\n",
    "print(\"k =\",k,\"l =\",l)\n",
    "\n",
    "#if else if\n",
    "if k>l:\n",
    "    print(\"k è maggiore di l\")\n",
    "else:\n",
    "    if k==l:\n",
    "        print(\"k è uguale a l\")\n",
    "    else:\n",
    "        print(\"k è minore di l\")   "
   ]
  },
  {
   "cell_type": "code",
   "execution_count": null,
   "metadata": {},
   "outputs": [],
   "source": [
    "#equivalente, più compatto usando elif\n",
    "if k>l:\n",
    "    print(\"k è maggiore di l\")\n",
    "elif k==l:\n",
    "    print(\"k è uguale a l\")\n",
    "else:\n",
    "    print(\"k è minore di l\")    "
   ]
  },
  {
   "cell_type": "markdown",
   "metadata": {},
   "source": [
    "E' possibile anche avere un `if` seguito da vari `elif` e (opzionalmente) da un (unico) `else` finale"
   ]
  },
  {
   "cell_type": "code",
   "execution_count": 1,
   "metadata": {},
   "outputs": [
    {
     "name": "stdin",
     "output_type": "stream",
     "text": [
      "inserisci un voto in trentesimi:  15\n"
     ]
    },
    {
     "name": "stdout",
     "output_type": "stream",
     "text": [
      "D!!!!!\n"
     ]
    }
   ],
   "source": [
    "n=int(input(\"inserisci un voto in trentesimi: \"))\n",
    "\n",
    "if n>27:\n",
    "    print(\"A\")\n",
    "elif n>24:\n",
    "    print(\"B\")\n",
    "elif n>20:\n",
    "    print(\"C\")\n",
    "elif n>17:\n",
    "    print(\"C-\")\n",
    "else:\n",
    "    print(\"D!!!!!\")  "
   ]
  },
  {
   "cell_type": "markdown",
   "metadata": {},
   "source": [
    "#### Ordinamento di due numeri"
   ]
  },
  {
   "cell_type": "code",
   "execution_count": null,
   "metadata": {
    "scrolled": true
   },
   "outputs": [],
   "source": [
    "n1 = int(input('Inserisci primo intero. '))\n",
    "n2 = int(input('Inserisci secondo secondo. '))\n",
    "\n",
    "if n1 > n2:\n",
    "    print(n2,n1)\n",
    "else:\n",
    "    print(n1,n2)"
   ]
  },
  {
   "cell_type": "code",
   "execution_count": null,
   "metadata": {},
   "outputs": [],
   "source": [
    "#alternativa equivalente    \n",
    "print(min(n1,n2),max(n1,n2))"
   ]
  },
  {
   "cell_type": "markdown",
   "metadata": {},
   "source": [
    "### Esercizio selezione sottostringa\n",
    "Scrivere un programma che legge una stringa s ed un carattere c e, se il carattere c compare almeno 2 volte nella stringa s stampa la parte di stringa che va dalla prima alla seconda occorrenza di c (incluse) altrimenti stampa il messaggio \"Il carattere c compare meno di due volte nella stringa s\""
   ]
  },
  {
   "cell_type": "code",
   "execution_count": null,
   "metadata": {},
   "outputs": [],
   "source": [
    "s = input('inserisci la stringa: ')\n",
    "c = input('inserisci il carattere: ')\n",
    "\n",
    "if (s.count(c) >= 2):\n",
    "    primaOcc = s.find(c)\n",
    "    secondaOcc = s.find(c,primaOcc+1) # find inizia a cercare a partire da primaOcc+1 (incluso)\n",
    "    print(s[primaOcc:secondaOcc+1])\n",
    "else:\n",
    "    print(\"Il carattere\",c,\"compare meno di due volte nella stringa\", s)\n",
    "    \n",
    "# Soluzione alternativa in cui salviamo la stringa restante in s1\n",
    "# e cerchiamo la seconda occorrenza di c in s1 (ma contiene un errore; Attenzione agli indici !!)\n",
    "if (s.count(c) >= 2):\n",
    "    primaOcc = s.find(c)\n",
    "    s1 = s[primaOcc+1:]\n",
    "    secondaOcc = s1.find(c) # find cerca in s1 dall'inizio della stringa\n",
    "    print(s[primaOcc:secondaOcc+1]) # la versione corretta richiede di sostituire\n",
    "                                    # secondaOcc+1 con primaOcc+1+secondaOcc+1\n",
    "else:\n",
    "    print(\"Il carattere\",c,\"compare meno di due volte nella stringa\", s)"
   ]
  },
  {
   "cell_type": "markdown",
   "metadata": {},
   "source": [
    "### Confronto tra reali (uso di abs())\n",
    "Come viene spiegato in dettaglio nella lezione della parte Modelli sulla rappresentazione dei numeri reali (float), i numeri reali vengono rappresentati all'interno del computer con un numero limitato di bit, cosa che comporta necessariamente un'approssimazione. Per questo motivo, bisogna fare molta attenzione quando si confrontano numeri reali poiché numeri che matematicamente sono identici (come 2 e il quadrato della radice quadrata di 2) *non sempre* risultano uguali usando l'operatore `==`. Per questo motivo, in genere si preferisce verificare l'uguaglianza tra 2 numeri reali controllando se la loro differenza, in valore assoluto, è minore di un valore molto piccolo (tipo $10^{-6}$, ma dipende dai numeri)."
   ]
  },
  {
   "cell_type": "code",
   "execution_count": null,
   "metadata": {},
   "outputs": [],
   "source": [
    "#mostra l'impossibilità di usare == per confrontare reali\n",
    "\n",
    "from math import *\n",
    "x=sqrt(2)\n",
    "\n",
    "if x**2==2:\n",
    "    print(x,'è la radice quadrata di 2')\n",
    "else:\n",
    "    print('usando \"==\" ',x,'NON è la radice quadrata di 2 infatti x**2 vale:', x**2);"
   ]
  },
  {
   "cell_type": "code",
   "execution_count": null,
   "metadata": {},
   "outputs": [],
   "source": [
    "if abs(x**2-2)<10e-6:\n",
    "    print('usando \"abs()\" ', x,'è la radice quadrata di 2')\n",
    "else:\n",
    "    print(x,'NON è la radice quadrata di 2');"
   ]
  },
  {
   "cell_type": "markdown",
   "metadata": {},
   "source": [
    "### Controllo dell'input: Esercizio controllo correttezza di un numero frazionario con segno\n",
    "Scrivere un programma che prende in input una stringa e verifica se sia un numero frazionario con segno"
   ]
  },
  {
   "cell_type": "code",
   "execution_count": null,
   "metadata": {},
   "outputs": [],
   "source": [
    "s1=input(\"inserisci un reale  \")\n",
    "if s1[0] in '+-':\n",
    "    s=s1[1:]\n",
    "else:\n",
    "    s=s1 # in questo caso si è omesso il segno e va implicitamente conssiderato positivo\n",
    "\n",
    "if '.' not in s:\n",
    "    convertibile = s.isdecimal()\n",
    "else:        \n",
    "    iP=s.find('.') #indice del punto  \n",
    "    pi=s[0:iP]     #parte intera\n",
    "    pf=s[iP+1:]  #parte frazionaria\n",
    "\n",
    "    # si ricorda che isdecimal invocato su una stringa vuota restituisce falso\n",
    "    # cioè ''.isdecimal restituisce False\n",
    "    \n",
    "    if len(pi)==0:\n",
    "        convertibile=pf.isdecimal()  #   .5\n",
    "    elif len(pf)==0:\n",
    "        convertibile=pi.isdecimal()  #  4. (notate che questo è ammesso per indicare un float)\n",
    "    else:\n",
    "        convertibile=pi.isdecimal() and pf.isdecimal()   #3.9\n",
    "\n",
    "print(\"Covertibile ?\",convertibile)"
   ]
  },
  {
   "cell_type": "markdown",
   "metadata": {},
   "source": [
    "### Esercizi\n",
    "Completate questi esercizi prima di cominciare il prossimo argomento"
   ]
  },
  {
   "cell_type": "markdown",
   "metadata": {},
   "source": [
    "### Esercizio 1: \n",
    "Scrivere un programma che prende in ingresso due stringhe s1 ed s2 e stampa una prima riga con le stringhe in ordine alfabetico ed una seconda con le stringhe in ordine di lunghezza"
   ]
  },
  {
   "cell_type": "code",
   "execution_count": 2,
   "metadata": {},
   "outputs": [
    {
     "name": "stdin",
     "output_type": "stream",
     "text": [
      "inserire prima stringa:  aaaaaaaaa\n",
      "inserire seconda stringa:  b\n"
     ]
    },
    {
     "name": "stdout",
     "output_type": "stream",
     "text": [
      "aaaaaaaaa b\n",
      "b aaaaaaaaa\n"
     ]
    }
   ],
   "source": [
    "s1 = input('inserire prima stringa: ')\n",
    "s2 = input('inserire seconda stringa: ')\n",
    "if s1 > s2:\n",
    "    print(s2, s1)\n",
    "else:\n",
    "    print(s1, s2)\n",
    "\n",
    "if len(s1) > len(s2):\n",
    "    print(s2, s1)\n",
    "else:\n",
    "    print(s1, s2)"
   ]
  },
  {
   "cell_type": "markdown",
   "metadata": {},
   "source": [
    "### Esercizio 2:\n",
    "Scrivere un programma che prende in ingresso due stringhe s1 ed s2 e, se la stringa s2 è contenuta in s1, calcola il numero di volte N in cui compare e poi stampa il messaggio:\n",
    "\n",
    "La stringa s2 compare N volte nella stringa s1\n",
    "\n",
    "dove s1, s2 ed N vanno sostituiti con il loro valore.\n",
    "Altrimenti stampa il messaggio:\n",
    "\n",
    "La stringa s2 non compare nella stringa s1"
   ]
  },
  {
   "cell_type": "code",
   "execution_count": 5,
   "metadata": {},
   "outputs": [
    {
     "name": "stdin",
     "output_type": "stream",
     "text": [
      "inserire prima stringa:  abcbcbc\n",
      "inserire seconda stringa:  bc\n"
     ]
    },
    {
     "name": "stdout",
     "output_type": "stream",
     "text": [
      "La stringa bc compare 3 volte nella stringa abcbcbc\n"
     ]
    }
   ],
   "source": [
    "s1 = input('inserire prima stringa: ')\n",
    "s2 = input('inserire seconda stringa: ')\n",
    "if s2 in s1:\n",
    "    print('La stringa', s2, 'compare', s1.count(s2), 'volte nella stringa', s1)\n",
    "else:\n",
    "    print('La stringa', s2, 'non compare nella stringa', s1)"
   ]
  },
  {
   "cell_type": "markdown",
   "metadata": {},
   "source": [
    "### Esercizio 3:\n",
    "Scrivere un programma che prende in ingresso una stringa s e stampa il valore True se la stringa s è palindroma. Suggerimento: usate (in modo creativo) lo slicing"
   ]
  },
  {
   "cell_type": "code",
   "execution_count": 8,
   "metadata": {},
   "outputs": [
    {
     "name": "stdin",
     "output_type": "stream",
     "text": [
      "inserire una stringa:  aba\n"
     ]
    },
    {
     "name": "stdout",
     "output_type": "stream",
     "text": [
      "True\n"
     ]
    }
   ],
   "source": [
    "s = input('inserire una stringa: ')\n",
    "if s == s[::-1]:\n",
    "    print(True)"
   ]
  },
  {
   "cell_type": "markdown",
   "metadata": {},
   "source": [
    "### Esercizio 4:\n",
    "Scrivere un programma che realizza un piccolo gioco in cui l'utente deve indovinare un numero \"pensato\" dal computer tra 1 ed N (compresi). Innanzitutto, l'utente deve inserire il valore di N, poi il computer \"pensa\" il numero (usando la funzione random.randint()) ed ora l'utente deve fare tre tentativi per indovinare il numero, ad ogni tentativo il programma risponderà con una delle tre risposte:\n",
    "- \"Bravo hai indovinato\"\n",
    "- \"Il Numero che hai detto è troppo grande\"\n",
    "- \"Il Numero che hai detto è troppo piccolo\"\n",
    "\n",
    "P.S. Come curiosità, sapete dire quale è il valore massimo di N per cui l'utente sarà sempre in grado di indovinare il numero in 3 tentativi ?"
   ]
  },
  {
   "cell_type": "code",
   "execution_count": 12,
   "metadata": {},
   "outputs": [
    {
     "name": "stdin",
     "output_type": "stream",
     "text": [
      "inserire un numero intero maggiore di 1:  3\n"
     ]
    },
    {
     "name": "stdout",
     "output_type": "stream",
     "text": [
      "Genero un numero casuale tra 1 e 3 ...\n"
     ]
    },
    {
     "name": "stdin",
     "output_type": "stream",
     "text": [
      "Prova a indovinare il numero:  2\n"
     ]
    },
    {
     "name": "stdout",
     "output_type": "stream",
     "text": [
      "Bravo hai indovinato\n"
     ]
    }
   ],
   "source": [
    "from random import randint\n",
    "n = int(input('inserire un numero intero maggiore di 1: '))\n",
    "print('Genero un numero casuale tra 1 e', n, '...')\n",
    "magicNumber = randint(1,n+1)\n",
    "for i in range(3):\n",
    "    guess = int(input('Prova a indovinare il numero: '))\n",
    "    if guess == magicNumber:\n",
    "        print('Bravo hai indovinato')\n",
    "        break\n",
    "    elif guess > magicNumber:\n",
    "        print(\"Il Numero che hai detto è troppo grande\")\n",
    "    elif guess < magicNumber:\n",
    "        print(\"Il Numero che hai detto è troppo piccolo\")"
   ]
  },
  {
   "cell_type": "code",
   "execution_count": null,
   "metadata": {},
   "outputs": [],
   "source": []
  }
 ],
 "metadata": {
  "kernelspec": {
   "display_name": "Python 3 (ipykernel)",
   "language": "python",
   "name": "python3"
  },
  "language_info": {
   "codemirror_mode": {
    "name": "ipython",
    "version": 3
   },
   "file_extension": ".py",
   "mimetype": "text/x-python",
   "name": "python",
   "nbconvert_exporter": "python",
   "pygments_lexer": "ipython3",
   "version": "3.8.17"
  },
  "nbTranslate": {
   "displayLangs": [
    "*"
   ],
   "hotkey": "alt-t",
   "langInMainMenu": true,
   "sourceLang": "en",
   "targetLang": "fr",
   "useGoogleTranslate": true
  }
 },
 "nbformat": 4,
 "nbformat_minor": 4
}
