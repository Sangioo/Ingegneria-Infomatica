{
 "cells": [
  {
   "cell_type": "markdown",
   "metadata": {
    "slideshow": {
     "slide_type": "slide"
    }
   },
   "source": [
    "#### Autori: Domenico Lembo, Antonella Poggi Giuseppe Santucci e Marco Schaerf\n",
    "\n",
    "[Dipartimento di Ingegneria informatica, automatica e gestionale](https://www.diag.uniroma1.it)\n",
    "\n",
    "<img src=\"https://mirrors.creativecommons.org/presskit/buttons/88x31/png/by-nc-sa.eu.png\"\n",
    "     alt=\"License\"\n",
    "     style=\"float: left;\"\n",
    "     height=\"40\" width=\"100\" />\n",
    "This notebook is distributed with license Creative Commons *CC BY-NC-SA*"
   ]
  },
  {
   "cell_type": "markdown",
   "metadata": {},
   "source": [
    "# File di testo in Python\n",
    "1. Gestione dei file\n",
    "2. Lettura di file in Python\n",
    "3. Apertura file in cartelle diverse\n",
    "4. Esempio: funzione `stampa()`\n",
    "5. Esercizi su File\n",
    "5. Funzione split() un (quasi) perfetto separatore di parole\n",
    "6. Esercizio: Crea liste parole (senza ripetizioni) contenute in un file\n",
    "7. Esercizio: Crea liste parole (*pulite* e senza ripetizioni) contenute in un file\n",
    "1. Scrittura su file\n",
    "3. L'istruzione `with`\n",
    "2. Copia con filtro\n",
    "3. Formato dei file CSV\n",
    "4. Esercizio: Analizzare il file Partite3.csv e stampare le partite vinte, perse e pareggiate per ogni giocatore\n",
    "5. Esercizio: Calcolare le paghe ricevute da un dipendente\n",
    "6. Esercizio: Sempre più alto"
   ]
  },
  {
   "cell_type": "markdown",
   "metadata": {},
   "source": [
    "### Gestione dei file\n",
    "Vedremo come sia possibile leggere e scrivere da un file. Per il nostro corso ci concentreremo solo sui file di testo, cioè file composti da una sequenza di caratteri UNICODE. I file di testo sono composti da righe, terminate dal carattere '\\n' e sono memorizzati usando uno specifico *encoding* dei caratteri UNICODE. L'encoding più comunemente utilizzato, e quello che useremo noi nel corso, è 'UTF-8'. Per i primi esempi useremo il file [Esempio.txt](Esempio.txt) qui riportato:\n",
    "\n",
    "```\n",
    "Questo è un esempio di un file di testo.\n",
    "Occupa quattro righe\n",
    "\n",
    "Riga 4\n",
    "```\n",
    "La sequenza di caratteri UNICODE del file è:\n",
    "\n",
    "\"Questo è un esempio di un file di testo.\\nOccupa quattro righe\\n\\nRiga 4\"\n",
    "\n",
    "Aprendolo con un editor che visualizza i caratteri speciali appare così:\n",
    "\n",
    "<img src=\"Immagini/Esempio.png\" width=300>"
   ]
  },
  {
   "cell_type": "markdown",
   "metadata": {},
   "source": [
    "### Lettura di file in Python\n",
    "Per leggere i file di testo in Python dobbiamo prima *aprirli*. Per aprirli in Python usiamo la funzione `open()` che apre il file e restituisce un oggetto di tipo *file*. La funzione `open()` richiede un parametro obbligatorio, cioè il nome del file sul computer, e poi alcuni parametri opzionali che vedremo man mano. Per specificare il tipo di encoding dei caratteri usato nel file bisogna specificare il parametro opzionale *encoding* ed assegnargli un valore, che per noi di regola sarà \"UTF-8\". Esempio:\n",
    "\n",
    "f=open(\"Esempio.txt\",encoding=\"UTF-8\")\n",
    "\n",
    "I file aperti, appena finito di usarli, devono essere **chiusi**. Per chiudere un file *f* si usa il metodo dei file `close()`.\n",
    "\n",
    "Abbiamo a disposizione vari modi per leggere il contenuto di un file di testo. Quelli fondamentali sono:\n",
    "1. `read()`      : è un metodo che legge **tutto** il file e restituisce una stringa (con i `\\n`)\n",
    "2. `readlines()` : è un metodo che legge **tutte** le righe del file e restituisce una lista di stringhe (righe con i `\\n`)\n",
    "3. `readline()`  : è un metodo che legge **una riga** del file alla volta (incluso il `\\n` finale)\n",
    "4. `for riga in` : legge una riga del file alla volta (incluso il `\\n` finale)\n",
    "Vediamo un esempio per ogni modalità di lettura del contenuto di un file di testo."
   ]
  },
  {
   "cell_type": "code",
   "execution_count": null,
   "metadata": {},
   "outputs": [],
   "source": [
    "#read() --> tutto il file in una stringa\n",
    "f=open(\"Esempio.txt\",encoding=\"UTF-8\") # Apre il file dando il nome e specificando il tipo di encoding\n",
    "s=f.read() # Legge tutto il file e lo salva in una variabile di tipo stringa\n",
    "f.close() # Chiude il file\n",
    "s  #mostra il contenuto di s"
   ]
  },
  {
   "cell_type": "code",
   "execution_count": null,
   "metadata": {},
   "outputs": [],
   "source": [
    "print(s) # Stampa la stringa contenente tutto il testo del file"
   ]
  },
  {
   "cell_type": "code",
   "execution_count": null,
   "metadata": {},
   "outputs": [],
   "source": [
    "#readlines() --> tutto il file in una lista di righe \n",
    "f=open(\"Esempio.txt\",encoding=\"UTF-8\") # Apre il file dando il nome e specificando il tipo di encoding\n",
    "l=f.readlines() # Legge tutto il file e lo salva in una variabile di tipo lista (di stringhe)\n",
    "f.close() # Chiude il file"
   ]
  },
  {
   "cell_type": "code",
   "execution_count": null,
   "metadata": {},
   "outputs": [],
   "source": [
    "print(\"l=\",l) # Stampa la lista di stringhe contenente tutto il testo del file"
   ]
  },
  {
   "cell_type": "code",
   "execution_count": null,
   "metadata": {},
   "outputs": [],
   "source": [
    "#readline() --> legge una riga alla volta \n",
    "f=open(\"Esempio.txt\",encoding=\"UTF-8\") # Apre il file dando il nome e specificando il tipo di encoding\n",
    "riga=f.readline() # Legge la prima riga del file e la salva in una variabile di tipo stringa\n",
    "riga #mostra il contenuto della riga letta"
   ]
  },
  {
   "cell_type": "code",
   "execution_count": null,
   "metadata": {},
   "outputs": [],
   "source": [
    "while len(riga)>0: # Se la riga non è vuota (succede solo se siamo alla fine del file)\n",
    "    print(riga,end='') # Stampa la riga. Notate che riga CONTIENE già un \\n alla fine,\n",
    "                       # per questo ridefiniamo il parametro end a stringa vuota ('')\n",
    "    riga=f.readline()  # Legge la prossima riga. Notate che Python tiene ricorda sempre\n",
    "                       # su quale riga è posizionato\n",
    "f.close() #Chiude il file"
   ]
  },
  {
   "cell_type": "code",
   "execution_count": null,
   "metadata": {},
   "outputs": [],
   "source": [
    "#scansione del file per elementi (righe)\n",
    "f=open(\"Esempio.txt\",encoding=\"UTF-8\") # Apre il file dando il nome e specificando il tipo di encoding\n",
    "for elem in f: # Ciclo sulle RIGHE del file. La variabile elem prenderà come valori (uno per volta)\n",
    "               # tutte le righe del file\n",
    "    print(len(elem), elem,end='') #Stampa la lunghezza della riga, seguita dalla riga (incluso il \\n finale)\n",
    "f.close() #Chiude il file"
   ]
  },
  {
   "cell_type": "markdown",
   "metadata": {},
   "source": [
    "#### Nota\n",
    "\n",
    "Qualunque sia il modo scelto per leggere un file, non sarà possibile leggerlo nuovamente a meno di non chiuderlo e riaprirlo. Intuitivamente, l'oggetto file restituito dalla funzione `open()` gestisce un cursore che indica la posizione fino a cui il file è stato letto. All'apertura di un file il cursore è all'inizio del file, ma a seguito di chiamate dei metodi `read()`, `readlines()`, `readline()`, oppure della scansione del file per righe framite un ciclo `for elem in `, il cursore avanza, fino a raggiungere la fine del file, e non è possibile \"riportarlo indietro\". Più precisamente, dato un oggetto `f` di tipo file, cioè `f = open(...)`\n",
    "\n",
    "1. `f.read()`      : La prima chiamata di `read()` dopo l’apertura di un file ne acquisisce sempre l’intero contenuto sottoforma di un'unica stringa. Questo significa che dopo aver chiuso e riaperto uno stesso file sarà possibile riacquisirne il contenuto con una nuova chiamata di `read()`. Se invece si eseguono due o più chiamate di `read()` mentre un file è aperto (senza chiuderlo e riaprirlo prima di ognuna di tali chiamate), ogni chiamata successiva alla prima restituirà una stringa vuota, poiché l’intero contenuto del file è già stato acquisito.\n",
    "\n",
    "2. `f.readlines()` : analogamente al caso precedente, la prima chiamata di `readlines()` dopo l’apertura di un file ne acquisisce sempre l’intero contenuto sottoforma di una lista di stringhe, dove ogni stringa è una riga del file. Se si eseguono due o più chiamate di `readlines()` sullo stesso file (senza chiuderlo e riaprirlo prima di ognuna di tali chiamate), ogni chiamata successiva alla prima restituirà una lista vuota.\n",
    "\n",
    "3. `f.readline()`  : La prima chiamata di `readline()` dopo l’apertura di un file acquisisce sempre la prima riga. Ogni eventuale altra chiamata di `readline()` prima che il file venga chiuso acquisisce la riga successiva a quella acquisita dalla chiamata precedente. Dopo che tutte le righe di un file siano state acquisite da una sequenza di chiamate di `readline()`, ogni chiamata successiva restituirà una stringa vuota.\n",
    "\n",
    "4. `for riga in f` : Il primo ciclo for dopo l'apertura di un file legge una riga del file alla volta. Una volta terminato il ciclo, un eventuale secondo ciclo for analogo al precedente non ha alcun effetto, perchè il file è stato già acquisito, ed il cursore di `f` si trova alla fine del file. Ovviamente se chiudiamo e riapriamo il file sarà possibile una nuova scansione del file per righe (o in uno dei metodi precedenti).\n",
    "\n",
    "Si noti che è anche possibile \"mischiare\" i vari modi di leggere un file, e ad esempio  chiamare la funzione `read()` dopo una o più chiamate di `readline()`. In questo caso `read()` acquisirà il contenuto del file a partire dalla riga successiva all’ultima acquisita tramite `readline()`, e fino al termine del file.\n",
    "\n",
    "In altre parole, per ogni operazione di lettura valgono le seguenti regole generali:\n",
    "* l’acquisizione inizia dal punto in cui si era fermata l’operazione precedente\n",
    "* se l’intero contenuto del file è già stato acquisito dalle operazioni precedenti, viene restituita una stringa vuota (o lista vuota, nel caso di `f.readlines()` )"
   ]
  },
  {
   "cell_type": "markdown",
   "metadata": {},
   "source": [
    "### Apertura file in cartelle diverse\n",
    "Se il file che si vuole aprire si trova nella stessa cartella del programma che lo usa, allora basta specificarne il nome (come negli esempi precedenti), se invece si trova in un'altra cartella, bisogna specificarne il path (cioè la posizione del file all'interno del computer) sia in modalità relativa che assoluta. Vediamo degli esempi:\n",
    "1. `open(\"prova.txt\",encoding=\"UTF-8\")`: Apre in lettura il file 'prova.txt' che si trova nella stessa cartella del programma\n",
    "2. `open(\"dati/prova.txt\",encoding=\"UTF-8\")`: Apre in lettura il file 'prova.text' che si trova nella cartella 'dati' all'interno della cartella del programma. Questo si chiama **path relativo**, perché dipende dalla posizione del programma all'interno del computer.\n",
    "3. `open(\"/Users/user/Desktop/dati/prova.txt\",encoding=\"UTF-8\")`: Apre in lettura il file 'prova.text' che si trova nella cartella 'dati' sul Desktop dell'utente 'user'. Questo è un **path assoluto** perché NON dipende dalla posizione del programma. Si distinguono perchè i path assoluti iniziano con il simbolo '/' oppure con l'indicazione del nome del disco (ad esempio, 'C:')\n",
    "\n",
    "**Nota bene** Python per specificare un cammino (path) può usare sia la sbarra '/' tipica di Unix-Linux-MacOS che la sbarra '\\\\' tipica di Windows, *ma in questo caso bisogna raddoppiarla*. Ad esempio, \"/Users/user/Desktop/dati/prova.txt\" è equivalente a \"\\\\\\\\\\Users\\\\\\\\\\user\\\\\\\\\\Desktop\\\\\\\\\\dati\\\\\\\\\\prova.txt\" "
   ]
  },
  {
   "cell_type": "markdown",
   "metadata": {},
   "source": [
    "### Esempio: funzione `stampa()`\n",
    "Vediamo come esempio la funzione `stampa()`, che ammette come parametro tanti tipi diversi, e stampa gli elementi uno per volta."
   ]
  },
  {
   "cell_type": "code",
   "execution_count": null,
   "metadata": {},
   "outputs": [],
   "source": [
    "def stampa(x):\n",
    "    for elem in x:\n",
    "        print(elem)"
   ]
  },
  {
   "cell_type": "code",
   "execution_count": null,
   "metadata": {},
   "outputs": [],
   "source": [
    "s = 'abcdefg'\n",
    "stampa(s)"
   ]
  },
  {
   "cell_type": "code",
   "execution_count": null,
   "metadata": {},
   "outputs": [],
   "source": [
    "l = [1,3,5,7,'abc']\n",
    "stampa(l)"
   ]
  },
  {
   "cell_type": "code",
   "execution_count": null,
   "metadata": {},
   "outputs": [],
   "source": [
    "r = range(1,10,2)\n",
    "stampa(r)"
   ]
  },
  {
   "cell_type": "code",
   "execution_count": null,
   "metadata": {},
   "outputs": [],
   "source": [
    "f=open(\"Esempio.txt\",encoding ='UTF-8')\n",
    "stampa(f)\n",
    "f.close()"
   ]
  },
  {
   "cell_type": "markdown",
   "metadata": {},
   "source": [
    "### Esercizi su File\n",
    "Vediamo ora alcuni esercizi sui file. Per questo esempio e i successivi useremo una versione completa ( [I_Malavoglia.txt](I_Malavoglia.txt) ) e una ridotta ai primi 50 paragrafi ( [I_Malavoglia_50.txt](I_Malavoglia_50.txt) ) del romanzo di Giovanni Verga \"I Malavoglia\", scaricato da [WikiSource](https://it.wikisource.org/wiki/I_Malavoglia). \n",
    "\n",
    "Nel primo esempio vogliamo scrivere una funzione che conta il numero di volte che un particolare carattere `c` compare in un file. "
   ]
  },
  {
   "cell_type": "code",
   "execution_count": null,
   "metadata": {},
   "outputs": [],
   "source": [
    "def contaCarattere(file,c):\n",
    "    f=open(file,encoding=\"UTF-8\")\n",
    "    s=f.read()\n",
    "    f.close()\n",
    "    return s.count(c)"
   ]
  },
  {
   "cell_type": "code",
   "execution_count": null,
   "metadata": {},
   "outputs": [],
   "source": [
    "numeroA=contaCarattere(\"I_Malavoglia_50.txt\",'a')\n",
    "print(\"numero di 'a' =\",numeroA)"
   ]
  },
  {
   "cell_type": "code",
   "execution_count": null,
   "metadata": {},
   "outputs": [],
   "source": [
    "for c in 'aeiou':\n",
    "    print(c,contaCarattere(\"I_Malavoglia_50.txt\",c))  "
   ]
  },
  {
   "cell_type": "code",
   "execution_count": null,
   "metadata": {},
   "outputs": [],
   "source": [
    "#Nota: per conoscere il numero totale di caratteri nel file, una volta aperto il \n",
    "#file ed effettuata, ad esempio, una read, basta calcolare la lunghezza della stringa letta\n",
    " \n",
    "f=open(\"I_Malavoglia_50.txt\",encoding=\"UTF-8\")\n",
    "s=f.read()\n",
    "print(\"numero di caratteri del file:\",len(s))  "
   ]
  },
  {
   "cell_type": "markdown",
   "metadata": {},
   "source": [
    "Nel secondo esempio vogliamo contare il numero di volte che un particolare carattere `c` compare maiuscolo e minuscolo nel file. **Notate che la seconda funzione restituisce due risultati** (cf. uso delle tuple in Python per scrivere funzioni che restituiscono più valori)."
   ]
  },
  {
   "cell_type": "code",
   "execution_count": null,
   "metadata": {
    "scrolled": true
   },
   "outputs": [],
   "source": [
    "def contaCarattereMinMaiu(file,c):\n",
    "    f=open(file,encoding=\"UTF-8\")\n",
    "    s=f.read()\n",
    "    minuscolo = c.lower()\n",
    "    maiuscolo = c.upper()\n",
    "    f.close()\n",
    "    return s.count(minuscolo),s.count(maiuscolo)"
   ]
  },
  {
   "cell_type": "code",
   "execution_count": null,
   "metadata": {},
   "outputs": [],
   "source": [
    "lettere = 'abcdefghijklmnopqrstuvwxyzàèéìòù'\n",
    "for car in lettere:\n",
    "    m,M=contaCarattereMinMaiu(\"I_Malavoglia.txt\",car)\n",
    "    print(\"numero di\",car,\"minuscolo =\",m,\"maiuscolo =\",M)"
   ]
  },
  {
   "cell_type": "markdown",
   "metadata": {},
   "source": [
    "### Funzione `split()` un (quasi) perfetto separatore di parole\n",
    "Se il file contiene un lungo testo in linguaggio naturale e vogliamo dividerlo in parole, la funzione adatta in Python è `split()`. La funzione `split()` si applica alle stringhe, non ha parametri obbligatori, e spezza la stringa in una lista di sottostringhe in concomitanza con i caratteri spazio (`' '`), tabulazione (`'\\t'`) e riga nuova (`'\\n'`). Notate che **non genera stringhe vuote**, quindi se ci sono due caratteri di seguito su cui splittare (ad esempio due spazi o due \\n) li tratta come fossero uno solo, e se ci sono caratteri su cui splittare all'inizio od alla fine della stringa li ignora. Vediamo un esempio"
   ]
  },
  {
   "cell_type": "code",
   "execution_count": null,
   "metadata": {},
   "outputs": [],
   "source": [
    "print(' pallone    palla\\tpippo\\npelle\\n\\n\\ncasa'.split())\n",
    "print(''.split())"
   ]
  },
  {
   "cell_type": "markdown",
   "metadata": {},
   "source": [
    "### Esercizio: Crea la lista delle parole (senza ripetizioni) contenute in un file\n",
    "Scrivere una funzione che prende in input il nome di un file e restituisce la lista ordinata e senza ripetizioni di tutte le parole contenute nel file."
   ]
  },
  {
   "cell_type": "code",
   "execution_count": null,
   "metadata": {},
   "outputs": [],
   "source": [
    "def creaListaParoleNoDoppioni(file):\n",
    "    f=open(file,encoding=\"UTF-8\")\n",
    "    s=f.read()\n",
    "    f.close()\n",
    "    sv=s.split()\n",
    "    ris=[]\n",
    "    for elem in sv:\n",
    "        if elem not in ris:\n",
    "            ris.append(elem)\n",
    "    ris.sort()      \n",
    "    return ris\n",
    "\n",
    "lp=creaListaParoleNoDoppioni(\"I_Malavoglia_50.txt\")\n",
    "print(\"Ci sono\",len(lp),\"parole distinte\")\n",
    "print(lp)"
   ]
  },
  {
   "cell_type": "markdown",
   "metadata": {},
   "source": [
    "### Esercizio: Crea la lista delle parole (*pulite* e senza ripetizioni) contenute in un file\n",
    "Come abbiamo visto nell'esempio precedente, nel dividere in parole sono rimasti alcuni caratteri speciali (punteggiatura, apostrofi, parentesi e simili). Vogliamo toglierli dal file prima di estrarre le parole. Per fare questo, definiamo un elenco di caratteri che vogliamo considerare *corretti* e sostituiamo tutti i caratteri *non corretti* prima di spezzare in parole. *Notate che il numero di parole diverse scenderà rispetto a prima*"
   ]
  },
  {
   "cell_type": "code",
   "execution_count": null,
   "metadata": {
    "scrolled": true
   },
   "outputs": [],
   "source": [
    "# Funzione che cerca tutti i caratteri in s che NON appartengono all'insieme \n",
    "# (rappresentato come una stringa) dei caratteri 'utili'. Serve per capire \n",
    "# quali caratteri dobbiamo togliere da s per 'pulire' la stringa prima di \n",
    "# fare lo split\n",
    "\n",
    "def inutili(s,utili):\n",
    "    ris = ''\n",
    "    for c in s:\n",
    "        c = c.lower()\n",
    "        if c not in utili and c not in ris:\n",
    "            ris = ris + c\n",
    "    return ris\n",
    "\n",
    "def creaListaParoleNoDoppioni2(file):\n",
    "    f=open(file,encoding=\"UTF-8\")\n",
    "    s=f.read()\n",
    "    f.close()\n",
    "    \n",
    "    utili = 'abcdefghijklmnopqrstuvwxyzàèéìòù \\n0123456789' # insieme dei caratteri che vogliamo CONSERVARE\n",
    "    \n",
    "    togli = inutili(s,utili) # insieme dei caratteri da sostituire per 'pulire' la stringa s\n",
    "    \n",
    "    print('I caratteri che verranno eliminati sono:',togli)\n",
    "    for c in togli:\n",
    "        s = s.replace(c,' ') # rimpiazzo tutti i caratteri in togli con spazio ' '\n",
    "    sv=s.split()\n",
    "    ris=[]\n",
    "    for elem in sv:\n",
    "        #elem=elem.lower() # per confrontare due parole, le scriviamo tutte in lettere minuscole\n",
    "        if elem not in ris:\n",
    "            ris.append(elem)\n",
    "    ris.sort()      \n",
    "    return ris\n",
    "\n",
    "\n",
    "lp=creaListaParoleNoDoppioni2(\"I_Malavoglia_50.txt\")\n",
    "print(\"Ci sono\",len(lp),\"parole distinte\")\n",
    "print(lp)\n"
   ]
  },
  {
   "cell_type": "markdown",
   "metadata": {},
   "source": [
    "### Lettura da un file di N caratteri alla volta\n",
    "I file possono anche essere letti per gruppi di caratteri, non solo riga per riga. Nell'esempio seguente leggiamo il file a gruppi di N caratteri (N=5 nel nostro caso)"
   ]
  },
  {
   "cell_type": "code",
   "execution_count": null,
   "metadata": {},
   "outputs": [],
   "source": [
    "# legge un file N caratteri alla volta e lo stampa\n",
    "def stampaCaratteri(file_in,N):\n",
    "    fin=open(file_in,\"r\",encoding=\"UTF-8\")\n",
    "    c=fin.read(N)\n",
    "    while c!=\"\":\n",
    "        print(c)\n",
    "        c=fin.read(N)\n",
    "\n",
    "stampaCaratteri(\"I_Malavoglia_50.txt\",5)\n"
   ]
  },
  {
   "cell_type": "markdown",
   "metadata": {},
   "source": [
    "### Scrittura su file \n",
    "Finora abbiamo visto come si possa leggere da un file di testo, ora vediamo come sia possibile scrivere in un file di testo. Innanzitutto, il file va aperto *in scrittura* e per specificarlo bisogna mettere un secondo parametro (opzionale, con valore di default 'r', cioè lettura) alla funzione `open()`. Ad esempio, l'istruzione:\n",
    "\n",
    "`fout=open(\"prova.txt\",'w',encoding=\"UTF-8\")` \n",
    "\n",
    "apre in *scrittura* ('w' = write) il file 'prova.txt', su cui si scriverà usando l'encoding 'UTF-8'.\n",
    "\n",
    "Ci sono alcune precisazioni da fare sugli effetti dell'apertura di un file in scrittura:\n",
    "1. Se il file **non esiste** l'apertura in scrittura comporta la sua creazione (ovviamente vuoto all'inizio). Al contrario, l'apertura in lettura di un file non esistente provoca un errore.\n",
    "2. Se il file esiste, l'apertura in modalità scrittura comporta la **cancellazione** di tutto il contenuto del file che diventa vuoto.\n",
    "3. Quando un file viene aperto in scrittura, il file su disco diventa non accessibile e non leggibile fino a che non viene chiuso.\n",
    "4. La scrittura **su disco** di un file in scrittura avviene soltanto al momento della chiusura (esecuzione dell'istruzione `close()`). Prima in realtà il file viene scritto solo in memoria. Per questo motivo **è indispensabile ricordarsi di chiudere un file in scrittura**, altrimenti il file rimane in uno stato illeggibile.\n",
    "\n",
    "Se invece di scrivere un nuovo file si vuole agggiungere del testo a un file già esistente, la modalità corretta di apertura del file è *append* ('a'). In questa modalità, se il file non esiste viene creato, e se esiste viene aperto e ci si posiziona alla fine del file per continuare a scrivere.\n",
    "\n",
    "Ci sono 2 metodi fondamentali per scrivere una stringa 's' in un file 'fout' aperto in scrittura e questi sono:\n",
    "1. `fout.write(s)`\n",
    "2. `print(s,end='',file=fout)`\n",
    "\n",
    "L'effetto delle due istruzioni è lo stesso, ma notate che nel caso usiate una `print()` dovete definire la `end` come stringa vuota, altrimenti la `print()` oltre alla stringa `s` scrive anche il carattere `\\n`.\n",
    "\n",
    "Vediamo alcuni esempi con copia (lettura e scrittura) di file:"
   ]
  },
  {
   "cell_type": "code",
   "execution_count": null,
   "metadata": {},
   "outputs": [],
   "source": [
    "#lettura scrittura di un file per elementi (righe) in modalità write\n",
    "fin=open(\"Esempio.txt\",\"r\",encoding=\"UTF-8\")\n",
    "fout=open(\"Copia_Esempio.txt\",\"w\",encoding=\"UTF-8\")\n",
    "\n",
    "#lettura e scrittura in un solo colpo\n",
    "s = fin.read()\n",
    "fout.write(s)\n",
    "fin.close()\n",
    "\n",
    "#lettura riga per riga\n",
    "fin=open(\"Esempio.txt\",\"r\",encoding=\"UTF-8\")\n",
    "print(file=fout) #aggiunge una riga\n",
    "for riga in fin:\n",
    "    print(riga,end=\"\",file=fout) # con l'istruzione print\n",
    "    #fout.write(riga) # con la write (otteniamo un effetto analogo all'istruzione precedente)\n",
    "fin.close()\n",
    "fout.close()"
   ]
  },
  {
   "cell_type": "code",
   "execution_count": null,
   "metadata": {},
   "outputs": [],
   "source": [
    "#lettura scrittura di un file per elementi (righe) in modalità append\n",
    "fin=open(\"Esempio.txt\",\"r\",encoding=\"UTF-8\")\n",
    "fout=open(\"Copia_Esempio.txt\",\"a\",encoding=\"UTF-8\")\n",
    "\n",
    "print(file=fout) #aggiunge una riga (vuota)\n",
    "\n",
    "#lettura e scrittura in un solo colpo\n",
    "#s = fin.read()\n",
    "#fout.write(s)\n",
    "\n",
    "for riga in fin:\n",
    "    print(riga,end=\"\",file=fout)\n",
    "    #fout.write(riga) # con la write\n",
    "fin.close()\n",
    "fout.close()"
   ]
  },
  {
   "cell_type": "markdown",
   "metadata": {},
   "source": [
    "### L'istruzione with\n",
    "Per semplificare la gestione dei file e ridurre la possibilità di errori dovuti alla non corretta gestione dell'apertura e della chiusura, Python mette a disposizione l'istruzione `with`. La sintassi del `with` è la seguente:\n",
    "\n",
    "`with open('prova.txt', 'w') as file: \n",
    "    file.write('Buongiorno !')`\n",
    "\n",
    "L'istruzione `with` si occupa di aprire e **chiudere** il file automaticamente, quindi al termine dell'esecuzione dell'istruzione NON è necessario chiudere il file. Noi non useremo frequentemente questa istruzione, ma è utile conoscerla. Vediamo un esempio: "
   ]
  },
  {
   "cell_type": "code",
   "execution_count": null,
   "metadata": {},
   "outputs": [],
   "source": [
    "#lettura scrittura di un file per elementi (righe) in modalità write\n",
    "fin=open(\"Esempio.txt\",\"r\",encoding=\"UTF-8\")\n",
    "\n",
    "with open(\"Copia_Esempio.txt\",\"w\",encoding=\"UTF-8\") as fout:\n",
    "    #lettura e scrittura in un solo colpo\n",
    "    s = fin.read()\n",
    "    fout.write(s)\n",
    "fin.close()\n",
    "#notate che non è necessario effettuare la fout.close(), se ne occupa la with"
   ]
  },
  {
   "cell_type": "markdown",
   "metadata": {},
   "source": [
    "### Copia con filtro\n",
    "Vediamo ora alcuni esempi di come si possano estrarre dati da un file e riscrivere, solo quelli interessanti rispetto ad un certo criterio, in un altro file. Prima di procedere con questi esempi, ricordiamo che una funzione spesso molto utile per eliminare caratteri non necessari è il metodo `strip()` delle stringhe (cf. notebooke sulle stringhe). Il metodo `strip()` applicato ad una stringa 's' restituisce una nuova stringa ottenuta da 's' togliendo spazi bianchi (' '), tabulazioni ('\\t') e riga nuova ('\\n') all'inizio e alla fine della stringa. Notate però che eventuali spazi bianchi, tabulazioni o ritorni a capo nel mezzo della stringa **non vengono eliminati**."
   ]
  },
  {
   "cell_type": "markdown",
   "metadata": {},
   "source": [
    "#### Verifiche sulle righe\n",
    "In molte applicazioni si procede in questo modo: si apre un file di testo, lo si legge una riga per volta, si verifica se la riga appena letta debba essere considerata o meno. Per verificare se una riga contiene informazioni utili possiamo, ad esempio, usare un controllo tipo `len(riga.strip())>0` che verifica se ci sono caratteri rimasti in una riga *dopo* aver aplicato il metodo `strip()`. "
   ]
  },
  {
   "cell_type": "code",
   "execution_count": null,
   "metadata": {},
   "outputs": [],
   "source": [
    "#lettura scrittura parziale di un file per elementi (righe)\n",
    "fin=open(\"Esempio.txt\",\"r\",encoding=\"UTF-8\")\n",
    "fout=open(\"Copia_Esempio_righe_piene.txt\",\"w\",encoding=\"UTF-8\")\n",
    "\n",
    "for riga in fin:\n",
    "   #copio solo righe con dati\n",
    "   if len(riga.strip())>0:\n",
    "        print(riga,end=\"\",file=fout)\n",
    "fin.close()\n",
    "fout.close()"
   ]
  },
  {
   "cell_type": "code",
   "execution_count": null,
   "metadata": {},
   "outputs": [],
   "source": [
    "#lettura e scrittura parziale di un file per elementi (righe)\n",
    "\n",
    "def filtra(file_in,file_out,parola):\n",
    "    fin=open(file_in,  \"r\",encoding=\"UTF-8\")\n",
    "    fout=open(file_out,\"w\",encoding=\"UTF-8\")\n",
    "\n",
    "    for riga in fin:\n",
    "      #copio solo righe che contengono la parola\n",
    "      if parola in riga:\n",
    "        print(riga,file=fout)\n",
    "    fin.close()\n",
    "    fout.close()\n",
    "\n",
    "filtra (\"I_Malavoglia.txt\",\"frasi.txt\",\"violino\")"
   ]
  },
  {
   "cell_type": "markdown",
   "metadata": {},
   "source": [
    "#### Estrazione parole\n",
    "Vediamo ora come possiamo estrarre meglio le parole da un file di testo, eliminando i caratteri che non vogliamo che rimangano nelle parole. In questo caso, elenchiamo esplicitamente i caratteri che vogliamo togliere e, prima di fare lo split, li sostituiamo (replace) con la stringa vuota.\n",
    "\n",
    "L'obiettivo del seguente codice è, dato un file di testo f, scrivere in un altro file di testo le singole parole di f, una per riga, insieme al numero delle sue occorrenze in f."
   ]
  },
  {
   "cell_type": "code",
   "execution_count": null,
   "metadata": {},
   "outputs": [],
   "source": [
    "f=open(\"I_Malavoglia_50.txt\",encoding=\"utf-8\")\n",
    "s=f.read()\n",
    "\n",
    "f.close() \n",
    "\n",
    "for elem in '.,;:!?<>\"-«»()\\'': #rimuove tutti i simboli non voluti da s\n",
    "    print('rimuovo ',elem)\n",
    "    s=s.replace(elem,\" \")\n",
    "\n",
    "l=s.split()\n",
    "\n",
    "parole=[]\n",
    "\n",
    "for elem in l:\n",
    "    if elem not in parole:\n",
    "        parole.append(elem)\n",
    "\n",
    "parole.sort()      \n",
    "\n",
    "fout=open('parole.txt','w',encoding='utf-8')\n",
    "\n",
    "for elem in parole:\n",
    "    numero = l.count(elem)\n",
    "    #numero = s.count(elem) Così contiamo anche quando una stringa è sottostringa di un'altra\n",
    "    #numero = parole.count(elem) in questo caso ogni parola si conta una volta sola\n",
    "    print(elem,numero,file=fout)\n",
    "fout.close()"
   ]
  },
  {
   "cell_type": "markdown",
   "metadata": {},
   "source": [
    "#### Esempio: aggiungere parole ad un file "
   ]
  },
  {
   "cell_type": "code",
   "execution_count": null,
   "metadata": {},
   "outputs": [],
   "source": [
    "def aggiungiParoleFile(file_out, s):\n",
    "    fout=open(file_out,\"a\",encoding=\"UTF-8\")\n",
    "    parole=s.split() \n",
    "    for parola in parole:\n",
    "         print(parola,file=fout) \n",
    "    fout.close()\n",
    "\n",
    "aggiungiParoleFile(\"parole2.txt\", \"nel mezzo\")\n",
    "aggiungiParoleFile(\"parole2.txt\", \"pippo pluto \")"
   ]
  },
  {
   "cell_type": "markdown",
   "metadata": {},
   "source": [
    "### Formato dei file CSV\n",
    "I file di testo non contengono soltanto del testo in linguaggio naturale (o di programmazione), ma possono anche contenere dati in formato strutturato. Il formato più semplice per memorizzare dati in un file di testo è il formato CSV. Il nome CSV sta per Comma Separated Values, cioè valori separati da virgola. In realtà, ora si usa per denotare file di dati separati da un qualunque separatore. La struttura di un dato csv è di regola la seguente:\n",
    "```\n",
    "riga di intestazione (opzionale) con i nomi delle colonne separate dal separatore e terminata da '\\n'\n",
    "riga 1 contenente il primo gruppo di dati, separati dal separatore e terminati da '\\n'\n",
    ".\n",
    ".\n",
    ".\n",
    "riga n contenente l'ultimo gruppo di dati, separati dal separatore (e terminati da '\\n')\n",
    "\n",
    "```\n",
    "Un esempio di file csv è il file [Partite.csv](Partite.csv) che contiene i risultati di tutte le partite svolte tra due giocatori con i punti vinti da ognuno. Qui vediamo una parte del file:\n",
    "```\n",
    "Paolo,Mario\n",
    "5,7\n",
    "9,7\n",
    "5,11\n",
    "12,10\n",
    "5,9\n",
    "4,2\n",
    "9,6\n",
    "6,4\n",
    "5,10\n",
    "8,5\n",
    "2,11\n",
    "```\n",
    "\n",
    "La lettura di un file csv avviene di regola con un ciclo for che legge dal file una riga per volta. Poiché ogni riga contiene vari dati, il modo più semplice di separare i vari dati è attraverso il metodo `split()` in cui si specifica come parametro il separatore usato nel file."
   ]
  },
  {
   "cell_type": "code",
   "execution_count": null,
   "metadata": {
    "scrolled": true
   },
   "outputs": [],
   "source": [
    "def creaListaDati(file):\n",
    "    f=open(file,encoding=\"UTF-8\")\n",
    "    sv=[]\n",
    "    for elem in f:\n",
    "        elem=elem.strip().split(\",\")\n",
    "        sv.append(elem)\n",
    "    return sv\n",
    "\n",
    "l=creaListaDati(\"Partite.csv\")\n",
    "print(l)\n",
    "g1=0\n",
    "g2=0\n",
    "for i in range(1,len(l)):\n",
    "    if int(l[i][0])>int(l[i][1]):\n",
    "        g1+=1\n",
    "    if int(l[i][1])>int(l[i][0]):\n",
    "        g2+=1\n",
    "\n",
    "print(\"vittorie\",l[0][0],\":\",g1)\n",
    "print(\"vittorie\",l[0][1],\":\",g2)\n",
    "\n",
    "if g1>g2:\n",
    "    print(l[0][0], \"è il vincitore\")\n",
    "elif g2>g1:\n",
    "    print(l[0][1], \"è il vincitore\")\n",
    "else:\n",
    "    print(\"pareggio\")"
   ]
  },
  {
   "cell_type": "markdown",
   "metadata": {},
   "source": [
    "### Approfondimento sul metodo `split`\n",
    "Sottolineiamo il diverso comportamento della funzione `split()` quando è usata senza argomenti e quando invece è usata con un argomento (nel caso specifico `split(',')`. In entrambi i casi la funzione produce una lista, ma mentre `\"\".split()` (split senza argomenti applicata a una stringa vuota) restituisce `[]` (lista vuota), `\"\".split(',')` (split con un argomento applicata ad una stringa vuota) restituisce `[\"\"]`. Questo perchè la `split()` applica due algoritmi diversi nei due casi. Nel primo caso la funzione estrae dalla stringa le sue parole (sequenze di caratteri delimitate da (sequenze di) simboli di spaziatura o dall'inizio/fine della stringa). Nel secondo caso la funzione \"spezza\" la stringa in sottostringhe ogni volta che incontra la sequenza di split (nel nostro caso la virgola). Dato che la stringa vuota non ha parole da estrarre, `\"\".split()` produce una lista vuota. Invece, **`\"\".split(',')`** cerca di \"spezzare\" la stringa nei punti in cui ci sono delle virgole, e, dato che non ce ne sono, **restituisce una lista con una stringa uguale alla stringa su cui è invocata: [\"\"]** (in questo caso una stringa vuota). Per meglio comprendere queste differenze, eseguite il seguente codice. "
   ]
  },
  {
   "cell_type": "code",
   "execution_count": null,
   "metadata": {},
   "outputs": [],
   "source": [
    "print('1  2'.split()) #spazi contigui sono considerati come un unico spazio\n",
    "print('1,,2'.split(','))\n",
    "\n",
    "print(\",\".split(','))\n",
    "print(\" \".split())\n",
    "\n",
    "print(\"\".split(','))\n",
    "print(\"\".split())\n",
    "\n",
    "print(\"ciao mamma\".split(','))"
   ]
  },
  {
   "cell_type": "markdown",
   "metadata": {},
   "source": [
    "### Esercizio: Analizzare il file Partite3.csv e stampare le partite vinte, perse e pareggiate per ogni giocatore\n",
    "Il file [Partite3.csv](Partite3.csv) contiene le informazioni su un insieme di partite giocate tra un gruppo di 3 persone. Per ogni giocatore, dobbiamo calcolare il numero di partite pareggiate (in cui tutti i giocatori hanno ottenuto lo stesso punteggio), vinte (partite non pareggiate in cui il giocatore ha ottenuto il punteggio massimo),  e perse (partite non pareggiate in cui il giocatore ha ottenuto il punteggio minimo)."
   ]
  },
  {
   "cell_type": "code",
   "execution_count": null,
   "metadata": {},
   "outputs": [],
   "source": [
    "def statistichePartite(file_in,giocatore):   \n",
    "    fin=open(file_in,\"r\",encoding=\"UTF-8\")\n",
    "\n",
    "    riga=fin.readline()               #consuma la prima riga (nomi) \n",
    "    nomi = riga.strip().split(\",\")    # e la mette in una lista\n",
    "    nome = nomi[giocatore]            #legge il nome del giocatore dal suo indice\n",
    "    riga=fin.readline()               #legge la seconda riga\n",
    "    dati = riga.strip().split(\",\")    #la mette in una lista (dati)\n",
    "    partite=0\n",
    "    vinte=0\n",
    "    perse=0\n",
    "    pareggiate=0\n",
    "    while len(riga) > 0:               #c'è una riga da analizzare che non contiene solo la stringa vuota\n",
    "        if len(dati)==3:               #la riga è ben formata (contiene 3 dati)\n",
    "            partite+=1\n",
    "            for i in range(len(dati)):\n",
    "                dati[i]=int(dati[i])           #dati ora è una lista di interi\n",
    "            #dati=[int(elem) for elem in dati] #alternativa con list comprehension\n",
    "         \n",
    "            if min(dati)== max(dati):       #ha pareggiato\n",
    "                pareggiate+=1\n",
    "            elif dati[giocatore]==min(dati): #ha perso\n",
    "                perse+=1\n",
    "            elif dati[giocatore]==max(dati): #ha vinto\n",
    "                vinte+=1\n",
    "        riga = fin.readline()\n",
    "        dati = riga.strip().split(\",\")\n",
    "      \n",
    "    fin.close()\n",
    "    return nome,partite,vinte,perse,pareggiate\n",
    "\n",
    "print(\"Nome NumPartite Vinte Perse Pareggiate\")\n",
    "print(statistichePartite(\"Partite3.csv\",0))\n",
    "print(statistichePartite(\"Partite3.csv\",1))\n",
    "print(statistichePartite(\"Partite3.csv\",2))\n"
   ]
  },
  {
   "cell_type": "markdown",
   "metadata": {},
   "source": [
    "#### Versione parametrica con i nomi\n",
    "In questa versione vogliamo calcolare le statitstiche per tutti i giocatori, non uno specifico "
   ]
  },
  {
   "cell_type": "code",
   "execution_count": null,
   "metadata": {},
   "outputs": [],
   "source": [
    "def statistichePartite(file_in):   \n",
    "    fin=open(file_in,\"r\",encoding=\"UTF-8\")\n",
    "    riga=fin.readline()             #legge la prima riga \n",
    "    nomi=riga.strip().split(\",\")    #la mette in una lista (nomi)\n",
    "    fin.close()\n",
    "    partite=0\n",
    "    giocatori=len(nomi)\n",
    "    risultati=[[] for i in range(giocatori)] \n",
    "    for giocatore in range(giocatori):\n",
    "        nome=nomi[giocatore]\n",
    "        vinte=0\n",
    "        perse=0\n",
    "        pareggiate=0\n",
    "        fin=open(file_in,\"r\",encoding=\"UTF-8\") #per ogni giocatore, riapre il file\n",
    "        fin.readline()                         #consuma la prima riga\n",
    "        riga=fin.readline()                    #legge la seconda riga\n",
    "        dati=riga.strip().split(\",\")           #mette i dati in una lista\n",
    "        while len(riga) > 0:                   #la riga non è vuota\n",
    "            if len(dati)==giocatori:           #ci sono dati corretti da analizzare\n",
    "                partite+=1\n",
    "                for i in range(len(dati)):\n",
    "                    dati[i]=int(dati[i])       #dati ora è una lista di interi\n",
    "            \n",
    "                if min(dati)== max(dati):      #ha pareggiato\n",
    "                    pareggiate+=1\n",
    "                elif dati[giocatore]==min(dati): #ha perso\n",
    "                    perse+=1\n",
    "                elif dati[giocatore]==max(dati): #ha vinto\n",
    "                    vinte+=1\n",
    "            riga=fin.readline()\n",
    "            dati = riga.strip().split(\",\")\n",
    "        risultati[giocatore]=[nome,vinte,perse,pareggiate]       \n",
    "        fin.close()\n",
    "    # quanto segue serve per ottenere in uscita anche il massimo numero di vittorie\n",
    "    vittorie=[]\n",
    "    #sconfitte=[]\n",
    "    #pareggi=[]\n",
    "\n",
    "    for elem in risultati:\n",
    "        vittorie.append(elem[1])\n",
    "        #sconfitte.append(elem[2])\n",
    "        #pareggi.append(elem[3])\n",
    "    vmax=max(vittorie)\n",
    "      \n",
    "    return risultati,vmax\n",
    "\n",
    "ris=statistichePartite(\"Partite3.csv\")\n",
    "print(ris)"
   ]
  },
  {
   "cell_type": "markdown",
   "metadata": {},
   "source": [
    "### Esercizio: Calcolare paghe ricevute da un dipendente\n",
    "In questo esercizio vogliamo leggere un file csv [Paghe.csv](Paghe.csv) che contiene dati in questo formato:\n",
    "```\n",
    "Paolo,Anna,Giulia\n",
    "10,20,15\n",
    "5,9,0\n",
    "7,11,13\n",
    "```\n",
    "Con le righe che contengono la paga ricevuta ad ogni mese dal dipendente il cui nome è nella prima riga. Lo scopo è calcolare la paga totale ricevuta da un dipendente"
   ]
  },
  {
   "cell_type": "code",
   "execution_count": null,
   "metadata": {},
   "outputs": [],
   "source": [
    "def sommaPaghe(file,nome):\n",
    "    f = open(file,'r')\n",
    "    riga = f.readline()\n",
    "    nomi = riga.strip().split(',')\n",
    "    numero = len(nomi)            #calcola il numero di nomi, usato poi come controllo\n",
    "    if nome in nomi:              #se il nome compare nella lista nomi\n",
    "        pos = nomi.index(nome)    #calcola la sua posizione nella lista\n",
    "    totale = 0\n",
    "    for riga in f:\n",
    "        stipendio = riga.strip().split(',')\n",
    "        if len(stipendio) == numero: #ignora righe di lunghezza sbagliata\n",
    "            totale = totale + int(stipendio[pos])\n",
    "    return totale\n",
    "\n",
    "print(sommaPaghe('Paghe.csv','Anna'))"
   ]
  },
  {
   "cell_type": "markdown",
   "metadata": {},
   "source": [
    "### Esercizio: sempre più alto\n",
    "Vogliamo scrivere una funzione che prende in ingresso il nome di un file CSV con le indicazioni delle altezze di un gruppo di persone misurate in vari momenti di tempo (si veda il file [altezze.csv](altezze.csv)). L'obiettivo è di calcolare se esiste un'**unica** persona che è sempre la più alta in tutte le misurazioni. La funzione deve restituire il nome della persona più alta, quando questa esiste, oppure la stringa \"non c'è uno sempre più alto\". Se il file in input è vuoto, la funzione deve restituire la stringa \"file vuoto\"."
   ]
  },
  {
   "cell_type": "code",
   "execution_count": null,
   "metadata": {},
   "outputs": [],
   "source": [
    "def semprePiuAlto(file):\n",
    "    fin=open(file,\"r\",encoding=\"UTF-8\")\n",
    "    semprealto=\"\"\n",
    "    nomi=fin.readline().strip() #prima di fare un split(',') controllo se il\n",
    "    if len(nomi)==0:            #file è vuoto. Altrimenti lo split(',') restituisce\n",
    "         return(\"file vuoto\")   #una lista contenente una stringa vuota\n",
    "    nomi=nomi.split(\",\")\n",
    "    print(nomi)\n",
    "    riga=fin.readline().strip().split(\",\") #lista di stringhe\n",
    "    while len(riga)==len(nomi):\n",
    "        print(riga)\n",
    "        for i in range(len(riga)):\n",
    "            riga[i]=float(riga[i])   #lista di reali\n",
    "        for i in range(len(riga)):\n",
    "            if riga[i]==max(riga):   #più alto riga (ma forse a pari merito)\n",
    "                if semprealto==\"\":   #primo max che si incontra\n",
    "                    semprealto=nomi[i]\n",
    "                elif semprealto!=nomi[i]: #c'era già un altro max\n",
    "                    return \"non c'è uno sempre più alto\"                \n",
    "        riga=fin.readline().strip().split(\",\")\n",
    "    fin.close()\n",
    "    return semprealto \n",
    "\n",
    "print(semprePiuAlto(\"altezze.csv\"))"
   ]
  },
  {
   "cell_type": "markdown",
   "metadata": {},
   "source": [
    "### Esercizi\n",
    "Completate questi esercizi prima di cominciare il prossimo argomento"
   ]
  },
  {
   "cell_type": "markdown",
   "metadata": {},
   "source": [
    "### Esercizio 1: \n",
    "Scrivere una funzione Python che riceve il nome di un file di testo ed una lista di stringhe e restituisce la stringa della lista che compare più volte nel file. Se ci sono più stringhe che compaiono lo stesso numero di volte, restituite la prima in ordine alfabetico. NON DOVETE distinguere tra maiuscolo e minuscolo, che vanno considerati equivalenti"
   ]
  },
  {
   "cell_type": "code",
   "execution_count": null,
   "metadata": {
    "scrolled": true
   },
   "outputs": [],
   "source": [
    "from tester import tester_fun\n",
    "\n",
    "def stringaMaxFreq(file,l):\n",
    "    \"\"\"MODIFICARE IL CONTENUTO DI QUESTA FUNZIONE PER SVOLGERE L'ESERCIZIO\"\"\"\n",
    "\n",
    "tester_fun(stringaMaxFreq,['I_Malavoglia_50.txt',['casa','roba', 'Trezza']],'casa')\n",
    "tester_fun(stringaMaxFreq,['I_Malavoglia_50.txt',['ciao','saluti','io']],'io')\n",
    "tester_fun(stringaMaxFreq,['I_Malavoglia.txt',['mario','maria','marco']],'maria')\n",
    "tester_fun(stringaMaxFreq,['I_Malavoglia.txt',['a','b','c']],'a')\n",
    "tester_fun(stringaMaxFreq,['I_Malavoglia.txt',['abitazione','costa']],'costa')"
   ]
  },
  {
   "cell_type": "markdown",
   "metadata": {},
   "source": [
    "### Esercizio 2:\n",
    "Scrivere una funzione Python che riceve il nome di un file di testo **file_in** in input, il nome di un file di testo **file_out** in output ed una lista di stringhe **l** e copia in **file_out** tutte le righe di **file_in** che contengono almeno 2 delle stringhe contenute in **l**. Lettere maiuscole e minuscole devono essere considerate **diverse**.\n",
    "\n",
    "Per verificare questo esercizio non è possibile usare il tester, vi forniamo comunque alcuni esempi da eseguire, dovete poi verificare voi la correttezza della soluzione confrontando i file generati (Test*n*.txt) con quelli corretti (Test*n*_sol.txt)."
   ]
  },
  {
   "cell_type": "code",
   "execution_count": null,
   "metadata": {},
   "outputs": [],
   "source": [
    "def copiaRigheFiltro(file_in,file_out,l):\n",
    "    \"\"\"MODIFICARE IL CONTENUTO DI QUESTA FUNZIONE PER SVOLGERE L'ESERCIZIO\"\"\"\n",
    "\n",
    "copiaRigheFiltro('I_Malavoglia_50.txt','Test1.txt',['casa','roba','Aci','zio'])\n",
    "copiaRigheFiltro('I_Malavoglia_50.txt','Test2.txt',['bisogni','roba','probabilmente'])\n",
    "copiaRigheFiltro('I_Malavoglia_50.txt','Test3.txt',['casolare','disegno','coteste'])\n",
    "copiaRigheFiltro('I_Malavoglia.txt','Test4.txt',['Roma','roba','Aci','zio'])\n",
    "copiaRigheFiltro('I_Malavoglia.txt','Test5.txt',['educazione','Castello'])"
   ]
  },
  {
   "cell_type": "markdown",
   "metadata": {},
   "source": [
    "### Esercizio 3:\n",
    "Scrivere una funzione che prende in input il nome **f** di un file (ad esempio, \"I_Malavoglia_50.txt\"), un numero intero **n** ed un carattere **c**, e restituisce la lista dei numeri di riga del file **f** in cui il carattere **c** compare almeno **n** volte. Assumete che la prima riga del file sia la riga numero 1 (NON 0)."
   ]
  },
  {
   "cell_type": "code",
   "execution_count": null,
   "metadata": {},
   "outputs": [],
   "source": [
    "from tester import tester_fun\n",
    "\n",
    "def creaListaRighe(f,c,n):\n",
    "    \"\"\"MODIFICARE IL CONTENUTO DI QUESTA FUNZIONE PER SVOLGERE L'ESERCIZIO\"\"\"\n",
    "\n",
    "tester_fun(creaListaRighe,[\"I_Malavoglia_50.txt\",'a',25],[95, 97, 99, 101, 114, 116, 120, 122, 124, 128, 130, 132, 134, 136, 140, 142])\n",
    "tester_fun(creaListaRighe,[\"I_Malavoglia_50.txt\",'v',12],[97, 99, 101, 114, 120, 128, 130, 134, 140])\n",
    "tester_fun(creaListaRighe,[\"I_Malavoglia_50.txt\",'z',8],[97, 101, 114, 128])\n",
    "tester_fun(creaListaRighe,[\"I_Malavoglia.txt\",'s',60], [97, 99, 129, 269, 559, 1079, 1343, 1583, 1749, 2273, 2277, 2367, 2421, 2537, 2541, 2595, 2631, 2687, 2989, 3009, 3053, 3069, 3109, 3127])\n",
    "tester_fun(creaListaRighe,[\"I_Malavoglia.txt\",'t',65],[97, 99, 129, 269, 559, 1133, 1493, 1583, 1749, 2247, 2269, 2273, 2277, 2367, 2369, 2421, 2537, 2595, 2629, 2631, 2687, 2987, 2989, 3069])"
   ]
  },
  {
   "cell_type": "markdown",
   "metadata": {},
   "source": [
    "### Esercizio 4:\n",
    "Scrivere una funzione che prende in input il nome **f** di un file (composto solo da caratteri alfabetici, spazi bianchi e caratteri '\\n') ed un carattere **c** e restituisce la lista ordinata alfabeticamente delle parole (ottenute usando il comando *split()*) che iniziano e finiscono per il carattere **c**."
   ]
  },
  {
   "cell_type": "code",
   "execution_count": null,
   "metadata": {},
   "outputs": [],
   "source": [
    "from tester import tester_fun\n",
    "\n",
    "def creaListaParole(f,c):\n",
    "    \"\"\"MODIFICARE IL CONTENUTO DI QUESTA FUNZIONE PER SVOLGERE L'ESERCIZIO\"\"\"\n",
    "\n",
    "tester_fun(creaListaParole,[\"testo.txt\",'a'],['a', 'abbia', 'acqua', 'alla', 'allora', 'altra', 'amara', 'ammarrata', 'ancora', 'andava', 'anzianita', 'avea', 'aveva'])\n",
    "tester_fun(creaListaParole,[\"testo.txt\",'e'],['e', 'ebbe', 'essere'])\n",
    "tester_fun(creaListaParole,[\"testo.txt\",'i'],['i'])\n",
    "tester_fun(creaListaParole,[\"testo.txt\",'o'],['o', 'opposto', 'orto'])\n",
    "tester_fun(creaListaParole,[\"testo.txt\",'u'],[])\n"
   ]
  }
 ],
 "metadata": {
  "kernelspec": {
   "display_name": "Python 3 (ipykernel)",
   "language": "python",
   "name": "python3"
  },
  "language_info": {
   "codemirror_mode": {
    "name": "ipython",
    "version": 3
   },
   "file_extension": ".py",
   "mimetype": "text/x-python",
   "name": "python",
   "nbconvert_exporter": "python",
   "pygments_lexer": "ipython3",
   "version": "3.8.17"
  }
 },
 "nbformat": 4,
 "nbformat_minor": 4
}
