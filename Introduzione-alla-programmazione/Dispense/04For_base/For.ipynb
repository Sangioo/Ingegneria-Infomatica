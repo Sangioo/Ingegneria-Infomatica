{
 "cells": [
  {
   "cell_type": "markdown",
   "metadata": {
    "slideshow": {
     "slide_type": "slide"
    }
   },
   "source": [
    "#### Autori: Domenico Lembo, Antonella Poggi, Giuseppe Santucci and Marco Schaerf\n",
    "\n",
    "[Dipartimento di Ingegneria informatica, automatica e gestionale](https://www.diag.uniroma1.it)\n",
    "\n",
    "<img src=\"https://mirrors.creativecommons.org/presskit/buttons/88x31/png/by-nc-sa.eu.png\"\n",
    "     alt=\"License\"\n",
    "     style=\"float: left;\"\n",
    "     height=\"40\" width=\"100\" />\n",
    "This notebook is distributed with license Creative Commons *CC BY-NC-SA*"
   ]
  },
  {
   "cell_type": "markdown",
   "metadata": {
    "tags": []
   },
   "source": [
    "## Istruzione For\n",
    "Python mette a disposizione una semplice istruzione di ciclo per effettuare una ripetizione di istruzioni su una sequenza di valori, l'istruzione `for`. \n",
    "\n",
    "L'istruzione `for` ha la seguente struttura in Python, dove `i` è una variabile, detta variabile di ciclo. Il nome della variabile non è fisso, lo scegliamo noi:\n",
    "\n",
    "```python\n",
    "for i in sequenza_di_valori:\n",
    "    istruzione1\n",
    "    istruzione2\n",
    "    ..\n",
    "    istruzionen\n",
    "```\n",
    "L'esecuzione avviene nel seguente modo: La variabile `i` assume il primo valore della sequenza_di_valori e vengono eseguite tutte le istruzioni da 1 a n. Poi la variabile `i` assume il secondo valore della sequenza_di_valori e vengono eseguite tutte le istruzioni da 1 a n, e così via fino a che la `i` assume l'ultimo valore della sequenza_di_valori. A questo punto vengono eseguite un'ultima volta tutte le istruzioni da 1 a n ed il ciclo `for` termina.\n",
    "\n",
    "Dal punto di vista sintattico, si noti il rientro dopo i due punti e l'andata a capo al termine dell'istruzione `for`. In Python, un \"blocco\" di istruzioni si identifica allineando verticalmente tutte le istruzioni che lo compongono, che sono quindi precedute tutte dallo stesso numero di caratteri di tabulazione. Pertanto, per specificare l'istruzione da eseguire dopo che si è usciti dal ciclo `for`, è sufficiente eliminare un rientro, ovvero scriverla in modo tale che sia allineata verticalmente alla parola chiave `for`. "
   ]
  },
  {
   "cell_type": "markdown",
   "metadata": {},
   "source": [
    "### Primo esempio di ciclo for\n",
    "Le stringhe sono sequenze di caratteri e quindi è possibile analizzare un carattere per volta di una stringa usando un ciclo `for`"
   ]
  },
  {
   "cell_type": "code",
   "execution_count": null,
   "metadata": {},
   "outputs": [],
   "source": [
    "s = 'casetta' #stringa da scandire\n",
    "\n",
    "for c in s: #per ogni carattere (c) in s\n",
    "    print(c) #stampa il carattere e vai a riga nuova"
   ]
  },
  {
   "cell_type": "markdown",
   "metadata": {},
   "source": [
    "### Sequenze di valori specificate come liste\n",
    "Una sequenza di valori può anche essere esplicitamente indicata con la notazione `[valore1, valore2, valore3, ... valoren]`. Questa in Python si chiama lista e la vedremo in dettaglio più avanti nel corso. Ci sono anche altri modi in Python di denotare sequenze di valori. Anche questi li vedremo più avanti nel corso."
   ]
  },
  {
   "cell_type": "code",
   "execution_count": null,
   "metadata": {},
   "outputs": [],
   "source": [
    "x = [2, 3, 5 , 'casa']\n",
    "print(x)"
   ]
  },
  {
   "cell_type": "markdown",
   "metadata": {
    "tags": []
   },
   "source": [
    "### Sequenze numeriche create con la funzione `range()`\n",
    "Prima di vedere un'esempio di ciclo `for` su valori numerici, vediamo quali sono i modi più comuni di definire una sequenza numerica da poter poi usare nel `for`. La funzione più frequentemente usata è la funzione `range()` che permette di generare sequenze di numeri interi. Se usiamo la funzione con un solo parametro  `n` (`range(n)`) essa genera la sequenza di tutti i numeri naturali da `0` (incluso) ad `n` (escluso)."
   ]
  },
  {
   "cell_type": "code",
   "execution_count": null,
   "metadata": {},
   "outputs": [],
   "source": [
    "range(10)"
   ]
  },
  {
   "cell_type": "markdown",
   "metadata": {},
   "source": [
    "Per visualizzare in modo più intuitivo la sequenza di valori generata dalla funzione `range()` la convertiremo in una lista con la funzione `list()`"
   ]
  },
  {
   "cell_type": "code",
   "execution_count": null,
   "metadata": {},
   "outputs": [],
   "source": [
    "list(range(10))"
   ]
  },
  {
   "cell_type": "markdown",
   "metadata": {},
   "source": [
    "Per generare sequenze che non partono da 0, possiamo usare `range(n1,n2)` che invece genera la sequenza di tutti i numeri naturali da `n1` (incluso) ad `n2` (escluso)."
   ]
  },
  {
   "cell_type": "code",
   "execution_count": null,
   "metadata": {},
   "outputs": [],
   "source": [
    "list(range(5,12))"
   ]
  },
  {
   "cell_type": "markdown",
   "metadata": {},
   "source": [
    "Un'ultima variante prevede di specificare 3 parametri, in cui il primo è il valore iniziale (incluso), il secondo il valore finale (escluso) ed il terzo è il passo (step) usato per andare dal valore inziale a quello finale. Notate che il passo può anche essere negativo, in questo caso il valore iniziale deve essere maggiore di quello finale."
   ]
  },
  {
   "cell_type": "code",
   "execution_count": null,
   "metadata": {},
   "outputs": [],
   "source": [
    "list(range(5,22,3))"
   ]
  },
  {
   "cell_type": "code",
   "execution_count": null,
   "metadata": {},
   "outputs": [],
   "source": [
    "list(range(21,5,-2))"
   ]
  },
  {
   "cell_type": "markdown",
   "metadata": {},
   "source": [
    "Ricorda che quando abbiamo visto le stringhe, abbiamo introdotto l'operazione di slicing, la cui sintassi, nella versione più generale è `s[i:j:n]`. Tale operazione sfrutta proprio la funzione di `range`, ovvero restituisce tutti e soli i caratteri di `s` nelle posizioni specificate nella sequenza generata da `range(i,j,n)`."
   ]
  },
  {
   "cell_type": "code",
   "execution_count": null,
   "metadata": {},
   "outputs": [],
   "source": [
    "s=\"paperopoli\"\n",
    "print(s,'s[1:8:2]',s[1:8:2],'indici', list(range(1,8,2)))\n",
    "print(s,'s[0:10:3]',s[0:10:3],'indici', list(range(0,10,3)))\n",
    "print(s,'s[8:2:-2]',s[8:2:-2],'indici', list(range(8,2,-2)))\n",
    "print(s,'s[::-1]',s[::-1],'indici', list(range(len(s),0,-1))) "
   ]
  },
  {
   "cell_type": "markdown",
   "metadata": {},
   "source": [
    "### Esempi di ciclo for\n",
    "Vediamo ora alcuni esempi per capire come usare il ciclo `for` su diverse sequenze di valori"
   ]
  },
  {
   "cell_type": "code",
   "execution_count": null,
   "metadata": {},
   "outputs": [],
   "source": [
    "for i in range(5):\n",
    "    print(i)"
   ]
  },
  {
   "cell_type": "code",
   "execution_count": null,
   "metadata": {},
   "outputs": [],
   "source": [
    "for i in [4,6,'casa',9,81]:\n",
    "    print(i)"
   ]
  },
  {
   "cell_type": "markdown",
   "metadata": {},
   "source": [
    "#### Esempio: uso for per stampa mesi dell'anno\n"
   ]
  },
  {
   "cell_type": "code",
   "execution_count": null,
   "metadata": {},
   "outputs": [],
   "source": [
    "for s in [\"gennaio\", \"febbraio\", \"marzo\", \"aprile\",\"maggio\",\n",
    "          \"giugno\",\"luglio\",\"agosto\",\"settembre\",\"ottobre\",\n",
    "          \"novembre\",\"dicembre\"]:\n",
    "    print(s)"
   ]
  },
  {
   "cell_type": "markdown",
   "metadata": {},
   "source": [
    "Per scandire una stringa si può anche usare la posizione dei vari caratteri. Poiché la posizione dei caratteri va da 0 ad n-1 (se n è la lunghezza della stringa), la scansione della stringa per posizione si effettua così:"
   ]
  },
  {
   "cell_type": "code",
   "execution_count": null,
   "metadata": {},
   "outputs": [],
   "source": [
    "s=\"pasta\"\n",
    "\n",
    "for i in range(len(s)):\n",
    "    print(s[i])"
   ]
  },
  {
   "cell_type": "markdown",
   "metadata": {
    "tags": []
   },
   "source": [
    "### Ciclo sui caratteri di una stringa (indice o carattere)\n",
    "Come abbiamo già visto, è possibile effettuare un ciclo `for` che scandisce tutti i caratteri di una stringa in 2 modi diversi, con un ciclo sugli indici oppure con un ciclo sui caratteri. Vediamo differenze, vantaggi e svantaggi delle 2 soluzioni.\n",
    "\n",
    "Vantaggi del ciclo sui caratteri:\n",
    "1. Codice più semplice ed immediato\n",
    "2. Accesso diretto ai caratteri\n",
    "\n",
    "Svantaggi:\n",
    "1. Non conoscenza della posizione dei caratteri\n",
    "2. Difficoltà a scandire in ordine diverso da quello standard"
   ]
  },
  {
   "cell_type": "code",
   "execution_count": null,
   "metadata": {},
   "outputs": [],
   "source": [
    "#scansione stringa tramite accesso diretto ai suoi elementi\n",
    "#ovvero la stringa è una \"sequenza\" di caratteri\n",
    "s=input(\"Inserisci una stringa: \")\n",
    "\n",
    "for c in s:\n",
    "    print(c,\"=\",ord(c))\n",
    "\n",
    "print()\n",
    "    \n",
    "for i in range(len(s)):\n",
    "    print(s[i],\"=\",ord(s[i]))"
   ]
  },
  {
   "cell_type": "markdown",
   "metadata": {},
   "source": [
    "#### Esempio: stampa dei caratteri di una stringa in ordine inverso\n",
    "Scrivere un programma che legge una stringa e stampa i suoi caratteri in ordine inverso"
   ]
  },
  {
   "cell_type": "code",
   "execution_count": null,
   "metadata": {
    "scrolled": true
   },
   "outputs": [],
   "source": [
    "#stampa dei caratteri di una stringa in ordine inverso\n",
    "#tramite indice. \n",
    "s=input('Inserisci la stringa: ')\n",
    "\n",
    "for i in range(len(s)-1,-1,-1):\n",
    "#genera l'insieme dei valori da len(s) - 1 fino a 0 (-1 escluso)\n",
    "#in ordine decrescente (con passo -1)\n",
    "    print(s[i])\n",
    "\n",
    "print()\n",
    "    \n",
    "# se scandiamo i caratteri di una stringa, non possiamo in effetti \n",
    "# cambiare l'ordine di scansione, come invece fatto usando gli indici. \n",
    "# In questo esempio, comunque potremmo prima invertire la stringa \n",
    "# per poi scandirla successivamente. Ciò non toglie che la scansione \n",
    "# tramite indici ci offre maggiore flessibilità\n",
    "\n",
    "for c in s[::-1]:\n",
    "    print(c)"
   ]
  },
  {
   "cell_type": "markdown",
   "metadata": {},
   "source": [
    "### Disegni di semplici figure geometriche"
   ]
  },
  {
   "cell_type": "markdown",
   "metadata": {},
   "source": [
    "#### Esempio: Disegno di un quadrato pieno\n",
    "Scrivere un programma che prende in input un numero positivo n e stampa sullo schermo un quadrato di lato n di caratteri $*$"
   ]
  },
  {
   "cell_type": "code",
   "execution_count": null,
   "metadata": {},
   "outputs": [],
   "source": [
    "#stampa quadrato\n",
    "l=int(input(\"inserisci lato del quadrato: \"))\n",
    "\n",
    "for i in range(l):\n",
    "    print(\"*\"*l)\n",
    "    \n",
    "# versione senza uso del ciclo\n",
    "# print(('*'*l+'\\n')*l)"
   ]
  },
  {
   "cell_type": "markdown",
   "metadata": {},
   "source": [
    "#### Esempio: disegno triangolo rettangolo isoscele\n",
    "Scrivere un programma che prende in input un numero positivo n e stampa sullo schermo un triangolo rettangolo isoscele con i cateti di lunghezza n e riempito con il carattere $*$"
   ]
  },
  {
   "cell_type": "code",
   "execution_count": null,
   "metadata": {},
   "outputs": [],
   "source": [
    "#stampa triangolo rettangolo isoscele\n",
    "ct=int(input(\"inserisci lunghezza dei cateti: \"))\n",
    "\n",
    "for i in range(ct):  \n",
    "    print(\"*\"*(i+1))"
   ]
  },
  {
   "cell_type": "markdown",
   "metadata": {},
   "source": [
    "### Variabili di tipo accumulatore\n"
   ]
  },
  {
   "cell_type": "markdown",
   "metadata": {},
   "source": [
    "Un uso molto frequente delle variabili è di usarle per memorizzare valori che cambiano durante l'esecuzione del programma. In molti problemi, non siamo in grado di calcolare direttamente la soluzione, ma la otteniamo attraverso vari passaggi duranti i quali la variabile memorizza un valore parziale, che solo alla fine diventa quello definitivo."
   ]
  },
  {
   "cell_type": "markdown",
   "metadata": {},
   "source": [
    "### Cicli con accumulatori\n",
    "\n",
    "Spesso in un ciclo si ha la necessità di *accumulare* i valori di una sequenza o insieme usando una variabile, chiamata appunto accumulatore. Il significato di accumulare dipende dall'obiettivo della computazione che il ciclo deve effettuare. Ad esempio, può significare effettuare una somma, o una moltiplicazione, o una concatenazione di stringhe, ecc. Alla fine del ciclo la variabile usata come accumulatore contiene il valore finale che si intendeva calcolare attraverso il ciclo. In genere si accumula *fino alla scansione completa di una sequenza*, o *fino al raggiungimento di un certo valore* per l'accumulatore (vedi esempi successivi).\n",
    "\n",
    "L'accumulatore deve essere inizializzato prima di entrare nel ciclo. In genere è inizializzato ad un valore neutro rispetto all'operazione utilizzata per accumulare dati. Se ad esempio vogliamo accumulare numeri (interi o frazionari) eseguendo delle somme, l'accumulatore dovrà essere inizializzato a `0`. Similmente, se l'operazione di accumulazione fosse una moltiplicazione di numeri, si dovrebbe inizializzare l'accumulatore al valore `1`."
   ]
  },
  {
   "cell_type": "markdown",
   "metadata": {},
   "source": [
    "#### Esempio: somma dei numeri interi compresi tra 2 estremi\n",
    "Scrivere un programma che prende in input 2 numeri interi n1 e n2 letti da tastiera e calcola la somma di tutti i numeri compresi tra n1 e n2 (estremi inclusi)."
   ]
  },
  {
   "cell_type": "code",
   "execution_count": null,
   "metadata": {},
   "outputs": [],
   "source": [
    "n1 = int(input(\"Inserisci l'estremo inferiore: \"))\n",
    "n2 = int(input(\"Inserisci l'estremo superiore: \"))\n",
    "somma=0\n",
    "\n",
    "for num in range(n1,n2+1):\n",
    "        somma=somma+num\n",
    "\n",
    "print(\"somma = \",somma)"
   ]
  },
  {
   "cell_type": "markdown",
   "metadata": {
    "tags": []
   },
   "source": [
    "#### Esempio: statistiche su generatore random\n",
    "Scrivere un programma che prende in input un numero intero n ed il numero rip di ripetizioni da effettuare e genera rip numeri casuali tra 0 ed +n e ne calcola il valore medio"
   ]
  },
  {
   "cell_type": "code",
   "execution_count": null,
   "metadata": {},
   "outputs": [],
   "source": [
    "from random import randint\n",
    "somma=0\n",
    "n = int(input(\"Inserisci il limite di variabilità: \"))\n",
    "rip = int(input(\"Inserisci il numero di ripetizioni: \"))\n",
    "\n",
    "for i in range(rip):\n",
    "    num = randint(0,n)\n",
    "    somma += num\n",
    "\n",
    "print(\"valore medio dei numeri casuali = \",somma/rip)"
   ]
  },
  {
   "cell_type": "markdown",
   "metadata": {
    "tags": []
   },
   "source": [
    "#### Esempio: accumulatore con le stringhe: sostituzione caratteri di una stringa con il successivo nella tabella UNICODE\n",
    "Il seguente programma legge da tastiera una stringa `s` e stampa a schermo una nuova stringa in cui ogni carattere di `s` è sostituito con il carattere successivo nella tabella UNICODE."
   ]
  },
  {
   "cell_type": "code",
   "execution_count": null,
   "metadata": {
    "tags": []
   },
   "outputs": [],
   "source": [
    "s = input('immetti una stringa: ')\n",
    "\n",
    "s1=''\n",
    "\n",
    "for c in s:\n",
    "    prox = chr(ord(c)+1)\n",
    "    s1 += prox\n",
    "    \n",
    "print(s1)"
   ]
  },
  {
   "cell_type": "markdown",
   "metadata": {},
   "source": [
    "### Esercizi\n",
    "Completate questi esercizi prima di cominciare il prossimo argomento"
   ]
  },
  {
   "cell_type": "markdown",
   "metadata": {},
   "source": [
    "### Esercizio 1: \n",
    "Scrivere un programma che calcola la somma dei primi m termini della serie armonica, per un dato valore di m letto da input. Si ricorda che la serie armonica ha la seguente formula $\\displaystyle\\sum_{k=1}^m 1/k$"
   ]
  },
  {
   "cell_type": "code",
   "execution_count": 2,
   "metadata": {
    "scrolled": true
   },
   "outputs": [
    {
     "name": "stdin",
     "output_type": "stream",
     "text": [
      "inserire il valore di m:  5\n"
     ]
    },
    {
     "name": "stdout",
     "output_type": "stream",
     "text": [
      "somma dei primi 5 termini della serie armonica: 2.283333333333333\n"
     ]
    }
   ],
   "source": [
    "m = int(input(\"inserire il valore di m: \"))\n",
    "somma = 0\n",
    "for i in range(1,m+1):\n",
    "    somma += 1/i\n",
    "print(\"somma dei primi\", m, \"termini della serie armonica:\", somma)"
   ]
  },
  {
   "cell_type": "markdown",
   "metadata": {},
   "source": [
    "### Esercizio 2:\n",
    "Scrivere un programma che prende in input una stringa e calcola la somma dei codici UNICODE dei suoi caratteri"
   ]
  },
  {
   "cell_type": "code",
   "execution_count": 5,
   "metadata": {},
   "outputs": [
    {
     "name": "stdin",
     "output_type": "stream",
     "text": [
      "inserire una stringa:  abcd\n"
     ]
    },
    {
     "name": "stdout",
     "output_type": "stream",
     "text": [
      "somma dei codici unicode dei caratteri di abcd : 394\n",
      "97\n"
     ]
    }
   ],
   "source": [
    "s = input(\"inserire una stringa: \")\n",
    "somma = 0\n",
    "for i in s:\n",
    "    somma += ord(i)\n",
    "print(\"somma dei codici unicode dei caratteri di\", s, \":\", somma)"
   ]
  },
  {
   "cell_type": "markdown",
   "metadata": {},
   "source": [
    "### Esercizio 3:\n",
    "Scrivere un programma Python che stampa a schermo la tabellina di un numero compreso fra 1 e 10 inserito in input dall'utente. Ad esempio, se il numero inserito è 4, il programma deve stampare\n",
    "\n",
    "4 x 1 = 4<br>\n",
    "4 x 2 = 8<br>\n",
    "4 x 3 = 12<br>\n",
    "..."
   ]
  },
  {
   "cell_type": "code",
   "execution_count": 6,
   "metadata": {},
   "outputs": [
    {
     "name": "stdin",
     "output_type": "stream",
     "text": [
      "inserire un numero da 1 a 10:  5\n"
     ]
    },
    {
     "name": "stdout",
     "output_type": "stream",
     "text": [
      "5 x 1 = 5\n",
      "5 x 2 = 10\n",
      "5 x 3 = 15\n",
      "5 x 4 = 20\n",
      "5 x 5 = 25\n",
      "5 x 6 = 30\n",
      "5 x 7 = 35\n",
      "5 x 8 = 40\n",
      "5 x 9 = 45\n",
      "5 x 10 = 50\n"
     ]
    }
   ],
   "source": [
    "n = int(input('inserire un numero da 1 a 10: '))\n",
    "for i in range(1, 11):\n",
    "    print(n, 'x', i, '=', n*i)"
   ]
  },
  {
   "cell_type": "code",
   "execution_count": null,
   "metadata": {},
   "outputs": [],
   "source": []
  }
 ],
 "metadata": {
  "kernelspec": {
   "display_name": "Python 3 (ipykernel)",
   "language": "python",
   "name": "python3"
  },
  "language_info": {
   "codemirror_mode": {
    "name": "ipython",
    "version": 3
   },
   "file_extension": ".py",
   "mimetype": "text/x-python",
   "name": "python",
   "nbconvert_exporter": "python",
   "pygments_lexer": "ipython3",
   "version": "3.8.17"
  }
 },
 "nbformat": 4,
 "nbformat_minor": 4
}
