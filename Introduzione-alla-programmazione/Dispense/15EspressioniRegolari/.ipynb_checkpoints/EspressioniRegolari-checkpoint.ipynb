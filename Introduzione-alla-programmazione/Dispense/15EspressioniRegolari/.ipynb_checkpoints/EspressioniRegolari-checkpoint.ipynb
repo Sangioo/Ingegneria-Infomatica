{
 "cells": [
  {
   "cell_type": "markdown",
   "metadata": {
    "slideshow": {
     "slide_type": "slide"
    }
   },
   "source": [
    "#### Autori: Domenico Lembo, Giuseppe Santucci and Marco Schaerf\n",
    "\n",
    "[Dipartimento di Ingegneria informatica, automatica e gestionale](https://www.diag.uniroma1.it)\n",
    "\n",
    "<img src=\"https://mirrors.creativecommons.org/presskit/buttons/88x31/png/by-nc-sa.eu.png\"\n",
    "     alt=\"License\"\n",
    "     style=\"float: left;\"\n",
    "     height=\"40\" width=\"100\" />\n",
    "This notebook is distributed with license Creative Commons *CC BY-NC-SA*"
   ]
  },
  {
   "cell_type": "markdown",
   "metadata": {},
   "source": [
    "# Espressioni Regolari\n",
    "1. Espressioni regolari in Python\n",
    "2. Differenze tra teoria e uso in Python\n",
    "3. Esempi di uso delle espressioni regolari\n",
    "4. Comportamento search e finditer\n",
    "5. Caratteri denotanti gruppi\n",
    "6. Ricerca di stringhe con ripetizioni\n",
    "7. Funzione per la sostituzione\n",
    "2. Esercizio: Trovare tutte le righe di un file che, dopo averle pulite con lo `strip()`, iniziano e finiscono per lo stesso carattere\n",
    "3. Esercizio: Calcolare quante volte in un file compare una sequenza di 3 parole consecutive con la seguente proprietà: la lettera finale della prima parola è uguale a quella iniziale della seconda e quella finale della seconda è uguale a quella iniziale della terza.\n",
    "4. Esercizio: Calcolare quante volte in un file compare una sequenza di 2 parole consecutive con la seguente proprietà: Almeno 2 lettere della prima parola sono presenti anche nella seconda e nello stesso ordine, cioè se la prima lettera viene prima della seconda nella prima parola, deve venire prima anche nella seconda.\n",
    "5. Esercizio: cambiare al formato americano ore e date\n",
    "6. Esercizio: cambiare al formato americano ore e date con il nome del mese e numero preciso"
   ]
  },
  {
   "cell_type": "markdown",
   "metadata": {},
   "source": [
    "### Espressioni regolari in Python\n",
    "Python ha un modulo specifico per le espressioni regolari, chiamato `re`. Per maggiori dettagli sulle espressioni regolari in Python rimandiamo alla documentazione ufficiale [https://docs.python.org/3/library/re.html](https://docs.python.org/3/library/re.html). Le note di seguito utilizzano materiale preso dai seguenti siti:\n",
    "- [https://www.python.it/doc/howto/Regex/regex-it/regex-it.html](https://www.python.it/doc/howto/Regex/regex-it/regex-it.html)\n",
    "- [https://docs.python.it/html/lib/re-syntax.html](https://docs.python.it/html/lib/re-syntax.html)"
   ]
  },
  {
   "cell_type": "markdown",
   "metadata": {
    "tags": []
   },
   "source": [
    "### Cenni sulla teoria delle espressioni regolari \n",
    "La teoria delle espressioni regolari è un modello matematico in cui si definisconon formalmente:\n",
    "- il concetto di stringa\n",
    "- la sintassi delle espressioni regolari\n",
    "- la loro semantica\n",
    "\n",
    "in modo da poter definire un insieme (non necessariamente finito) di stringhe che soddisfano certi requisiti, per esempio, **tutte le stringhe che cominciano per 'a' e finiscono per 'o'**= {'ao', 'atto', 'axo', 'aao', ...}.\n",
    "Una stringa è definita su un sequenza **ordinata** di simboli A detto alfabeto, e An denota l'insieme di tutte le stringhe di lunghezza n costruite usando simboli in A mentre A\\* denota l'insieme di tutte le stringhe di qualunque lunghezza costruite usando i simboli in A. \n",
    "\n",
    "Un'espressione regolare è il modo per specificare un sottoinsieme (non necessariamente proprio) di A\\* composto da tutte le stringhe che rispettano i vincoli specificati. Le stringhe che soddisfano tali vincoli **collimano** con l'espressione regolare, quelle che non le soddisfano **non collimano**. Per esempio, 'alto' collima con **tutte le stringhe che cominciano per 'a' e finiscono per 'o'** mentre 'alta' non collima.\n",
    "\n",
    "La sintassi delle espressioni regolari utilizza i caratteri di A, operatori (e.g., concatenazione, unione, intersezione e differenza), parentesi che indicano l'ordine di esecuzione degli operatori, caratteri speciali che indicano sequenze di caratteri: stringa vuota, stringa in A\\*, stringa in A1, intervallo di caratteri, ecc.\n",
    "\n",
    "Per esempio, sapendo che - **\".\"** (Punto, in inglese \"dot\") corrisponde a qualunque carattere, (\\n escluso) e che **\"\\*\"** corrisponde a 0 o più ripetizioni del carattere che lo precede, l'espressione regolare che rappresenta **tutte le stringhe che cominciano per 'a' e finiscono per 'o'** vale: 'a.\\*o'.\n",
    "Primo esempio:\n"
   ]
  },
  {
   "cell_type": "code",
   "execution_count": null,
   "metadata": {
    "scrolled": true
   },
   "outputs": [],
   "source": [
    "import re\n",
    "s = 'piedistallo'\n",
    "m=re.search('a.*o',s)\n",
    "print(m)"
   ]
  },
  {
   "cell_type": "markdown",
   "metadata": {
    "tags": []
   },
   "source": [
    "### Differenze fondamentali tra la teoria delle espressioni regolari ed il loro uso in Python\n",
    "Nella teoria, le espressioni regolari sono un modo per definire insiemi di stringhe in base alle loro proprietà, mentre in Python (come anche in tanti altri linguaggi di programmazione) le espressioni regolari sono più frequentemente usate per **cercare** all'interno di un testo **t** (stringa) una sottostringa **s** (definita con un'espressione regolare che in Python viene spesso chiamata *pattern*) che abbia particolari proprietà. Questo utilizzo introduce alcune complicazioni che siamo costretti ad affrontare, come ad esempio:\n",
    "\n",
    "- cosa fare quando ci sono più sottostringhe **s** che *collimano* con l'espressione regolare? Troviamo la prima o tutte?\n",
    "\n",
    "s = 'paapera casa baaviera'\n",
    "\n",
    "m=re.search('.aa.',s) #trova **'paap'** o 'paap' e 'baav' ?\n",
    "\n",
    "- cosa fare quando ci sono 2 sottostringhe, **s1** e **s2**, che collimano con l'espressione regolare e che si sovrappongono in **t**?\n",
    "\n",
    "\n",
    "m=re.search('a.*o','allo aot') #trova 'allo' o **'allo ao'** ?\n",
    "\n",
    "- come specificare che la sottostringa da cercare deve essere solo cercata all'inizio (oppure alla fine) della stringa?\n",
    "\n",
    "\n",
    "m=re.search('ot','ot aot') #trova 'ot' **iniziale** o finale ?\n",
    "\n",
    "Vedremo che Python risolve tutti questi problemi definendo diversi metodi nella classe *re* e un opportuno insieme di caratteri speciali."
   ]
  },
  {
   "cell_type": "markdown",
   "metadata": {},
   "source": [
    "#### La notazione r'stringa'\n",
    "Prima di inziare, introduciamo questo modo alternativo di specificare stringhe in Python che è spesso utile nel caso delle espressioni regolari. Se in Python una stringa `s` ha davanti il carattere 'r', allora vuol dire che la stringa è *raw* (cruda, cioè da non interpretare). In questo caso TUTTI i caratteri di `s` rappresentano esattamente se stessi e NON sono caratteri di controllo tipo '\\n' o '\\t'. Questa notazione è molto utile nelle espressioni regolari che usano frequentemente i caratteri che nelle stringhe Python verrebbero interpretati come caratteri di controllo, come '\\\\'. Ad esempio:"
   ]
  },
  {
   "cell_type": "code",
   "execution_count": null,
   "metadata": {
    "scrolled": true
   },
   "outputs": [],
   "source": [
    "s = r'\\nprova\\n'\n",
    "s1 = '\\nprova\\n'\n",
    "print('La stringa s è lunga:',len(s),'e vale:\\n',s)\n",
    "print('La stringa s1 è lunga:',len(s1),'e vale:\\n',s1)"
   ]
  },
  {
   "cell_type": "markdown",
   "metadata": {},
   "source": [
    "**Nota:** Si noti che una stringa raw è una stringa legale Python preceduta da una 'r' (come visto negli esempi precedenti). La sequenza `r\"\\\"` NON è una stringa raw, perchè `\"\\\"` NON è una stringa legale in Python. Lo stesso dicasi per tutte le stringhe che terminano con un numero dispari di `\\`. "
   ]
  },
  {
   "cell_type": "markdown",
   "metadata": {},
   "source": [
    "### Esempi di uso delle espressioni regolari\n",
    "Cominciamo con dei semplici esempi di come si possano usare le espressioni regolari in Python. Successivamente vedremo più precisamente le principali operazioni ed i caratteri speciali definiti nel modulo *re*."
   ]
  },
  {
   "cell_type": "markdown",
   "metadata": {},
   "source": [
    "#### Cercare una stringa in un semplice elenco telefonico\n",
    "\n",
    "cerchiamo \"Mario\" in un elenco strutturato così:\n",
    "elenco='Luca Rossi 2345234 - Mario Bianchi 82342342 - Marco Verdi 342342342'\n",
    "\n",
    "Per ora verifichiamo solo se \"Mario\" è presente in elenco. Per fare questo useremo la funzione `re.search(..)`.\n",
    "Questa funzione ha 2 parametri, il primo è il *pattern* (di regola specificato con un'espressione regolare) ed il secondo è il testo (stringa) in cui cercare. Notate che la funzione `re.search(..)` restituisce un oggetto di tipo `match`."
   ]
  },
  {
   "cell_type": "code",
   "execution_count": null,
   "metadata": {},
   "outputs": [],
   "source": [
    "import re\n",
    "\n",
    "elenco='Luca Rossi 2345234 - Mario Bianchi 82342342 - Marco Verdi 342342342'\n",
    "pattern = 'Mario'\n",
    "\n",
    "m = re.search(pattern, elenco)\n",
    "if m:\n",
    "    print(\"trovato\")\n",
    "else:\n",
    "    print(\"non trovato\")"
   ]
  },
  {
   "cell_type": "markdown",
   "metadata": {},
   "source": [
    "#### Stampare il pezzo di stringa trovata\n",
    "Il codice precedente stampava solo un messaggio, con il metodo `group()` applicato al risultato della funzione `re.search` (che è un oggetto di tipo match) possiamo stampare la sottostringa che ha *collimato* con l'espressione regolare (pattern)."
   ]
  },
  {
   "cell_type": "code",
   "execution_count": null,
   "metadata": {},
   "outputs": [],
   "source": [
    "m = re.search(pattern, elenco)\n",
    "if m:\n",
    "    print(\"trovato: \" + m.group())\n",
    "else:\n",
    "    print(\"non trovato\")"
   ]
  },
  {
   "cell_type": "markdown",
   "metadata": {},
   "source": [
    "#### Individuare il numero di telefono\n",
    "Per individuare il numero di telefono dobbiamo scrivere un'espressione regolare per cercare una stringa che non contenga solo il nome ma anche il numero (che non conosciamo, ma sappiamo come è fatto). Cerchiamo quindi una sottostringa che abbia il formato:\n",
    "- Mario seguito da un qualunque numero di caratteri alfabetici, spazi o cifre, basta che non ci sia il carattere '-' (che viene usato da separatore nel nostro caso)"
   ]
  },
  {
   "cell_type": "code",
   "execution_count": null,
   "metadata": {},
   "outputs": [],
   "source": [
    "pattern = 'Mario[a-zA-Z0-9 ]*'  #notare lo spazio dopo il 9\n",
    "m = re.search(pattern, elenco)\n",
    "if m:\n",
    "    print(\"trovato: \" + m.group())\n",
    "else:\n",
    "    print(\"non trovato\")"
   ]
  },
  {
   "cell_type": "markdown",
   "metadata": {},
   "source": [
    "#### Definizione per negazione\n",
    "A volte è più semplice definire un'espressione regolare specificando cosa **NON** deve contenere invece di cosa deve contenere. Nel caso precedente, avremmo potuto definire la parte che segue 'Mario' come una sequenza di caratteri **diversi dal carattere '-'**. Il simbolo speciale per denotare la negazione è '^' (attenzione che questo stesso simbolo ha anche un altro significato, come vedremo nel seguito), il pattern completo diventa quindi 'Mario[^-]*'"
   ]
  },
  {
   "cell_type": "code",
   "execution_count": null,
   "metadata": {},
   "outputs": [],
   "source": [
    "pattern = 'Mario[^-]*'\n",
    "\n",
    "m = re.search(pattern, elenco)\n",
    "if m:\n",
    "    print(\"trovato: \" + m.group())\n",
    "else:\n",
    "    print(\"non trovato\")"
   ]
  },
  {
   "cell_type": "markdown",
   "metadata": {},
   "source": [
    "#### Individuare le componenti\n",
    "Molto spesso la sottostringa che cerchiamo è composta da varie parti logicamente divise. Nel nostro esempio, in realtà stiamo cercando una sottostringa composta da 3 parti distinte:\n",
    "- Il *nome*, che nel nostro caso deve essere obbligatoriamente 'Mario'\n",
    "- il *cognome*, che non conosciamo, ma assumiamo sia composto da sole lettere maiuscole o minuscole\n",
    "- il *numero di telefono*, che assumiamo composto da sole cifre.\n",
    "\n",
    "Queste 3 parti distinte sono separate da uno spazio bianco. Per identificare differenti parti di un'espressione regolare in Python si usano le parentesi tonde. Ogni volta che un parte dell'espressione regolare è racchiusa tra parentesi tonde, Python salva la sottostringa che collima con quella parte e la salva in un gruppo (`group()`). I gruppi vengono numerati da 1 in poi. Il gruppo `0` è un gruppo speciale e contiene l'*intera sottostringa* che ha collimato con tutta l'espressione regolare. Vediamo un esempio:"
   ]
  },
  {
   "cell_type": "code",
   "execution_count": null,
   "metadata": {},
   "outputs": [],
   "source": [
    "pattern = '(Mario) ([A-Za-z]*) ([0-9]*)'\n",
    "m = re.search(pattern, elenco)\n",
    "if m:\n",
    "    print(\"nome: \" + m.group(1))\n",
    "    print(\"cognome: \" + m.group(2))\n",
    "    print(\"telefono: \" + m.group(3))\n",
    "else:\n",
    "    print(\"non trovato\")"
   ]
  },
  {
   "cell_type": "markdown",
   "metadata": {},
   "source": [
    "#### Suddivisione\n",
    "L'espressione regolare trova una stringa composta da 3 parti separate da spazio\n",
    "\n",
    "(Mario)| (\\[A-Za-z\\]\\*)| (\\[0-9\\]\\*)\n",
    ":-----:|:---------:|:------:\n",
    "m.group(1)| m.group(2)|m.group(3)\n",
    "              \n",
    "invece `m.group()` è tutta la sottostringa, uguale a `m.group(0)`.\n",
    "\n",
    "Notate che gli spazi bianchi sono caratteri come gli altri, se inserite uno spazio nell'espressione regolare questo collima con uno spazio nel testo. Nel nostro caso, infatti, il pattern '(Mario) (\\[A-Za-z\\]\\*) (\\[0-9\\]\\*)' contiene uno spazio tra il nome ed il cognome ed uno tra il cognome ed il numero di telefono."
   ]
  },
  {
   "cell_type": "markdown",
   "metadata": {},
   "source": [
    "#### Trovare più sottostringhe diverse\n",
    "In molti casi non vogliamo trovare una sola sottostringa che collima con la nostra espressione regolare, ma TUTTE le sottostringhe del testo che collimano con il nostro pattern. In questo caso si può usare la funzione *finditer* che ritorna un iteratore che si può usare in un ciclo e ad ogni passo è come se fosse stata fatta una   *search* (a partire dal carattere della stringa successivo a quello incluso nel match trovato al passo precedente - su questo punto vedi altri dettagli in seguito). Restituisce quindi una sequenza di match, dove ogni match contiene i gruppi che hanno collimato con le varie parti. Vediamo un esempio in cui cerchiamo nel nostro elenco tutte le persone il cui nome inizia per 'M':"
   ]
  },
  {
   "cell_type": "code",
   "execution_count": null,
   "metadata": {},
   "outputs": [],
   "source": [
    "pattern = '(M[a-z]*) ([A-Za-z]*) ([0-9]*)'\n",
    "mn = re.finditer(pattern, elenco)\n",
    "#calcola tutte le sottostringhe che collimano con il pattern.\n",
    "#ogni sottostringa è salvata in un match con un elemento per ogni gruppo\n",
    "\n",
    "for m in mn: #m è il match contenente un singolo risultato\n",
    "    print('nome: ' + m.group(1) + ' ' \\\n",
    "          'cognome: ' + m.group(2) + ' ' \\\n",
    "          'telefono: ' + m.group(3))"
   ]
  },
  {
   "cell_type": "markdown",
   "metadata": {},
   "source": [
    "#### Riassumendo\n",
    "Le notazioni e le funzioni che abbiamo visto sono:\n",
    "\n",
    "- \\[caratteri\\] per un insieme di caratteri in alternativa\n",
    "- \\[^caratteri\\] lo stesso ma al contrario\n",
    "- \\* sequenza (anche vuota)\n",
    "- (gruppo) isola parti della stringa\n",
    "- re.search per trovare la prima stringa\n",
    "- re.finditer per un iteratore\n",
    "- m.group per stampare tutta o parte della stringa trovata\n",
    "\n",
    "In realtà Python permette di usare molti più caratteri speciali per definire le espressioni regolari, alcuni li menzioneremo più avanti, una lista più esaustiva la trovate in questo [Notebook](CaratteriSpeciali.ipynb)."
   ]
  },
  {
   "cell_type": "markdown",
   "metadata": {},
   "source": [
    "#### Differenze importanti tra teoria e applicazione in Python\n",
    "Nella teoria, le espressioni regolari vengono usate per definire insiemi di stringhe. Ad esempio, l'espressione regolare **a\\[a-z\\]\\*o** denota l'insieme contenente ogni stringa che inizia per **a**, seguita da un numero qualunque (anche 0) di altre lettere e poi terminata da una **c**. La definizione è precisa e non ambigua, ma quando questa espressione regolare viene usata per cercare una stringa di questo insieme all'interno di un testo, ci sono varie possibilità. Vediamo un esempio e come si comporta il modulo *re* di Python e le sue funzioni.\n",
    "\n",
    "Assumiamo che il nostro pattern sia quello descritto sopra e vediamo il comportamento in 2 casi:"
   ]
  },
  {
   "cell_type": "code",
   "execution_count": null,
   "metadata": {},
   "outputs": [],
   "source": [
    "pattern = 'a[a-z]*c'\n",
    "s1 = 'palladicarta'\n",
    "s2 = 'palladicarta di Marco'"
   ]
  },
  {
   "cell_type": "markdown",
   "metadata": {},
   "source": [
    "##### Applichiamo i metodi search e finditer\n",
    "Applicando i 2 metodi nelle 2 situazioni otteniamo:"
   ]
  },
  {
   "cell_type": "code",
   "execution_count": null,
   "metadata": {},
   "outputs": [],
   "source": [
    "print('ricerca nel testo:',s1)\n",
    "m = re.search(pattern,s1)\n",
    "if m:\n",
    "    print(m.group())\n",
    "\n",
    "mn = re.finditer(pattern,s1)\n",
    "for m in mn:\n",
    "    print(m.group())\n",
    "    \n",
    "print() #stampa riga di separazione\n",
    "print('ricerca nel testo:',s2)\n",
    "m = re.search(pattern,s2)\n",
    "if m:\n",
    "    print('search',m.group())\n",
    "\n",
    "mn = re.finditer(pattern,s2)\n",
    "for m in mn:\n",
    "    print('finditer', m.group())"
   ]
  },
  {
   "cell_type": "markdown",
   "metadata": {},
   "source": [
    "##### Risultato\n",
    "Come si vede, nel caso di s1 sia la search che la finditer hanno trovato una sola stringa ed è la stringa **più lunga** dell'insieme delle stringhe che collimano con l'espressione regolare, anche se c'erano altre stringhe in s1 che collimavano con il pattern, come ad esempio 'alladic' o 'alberoc'. Nel secondo caso la finditer trova 2 soluzioni distinte. Siamo ora in grado di capire meglio come si comportano la search e la finditer."
   ]
  },
  {
   "cell_type": "markdown",
   "metadata": {},
   "source": [
    "### Comportamento search e finditer\n",
    "Possiamo descrivere il comportamente delle funzioni search e finditer come segue:\n",
    "- `re.search(pattern,testo)`: Cerca la **prima (più a sinistra)** sottostringa di testo che collima con l'espressione regolare e, se ci sono più stringhe che collimano ed iniziano nella stessa posizione, prende **la più lunga**.\n",
    "- `re.finditer(pattern,testo)`: Si comporta come la search per cercare ogni soluzione e quando ne trova una riparte a cercarne altre **dalla posizione successiva a quelle occupate dalla precedente soluzione**, cioè cerca tutte soluzioni che **non abbiano alcuna sovrapposizione**."
   ]
  },
  {
   "cell_type": "markdown",
   "metadata": {},
   "source": [
    "#### Modifica comportamento search e finditer\n",
    "Per specificare che si vuole invece cercare la **più corta** stringa che collima con l'espressione regolare bisogna usare degli operatori diversi, come spiegato meglio nel notebook [Caratteri Speciali](CaratteriSpeciali.ipynb) menzionato già in precedenza. A titolo di esempio, nella ricerca appena vista, dobbiamo sostituire l'operatore \\* con \\*?, che denota la ricerca della sottostringa **più breve** che collima con l'espressione regolare."
   ]
  },
  {
   "cell_type": "code",
   "execution_count": null,
   "metadata": {},
   "outputs": [],
   "source": [
    "pattern2 = 'a[a-z]*?c' #pattern modificato per indicare la ricerca della sottostringa più breve\n",
    "print('ricerca nel testo:',s1)\n",
    "m = re.search(pattern2,s1)\n",
    "if m:\n",
    "    print(m.group())\n",
    "\n",
    "i = re.finditer(pattern2,s1)\n",
    "for m in i:\n",
    "    print(m.group())\n",
    "    \n",
    "print() #stampa riga di separazione\n",
    "print('ricerca nel testo:',s2)\n",
    "m = re.search(pattern2,s2)\n",
    "if m:\n",
    "    print(m.group())\n",
    "\n",
    "i = re.finditer(pattern2,s2)\n",
    "for m in i:\n",
    "    print(m.group())"
   ]
  },
  {
   "cell_type": "markdown",
   "metadata": {},
   "source": [
    "##### Nuovo risultato\n",
    "Come si vede, con questa nuova versione del pattern, nel caso di s1 la search trova una stringa più corta e la finditer ora trova due soluzioni che collimano con l'espressione regolare. Nel secondo caso non ci sono differenze in quanto la stringa trovata da search era l'unica possibile."
   ]
  },
  {
   "cell_type": "markdown",
   "metadata": {},
   "source": [
    "#### Metodi fondamentali per la ricerca\n",
    "Oltre i metodi `search()` e `finditer()` sono disponibili altri 2 metodi. Ricapitoliamoli brevemente tutti.\n",
    "\n",
    "Metodi/Attributi \tScopo \n",
    "* `match(pattern, string, flags=0)`\tDetermina se la RE (regular expression) *pattern* corrisponde (match) **all'inizio** della stringa *string* e restituisce un oggetto di tipo match, che, intuitivamente, è un oggetto che rappresenta la corrispondenza trovata. Restituisce `None` se nessuna corrispondenza è stata trovata. \n",
    "* `search(pattern, string, flags=0)`\tAnalizza la stringa *string* cercando la **prima posizione** in cui la RE *pattern* produce una corrispondenza e restituisce l'oggetto di tipo match corrispondente. Restituisce `None` se nessuna posizione nella stringa corrisponde con la RE.\n",
    "* `findall(pattern, string, flags=0)`\tRestituisce tutte le corrispondenze **non sovrapposte** della RE *pattern* nella stringa *string*, sotto forma di una lista di stringhe. La stringa *string* viene scansionata da sinistra a destra e le corrispondenze vengono restituite nell'ordine trovato. Se uno o più gruppi sono presenti nel *pattern*, restituisce una lista di gruppi (o meglio, di stringhe corrispondenti ai gruppi); questa lista sarà una lista di tuple se il pattern ha più di un gruppo.\n",
    "* `finditer(pattern, string, flags=0)`\tTrova tutte le corrispondenze **non sovrapposte** della RE *pattern* nella stringa *string*, e le restituisce in un iteratore che produce un oggetto di tipo match alla volta. La stringa *string* viene scansionata da sinistra a destra e gli oggetti di tipo match vengono restituiti nell'ordine trovato.\n",
    "\n",
    "Le principali opzioni disponibili (*flags*) sono: \n",
    "* `re.DOTALL` Permette al carattere speciale **'.'** (vedi prossima cella) di collimare con ogni carattere, includendo il fine riga ('\\n'), altrimenti non considerato;\n",
    "* `re.IGNORECASE`\tCerca la corrispondenza dei caratteri senza fare distinzione tra maiuscolo e minuscolo\n",
    "* `re.MULTILINE`  Tratta ogni riga come se fosse l'inizio della stringa, quindi **'^'** collima con l'inizio di ogni riga e **'\\$'** collima con la fine di ogni riga.\n",
    "\n",
    "Per specificare più di una opzione, si utilizza l'operatore | per connetterle. Per esempio\n",
    "\n",
    "`re.search(pattern,string,flags=re.IGNORECASE|re.MULTILINE)`\n",
    "\n",
    "`flags=` può essere omesso, ottenendo quindi\n",
    "\n",
    "`re.search(pattern,string,re.IGNORECASE|re.MULTILINE)`\n",
    "\n",
    "Ovviamente, se l'importazione della libreria `re` è avvenuta con il comando \n",
    "\n",
    "`from re import *`\n",
    "\n",
    "è possibile anche scrivere `DOTALL` al posto di `re.DOTALL` (analogamente per le altre opzioni).\n",
    "\n",
    "I metodi `match()` e `search()` restituiscono un oggetto di tipo `match`, mentre la funzione `finditer()` restituisce un iteratore che genera un oggetto di tipo `match` per volta. Gli oggetti di tipo `match` hanno questi metodi fondamentali:\n",
    "\n",
    "| Metodo |\tScopo |\n",
    "|:---:|:---:|\n",
    "|`group()` |\tRestituisce la stringa che collima con RE |\n",
    "|`start()` |\tRestituisce la posizione iniziale della sottostringa che collima con RE |\n",
    "| `end()` |\tRestituisce la posizione successiva alla fine della sottostringa che collima con RE|\n",
    "|`span()`\t| Restituisce la tupla con le posizioni restituite da `start()` e `end()` |"
   ]
  },
  {
   "cell_type": "markdown",
   "metadata": {},
   "source": [
    "### Caratteri denotanti gruppi e posizioni\n",
    "Alcune delle sequenze speciali che iniziano con \"\\\\\" rappresentano degli insiemi predefiniti di caratteri che sono spesso utili, come l'insieme delle cifre, l'insieme delle lettere o l'insieme di tutto ciò che non è un carattere di spaziatura. Sono disponibili le seguenti sequenze predefinite:\n",
    "\n",
    "* **\\d** Corrisponde ad ogni cifra decimale; equivale alla classe \\[0-9\\].\n",
    "* **\\D** Corrisponde ad ogni carattere che non sia una cifra; è equivalente alla classe \\[^0-9\\].\n",
    "* **\\s** Corrisponde ad ogni carattere di spaziatura; è equivalente alla classe \\[ \\t\\n\\r\\f\\v\\] (si ricorda che \\t è un tab orizzontale, \\n è una andata a capo, \\r è un carriage return - riporta il cursore all'inizio della riga, \\f è un form feed - avanza la stampa alla pagina successiva, \\v è un tab verticale).\n",
    "* **\\S** Corrisponde ad ogni carattere che non sia un carattere di spaziatura; è equivalente alla classe \\[^\\t\\n\\r\\f\\v\\].\n",
    "* **\\w** Corrisponde ad ogni carattere alfanumerico (più l'underscore '\\_'); è equivalente alla classe \\[a-zA-Z0-9\\_\\].\n",
    "* **\\W** Corrisponde ad ogni carattere che non sia alfanumerico e non sia l'underscore; è equivalente alla classe \\[^a-zA-Z0-9\\_\\].\n",
    "* **.** Corrisponde ad ogni carattere diverso da '\\n'. Se usato con il flag re.DOTALL corrisponde ad ogni carattere.\n",
    "* **\\b** Corrisponde con la stringa vuota, ma solo se questa si trova all'inizio o alla fine di una parola (cioè di una sequenza di caratteri \\w). In altri termini, \\b indica il \"confine\" (boundary) di una parola, che tecnicamente è quello che si trova fra un carattere \\w ed un carattere \\W (o vice-versa) o fra \\w e l'inizio/fine della stringa. (si noti che in questo caso nella stringa che rappresenta l'espressione regolare dobbiamo scrivere `\\\\b`, altrimenti la sequenza speciale sarebbe interpretata come il carattere backspace; in alternativa dobbiamo usare usare una stringa raw).\n",
    "* **^** Corrisponde con la stringa vuota, ma solo se questa si trova all'inizio della stringa. Denota quindi l'inizio della stringa. Se usato con il flag re.MULTILINE, corrisponde all'inizio di una riga.\n",
    "* **$** Corrisponde con la stringa vuota, ma solo se questa si trova alla fine della stringa. Denota quindi la fine della stringa. Se usato con il flag re.MULTILINE, corrisponde alla fine di una riga.\n",
    "\n",
    "**Nota:** Da qui in avanti, con parola intendiamo PER DEFINIZIONE una sequenza di caratteri \\w."
   ]
  },
  {
   "cell_type": "markdown",
   "metadata": {},
   "source": [
    "### Ricerca di stringhe con ripetizioni\n",
    "\n",
    "* **\\\\numero** Corrisponde al contenuto del gruppo con lo stesso numero. I gruppi vengono numerati a partire da 1. Per esempio, '(.+)_\\\\\\1' è una espressione regolare che corrisponde, ad esempio, a 'the_the' o a '55_55', ma non a 'the_sun' o a 'thethe'. Notate ancora una volta che il carattere '\\\\' va ripetuto 2 volte, per distinguere dal caso in cui è usato per specificare una sequenza di escape. Se volete evitare la ripetizione potete usare la stringa *raw* r'(.+) \\1'. In altri termini, nell'espressione precedente, (.+) corrisponde ad una sequenza di un numero arbitraio ma maggiore di 1 di caratteri qualsiasi; una volta individuato questo gruppo, \\1 corrisponde ad una sua replica (che nell'espressione regolare dell'esempio deve essere separata dalla precedente da un underscore)."
   ]
  },
  {
   "cell_type": "markdown",
   "metadata": {},
   "source": [
    "#### Vediamo degli esempi"
   ]
  },
  {
   "cell_type": "code",
   "execution_count": null,
   "metadata": {},
   "outputs": [],
   "source": [
    "import re\n",
    "\n",
    "# Cerchiamo nel file \"I_Malavoglia.txt\" la più lunga stringa INIZIALE \n",
    "# che inizia per una vocale e finisce per la STESSA vocale, \n",
    "# ignorando maiuscole e minuscole\n",
    "testo=open(\"I_Malavoglia.txt\",encoding=\"UTF-8\").read()\n",
    "regex1 = r'^([aeiou]).*\\1'\n",
    "ris1 = re.match(regex1,testo,re.IGNORECASE)\n",
    "print(ris1.span(),ris1.group())\n",
    "\n",
    "# Cerchiamo nel file \"I_Malavoglia.txt\" la prima riga che INIZIA \n",
    "# per una vocale e finisce per la STESSA vocale seguita \n",
    "# dal punto e dal carattere di riga nuova '\\n', \n",
    "# ignorando maiuscole e minuscole\n",
    "regex2 = r'^([aeiou]).*\\1\\.\\n'\n",
    "ris2 = re.search(regex2,testo,re.IGNORECASE | re.MULTILINE)\n",
    "print(ris2.span(),ris2.group())\n"
   ]
  },
  {
   "cell_type": "markdown",
   "metadata": {},
   "source": [
    "Si noti che nell'ultimo esempio il primo `.` è da intendersi come il simbolo speciale che nelle espressioni regolari corrisponde a qualunque carattere, mentre il secondo `.` corrisponde effettivamente ad un punto nella stringa. Per distinguere i due casi (ed intendere il secondo punto come carattere e non come simbolo speciale) abbiamo utilizzato il `\\` prima del secondo punto (avremmo fatto lo stesso per cercare nel stringa un asterisco (`*`) o un qualunque altro carattere che è utilizzato come simbolo speciale nell'espressione regolare)."
   ]
  },
  {
   "cell_type": "code",
   "execution_count": null,
   "metadata": {},
   "outputs": [],
   "source": [
    "# Contiamo nel file \"I_Malavoglia.txt\" quante righe INIZIANO per una\n",
    "# vocale e finiscono per la STESSA vocale seguita dal punto e dal \n",
    "# carattere di riga nuova '\\n', ignorando maiuscole e minuscole\n",
    "ris3 = re.findall(regex2,testo,re.IGNORECASE | re.MULTILINE)\n",
    "print(len(ris3))"
   ]
  },
  {
   "cell_type": "code",
   "execution_count": null,
   "metadata": {},
   "outputs": [],
   "source": [
    "# Cerchiamo nel file \"I_Malavoglia.txt\" tutte le righe che INIZIANO \n",
    "# per una vocale e finiscono per la STESSA vocale seguita dal punto e\n",
    "# dal carattere di riga nuova '\\n', ignorando maiuscole e minuscole\n",
    "ris4 = re.finditer(regex2,testo,re.IGNORECASE | re.MULTILINE)\n",
    "for m in ris4:\n",
    "    print(m.span(),m.group())\n",
    "    "
   ]
  },
  {
   "cell_type": "markdown",
   "metadata": {},
   "source": [
    "#### Esercizio\n",
    "Scrivere una funzione che riceve il nome di un file di testo e trova la prima sequenza di due parole consecutive che iniziano per lo stesso carattere. "
   ]
  },
  {
   "cell_type": "code",
   "execution_count": null,
   "metadata": {},
   "outputs": [],
   "source": [
    "def trovaParole(file):\n",
    "    import re\n",
    "    f = open(file,encoding='UTF-8')\n",
    "    testo = f.read()\n",
    "    f.close()\n",
    "    # Il pattern deve essere fatto così:\n",
    "    # inizio parola \"\\b\" seguito da un carattere (alfanumerico o underscore) da memorizzare \"(\\w)\",\n",
    "    # seguito da altri caratteri \"\\w*\" poi fine parola \"\\b\", spazi o caratteri\n",
    "    # non alfanumerici (o underscore) \"\\W*\", inizio parola \"\\b\" seguito dal carattere\n",
    "    # memorizzato \"(\\1)\", altri caratteri \"\\w*\" e poi fine parola \"\\b\"\n",
    "    pattern = r'\\b(\\w)\\w*\\b\\W*\\b\\1\\w*\\b'\n",
    "    ris = re.search(pattern,testo,re.IGNORECASE )\n",
    "    return ris\n",
    "\n",
    "print(trovaParole('I_Malavoglia.txt'))\n",
    "\n"
   ]
  },
  {
   "cell_type": "markdown",
   "metadata": {},
   "source": [
    "#### Esercizio\n",
    "Come sopra ma trova la prima sequenza di **tre** parole consecutive che iniziano tutte per lo stesso carattere."
   ]
  },
  {
   "cell_type": "code",
   "execution_count": null,
   "metadata": {},
   "outputs": [],
   "source": [
    "def trovaParole2(file):\n",
    "    import re\n",
    "    f = open(file,encoding='UTF-8')\n",
    "    testo = f.read()\n",
    "    f.close()\n",
    "    pattern = r'\\b(\\w)\\w*\\b\\W*\\b\\1\\w*\\b\\W*\\b\\1\\w*\\b'\n",
    "    ris = re.search(pattern,testo,re.IGNORECASE )\n",
    "    return ris\n",
    "\n",
    "print(trovaParole2('I_Malavoglia.txt'))"
   ]
  },
  {
   "cell_type": "markdown",
   "metadata": {},
   "source": [
    "#### Esercizio\n",
    "Scrivere una funzione che riceve il nome di un file di testo ed un carattere c e trova la prima sequenza di tre parole consecutive che iniziano tutte per c."
   ]
  },
  {
   "cell_type": "code",
   "execution_count": null,
   "metadata": {},
   "outputs": [],
   "source": [
    "def trovaParole3(file,c):\n",
    "    import re\n",
    "    f = open(file,encoding='UTF-8')\n",
    "    testo = f.read()\n",
    "    f.close()\n",
    "    pattern = r'\\b'+c+r'\\w*\\b\\W*\\b'+c+r'\\w*\\b\\W*\\b'+c+r'\\w*\\b'\n",
    "    ris = re.search(pattern,testo,re.IGNORECASE)\n",
    "    return ris\n",
    "\n",
    "print(trovaParole3('I_Malavoglia.txt','s'))"
   ]
  },
  {
   "cell_type": "markdown",
   "metadata": {},
   "source": [
    "#### Esercizio\n",
    "Scrivere una funzione che riceve il nome di un file di testo, un carattere c ed un numero n (maggiore di 1) e trova la prima sequenza di n parole consecutive che iniziano tutte per c."
   ]
  },
  {
   "cell_type": "code",
   "execution_count": null,
   "metadata": {},
   "outputs": [],
   "source": [
    "def trovaParole4(file,c,n):\n",
    "    import re\n",
    "    f = open(file,encoding='UTF-8')\n",
    "    testo = f.read()\n",
    "    f.close()\n",
    "    pattern = r'\\b'+c+(r'\\w*\\b\\W*\\b'+c)*(n-1)+r'\\w*\\b'\n",
    "    ris = re.search(pattern,testo,re.IGNORECASE)\n",
    "    return ris\n",
    "\n",
    "print(trovaParole4('I_Malavoglia.txt','a',4))"
   ]
  },
  {
   "cell_type": "markdown",
   "metadata": {},
   "source": [
    "### Funzione per la sostituzione\n",
    "Ancora più utili possono essere le espressioni regolari quando si vogliono fare complesse sostituzioni. La funzione fondamentale per effettuare sostituzioni usando le espressioni regolari è:\n",
    "* `sub(pattern, repl, string, count=0, flags=0)` Restituisce una nuova stringa dove tutte le occorrenze **non sovrapposte** dell'espressione regolare (*pattern*) nella stringa (*string*) sono sostituite dal rimpiazzo (*repl*). Il parametro *count* serve per limitare (eventualmente) il numero di sostituzioni da effettuare.\n",
    "\n",
    "Vediamo come esempio la modifica delle istruzioni print dalla versione 2 alla 3 di Python, vedi il file [prova.py](prova.py):"
   ]
  },
  {
   "cell_type": "code",
   "execution_count": null,
   "metadata": {},
   "outputs": [],
   "source": [
    "import re\n",
    "\n",
    "# Modifica le istruzioni print di Python2 nella versione corretta per Python3\n",
    "filein = open('prova.py',encoding='UTF-8')\n",
    "fileout = open('nuovoprova.py','w',encoding='UTF-8')\n",
    "pattern = 'print (.*)\\n'\n",
    "repl = r'print(\\1)\\n'\n",
    "for riga in filein:\n",
    "    if 'print' in riga:\n",
    "        nuova = re.sub(pattern,repl,riga)\n",
    "        print(nuova)\n",
    "        fileout.write(nuova)\n",
    "    else:\n",
    "        fileout.write(riga)\n",
    "filein.close()\n",
    "fileout.close()"
   ]
  },
  {
   "cell_type": "markdown",
   "metadata": {},
   "source": [
    "#### Discussione\n",
    "il programma di sopra funziona correttamente nella maggior parte dei casi, ma fallisce sull'ultima riga del file [prova.py](prova.py), in quanto l'ultima riga NON è terminata da un '\\n'. Per rendere più completa la nostra soluzione dobbiamo prevedere l'opzionalità del '\\n' finale, ma allo stesso tempo stare attenti ad ottenere un risultato in cui non viene modificata la struttura del file originario. Per fare questo introduciamo un secondo gruppo che include il solo '\\n' finale (se presente) oppure la stringa vuota. Questo gruppo viene inserito alla fine della relativa istruzione di print."
   ]
  },
  {
   "cell_type": "code",
   "execution_count": null,
   "metadata": {},
   "outputs": [],
   "source": [
    "# Modifica le istruzioni print di Python2 nella versione corretta per Python3\n",
    "filein = open('prova.py',encoding='UTF-8')\n",
    "fileout = open('nuovoprova2.py','w',encoding='UTF-8')\n",
    "pattern = 'print (.*)(\\n?)'\n",
    "repl = r'print(\\1)\\2'\n",
    "for riga in filein:\n",
    "    if 'print' in riga:\n",
    "        nuova = re.sub(pattern,repl,riga)\n",
    "        print(nuova)\n",
    "        fileout.write(nuova)\n",
    "    else:\n",
    "        fileout.write(riga)\n",
    "filein.close()\n",
    "fileout.close()"
   ]
  },
  {
   "cell_type": "markdown",
   "metadata": {},
   "source": [
    "### Esercizio:\n",
    "Trovate tutte le righe di un file che, dopo averle pulite con lo `strip()`, iniziano e finiscono per lo stesso carattere (ignorando la differenza fra maiuscole e minuscole), seguito eventualmente dal punto, ed inseritele in una lista."
   ]
  },
  {
   "cell_type": "code",
   "execution_count": null,
   "metadata": {},
   "outputs": [],
   "source": [
    "def listaRighe(file):\n",
    "    filein = open(file,encoding='UTF-8')\n",
    "    pattern = r'^(\\w).*\\1\\.?$'\n",
    "    lista = []\n",
    "    for riga in filein:\n",
    "        rigaPulita = riga.strip()\n",
    "        if re.search(pattern,rigaPulita,re.IGNORECASE):\n",
    "            lista.append(rigaPulita)\n",
    "    filein.close()\n",
    "    return lista\n",
    "\n",
    "ris = listaRighe(\"I_Malavoglia.txt\")\n",
    "print(len(ris),ris[:10])\n"
   ]
  },
  {
   "cell_type": "markdown",
   "metadata": {},
   "source": [
    "### Esercizio:\n",
    "Contare quante volte in un file compare una sequenza di 3 parole consecutive con la seguente proprietà: la lettera finale della prima parola è uguale a quella iniziale della seconda e quella finale della seconda è uguale a quella iniziale della terza.\n",
    "**Nota:** Si assuma che la seconda parola di ciascuna sequenza contenga almeno due lettere"
   ]
  },
  {
   "cell_type": "code",
   "execution_count": null,
   "metadata": {},
   "outputs": [],
   "source": [
    "from tester import tester_fun\n",
    "import re\n",
    "\n",
    "def conta(file):\n",
    "    f=open(file,\"r\",encoding=\"UTF-8\")\n",
    "    testo=f.read()\n",
    "    f.close()\n",
    "    regex = r'\\b\\w*(\\w)\\b\\W*\\b\\1\\w*(\\w)\\b\\W*\\b\\2\\w*\\b'\n",
    "    ris = re.findall(regex,testo,re.IGNORECASE)\n",
    "    return len(ris)\n",
    "\n",
    "counter_test_positivi = 0\n",
    "\n",
    "counter_test_positivi += tester_fun(conta,['file1.txt'],2)\n",
    "counter_test_positivi += tester_fun(conta,['file2.txt'],3)\n",
    "counter_test_positivi += tester_fun(conta,['file3.txt'],4)\n",
    "\n",
    "print('La funzione',conta.__name__,'ha superato',counter_test_positivi,'test')"
   ]
  },
  {
   "cell_type": "markdown",
   "metadata": {},
   "source": [
    "### Esercizio:\n",
    "Calcolare quante volte in un file compare una sequenza di 2 parole consecutive con la seguente proprietà: Almeno 2 lettere della prima parola sono presenti anche nella seconda e nello stesso ordine, cioè se la prima lettera viene prima della seconda nella prima parola, deve venire prima anche nella seconda.\n",
    "\n",
    "**Nota:** non si considerino sequenze sovrapposte (ad esempio, nella stringa 'asta sito toro' c'è comunque una sola sequenza, perchè 'sito' deve essere considerato parte di una sola sequenza; in questo esempio è corretto quindi contare solo la prima sequenza asta sito')"
   ]
  },
  {
   "cell_type": "code",
   "execution_count": null,
   "metadata": {
    "scrolled": true
   },
   "outputs": [],
   "source": [
    "from tester import tester_fun\n",
    "\n",
    "import re\n",
    "\n",
    "def conta2(file):\n",
    "    f=open(file,\"r\",encoding=\"UTF-8\")\n",
    "    testo=f.read()\n",
    "    f.close()\n",
    "    regex = r'\\b\\w*(\\w)\\w*(\\w)\\w*\\b\\W*\\b\\w*\\1\\w*\\2\\w*\\b'\n",
    "    ris = re.findall(regex,testo,re.IGNORECASE)\n",
    "    return len(ris)\n",
    "\n",
    "counter_test_positivi = 0\n",
    "\n",
    "counter_test_positivi += tester_fun(conta2,['file1.txt'],1)\n",
    "counter_test_positivi += tester_fun(conta2,['file2.txt'],1)\n",
    "counter_test_positivi += tester_fun(conta2,['file3.txt'],2)\n",
    "\n",
    "print('La funzione',conta2.__name__,'ha superato',counter_test_positivi,'test') \n"
   ]
  },
  {
   "cell_type": "markdown",
   "metadata": {},
   "source": [
    "### Esercizio: cercare tutte le date presenti in un file\n",
    "Vogliamo stampare tutte le date presenti in un file, assumiamo che le date siano nel formato 21/11/2013. Useremo come test il file 'testoDateCF.txt'."
   ]
  },
  {
   "cell_type": "code",
   "execution_count": null,
   "metadata": {},
   "outputs": [],
   "source": [
    "file = open('testoDateCF.txt', encoding = 'UTF-8')\n",
    "testo = file.read()"
   ]
  },
  {
   "cell_type": "code",
   "execution_count": null,
   "metadata": {},
   "outputs": [],
   "source": [
    "# Prima versione con formato rigido\n",
    "pattern1 = '[0-9][0-9]/[0-9][0-9]/[0-9][0-9][0-9][0-9]'\n",
    "i = re.finditer(pattern1,testo)\n",
    "for m in i:\n",
    "    print(m.group())"
   ]
  },
  {
   "cell_type": "code",
   "execution_count": null,
   "metadata": {},
   "outputs": [],
   "source": [
    "# Seconda versione giorno e mese possono avere anche una sola cifra\n",
    "pattern2 = '[0-9]?[0-9]/[0-9]?[0-9]/[0-9][0-9][0-9][0-9]'\n",
    "i = re.finditer(pattern2,testo)\n",
    "for m in i:\n",
    "    print(m.group())"
   ]
  },
  {
   "cell_type": "code",
   "execution_count": null,
   "metadata": {},
   "outputs": [],
   "source": [
    "# Terza versione giorno e mese possono avere anche una sola cifra e \n",
    "# l'anno può avere 2 o 4 cifre\n",
    "pattern2 = '[0-9]?[0-9]/[0-9]?[0-9]/([0-9][0-9])?[0-9][0-9]'\n",
    "i = re.finditer(pattern2,testo)\n",
    "for m in i:\n",
    "    print(m.group())\n",
    "    "
   ]
  },
  {
   "cell_type": "markdown",
   "metadata": {},
   "source": [
    "### Esercizio: cercare i codici fiscali in un file\n",
    "Scrivere una funzione che riceve in ingresso il nome di un file e restituisce due liste, ordinate alfabeticamente, di tutti i codici fiscali **corretti** presenti nel file, la prima contenente i codici fiscali degli uomini e la seconda quelli delle donne.\n",
    "\n",
    "Il formato del codice fiscale è:\n",
    "1. tre maiuscole\n",
    "2. spazio (opzionale)\n",
    "3. tre maiuscole\n",
    "4. spazio (opzionale)\n",
    "5. due cifre, una maiuscola, due cifre\n",
    "6. spazio (opzionale)\n",
    "7. maiuscola, tre cifre, maiuscola\n",
    "\n",
    "Il gruppo 5 denota la data di nascita, le prime 2 cifre reppresentano il giorno, la lettera denota il mese e le ultime 2 cifre denotano l'anno di nascita. Per le donne, il giorno di nascita viene aumentato di 40. Per verificare la correttezza di questo gruppo dovete solo verificare che il giorno di nascita sia un valore compreso tra 1 e 31, per gli uomini, oppure tra 40 e 71, per le donne, (quindi adottate l'assunzione semplificatrice che tutti i mesi siano di 31 giorni) e che la lettera relativa al mese sia una tra le lettere 'ABCDEHLMPRST' che rappresentano i 12 mesi dell'anno."
   ]
  },
  {
   "cell_type": "code",
   "execution_count": null,
   "metadata": {},
   "outputs": [],
   "source": [
    "# La soluzione proposta prima estrae tutte le stringhe che hanno\n",
    "# la struttura del codice fiscale, verificando poi se siano corretti\n",
    "# e decidendo se si riferiscono a uomini o donne.\n",
    "import re\n",
    "\n",
    "def trovaCF(file):\n",
    "    #definiamo il pattern seguendo le regole viste sopra\n",
    "    #Notate le prentesi intorno alle cifre del giorno e alla cifra\n",
    "    #del mese, servono per estrarre questi campi e poterli analizzare\n",
    "    #per poter verificare correttezza e sesso.\n",
    "    pattern='[A-Z]{3} ?[A-Z]{3} ?[0-9]{2}([A-Z])([0-9]{2}) ?[A-Z][0-9]{3}[A-Z]'\n",
    "    s = open(file).read()\n",
    "    i = re.finditer(pattern, s)\n",
    "    l_u = []\n",
    "    l_d = []\n",
    "    mesi = 'ABCDEHLMPRST'\n",
    "    for m in i:\n",
    "        cf = m.group(0)\n",
    "        giorno = int(m.group(2))\n",
    "        mese = m.group(1)\n",
    "        if (1 <= giorno <= 31) or (41 <= giorno <= 71) and mese in mesi:\n",
    "            if giorno <= 31:\n",
    "                l_u.append(cf)\n",
    "            else:\n",
    "                l_d.append(cf)\n",
    "    l_u.sort()\n",
    "    l_d.sort()\n",
    "    return l_u,l_d\n",
    "\n",
    "trovaCF('testoDateCF.txt')"
   ]
  },
  {
   "cell_type": "markdown",
   "metadata": {},
   "source": [
    "#### Discussione\n",
    "Il programma di sopra risolve il problema, ma non è completamente preciso. Per essere precisi, bisognerebbe verificare che il numero sia coerente con il mese (Aprile, Giugno, Settembre e Novembre) hanno 30 giorni e Febbraio ne ha 28 (o 29). Nell'Esercizio 4 incluso nella lista degli esercizi finali vi viene chiesto di rendere il controllo più preciso sulle date."
   ]
  },
  {
   "cell_type": "markdown",
   "metadata": {},
   "source": [
    "### Esercizio: cambiare le date al formato americano\n",
    "Dobbiamo scrivere una funzione che riceve una stringa contenente delle date nel formato dd/mm/yyyy (ma ammettete anche che il giorno e mese possano essere scritti con una sola cifra e l'anno con sole due cifre) e le scrive nel formato americano con solo 2 cifre per gli anni (mm/dd/yy)"
   ]
  },
  {
   "cell_type": "code",
   "execution_count": null,
   "metadata": {},
   "outputs": [],
   "source": [
    "def converti(s):\n",
    "    pattern = '(\\d?\\d)/(\\d?\\d)/(\\d\\d)?(\\d\\d)'\n",
    "    repl = r'\\2/\\1/\\4'\n",
    "    return re.sub(pattern,repl,s)\n",
    "\n",
    "print(converti('01/02/1972 1/3/89 11/12/2011'))"
   ]
  },
  {
   "cell_type": "markdown",
   "metadata": {},
   "source": [
    "### Esercizio: cambiare al formato americano ore e date con il nome del mese\n",
    "Vogliamo convertire tutte le date ed ore presenti in un file nel formato americano con mesi per esteso, numeri con i suffissi ed anno a 4 cifre (assumere che tutte le date si riferiscano al secolo XX e mettere quindi all'inizio 19, se necessario). Ad esempio, la data **11/07/89** deve diventare **July 11th 1989**. Per le ore, si accettano sia nel formato **14:00** che **13.20** e vengono convertite nel formato americano con i **:** come separatore. Vediamo prima la funzione ausiliaria che converte le ore:"
   ]
  },
  {
   "cell_type": "code",
   "execution_count": null,
   "metadata": {},
   "outputs": [],
   "source": [
    "# Converte le ore in formato 24h al formato 12h + am/pm.\n",
    "# Attenzione alle eccezioni per i casi della mezzanotte e mezzogiorno\n",
    "# per cui le 00:20 diventano 12:20am e le 12:30 diventano 12:30pm\n",
    "def oreAmericane(s):\n",
    "    coppia = s.split(':')\n",
    "    ore = int(coppia[0])\n",
    "    minuti = coppia[1]\n",
    "    if ore >= 13:\n",
    "        oraAm = str(ore-12)\n",
    "        ampm = 'pm'\n",
    "    elif ore == 12:\n",
    "        oraAm = '12'\n",
    "        ampm = 'pm'\n",
    "    elif ore == 0:\n",
    "        oraAm = '12'\n",
    "        ampm = 'am'\n",
    "    else:\n",
    "        oraAm = str(ore)\n",
    "        ampm = 'am'\n",
    "    if len(oraAm) == 1:\n",
    "        oraAm = '0'+oraAm\n",
    "    return oraAm+':'+minuti+ampm\n",
    "\n",
    "print('21:10',oreAmericane('21:10'))\n",
    "print('01:10',oreAmericane('01:10'))\n",
    "print('00:10',oreAmericane('00:10'))\n",
    "print('12:10',oreAmericane('12:10'))"
   ]
  },
  {
   "cell_type": "markdown",
   "metadata": {},
   "source": [
    "#### Funzioni ausiliarie `month()` e `day()`\n",
    "Scriviamo le funzioni ausiliarie che convertono il mese nel nome esteso inglese ed il giorno con il suffisso appropriato"
   ]
  },
  {
   "cell_type": "code",
   "execution_count": null,
   "metadata": {},
   "outputs": [],
   "source": [
    "#Converte il mese numerico nel nome in inglese\n",
    "def month(s):\n",
    "    n = int(s)\n",
    "    months = ('January','February','March','April','May','June','July','August','September','October','November','December')\n",
    "    return months[n-1]\n",
    "\n",
    "def day(s):\n",
    "    n = int(s[-1])\n",
    "    if len(s) > 1:\n",
    "        d = s[0] #Decina del giorno, se assente vale None\n",
    "    else:\n",
    "        d = None\n",
    "    if n == 1 and d != '1': #Fa eccezione 11\n",
    "        return s+'st'\n",
    "    if n == 2 and d != '1': #Fa eccezione 12\n",
    "        return s+'nd'\n",
    "    if n== 3 and d != '1': #Fa eccezione 13\n",
    "        return s+'rd'\n",
    "    return s+'th'\n",
    "\n",
    "print('04',month('04'))\n",
    "print('6',month('6'))\n",
    "print('21',day('21'))\n",
    "print('11',day('11'))\n",
    "print('23',day('23'))\n",
    "print('5',day('5'))\n"
   ]
  },
  {
   "cell_type": "markdown",
   "metadata": {},
   "source": [
    "#### Funzione complessiva\n",
    "Possiamo ora scrivere la funzione complessiva chiamata **inglesizza(s)**"
   ]
  },
  {
   "cell_type": "code",
   "execution_count": null,
   "metadata": {},
   "outputs": [],
   "source": [
    "def inglesizza(filein,fileout):\n",
    "    f1 = open(filein,encoding= 'UTF-8')\n",
    "    f2 = open(fileout,'w',encoding= 'UTF-8')\n",
    "    s = f1.read()\n",
    "    patternDate = '(\\d?\\d)/(\\d?\\d)/(\\d\\d)?(\\d\\d)'\n",
    "    patternOre = '(\\d?\\d)[:.](\\d\\d)'\n",
    "    for match in re.finditer(patternDate,s):\n",
    "        d = day(match.group(1))\n",
    "        m = month(match.group(2))\n",
    "        if match.group(3) == None:\n",
    "            year = '19'+match.group(4)\n",
    "        else:\n",
    "            year = match.group(3)+match.group(4)\n",
    "        nuova = m+' '+d+' '+year\n",
    "        s = s.replace(match.group(),nuova)\n",
    "    for match in re.finditer(patternOre,s):        \n",
    "        nuova = oreAmericane(match.group(1)+':'+match.group(2))\n",
    "        s = s.replace(match.group(),nuova)\n",
    "    f2.write(s)\n",
    "    f1.close()\n",
    "    f2.close()\n",
    "\n",
    "inglesizza('Esempio Date Ore.txt','risultato.txt')"
   ]
  },
  {
   "cell_type": "markdown",
   "metadata": {},
   "source": [
    "### Esercizi\n",
    "Completate questi esercizi prima di cominciare il prossimo argomento\n",
    "\n",
    "#### Esercizio 1: \n",
    "Scrivere un programma che prende in ingresso il nome di un file e restituisce la lista (ordinata alfabeticamente e senza ripetizioni) delle parole che contengono al loro interno almeno 3 doppie, cioè 3 coppie di lettere uguali consecutive come ad esempio 'arrabbattarsi'. Non fate differenza tra maiuscole e minuscole."
   ]
  },
  {
   "cell_type": "code",
   "execution_count": null,
   "metadata": {},
   "outputs": [],
   "source": [
    "from tester import tester_fun\n",
    "\n",
    "import re\n",
    "\n",
    "def trovaParole(file):\n",
    "    \"\"\"MODIFICARE IL CONTENUTO DI QUESTA FUNZIONE PER SVOLGERE L'ESERCIZIO\"\"\"\n",
    "    \n",
    "tester_fun(trovaParole,['I_Malavoglia_50.txt'],['scappellotto'])\n",
    "tester_fun(trovaParole,['I_Malavoglia.txt'],['abboccherebbero', 'ammazzeranno', 'arrabbattarsi', 'azzuffassero', 'cappellaccio', 'cappelletta', 'cappellette', 'scappellotto', 'uccellaccio'])\n"
   ]
  },
  {
   "cell_type": "markdown",
   "metadata": {},
   "source": [
    "#### Esercizio 2:\n",
    "Generalizzare l'esercizio 1 mettendo il numero di doppie come parametro, cioè scrivere una funzione che prende come parametro il nome di un file ed il numero (minimo) n di doppie che le parole devono contenere e restituisce la lista (ordinata alfabeticamente e senza ripetizioni) delle parole che contengono al loro interno almeno n doppie, cioè n coppie di lettere uguali consecutive. Non fate differenza tra maiuscole e minuscole."
   ]
  },
  {
   "cell_type": "code",
   "execution_count": null,
   "metadata": {},
   "outputs": [],
   "source": [
    "from tester import tester_fun\n",
    "\n",
    "import re\n",
    "\n",
    "def trovaParole2(file,n):\n",
    "    \"\"\"MODIFICARE IL CONTENUTO DI QUESTA FUNZIONE PER SVOLGERE L'ESERCIZIO\"\"\"\n",
    "    \n",
    "tester_fun(trovaParole2,['I_Malavoglia_50.txt',3],['scappellotto'])\n",
    "tester_fun(trovaParole2,['I_Malavoglia_50.txt',2],['addii', 'affrettati', 'ammarrata', 'apparecchiare', 'arricchirsi', 'arricchisci', 'arricchito', 'donnicciuole', 'fazzoletto', 'gruzzoletto', 'parommella', 'parrocchia', 'ricchezze', 'scappellotto', 'soddisfatti', 'soggetto', 'villaggio', 'vorrebbe', 'zuppidda'])\n",
    "tester_fun(trovaParole2,['I_Malavoglia.txt',3],['abboccherebbero', 'ammazzeranno', 'arrabbattarsi', 'azzuffassero', 'cappellaccio', 'cappelletta', 'cappellette', 'scappellotto', 'uccellaccio'])\n"
   ]
  },
  {
   "cell_type": "markdown",
   "metadata": {},
   "source": [
    "#### Esercizio 3:\n",
    "Calcolare quante volte in un file compare una sequenza di 3 parole consecutive con la proprietà che tutte le parole cominciano con la stessa lettera e finiscono con la stessa lettera (lettera iniziale e finale possono essere diverse). \n",
    "\n",
    "**Nota:** Si assuma che le parole di ciascuna sequenza contengano almeno due lettere e non si considerino sequenze sovrapposte (ad esempio, nella stringa 'are asce asole ace ave' c'è comunque una sola sequenza, perchè 'asole' deve essere considerato parte di una sola sequenza)"
   ]
  },
  {
   "cell_type": "code",
   "execution_count": null,
   "metadata": {},
   "outputs": [],
   "source": [
    "from tester import tester_fun\n",
    "\n",
    "import re\n",
    "\n",
    "def conta(file):\n",
    "    \"\"\"MODIFICARE IL CONTENUTO DI QUESTA FUNZIONE PER SVOLGERE L'ESERCIZIO\"\"\"\n",
    "\n",
    "    \n",
    "counter_test_positivi = 0\n",
    "\n",
    "counter_test_positivi += tester_fun(conta,['file4.txt'],1)\n",
    "counter_test_positivi += tester_fun(conta,['file5.txt'],2)\n",
    "counter_test_positivi += tester_fun(conta,['file6.txt'],3)\n",
    "\n",
    "print('La funzione',conta.__name__,'ha superato',counter_test_positivi,'test')\n"
   ]
  },
  {
   "cell_type": "markdown",
   "metadata": {},
   "source": [
    "#### Esercizio 4:\n",
    "Il programma che abbiamo visto per l'estrazione dei codici fiscali risolve il problema, ma non è completamente preciso. Per essere precisi, bisognerebbe verificare che il numero sia coerente con il mese (Aprile, Giugno, Settembre e Novembre) hanno 30 giorni e Febbraio ne ha 28 (o 29). Provate a completare quell'esercizio introducendo questi controlli addizionali. Assumete che un anno sia bisestile se è un multiplo di 4 (semplificando così leggermente il calcolo)."
   ]
  },
  {
   "cell_type": "code",
   "execution_count": null,
   "metadata": {},
   "outputs": [],
   "source": [
    "from tester import tester_fun\n",
    "\n",
    "import re\n",
    "\n",
    "def trovaCF2(file):\n",
    "    \"\"\"MODIFICARE IL CONTENUTO DI QUESTA FUNZIONE PER SVOLGERE L'ESERCIZIO\"\"\"\n",
    "    \n",
    "counter_test_positivi = 0\n",
    "\n",
    "tester_fun(trovaCF2, ['testoDateCF.txt'],(['CCCMRC17A11H501W', 'CCDMRC55P13H501W'], ['CCCMRC00M57H501W', 'CCCMRC96E41H501W']))\n",
    "tester_fun(trovaCF2, ['testoDateCF2.txt'],(['CCDMRC80B29H501W'], ['CCCMRC71T57H501W', 'CCCSRC74D51H501W']))\n",
    "tester_fun(trovaCF2, ['testoDateCF3.txt'],(['CCCMRC57D30H501W', 'CCDMRC80B29H501W'], ['CCCSRC57T51H501W']))\n",
    "\n",
    "print('La funzione',trovaCF2.__name__,'ha superato',counter_test_positivi,'test')\n",
    "   "
   ]
  }
 ],
 "metadata": {
  "kernelspec": {
   "display_name": "Python 3 (ipykernel)",
   "language": "python",
   "name": "python3"
  },
  "language_info": {
   "codemirror_mode": {
    "name": "ipython",
    "version": 3
   },
   "file_extension": ".py",
   "mimetype": "text/x-python",
   "name": "python",
   "nbconvert_exporter": "python",
   "pygments_lexer": "ipython3",
   "version": "3.9.7"
  }
 },
 "nbformat": 4,
 "nbformat_minor": 4
}
