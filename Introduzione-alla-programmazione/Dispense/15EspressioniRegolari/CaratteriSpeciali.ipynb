{
 "cells": [
  {
   "cell_type": "markdown",
   "metadata": {
    "slideshow": {
     "slide_type": "slide"
    }
   },
   "source": [
    "#### Autori: Domenico Lembo, Antonella Poggi, Giuseppe Santucci and Marco Schaerf\n",
    "\n",
    "[Dipartimento di Ingegneria informatica, automatica e gestionale](https://www.diag.uniroma1.it)\n",
    "\n",
    "<img src=\"https://mirrors.creativecommons.org/presskit/buttons/88x31/png/by-nc-sa.eu.png\"\n",
    "     alt=\"License\"\n",
    "     style=\"float: left;\"\n",
    "     height=\"40\" width=\"100\" />\n",
    "This notebook is distributed with license Creative Commons *CC BY-NC-SA*"
   ]
  },
  {
   "cell_type": "markdown",
   "metadata": {},
   "source": [
    "### Caratteri Speciali\n",
    "Vediamo innanzitutto i caratteri speciali più importanti:\n",
    "\n",
    "- **\".\"** (Punto, in inglese \"dot\"). Nella modalità predefinita, questo corrisponde a qualunque carattere, ad eccezione del fine riga. Se l'opzione DOTALL viene specificata, il punto corrisponde a qualunque carattere, fine riga compreso.\n",
    "\n",
    "- **\"^\"** (Cappelletto, in inglese \"caret\"). Corrisponde all'inizio di una stringa, e quindi la ricerca avviene solo all'inizio della stringa. Se l'opzione MULTILINE viene specificata, \"^\" corrisponde anche all'inizio di ogni nuova riga, e quindi la ricerca avviene all'inizio della stringa ed anche appena dopo ogni carattere di fine riga.\n",
    "\n",
    "- **\"\\\\$\"** Corrisponde alla fine della stringa o a prima del carattere di fine riga alla fine della stringa. Quindi la ricerca avviene solo alla fine della stringa ed immediatamente prima del carattere di fine riga (se presente) che si trova alla fine della stringa. Se l'opzione MULTILINE viene specificata, \"\\\\$\" corrisponde a prima di ogni fine riga, quindi la ricerca è effettuata alla fine di ogni riga (appena prima del '\\n'). Ad esempio, l'espressione regolare foo corrisponde sia alla stringa 'foo' che alla stringa 'foobar', mentre l'espressione regolare foo$ corrisponde solo a 'foo'. L'espressione regolare foo.\\\\$ in 'foo1\\nfoo2\\n' normalmente restituisce la sola corrispondenza 'foo2', ma restituisce anche 'foo1' se l'opzione MULTILINE viene specificata.\n",
    "\n",
    "- **\"\\*\"** Fa sì che l'espressione regolare risultante corrisponda a 0 o più ripetizioni della precedente espressione regolare (un numero qualunque di ripetizioni è possibile). Ad esempio, ab* corrisponde ad 'a', 'ab' o 'a' seguita da qualunque numero di 'b'.\n",
    "\n",
    "- **\"\\+\"** Fa sì che l'espressione regolare risultante corrisponda a 1 o più ripetizioni della precedente espressione regolare. Ad esempio, ab+ corrisponde ad 'a' seguita da un qualunque numero, diverso da zero, di 'b'; non corrisponde alla stringa 'a'.\n",
    "\n",
    "- **\"?\"** Fa sì che l'espressione regolare risultante corrisponda a 0 o 1 ripetizioni della precedente espressione regolare. ab? corrisponderà sia ad 'a' che ad 'ab'.\n",
    "\n",
    "- **\"*?\", \"+?\", \"??\"** I qualificatori \"\\*\", \"+\" e \"?\" sono ''ingordi'', cioè corrispondono a tutto il testo possibile. A volte questo comportamento non è quello desiderato; se l'espressione regolare \\<.\\*\\> viene fatta corrispondere alla stringa ```<H1>title</H1>```, corrisponderà all'intera stringa (longest match) e non a ```<H1>``` e ```</H1>```. Aggiungere il carattere \"?\" dopo il qualificatore rende la ricerca delle corrispondenze non-ingorda o minimale; infatti verrà fatto corrispondere il minor numero possibile di caratteri. Usando \\<.\\*?\\> nella precedente espressione vi saranno due corrispondenze, una con ```<H1>``` ed una con ```</H1>```.\n",
    "\n",
    "- **{m}** Specifica che devono corrispondere esattamente m copie della precedente espressione regolare; un numero minore di corrispondenze farà sì che l'intera espressione regolare non corrisponda. Per esempio, a{6} corrisponderà esattamente con sei caratteri \"a\", ma non con cinque.\n",
    "\n",
    "- **{m,n}** Fa sì che la risultante espressione regolare corrisponda da m a n ripetizioni dell'espressione regolare precedente, *cercando di far corrispondere più ripetizioni possibili*. Per esempio, a{3,5} corrisponderà da tre a cinque caratteri \"a\". Omettendo m si specifica un limite inferiore di zero e omettendo n si specifica un limite superiore infinito. Come esempio a{4,}b corrisponderà con aaaab o con un migliaio di caratteri \"a\" seguiti da una b, ma non ad aaab. La virgola è necessaria, o il modificatore viene interpretato con la forma descritta al punto precedente.\n",
    "\n",
    "- **{m,n}?** Fa sì che l'espressione regolare risultante corrisponda da m a n ripetizioni della precedente espressione regolare, cercando di far corrispondere il minor numero di ripetizioni possibili. Questa è la versione non ''ingorda'' del precedente qualificatore. Per esempio, nella stringa di 6 caratteri 'aaaaaa', a{3,5} farà corrispondere cinque caratteri \"a\", mentre a{3,5}? farà corrispondere solo tre caratteri (e quindi trova due match nella stringa 'aaaaaa').\n",
    "\n",
    "- **\"\\\\\"** E' utilizzato nell'espressione regolare sia come sequenza di escape per i caratteri speciali (consentendo la corrispondenza di caratteri come \"*\", \"?\" e così via), sia per segnalare una sequenza speciale (per riferirsi alla parte del match che corrisponde ad un certo gruppo - vedi notebook su espressioni regolari). L'uso del backslash nell'espressione regolare (anche detta modello) può essere però in alcuni casi difficile da comprendere, per via del fatto che Python usa il backslash anche nelle stringhe costanti (di cui vogliamo stabilire la corrispondenza con il modello) con uno scopo analogo (creare sequenze di escape). Supponiamo ad esempio di voler scrivere una espressione regolare che indichi le corrispondenze della stringa \"\\section\", che in Python  è rappresentata come \"\\\\\\\\section\" (il primo backslash ''protegge'' il secondo, andando a formare la sequenza di escape \"\\\\\\\\\"). L'espressione regolare sarebbe quindi \\\\\\\\section, ma poichè in Python anche questa viene scritta come una stringa (si vedano ad esempio i parametri passati ai metodi `re.search` ed `re.finditer`),  entrambi i backslash devono essere preceduti da ancora un altro backslash, e cioè la stringa da usare come modello è '\\\\\\\\\\\\\\section'. Questo è complicato ed a volte difficile da comprendere, perciò è altamente raccomandato che utilizziate sempre le stringhe raw per rappresentare il modello (tranne che per le espressioni più semplici). Infatti nell'esempio precedente, il modello espresso con una stringa raw sarebbe semplicemente r'\\\\\\\\section', come mostrato nel codice Python seguente."
   ]
  },
  {
   "cell_type": "code",
   "execution_count": 3,
   "metadata": {},
   "outputs": [
    {
     "name": "stdout",
     "output_type": "stream",
     "text": [
      "None\n",
      "<re.Match object; span=(0, 8), match='\\\\section'>\n",
      "<re.Match object; span=(0, 8), match='\\\\section'>\n"
     ]
    }
   ],
   "source": [
    "import re\n",
    "\n",
    "#non collima\n",
    "m=re.search(r'\\section','\\section')\n",
    "print(m)\n",
    "\n",
    "#collima\n",
    "m=re.search('\\\\\\\\section','\\section')\n",
    "print(m)\n",
    "\n",
    "#collima\n",
    "m=re.search(r'\\\\section','\\section')\n",
    "print(m)\n"
   ]
  },
  {
   "cell_type": "markdown",
   "metadata": {},
   "source": [
    "- **\\[ \\]** Vengono utilizzate per indicare un insieme di caratteri. I caratteri possono venire elencati individualmente, o un intervallo di caratteri può venire indicato fornendo due caratteri separati da un trattino (\"-\"). I caratteri speciali non sono attivi all'interno degli insiemi. Per esempio, [akm\\\\$] corrisponderà ognuno dei caratteri \"a\", \"k\", \"m\" o \"\\\\$\"; [a-z] corrisponderà a tutte le lettere minuscole, e [a-zA-Z0-9] corrisponderà ad ogni lettera o cifra. Le classi di caratteri come \\w o \\S  sono anche accettabili all'interno di un intervallo. Se voleste includere un carattere \"]\" o \"-\" in un insieme, fatelo precedere da un backslash o indicatelo come primo carattere dell'intervallo (\"-\" può anche essere l'ultimo, ma non può comparire in mezzo ad altri caratteri). Il modello `[]]` corrisponderà alla stringa ']', per esempio. Potete anche far corrispondere i caratteri non compresi in un determinato intervallo. Questo viene indicato includendo il carattere \"^\" come primo carattere dell'insieme; \"^\" altrove corrisponderà semplicemente con il carattere \"^\". Per esempio, [^5] corrisponderà con ogni carattere escluso \"5\", e [^^] corrisponderà con ogni carattere eccetto \"^\".\n",
    "\n",
    "- **\"|\"** A|B, dove A e B possono essere espressioni regolari arbitrarie, crea un'espressione regolare che corrisponderà ad A o a B. Un numero arbitrario di espressioni regolari può venire separate dal carattere \"|\" in questo modo. Può essere utilizzato anche all'interno dei gruppi (vedete di seguito). Quando la stringa bersaglio (quella di cui si vuole strabilire la corrispondenza con l'espressione regolare) viene analizzata, le espressioni regolari vengono provate da sinistra a destra. Quando un modello corrisponde completamente, quel ramo viene accettato. Questo significa che quando A corrisponde, B non verrà testata, anche se dovesse avere una corrispondenza maggiore. In altre parole, l'operatore \"|\" non è mai ''ingordo''. Per far corrispondere un carattere \"|\", utilizzate `\\|`, oppure inseritelo in una classe di caratteri, come in `[|]`.\n",
    "\n",
    "- **(...)** Fa corrispondere qualunque espressione regolare nelle parentesi, e indica l'inizio e la fine di un gruppo; i contenuti di un gruppo possono venire recuperati dopo che una corrispondenza viene verificata, e possono essere nuovamente fatte corrispondere nella stringa con la sequenza speciale \\numero (vedi notebook su espressioni regolari). Per far corrispondere le costanti \"(\" o \")\", utilizzate `\\(` o `\\)` oppure inseritele in una classe di caratteri: `[(] [)]`."
   ]
  },
  {
   "cell_type": "code",
   "execution_count": null,
   "metadata": {},
   "outputs": [],
   "source": []
  }
 ],
 "metadata": {
  "kernelspec": {
   "display_name": "Python 3 (ipykernel)",
   "language": "python",
   "name": "python3"
  },
  "language_info": {
   "codemirror_mode": {
    "name": "ipython",
    "version": 3
   },
   "file_extension": ".py",
   "mimetype": "text/x-python",
   "name": "python",
   "nbconvert_exporter": "python",
   "pygments_lexer": "ipython3",
   "version": "3.8.17"
  }
 },
 "nbformat": 4,
 "nbformat_minor": 4
}
