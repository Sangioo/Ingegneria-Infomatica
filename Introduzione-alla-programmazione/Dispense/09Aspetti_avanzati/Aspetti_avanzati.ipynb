{
 "cells": [
  {
   "cell_type": "markdown",
   "metadata": {
    "slideshow": {
     "slide_type": "slide"
    }
   },
   "source": [
    "#### Autori: Domenico Lembo, Antonella Poggi, Giuseppe Santucci and Marco Schaerf\n",
    "\n",
    "[Dipartimento di Ingegneria informatica, automatica e gestionale](https://www.diag.uniroma1.it)\n",
    "\n",
    "<img src=\"https://mirrors.creativecommons.org/presskit/buttons/88x31/png/by-nc-sa.eu.png\"\n",
    "     alt=\"License\"\n",
    "     style=\"float: left;\"\n",
    "     height=\"40\" width=\"100\" />\n",
    "This notebook is distributed with license Creative Commons *CC BY-NC-SA*"
   ]
  },
  {
   "cell_type": "markdown",
   "metadata": {},
   "source": [
    "# Aspetti avanzati ed ulteriori esempi di For, While e Funzioni\n",
    "1. Cicli for annidati\n",
    "2. Cicli con return interno\n",
    "3. Ricerca di valori caratteristici di una sequenza\n",
    "4. Cicli che analizzano elementi adiacenti di una sequenza\n",
    "5. Funzioni con un numero qualunque di parametri\n",
    "6. Correzione errori\n",
    "7. Esercizi ricapitolativi"
   ]
  },
  {
   "cell_type": "markdown",
   "metadata": {},
   "source": [
    "## Cicli `for` annidati\n",
    "In molte situazioni dobbiamo effettuare un ciclo che contiene al suo interno un altro ciclo. Questi cicli possono essere di tipo diverso o uguale. Vediamo alcuni esempi di ciclo for all'interno di un altro ciclo `for`."
   ]
  },
  {
   "cell_type": "markdown",
   "metadata": {},
   "source": [
    "### Esercizio\n",
    "Scrivere un programma che legge da input un numero intero e stampa sullo schermo un quadrato di lato n con un pattern tipo scacchiera, dove le caselle bianche sono denotate dalla lettera 'B' e quelle nere dalla lettera 'N'"
   ]
  },
  {
   "cell_type": "code",
   "execution_count": null,
   "metadata": {},
   "outputs": [],
   "source": [
    "n = int(input('Inserisci la dimensione della scacchiera: '))\n",
    "\n",
    "for i in range(n):\n",
    "    for j in range(n):\n",
    "        if (i+j)% 2 == 0:\n",
    "            print('N',end='')\n",
    "        else:\n",
    "            print('B',end='')\n",
    "    print()"
   ]
  },
  {
   "cell_type": "markdown",
   "metadata": {},
   "source": [
    "## Cicli `for` con return interno\n",
    "Alle volte è necessario ricorrere ad un ciclo `for` che al suo interno contiene un'istruzione di return che viene eseguita se alcune condizioni sono soddisfatte, mentre un'altra istruzione di return viene eseguita fuori dal ciclo. Vediamo degli esempi."
   ]
  },
  {
   "cell_type": "markdown",
   "metadata": {},
   "source": [
    "### Esercizio\n",
    "Scrivere una funzione che prende in ingresso una stringa s e restituisce True se la stringa contiene almeno un carattere il cui codice UNICODE sia divisibile per 10"
   ]
  },
  {
   "cell_type": "code",
   "execution_count": null,
   "metadata": {},
   "outputs": [],
   "source": []
  },
  {
   "cell_type": "markdown",
   "metadata": {},
   "source": [
    "### Esercizio\n",
    "Scrivere una funzione che prende in ingresso una stringa s e restituisce True se la stringa contiene almeno un carattere il cui codice UNICODE sia uguale al doppio del codice UNICODE del carattere precedente"
   ]
  },
  {
   "cell_type": "code",
   "execution_count": null,
   "metadata": {},
   "outputs": [],
   "source": []
  },
  {
   "cell_type": "markdown",
   "metadata": {
    "tags": []
   },
   "source": [
    "## Ricerca di valori caratteristici di una sequenza\n",
    "\n",
    "In questo caso il ciclo è usato per determinare un valore caratteristico tra i valori in una sequenza"
   ]
  },
  {
   "cell_type": "markdown",
   "metadata": {},
   "source": [
    "#### Esempio Trovare il minimo in una sequenza di interi\n",
    "Scrivere un programma che legge una sequenza di interi (letta da input e terminata dall'introduzione di un asterisco) e ne calcola il minimo"
   ]
  },
  {
   "cell_type": "code",
   "execution_count": null,
   "metadata": {
    "tags": []
   },
   "outputs": [],
   "source": [
    "s=input(\"inserisci un intero  (* per terminare) \")\n",
    "\n",
    "if s != '*':\n",
    "    n = int(s) \n",
    "    minimo = n # per ora il minimo è il primo letto\n",
    "while s != '*':\n",
    "    n = int(s)\n",
    "    if n < minimo:\n",
    "        minimo = n\n",
    "    s=input(\"inserisci un intero  (* per terminare) \")\n",
    "print(minimo)"
   ]
  },
  {
   "cell_type": "markdown",
   "metadata": {
    "tags": []
   },
   "source": [
    "**Osservazioni:** \n",
    "* Cosa succede nell'esercizio precedente se inseriamo `'*'` come primo carattere della sequenza? Come potete risolvere il problema che si verifica in questo caso?"
   ]
  },
  {
   "cell_type": "code",
   "execution_count": null,
   "metadata": {},
   "outputs": [],
   "source": []
  },
  {
   "cell_type": "markdown",
   "metadata": {
    "tags": []
   },
   "source": [
    "* Nel programma precedente abbiamo inizializzato la variabile minimo al primo valore letto. NON possiamo inizializzarlo ad un numero diverso, anche se molto alto, perchè non esiste in Python un intero che è sicuramente più grande o uguale di tutti gli altri numeri interi. Notate che se esistesse questo numero potremmo usarlo per inizializzare la variabile `minimo`, perchè i numeri inseriti sarebbero tutti minori o uguali di tale numero, e quindi il programma sarebbe corretto. N.B. in praticamente tutti gli altri linguaggi tale numero esiste.\n",
    "In realtà in Python 3.10.7 tale numero esiste: un intero non può avere più di 4300 cifre; l'intero più grande rappresentabile è  quindi int(\"9\"* 4300). Il programma di cui sopra si può scrivere: "
   ]
  },
  {
   "cell_type": "code",
   "execution_count": null,
   "metadata": {},
   "outputs": [],
   "source": [
    "s=input(\"inserisci un intero  (* per terminare) \")\n",
    "if s == '*':\n",
    "    print(\"Non hai inserito alcun intero\")    \n",
    "else:\n",
    "    minimo=int(\"9\"* 4300)\n",
    "    while s != '*':\n",
    "        n = int(s)\n",
    "        if n < minimo:\n",
    "            minimo = n\n",
    "        s=input(\"inserisci un intero  (* per terminare) \")\n",
    "print(minimo)"
   ]
  },
  {
   "cell_type": "markdown",
   "metadata": {
    "tags": []
   },
   "source": [
    "## Cicli che analizzano elementi adiacenti di una sequenza\n",
    "\n",
    "In questo caso, ad ogni iterazione si devono confrontare elementi fra loro (almeno) due elementi della sequenza in input. "
   ]
  },
  {
   "cell_type": "markdown",
   "metadata": {},
   "source": [
    "Scriviamo una funzione che riceve una stringa s e conta quante volte ci sono 2 caratteri adiacenti uguali. Ad esempio, se la string s è 'battello' allora deve restituire 2"
   ]
  },
  {
   "cell_type": "code",
   "execution_count": null,
   "metadata": {},
   "outputs": [],
   "source": [
    "def conta_doppie(s):\n",
    "    "
   ]
  },
  {
   "cell_type": "markdown",
   "metadata": {},
   "source": [
    "Ora scriviamo un programma il cui scopo è contare quante volte vengono inserite consecutivamente da input due stringhe uguali. Più precisamente, il programma legge una sequenza di stringhe (terminate da stringa vuota '') e conta quante volte 2 stringhe consecutive sono uguali. \n",
    "\n",
    "*Nota bene*: bisogna memorizzare la penultima stringa letta. Per dare in input una stringa vuota basta digitare invio."
   ]
  },
  {
   "cell_type": "code",
   "execution_count": null,
   "metadata": {
    "tags": []
   },
   "outputs": [],
   "source": [
    "s=input(\"inserisci una stringa (stringa vuota per terminare): \")\n",
    "\n",
    "conta = 0 # per ora non ho ancora trovato coppie di stringhe uguali adiacenti\n",
    "precedente = s\n",
    "while s != '':   #len(s)>0\n",
    "    s=input(\"inserisci una stringa (stringa vuota per terminare): \")\n",
    "    if s==precedente:\n",
    "        conta += 1\n",
    "    precedente = s\n",
    "print(conta)"
   ]
  },
  {
   "cell_type": "markdown",
   "metadata": {
    "tags": []
   },
   "source": [
    "## Funzioni con un numero qualunque di parametri\n",
    "E' possibile definire una funzione che prende un numero variabile di input, ad esempio come la funzione print(). Per dire che il numero di parametri è variabile si usa la notazione \\*param, che indica il fatto che ci può essere un numero qualunque di valori per il parametro param, che è quindi una sequenza di valori. Vediamo un esempio con una funzione che somma tutti i parametri che gli vengono passati"
   ]
  },
  {
   "cell_type": "code",
   "execution_count": null,
   "metadata": {},
   "outputs": [],
   "source": [
    "def somma(*valori):\n",
    "    totale = 0\n",
    "    for n in valori:\n",
    "        totale += n\n",
    "    return totale\n",
    "\n",
    "\n",
    "conta = somma(1,2,3,4)\n",
    "print(conta)"
   ]
  },
  {
   "cell_type": "markdown",
   "metadata": {
    "tags": []
   },
   "source": [
    "## Correzione errori\n",
    "\n",
    "Durante lo sviluppo di un programma Python è del tutto naturale incappare in degli errori; questa sezione, senza avere la pretesa di discutere le tecniche di test proprie dell'Ingegneria del Software, fornisce alcune semplici regole generali e indicazioni di massima per riconoscere e correggere gli errori più frequenti di chi comincia a programmare.\n",
    "\n",
    "Una prima classificazione ci permette di distinguere tra due categorie di errori:\n",
    "##### Errori sintattici - individuati sistematicamente a tempo di compilazione;\n",
    "##### Errori semantici - individuabili solo a tempo di esecuzione del programma. \n",
    "\n",
    "### Errori di sintassi\n",
    "Gli errori di sintassi, ovvero errori che sono generati da un non corretto uso dei costrutti del linguaggio Python, vengono segnalati nel momento in cui si chiede di eseguire il programma. In questa fase **tutto** il codice viene letto e l'editor Spyder segnala il primo errore che incontra e si arresta stampando il relativo messaggio di errore; il programma NON viene mandato in esecuzione (in realtà NON può andare in esecuzione perchè l'interprete non saprebbe cosa fare...). La cosa da fare più ovvia, spesso ignorata, è quella di **leggere attentamente il messaggio di errore**, capendo il **punto esatto** in cui l'interprete si è arrestato ed essendo consapevoli che **l'errore può essere prima di tale punto** (ma non dopo). Ulteriore complicazione è che lo stesso errore può essere segnalato in modo diverso da differenti editor (punto dell'errore, messaggio di errore). Ad esempio, nel seguente codice manca una parentesi alla fine della prima riga."
   ]
  },
  {
   "cell_type": "code",
   "execution_count": null,
   "metadata": {
    "tags": []
   },
   "outputs": [],
   "source": [
    "s=int(input(\"Inserisci un intero\")\n",
    "print(\"hai inserito l'intero\",s)"
   ]
  },
  {
   "cell_type": "markdown",
   "metadata": {
    "tags": []
   },
   "source": [
    "Jupyter lo segnala alla seconda riga come \"SyntaxError: invalid syntax\". In realtà l'errore è appena prima, alla fine della prima riga. Questo è un caso comune: spesso l'errore è nella riga prececente a quella in cui viene segnalato... E anche il tipo di errore è molto comune: manca una parentesi, ce ne è una di troppo, o sono malamente alternate parentesi tonde e quadre.\n",
    "\n",
    "Spyder invece, sullo stesso codice, segnala correttamente la mancanza di una parentesi\n",
    "\n",
    "<img src=\"./immagini/idle01.png\" alt=\"drawing\" style=\"width:500px;\" align=\"middle\"/>\n",
    "\n",
    "Il seguente codice contiene un errore di sintassi che è specifico di Python: le istruzioni non sono indentate correttamente o mancano i due punti che indicano l'inizio di un blocco nell'if o nel while, come nel seguente codice. Il messaggio di errore di Jupyter è lo stesso \"SyntaxError: invalid syntax\" ma viene segnalato al posto giusto. Spyder segnala correttamente la locazione dell'errore e il tipo di errore.\n",
    "\n",
    "<img src=\"./immagini/idle02.png\" alt=\"drawing\" style=\"width:400px;\" align=\"middle\"/>\n",
    "\n",
    "Chiarito che editor diversi si comportano in modo differente rispetto a errori sintattici, nel seguito ci concentreremo solo su Spyder."
   ]
  },
  {
   "cell_type": "code",
   "execution_count": null,
   "metadata": {
    "tags": []
   },
   "outputs": [],
   "source": [
    "n=int(input(\"Inserisci un intero\"))\n",
    "if n>0\n",
    "    print(\"positivo\")\n",
    "    "
   ]
  },
  {
   "cell_type": "markdown",
   "metadata": {
    "tags": []
   },
   "source": [
    "\n",
    "### Errori semantici\n",
    "Gli errori semantici non impediscono l'avvio del programma e sono, a loro volta, classificabili in due categorie:\n",
    "\n",
    "#### Errori che provocano l'arresto del programma e la stampa di un messaggio di errore\n",
    "\n",
    "La sintassi è corretta e la semantica violata è quella delle funzioni chiamate con ingressi erronei (e.g., int('51a')), dei tipi utilizzati (e.g., 3+'a') o l'utilizzo di variabili non dichiarate\n",
    "Questi errori vengono scoperti **solo** se la riga di codice in cui risiedono viene eseguita, ad esempio: \n",
    "- Uso di una variabile non definita;\n",
    "- Incompatibilità tra un operando e un operatore;\n",
    "- Uso di un parametro non corretto in una funzione;\n",
    "- ...\n",
    "\n",
    "L'errore viene scoperto quando si valuta una espressione o si attiva una funzione. Si veda il seguente programma: gli errori indicati da un commento nelle righe 6, 7 e 8 verranno segnalati SOLO se si segue il ramo if, ovvero se si inserisce un intero positivo.\n",
    "\n",
    "<img src=\"./immagini/idle04.png\" alt=\"drawing\" style=\"width:600px;\" align=\"middle\"/>\n",
    "\n",
    "\n",
    "Inserendo, invece, un numero negativo il programma si arresta al primo errore (riga 6) e segnala **nella shell**:\n",
    "\n",
    "Traceback (most recent call last):\n",
    "  File \"/Users/beppes/Documents/Errori.py\", line 6, in <module>\n",
    "    print(k)        #k non è inizializzato\n",
    "NameError: name 'k' is not defined\n",
    "    \n",
    "Viene indicata la linea in cui l'errore si è verificato **6** e il tipo di errore **NameError: name 'k' is not defined**. Occorre abituarsi ad estrarre dal messaggio di errore queste due informazioni che verranno evidenziate nei prossimi esempi.\n",
    "\n",
    "Il secondo errore, una volta corretto il primo,  ci dice:\n",
    "    \n",
    "Traceback (most recent call last):\n",
    "  File \"/Users/beppes/Documents/Errori.py\", **line 7**, in <module>\n",
    "    n+\"casa\"        #non si può sommare un intero a una stringa\n",
    "**TypeError: unsupported operand type(s) for +: 'int' and 'str'**\n",
    "\n",
    "Il terzo, una volta corretti i primi 2, ci dice:\n",
    "    \n",
    "Traceback (most recent call last):\n",
    "  File \"/Users/beppes/Documents/Errori.py\", **line 8**, in <module>\n",
    "    x=int(\"55a\")    #non si può convertire \"55a\" in un intero\n",
    "**ValueError: invalid literal for int() with base 10: '55a'**\n",
    "    \n",
    "Notare, esplicitamente, i tipi di errore segnalati:\n",
    "\n",
    "Name \n",
    "Type   \n",
    "Value\n",
    "\n",
    "ovvero errori di nome, tipo e valore.\n",
    "    \n",
    "Appare evidente che, una volta presa confidenza con i messaggi di errore (la parte non discussa di tali messaggi sarà oggetto di altre lezioni) le due informazioni chiave, linea e tipo di errore, aiutano a capire e risolvere l'errore. Quindi, riportare ad altri o a se stessi un errore SENZA aver letto attentamente il messaggio di errore e averne capito il tipo **è completamente inutile**.\n",
    "   "
   ]
  },
  {
   "cell_type": "code",
   "execution_count": null,
   "metadata": {
    "tags": []
   },
   "outputs": [],
   "source": [
    "n=int(input(\"Inserisci un intero: \"))\n",
    "if n>0:\n",
    "    print(\"intero positivo\")\n",
    "    print(\"radice quadrata di n=\",n**0.5)\n",
    "    print(k)        #k non è inizializzato\n",
    "    n+\"casa\"        #non si può sommare un intero a una stringa\n",
    "    x=int(\"55a\")    #\"55a NON può essere convertito in un intero\n",
    "else:\n",
    "    print(\"radice immaginaria\")"
   ]
  },
  {
   "cell_type": "markdown",
   "metadata": {
    "tags": []
   },
   "source": [
    "#### Errori che NON provocano l'arresto del programma ma che causano un malfunzionanto dell'algoritmo \n",
    "\n",
    "La sintassi è corretta, le istruzioni vengono eseguite senza generare errori. La semantica violata è quella dell'algoritmo: il programma NON fa quello che dovrebbe fare (e.g., l'algoritmo trovare il max tra due interi a e b viene implementato con min(a,b) )\n",
    "\n",
    "Agli inizi della programmazione la maggior parte degli errori saranno del tipo di quelli indicati sino a ora e la loro soluzione, una volta capite le regole del gioco, non è difficile.\n",
    "\n",
    "Gli errori molto più complessi da trovare e risolvere sono esattamente quelli descritti nel seguito: il programma non ha errori sintattici e nemmeno errori semantici che bloccano occasionalmente il programma. Il programma \"gira perfettamente\". Ma l'algoritmo, semplice o complesso che sia, ** non funziona ** . Oppure sembra funzionare, ovvero non funziona solo su casi particolari.\n",
    "Un esempio: Il seguente programma calcola la somma di tutte le potenze di un intero n nell'intervallo [x,y]\n",
    "Sui primi tre casi di test funziona, sul quarto no: non da errori ma il risultato è sbagliato. Come posso cercare l'errore?"
   ]
  },
  {
   "cell_type": "code",
   "execution_count": null,
   "metadata": {
    "tags": []
   },
   "outputs": [],
   "source": [
    "#n=3 x=-2    y=10    somma=18 ok\n",
    "#n=3 x=-100  y=100   somma=0 ok\n",
    "#n=4 x=-2    y=100   somma=1200 ok\n",
    "\n",
    "#n=4 x=-100  y=100  somma=-100 errore!\n",
    "\n",
    "sommaPotenzeDin=0\n",
    "n=4\n",
    "x=-100\n",
    "y=100\n",
    "i=x\n",
    "while i<y:\n",
    "    if i%n==0:\n",
    "        sommaPotenzeDin+=i\n",
    "    i=i+1\n",
    "print('somma=',sommaPotenzeDin)"
   ]
  },
  {
   "cell_type": "markdown",
   "metadata": {
    "jp-MarkdownHeadingCollapsed": true,
    "tags": []
   },
   "source": [
    "Una prima strada è quella di controllare i valori estremi del ciclo: spesso gli errori nascono da una non corretta definizione dell'intervallo (off by one).\n",
    "\n",
    "Le assegnazioni di x, y e i sono corrette. \n",
    "Il controllo sulla variabile di ciclo no: i<y sarà vera solo fino a y-1 (99<100) e quindi il valore 100 non sarà sommato. Correggendo la condizione del while con i<=y si risolve il problema.\n",
    "\n",
    "Una seconda strada è quella di inserire delle istruzioni di print all'interno del ciclo per ispezionare il valore delle variabili.\n",
    "L'istruzione print('sto considerando:',i) prima dell'if rileva il fatto che 100 non viene sommato e fornisce un indizio su come correggere l'errore."
   ]
  },
  {
   "cell_type": "markdown",
   "metadata": {},
   "source": [
    "### Esercizio: trova gli errori e correggi\n",
    "Il seguente programma dovrebbe calcolare la moltiplicazione di una serie di interi letti da tastiera fermandosi quando si introduce un asterisco $*$, ma contiene diversi errori. Correggili alla luce di quanto appena esposto ed eseguilo sulla sequenza di input `3 1 10 1 2 *`. Il risultato che devi ottenere è 60."
   ]
  },
  {
   "cell_type": "code",
   "execution_count": null,
   "metadata": {
    "tags": []
   },
   "outputs": [],
   "source": [
    "#versione con prima lettura esterna al ciclo (è possibile che il ciclo non venga mai eseguito)\n",
    "s=input(\"Inserisci un intero  (* per terminare) \")\n",
    "s=int(s)\n",
    "m=0\n",
    "\n",
    "while s!=\"*\":\n",
    "   if len(s)>0 and (s.isdecimal() or (s[0] in \"+-\" and s[1:].isdecimal() ):\n",
    "      s=int(s)\n",
    "     m=m*int(s)\n",
    "    s=input(\"Inserisci un intero  (* per terminare) \")\n",
    "\n",
    "print(\"totale = \",M)"
   ]
  },
  {
   "cell_type": "markdown",
   "metadata": {},
   "source": [
    "La prima cosa da fare è portare il codice su Spyder, mostrare i numeri di riga e provare a eseguirlo.\n",
    "\n",
    "<img src=\"./immagini/idleA.png\" alt=\"drawing\" style=\"width:800px;\" align=\"middle\"/>\n",
    "\n",
    "\n",
    "\n",
    "\n",
    "Viene segnalato un errore sintattico a riga 6. In una riga con molte parentesi è facile dimenticarsene una; le tonde aperte sono 4, quelle chiuse 3... Aggiungere una parentesi tonda chiusa prima dei : risolve il problema.\n",
    "\n",
    "Il secondo problema, sempre sintattico, è di indentazione, indicato alla riga 8. Allineando la riga 8 e la 9 il problema è risolto.\n",
    "\n",
    "\n",
    "<img src=\"./immagini/idleB.png\" alt=\"drawing\" style=\"width:600px;\" align=\"middle\"/>\n",
    "\n",
    "Ora finalmente il programma va in esecuzione...\n",
    "\n",
    "Primo errore semantico che blocca il programma alla linea 2:\n",
    "\n",
    "Inserisci un intero  (* per terminare) *\n",
    "\n",
    "Traceback (most recent call last):\n",
    "  File \"/Users/beppes/Documents/Errori 6.py\", line 2, in <module>\n",
    "    s=int(s)\n",
    "    \n",
    "ValueError: invalid literal for int() with base 10: '*'Inserisci un intero  (* per terminare) *\n",
    "\n",
    "La conversione viene fatta troppo presto... La commentiamo per non cambiare il numero alle righe...\n",
    "    \n",
    "Rilanciamo il programma e inseriamo subito *\n",
    " \n",
    "Secondo errore semantico a riga 11\n",
    "    \n",
    "Inserisci un intero  (* per terminare) *\n",
    "    \n",
    "Traceback (most recent call last):\n",
    "  File \"/Users/beppes/Documents/Errori 6.py\", line 11, in <module>\n",
    "    print(\"totale = \",M)\n",
    "    \n",
    "NameError: name 'M' is not defined. Did you mean: 'm'?Inserisci un intero  (* per terminare) *\n",
    "\n",
    "Il messaggio di errore ci indica anche la correzione... Correggiamo la M con la m (Python distingue tra maiuscolo e minuscolo)\n",
    "    \n",
    "Ora il programma va in esecuzione senza mai bloccarsi e generare errori. Ma inserendo la sequenza 3 1 1 10 * (e qualunque altra sequenza corretta) stampa totale=0.\n",
    "    \n",
    "L'errore è ancora semantico, ma riguarda l'algoritmo...\n",
    "\n",
    "Una veloce analisi ci fa vedere che m=0 è sbagliato. L'elemento neutro per la moltiplicazione è 1.\n",
    " \n",
    "Correggendo la riga 3 il programma, finalmente, funziona."
   ]
  },
  {
   "cell_type": "markdown",
   "metadata": {},
   "source": [
    "## Esercizi ricapitolativi"
   ]
  },
  {
   "cell_type": "markdown",
   "metadata": {},
   "source": [
    "### Esercizio: implementazione di find\n",
    "Come esempio proviamo a scrivere noi una funzione che si comporti come il metodo `find()` delle stringhe."
   ]
  },
  {
   "cell_type": "code",
   "execution_count": null,
   "metadata": {},
   "outputs": [],
   "source": [
    "from tester import tester_fun\n",
    "\n",
    "def trova(s,c, start = 0, end =None):\n",
    "    \"\"\"MODIFICARE IL CONTENUTO DI QUESTA FUNZIONE PER SVOLGERE L'ESERCIZIO\"\"\"\n",
    "    \n",
    "tester_fun(trova,['palla','a'],1)\n",
    "tester_fun(trova,['pallina','a',2],6)\n",
    "tester_fun(trova,['pallina','a',2,4],-1)\n",
    "tester_fun(trova,['pallina','ll'],2)"
   ]
  },
  {
   "cell_type": "code",
   "execution_count": null,
   "metadata": {},
   "outputs": [],
   "source": [
    "from tester import tester_fun\n",
    "\n",
    "# implementa find\n",
    "def trova(s,c, start=0, end=None):\n",
    "    s1 = s[start:end]    \n",
    "    if not c in s1:\n",
    "        return -1\n",
    "    for i in range(len(s1) + 1 - len(c)):\n",
    "        if c == s1[i:i+len(c)]:\n",
    "            return i + start\n",
    "\n",
    "tester_fun(trova,['palla','a'],1)\n",
    "tester_fun(trova,['pallina','a',2],6)\n",
    "tester_fun(trova,['pallina','a',2,4],-1)\n",
    "tester_fun(trova,['pallina','ll'],2)"
   ]
  },
  {
   "cell_type": "markdown",
   "metadata": {},
   "source": [
    "### Esercizio: implementazione di rfind\n",
    "Come esempio proviamo a scrivere noi una funzione che si comporti come il metodo `rfind()` delle stringhe."
   ]
  },
  {
   "cell_type": "code",
   "execution_count": null,
   "metadata": {},
   "outputs": [],
   "source": [
    "from tester import tester_fun\n",
    "\n",
    "def trovad(s,c, start = 0, end = None):\n",
    "    \"\"\"MODIFICARE IL CONTENUTO DI QUESTA FUNZIONE PER SVOLGERE L'ESERCIZIO\"\"\"\n",
    "\n",
    "tester_fun(trovad,['palla','a'],4)\n",
    "tester_fun(trovad,['pallina','a',2],6)\n",
    "tester_fun(trovad,['pallina','a',1,4],1)\n",
    "tester_fun(trovad,['pasticciaccio','cc'],9)"
   ]
  },
  {
   "cell_type": "code",
   "execution_count": null,
   "metadata": {},
   "outputs": [],
   "source": [
    "from tester import tester_fun\n",
    "\n",
    "def trovad(s,c, start = 0, end = None):\n",
    "    s1 = s[start:end]\n",
    "    \n",
    "    if c not in s1:\n",
    "        return -1\n",
    "    \n",
    "    for i in range(len(s1) - len(c),-1,-1):\n",
    "        if c == s1[i:i+len(c)]:\n",
    "            return i + start\n",
    "\n",
    "tester_fun(trovad,['palla','a'],4)\n",
    "tester_fun(trovad,['pallina','a',2],6)\n",
    "tester_fun(trovad,['pallina','a',1,4],1)\n",
    "tester_fun(trovad,['pasticciaccio','cc'],9)"
   ]
  },
  {
   "cell_type": "markdown",
   "metadata": {},
   "source": [
    "### Esercizi\n",
    "Completate questi esercizi prima di cominciare il prossimo argomento"
   ]
  },
  {
   "cell_type": "markdown",
   "metadata": {},
   "source": [
    "### Esercizio 1: \n",
    "Scrivere un programma che legge un carattere alfabetico c ed una sequenza di stringhe inserite da input (una alla volta) e termina all'inserimento di una stringa vuota (solo invio) stampando a schermo il numero di stringhe che contengono al loro interno il carattere c sia minuscolo che maiuscolo."
   ]
  },
  {
   "cell_type": "code",
   "execution_count": null,
   "metadata": {},
   "outputs": [],
   "source": []
  },
  {
   "cell_type": "markdown",
   "metadata": {},
   "source": [
    "### Esercizio 2:\n",
    "Scrivere una funzione che prende in input un numero intero positivo n e restituisce il suo massimo divisore diverso da n. Se il numero è primo deve restituire 1."
   ]
  },
  {
   "cell_type": "code",
   "execution_count": null,
   "metadata": {
    "scrolled": true
   },
   "outputs": [],
   "source": [
    "from tester import tester_fun\n",
    "\n",
    "def maxdivisore(n):\n",
    "    \"\"\"MODIFICARE IL CONTENUTO DI QUESTA FUNZIONE PER SVOLGERE L'ESERCIZIO\"\"\"\n",
    "\n",
    "tester_fun(maxdivisore,[24],12)\n",
    "tester_fun(maxdivisore,[9],3)\n",
    "tester_fun(maxdivisore,[175],35)\n",
    "tester_fun(maxdivisore,[231],77)\n",
    "tester_fun(maxdivisore,[131],1)"
   ]
  },
  {
   "cell_type": "markdown",
   "metadata": {},
   "source": [
    "### Esercizio 3: \n",
    "Scrivere una funzione che prende in input una stringa e restuituisce il carattere più frequente. Se ci sono più caratteri con la stessa frequenza, restituisce il primo incontrato, se la stringa in input è vuota restituisce una stringa vuota."
   ]
  },
  {
   "cell_type": "code",
   "execution_count": null,
   "metadata": {
    "scrolled": true
   },
   "outputs": [],
   "source": [
    "from tester import tester_fun\n",
    "\n",
    "def maxfreq(s):\n",
    "    \"\"\"MODIFICARE IL CONTENUTO DI QUESTA FUNZIONE PER SVOLGERE L'ESERCIZIO\"\"\"\n",
    "\n",
    "\n",
    "tester_fun(maxfreq,['palla'],'a')\n",
    "tester_fun(maxfreq,['pallone'],'l')\n",
    "tester_fun(maxfreq,['casa bianca di piero e sergio'],' ')\n",
    "tester_fun(maxfreq,['palla casa pallone'],'a')\n",
    "tester_fun(maxfreq,[''],'')"
   ]
  },
  {
   "cell_type": "markdown",
   "metadata": {},
   "source": [
    "### Esercizio 4:\n",
    "Scrivete una funzione che prende in input due stringhe s1 ed s2 e restituisce una nuova stringa composta dai caratteri di s1 seguiti dai caratteri di s2, **MA SENZA RIPETIZIONI**."
   ]
  },
  {
   "cell_type": "code",
   "execution_count": null,
   "metadata": {},
   "outputs": [],
   "source": [
    "from tester import tester_fun\n",
    "\n",
    "def collegaNoRipetizioni(s1,s2):\n",
    "    \"\"\"MODIFICARE IL CONTENUTO DI QUESTA FUNZIONE PER SVOLGERE L'ESERCIZIO\"\"\"\n",
    "    \n",
    "\n",
    "tester_fun(collegaNoRipetizioni,['casa', 'dolce casa'],'casdole ')\n",
    "tester_fun(collegaNoRipetizioni,['pallina dentro','un cassetto bianco'],'palin detroucsb')\n",
    "tester_fun(collegaNoRipetizioni,['pallina dentro un cassetto bianco estremamente pieno',''],'palin detroucsbm')\n",
    "tester_fun(collegaNoRipetizioni,['aaaaaaaaaaaaaaaaaaaaaaaaaaaaaab','bbbbbbbbbbbbbbbbbbbbbbbba'],'ab')\n",
    "tester_fun(collegaNoRipetizioni,['',''],'')"
   ]
  },
  {
   "cell_type": "markdown",
   "metadata": {},
   "source": [
    "### Esercizio 5:\n",
    "Scrivete una funzione che prende in input una stringa s, composta solo da caratteri alfabetici e spazi bianchi (' '), e restituisce la lunghezza della parola più lunga. Si assuma che le parole siano sempre separate da spazi. *Suggerimento* usate il metodo *find()* per trovare la posizione degli spazi bianche nella stringa."
   ]
  },
  {
   "cell_type": "code",
   "execution_count": null,
   "metadata": {},
   "outputs": [],
   "source": [
    "from tester import tester_fun\n",
    "\n",
    "def maxlung(s):\n",
    "    \"\"\"MODIFICARE IL CONTENUTO DI QUESTA FUNZIONE PER SVOLGERE L'ESERCIZIO\"\"\"\n",
    "\n",
    "tester_fun(maxlung,['casa dolce casa'],5)\n",
    "tester_fun(maxlung,['pallina dentro un cassetto bianco'],8)\n",
    "tester_fun(maxlung,['pallina dentro un cassetto bianco estremamente pieno'],12)\n",
    "tester_fun(maxlung,[''],0)\n",
    "tester_fun(maxlung,['pallina dentro un cassetto bianco estremamente'],12)"
   ]
  },
  {
   "cell_type": "markdown",
   "metadata": {},
   "source": [
    "### Esercizio 6:\n",
    "Scrivete una funzione `sostituisci` che si comporti come il metodo replace delle stringhe"
   ]
  },
  {
   "cell_type": "code",
   "execution_count": null,
   "metadata": {},
   "outputs": [],
   "source": [
    "from tester import tester_fun\n",
    "\n",
    "def sostituisci(s,c1,c2,count=None):\n",
    "    \"\"\"MODIFICARE IL CONTENUTO DI QUESTA FUNZIONE PER SVOLGERE L'ESERCIZIO\"\"\"\n",
    "\n",
    "tester_fun(sostituisci,['palla','a','e'],'pelle')\n",
    "tester_fun(sostituisci,['pallina','a','o'],'pollino')\n",
    "tester_fun(sostituisci,['pallina','a','o',1],'pollina')\n",
    "tester_fun(sostituisci,['pallina','al','er',1],'perlina')\n",
    "tester_fun(sostituisci,['palla casa pallone','ll','l',1],'pala casa pallone')"
   ]
  }
 ],
 "metadata": {
  "kernelspec": {
   "display_name": "Python 3 (ipykernel)",
   "language": "python",
   "name": "python3"
  },
  "language_info": {
   "codemirror_mode": {
    "name": "ipython",
    "version": 3
   },
   "file_extension": ".py",
   "mimetype": "text/x-python",
   "name": "python",
   "nbconvert_exporter": "python",
   "pygments_lexer": "ipython3",
   "version": "3.8.17"
  }
 },
 "nbformat": 4,
 "nbformat_minor": 4
}
